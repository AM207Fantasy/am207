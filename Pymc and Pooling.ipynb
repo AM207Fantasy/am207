{
 "cells": [
  {
   "cell_type": "markdown",
   "metadata": {},
   "source": [
    "### Pymc and Pooling"
   ]
  },
  {
   "cell_type": "markdown",
   "metadata": {},
   "source": [
    "Problem Setup\n",
    "\n",
    "In our example, we need to sample posterior and find its maximize value using PyMC. The data we have in this problem is the score difference between two teams. We agree to use the following formula to calculate the score difference\n",
    "\n",
    "$$diff = GuestScore(PTS) - HostScore(PTS.1)$$\n",
    "\n",
    "The score difference(diff) follows a Gaussian distribution $N(\\mu,\\sigma)$. The $\\mu$ is determined by:\n",
    "\n",
    "$$\\mu = (O_i - D_j ) - (O_j - D_i)$$ where O is the offensive index and D is the defensive index for one team. Offensive and \n",
    "\n",
    "Defensive indexes shall be calculated by the following formulas:\n",
    "\n",
    "$$ O_{i} = \\beta_{i,0}^O + \\beta_{i,1}^O x_{i,1} + \\beta_{i,2}^O x_{i,2} +\\ldots + \\beta_{i,J}^O x_{i,J}$$\n",
    "$$D_{i} = \\gamma_{i,0}^D + \\gamma_{i,1}^D x_{i,1} + \\gamma_{i,2}^D x_{i,2} + \\ldots + \\gamma_{i,J}^D x_{i,J}$$\n",
    "\n",
    "You can see that $x_i$ is the offensive/defensive rating for each player, we need to figure out $\\beta$ in this problem.\n",
    "\n",
    "In this problem, we construct our offensive/defensive ratings using the follow formulas:\n",
    "\n",
    "**offensive = pointsper games + Assists per game**\n",
    "\n",
    "\n",
    "**defensive = Blocks + Steals + Defensive Rebound**\n",
    "\n",
    "**Therefore, our score difference Gaussian is actually a MIXTURE MODEL consisting of many gaussian of different team pairs, so can be written as:**\n",
    "\n",
    "$$\\prod_{n=1}^N N(\\mu_{nk},\\sigma)^{z_nk}$$ Where $z_nk$ is an indicator showing which team pair the nth data belong to.\n",
    "\n",
    "**Our goal is to find each $\\beta$ value**\n",
    "\n",
    "Thus, we assume there are $K$ players, and each team has $N$ players, so we initialize:\n",
    "\n",
    "K ($N*1$) vectors  $\\beta$ and \n",
    "\n",
    "\n",
    "K ($N*1$) vectors $\\gamma$\n",
    "\n",
    "So, \n",
    "\n",
    "$$Offensive = \\beta * X$$ where X is 1*N offensive rating\n",
    "\n",
    "$$Defensive = \\gamma * Y$$ where Y is 1*N defensive rating \n",
    "\n",
    "\n",
    "\n",
    "\n",
    "\n"
   ]
  },
  {
   "cell_type": "code",
   "execution_count": 1,
   "metadata": {
    "collapsed": false
   },
   "outputs": [
    {
     "name": "stderr",
     "output_type": "stream",
     "text": [
      "/Users/xdai/anaconda/lib/python2.7/site-packages/matplotlib/font_manager.py:273: UserWarning: Matplotlib is building the font cache using fc-list. This may take a moment.\n",
      "  warnings.warn('Matplotlib is building the font cache using fc-list. This may take a moment.')\n",
      "/Users/xdai/anaconda/lib/python2.7/site-packages/matplotlib/__init__.py:872: UserWarning: axes.color_cycle is deprecated and replaced with axes.prop_cycle; please use the latter.\n",
      "  warnings.warn(self.msg_depr % (key, alt_key))\n"
     ]
    }
   ],
   "source": [
    "import numpy as np\n",
    "import matplotlib\n",
    "import matplotlib.pyplot as plt\n",
    "%matplotlib inline\n",
    "\n",
    "import seaborn as sns\n",
    "sns.set_style(\"white\")\n",
    "\n",
    "import time\n",
    "import timeit\n",
    "\n",
    "import scipy.stats \n",
    "import pandas as pd\n",
    "import pymc as pm\n",
    "import pickle"
   ]
  },
  {
   "cell_type": "code",
   "execution_count": 2,
   "metadata": {
    "collapsed": false
   },
   "outputs": [],
   "source": [
    "# Import data\n",
    "game16_df = pd.read_csv('clean-data/game_outcomes_15-16.csv')\n",
    "player_info = pd.read_csv('clean-data/player_info_pergame.csv')"
   ]
  },
  {
   "cell_type": "code",
   "execution_count": 3,
   "metadata": {
    "collapsed": false
   },
   "outputs": [
    {
     "data": {
      "text/plain": [
       "<matplotlib.text.Text at 0x1139cf2d0>"
      ]
     },
     "execution_count": 3,
     "metadata": {},
     "output_type": "execute_result"
    },
    {
     "data": {
      "image/png": "[encoded data removed]",
      "text/plain": [
       "<matplotlib.figure.Figure at 0x113754ed0>"
      ]
     },
     "metadata": {},
     "output_type": "display_data"
    }
   ],
   "source": [
    "score_diff = game16_df['diff'].values\n",
    "#plot a histogram\n",
    "plt.hist(score_diff,color='y',alpha = 0.5)\n",
    "plt.title(\"Distribution of score difference in year 2016\")\n",
    "plt.xlabel('The Score difference')\n",
    "plt.ylabel('Frequency')"
   ]
  },
  {
   "cell_type": "code",
   "execution_count": 4,
   "metadata": {
    "collapsed": false
   },
   "outputs": [
    {
     "name": "stdout",
     "output_type": "stream",
     "text": [
      "The variance of the entire data set is: 177.785299755\n"
     ]
    }
   ],
   "source": [
    "# Here we have sigma for the entire data set and assume this sigma as my likehood variance as well\n",
    "print \"The variance of the entire data set is:\",np.var(score_diff)"
   ]
  },
  {
   "cell_type": "markdown",
   "metadata": {},
   "source": [
    "#### As you can see, the score difference follows a normal distribution"
   ]
  },
  {
   "cell_type": "markdown",
   "metadata": {},
   "source": [
    "### Peek into our prior\n",
    "Here I plot the Offensive rating and defensive rating to have a basic idea what our prior would be like"
   ]
  },
  {
   "cell_type": "code",
   "execution_count": 5,
   "metadata": {
    "collapsed": false
   },
   "outputs": [
    {
     "data": {
      "text/plain": [
       "<matplotlib.text.Text at 0x113a71990>"
      ]
     },
     "execution_count": 5,
     "metadata": {},
     "output_type": "execute_result"
    },
    {
     "data": {
      "image/png": "[encoded data removed]",
      "text/plain": [
       "<matplotlib.figure.Figure at 0x113754a50>"
      ]
     },
     "metadata": {},
     "output_type": "display_data"
    }
   ],
   "source": [
    "#plot a histogram\n",
    "ortg_values = player_info['PTS'].values\n",
    "plt.hist(ortg_values,color='y',bins=15,alpha =0.5)\n",
    "plt.title(\"Distribution of offensive Rating in year 2016\")\n",
    "plt.xlabel('The Offensive Rating difference')\n",
    "plt.ylabel('Frequency')\n"
   ]
  },
  {
   "cell_type": "markdown",
   "metadata": {},
   "source": [
    "From the two plots above, we see that our two ratings could be treated as two normal distributions with two different shapes. Although for defensive ratings, it looks like a mixture Gaussian model, for the simplistic of this problem, we decided to treat them as normal distributions. \n"
   ]
  },
  {
   "cell_type": "markdown",
   "metadata": {},
   "source": [
    "Before we get to the further part, we need to figure out players in each team. We use binary indicators in this problem, which has the length of \"player_num\" vector will be generated, and if this player is playing, the number will be 1, 0 otherwise. "
   ]
  },
  {
   "cell_type": "code",
   "execution_count": 7,
   "metadata": {
    "collapsed": true
   },
   "outputs": [],
   "source": [
    "# import the pickle files for guest/host teams line_up\n",
    "with open('clean-data/guest_team_line_up.pkl', 'rb') as handle:\n",
    "    guest_team_line_up = pickle.load(handle)\n",
    "with open('clean-data/host_team_line_up.pkl','rb') as handle:\n",
    "    host_team_line_up = pickle.load(handle)"
   ]
  },
  {
   "cell_type": "markdown",
   "metadata": {},
   "source": [
    "We constructed two data indicators,which input the host/guest team **index** and return an binary indicator showing which team it is. For example, the first host team is \"Atlanta Hawks\", put 0 in host_team dictionary will return a 30-long array[True,Flase,...,False]. In this binary indicator, the team is ordered alphabetically. So, the first one is \"Atlanta Hawks\" and the second one \"Boston Celtics\". The \"team_list\" shows the order of the team. "
   ]
  },
  {
   "cell_type": "markdown",
   "metadata": {},
   "source": [
    "### A different approach to the likelihood function"
   ]
  },
  {
   "cell_type": "code",
   "execution_count": 8,
   "metadata": {
    "collapsed": false
   },
   "outputs": [],
   "source": [
    "def make_guest_host_mat(game_outcomes_df):\n",
    "    '''\n",
    "    Makes a matrix for guests and hosts. Each row of each\n",
    "    matrix corresponds to one matchup. All elements of each row\n",
    "    are zero except the ith one (different for each row).\n",
    "    For the guest matrix, the ith entry in row j means that in game j,\n",
    "    the guest team was team i. In the host matrix, the ith entry in\n",
    "    row j means that the host team was team i\n",
    "    '''\n",
    "    \n",
    "    def make_matrix(mat, indices):\n",
    "        '''given a matrix and indices, sets the right one in each row\n",
    "        to be true'''\n",
    "        for (i, ind) in enumerate(indices):\n",
    "            mat[i, ind] = True\n",
    "        \n",
    "    nrows = game_outcomes_df.shape[0]\n",
    "    ncols = np.max(game_outcomes_df['Visitor_Index'] + 1)\n",
    "    \n",
    "    guest_matrix = np.zeros((nrows, ncols), dtype = bool)\n",
    "    host_matrix = np.zeros((nrows, ncols), dtype = bool)\n",
    "    \n",
    "    make_matrix(guest_matrix, game_outcomes_df['Visitor_Index'].values)\n",
    "    make_matrix(host_matrix, game_outcomes_df['Home_Index'].values)\n",
    "    \n",
    "    return(guest_matrix, host_matrix)"
   ]
  },
  {
   "cell_type": "code",
   "execution_count": 9,
   "metadata": {
    "collapsed": true
   },
   "outputs": [],
   "source": [
    "guest_matrix, host_matrix = make_guest_host_mat(game16_df)"
   ]
  },
  {
   "cell_type": "code",
   "execution_count": 10,
   "metadata": {
    "collapsed": false
   },
   "outputs": [],
   "source": [
    "# Construct beta and gamma \n",
    "team_num = 30\n",
    "player_num = len(player_info)\n",
    "\n",
    "coefs = pm.MvNormalCov(\"coefs\", mu = np.zeros(2*(team_num + player_num)),\n",
    "                      C = np.eye(2*(team_num + player_num)))\n",
    "\n",
    "# beta0 = np.empty(team_num,dtype=object)\n",
    "# beta0 = pm.Container(np.array([pm.Normal('beta0_%i' % i, \n",
    "#                    mu=1, tau=1) for i in xrange(team_num)]))\n",
    "# gamma0 = np.empty(team_num,dtype=object)\n",
    "# gamma0 = pm.Container(np.array([pm.Normal('gamma0_%i' % i, \n",
    "#                    mu=1, tau=1) for i in xrange(team_num)]))\n",
    "# betas = pm.Container(np.array([pm.Normal('betas_%i' % i, \n",
    "#                    mu=1, tau=1) for i in xrange(play_num)]))\n",
    "# gammas = pm.Container(np.array([pm.Normal('gammas_%i' % i, \n",
    "#                    mu=1, tau=1) for i in xrange(play_num)]))\n",
    "tau = pm.Gamma(\"tau\", alpha = 2, beta = 2)"
   ]
  },
  {
   "cell_type": "code",
   "execution_count": 11,
   "metadata": {
    "collapsed": true
   },
   "outputs": [],
   "source": [
    "# Copy the variables from Andy's part\n",
    "guest_lineup_arr = np.array(guest_team_line_up)\n",
    "host_lineup_arr = np.array(host_team_line_up)\n",
    "off_rating = player_info['PTS'].values + player_info['AST'].values\n",
    "def_rating = player_info['BLK'].values + player_info[\"STL\"].values + player_info['DRB'].values"
   ]
  },
  {
   "cell_type": "code",
   "execution_count": 12,
   "metadata": {
    "collapsed": true
   },
   "outputs": [],
   "source": [
    "def split_params(coefs, nplayers, nteams):\n",
    "    '''\n",
    "    Split the parameters\n",
    "    first are the beta0 for each team\n",
    "    then the beta for each player\n",
    "    then the gamma0 for each team\n",
    "    then the gamma for each player'''\n",
    "    assert(coefs.shape == (2*(nplayers+nteams),))\n",
    "    \n",
    "    beta0 = coefs[:nteams]\n",
    "    beta_player = coefs[nteams:(nplayers + nteams)]\n",
    "    gamma0 = coefs[(nplayers + nteams):(nplayers + 2*nteams)]\n",
    "    gamma_player = coefs[(nplayers + 2*nteams):]\n",
    "    \n",
    "    # parameterize sigma by its log\n",
    "    #logsigma = coefs[-1]\n",
    "    \n",
    "    assert(beta0.shape == (nteams,))\n",
    "    assert(beta_player.shape == (nplayers,))\n",
    "    assert(beta0.shape == (nteams,))\n",
    "    assert(gamma_player.shape == (nplayers,))\n",
    "    \n",
    "    \n",
    "    return (beta0, beta_player, gamma0, gamma_player)#, logsigma)"
   ]
  },
  {
   "cell_type": "code",
   "execution_count": 14,
   "metadata": {
    "collapsed": false
   },
   "outputs": [],
   "source": [
    "# Use a different log-likelihood\n",
    "@pm.observed(name = \"loglik\", observed = True)\n",
    "def loglik(coefs = coefs, tau = tau, value = score_diff, \n",
    "            off_rating = off_rating, def_rating = def_rating, \n",
    "            nplayers = player_num, nteams = team_num,\n",
    "            guest_matrix = guest_matrix, host_matrix = host_matrix, guest_lineup_arr = guest_lineup_arr,\n",
    "            host_lineup_arr = host_lineup_arr):\n",
    "\n",
    "    beta0, betas, gamma0, gammas = \\\n",
    "             split_params(coefs, nplayers, nteams)\n",
    "    \n",
    "    ngames = value.shape[0]\n",
    "    \n",
    "    guest_off_0 = np.dot(guest_matrix, beta0)\n",
    "    guest_def_0 = np.dot(guest_matrix, gamma0)\n",
    "    host_off_0 = np.dot(host_matrix, beta0)\n",
    "    host_def_0 = np.dot(host_matrix, gamma0)\n",
    "    \n",
    "    guest_off = guest_off_0 + np.dot(guest_lineup_arr, betas * off_rating)\n",
    "    guest_def = guest_def_0 + np.dot(guest_lineup_arr, gammas * def_rating)\n",
    "    host_off = host_off_0 + np.dot(host_lineup_arr, betas * off_rating)\n",
    "    host_def = host_def_0 + np.dot(host_lineup_arr, gammas * def_rating)\n",
    "    \n",
    "    mean = guest_off - host_def - (host_off - guest_def)\n",
    "    \n",
    "    loglik = pm.normal_like(value, mean, tau)\n",
    "#     loglik -= lam * np.linalg.norm(coefs[:-1])\n",
    "    return(loglik)"
   ]
  },
  {
   "cell_type": "code",
   "execution_count": 16,
   "metadata": {
    "collapsed": false
   },
   "outputs": [],
   "source": [
    "parameterlist = [loglik, coefs, tau]\n",
    "response_model2=pm.Model(parameterlist)"
   ]
  },
  {
   "cell_type": "code",
   "execution_count": 17,
   "metadata": {
    "collapsed": false
   },
   "outputs": [],
   "source": [
    "mcmc2 = pm.MCMC(response_model2)"
   ]
  },
  {
   "cell_type": "code",
   "execution_count": 71,
   "metadata": {
    "collapsed": false
   },
   "outputs": [
    {
     "name": "stdout",
     "output_type": "stream",
     "text": [
      " [-----------------100%-----------------] 1000000 of 1000000 complete in 72882.0 sec"
     ]
    }
   ],
   "source": [
    "mcmc2.sample(iter=1000000, burn = 0, thin = 1)"
   ]
  },
  {
   "cell_type": "code",
   "execution_count": 72,
   "metadata": {
    "collapsed": false
   },
   "outputs": [
    {
     "data": {
      "text/plain": [
       "array([[ 0.78937056, -0.14399078, -0.12344945, ..., -0.67931245,\n",
       "         0.96412075,  0.84658865],\n",
       "       [ 0.78937056, -0.14399078, -0.12344945, ..., -0.67931245,\n",
       "         0.96412075,  0.84658865],\n",
       "       [ 0.8052149 , -0.14000755, -0.12385442, ..., -0.677026  ,\n",
       "         0.96643613,  0.84448331],\n",
       "       ..., \n",
       "       [-0.48269037, -2.47544842, -0.44089653, ..., -0.35884178,\n",
       "        -1.04926337, -0.21557088],\n",
       "       [-0.48269037, -2.47544842, -0.44089653, ..., -0.35884178,\n",
       "        -1.04926337, -0.21557088],\n",
       "       [-0.48269037, -2.47544842, -0.44089653, ..., -0.35884178,\n",
       "        -1.04926337, -0.21557088]])"
      ]
     },
     "execution_count": 72,
     "metadata": {},
     "output_type": "execute_result"
    }
   ],
   "source": [
    "coefs.trace()"
   ]
  },
  {
   "cell_type": "code",
   "execution_count": 104,
   "metadata": {
    "collapsed": false
   },
   "outputs": [
    {
     "data": {
      "image/png": "[encoded data removed]",
      "text/plain": [
       "<matplotlib.figure.Figure at 0x385ae4510>"
      ]
     },
     "metadata": {},
     "output_type": "display_data"
    }
   ],
   "source": [
    "geweke_res = pm.geweke(coefs.trace()[99900:,50])\n",
    "pm.Matplot.geweke_plot(geweke_res,'coefs')\n"
   ]
  },
  {
   "cell_type": "markdown",
   "metadata": {},
   "source": [
    "### Convergence Check\n",
    "In order to check the model convergence, we picked \"Golden State Warrior\" as our example and check its convergence."
   ]
  },
  {
   "cell_type": "markdown",
   "metadata": {},
   "source": [
    "### Result Analysis"
   ]
  },
  {
   "cell_type": "markdown",
   "metadata": {},
   "source": [
    "### Hypothesis \n",
    "In order to analyze the results, we use two metrics, the first one is to use the $\\beta$ we got multiply offensive rating and multiply $\\beta$ by Points Per Game. Also, we multiply $\\gamma$ by players' defensive rating. To measure one team's performance, we could therefore to use $score = defensive + offensive$. Our hypothesis is that when two teams have similar scores genreated by our models, their games will be more fun and unpredicable. On the other hand, when two teams have a huge gap in this scores, their results shall be more predicable. \n",
    "\n",
    "We will check this hypothesis by predicting the score difference from different groups"
   ]
  }
 ],
 "metadata": {
  "kernelspec": {
   "display_name": "Python 2",
   "language": "python",
   "name": "python2"
  },
  "language_info": {
   "codemirror_mode": {
    "name": "ipython",
    "version": 2
   },
   "file_extension": ".py",
   "mimetype": "text/x-python",
   "name": "python",
   "nbconvert_exporter": "python",
   "pygments_lexer": "ipython2",
   "version": "2.7.11"
  }
 },
 "nbformat": 4,
 "nbformat_minor": 0
}
