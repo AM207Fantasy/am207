{
 "cells": [
  {
   "cell_type": "markdown",
   "metadata": {},
   "source": [
    "### Pymc and Pooling"
   ]
  },
  {
   "cell_type": "markdown",
   "metadata": {},
   "source": [
    "Problem Setup\n",
    "\n",
    "In our example, we need to sample posterior and find its maximize value using PyMC. The data we have in this problem is the score difference between two teams. We agree to use the following formula to calculate the score difference\n",
    "\n",
    "$$diff = GuestScore(PTS) - HostScore(PTS.1)$$\n",
    "\n",
    "The score difference(diff) follows a Gaussian distribution $N(\\mu,\\sigma)$. The $\\mu$ is determined by:\n",
    "\n",
    "$$\\mu = (O_i - D_j ) - (O_j - D_i)$$ where O is the offensive index and D is the defensive index for one team. Offensive and \n",
    "\n",
    "Defensive indexes shall be calculated by the following formulas:\n",
    "\n",
    "$$ O_{i} = \\beta_{i,0}^O + \\beta_{i,1}^O x_{i,1} + \\beta_{i,2}^O x_{i,2} +\\ldots + \\beta_{i,J}^O x_{i,J}$$\n",
    "$$D_{i} = \\beta_{i,0}^D + \\beta_{i,1}^D x_{i,1} + \\beta_{i,2}^D x_{i,2} + \\ldots + \\beta_{i,J}^D x_{i,J}$$\n",
    "\n",
    "You can see that $x_i$ is the offensive/defensive rating for each player, we need to figure out $\\beta$ in this problem.\n",
    "\n",
    "Our observed values here are score difference. We assume it follows a normal distribution, which means we could estimate its mean value, then find the $\\beta$. \n",
    "\n",
    "\n",
    "**Therefore, our score difference Gaussian is actually a MIXTURE MODEL consisting of many gaussian of different team pairs, so can be written as:**\n",
    "\n",
    "$$\\prod_{n=1}^N N(\\mu_{nk},\\sigma)^{z_nk}$$ Where $z_nk$ is an indicator showing which team pair the nth data belong to.\n",
    "\n",
    "**Our goal is to find each $\\beta$ value**\n",
    "\n",
    "Thus, we assume there are $K$ players, and each team has $N$ players, so we initialize:\n",
    "\n",
    "K ($N*1$) vectors  $\\beta$ and \n",
    "\n",
    "\n",
    "K ($N*1$) vectors $\\gamma$\n",
    "\n",
    "So, \n",
    "\n",
    "$$Offensive = \\beta * X$$ where X is 1*N offensive rating\n",
    "\n",
    "$$Defensive = \\gamma * Y$$ where Y is 1*N defensive rating \n",
    "\n",
    "\n",
    "\n",
    "\n",
    "\n"
   ]
  },
  {
   "cell_type": "code",
   "execution_count": 2,
   "metadata": {
    "collapsed": false
   },
   "outputs": [
    {
     "name": "stderr",
     "output_type": "stream",
     "text": [
      "/Users/xdai/anaconda/lib/python2.7/site-packages/matplotlib/font_manager.py:273: UserWarning: Matplotlib is building the font cache using fc-list. This may take a moment.\n",
      "  warnings.warn('Matplotlib is building the font cache using fc-list. This may take a moment.')\n",
      "/Users/xdai/anaconda/lib/python2.7/site-packages/matplotlib/__init__.py:872: UserWarning: axes.color_cycle is deprecated and replaced with axes.prop_cycle; please use the latter.\n",
      "  warnings.warn(self.msg_depr % (key, alt_key))\n"
     ]
    }
   ],
   "source": [
    "import numpy as np\n",
    "import matplotlib\n",
    "import matplotlib.pyplot as plt\n",
    "%matplotlib inline\n",
    "\n",
    "import seaborn as sns\n",
    "sns.set_style(\"white\")\n",
    "\n",
    "import time\n",
    "import timeit\n",
    "\n",
    "import scipy.stats \n",
    "import pandas as pd\n",
    "import pymc as pm"
   ]
  },
  {
   "cell_type": "code",
   "execution_count": 130,
   "metadata": {
    "collapsed": false
   },
   "outputs": [
    {
     "data": {
      "text/plain": [
       "<matplotlib.text.Text at 0x116061d90>"
      ]
     },
     "execution_count": 130,
     "metadata": {},
     "output_type": "execute_result"
    },
    {
     "data": {
      "image/png": "[encoded data removed]",
      "text/plain": [
       "<matplotlib.figure.Figure at 0x1159a2b50>"
      ]
     },
     "metadata": {},
     "output_type": "display_data"
    }
   ],
   "source": [
    "score_diff = game16_df['diff'].values\n",
    "#plot a histogram\n",
    "plt.hist(score_diff,color='y',alpha = 0.5)\n",
    "plt.title(\"Distribution of score difference in year 2016\")\n",
    "plt.xlabel('The Score difference')\n",
    "plt.ylabel('Frequency')"
   ]
  },
  {
   "cell_type": "code",
   "execution_count": 38,
   "metadata": {
    "collapsed": false
   },
   "outputs": [
    {
     "name": "stdout",
     "output_type": "stream",
     "text": [
      "The variance of the entire data set is: 177.785299755\n"
     ]
    }
   ],
   "source": [
    "# Here we have sigma for the entire data set and assume this sigma as my likehood variance as well\n",
    "print \"The variance of the entire data set is:\",np.var(score_diff)"
   ]
  },
  {
   "cell_type": "markdown",
   "metadata": {},
   "source": [
    "#### As you can see, the score difference follows a normal distribution"
   ]
  },
  {
   "cell_type": "markdown",
   "metadata": {},
   "source": [
    "### Peek into our prior\n",
    "Here I plot the Offensive rating and defensive rating to have a basic idea what our prior would be like"
   ]
  },
  {
   "cell_type": "code",
   "execution_count": 163,
   "metadata": {
    "collapsed": false
   },
   "outputs": [
    {
     "data": {
      "text/plain": [
       "<matplotlib.text.Text at 0x1174aa850>"
      ]
     },
     "execution_count": 163,
     "metadata": {},
     "output_type": "execute_result"
    },
    {
     "data": {
      "image/png": "[encoded data removed]",
      "text/plain": [
       "<matplotlib.figure.Figure at 0x1151e2710>"
      ]
     },
     "metadata": {},
     "output_type": "display_data"
    }
   ],
   "source": [
    "#plot a histogram\n",
    "ortg_values = player_df2['ORtg'].values\n",
    "plt.hist(ortg_values,color='y',bins=15,alpha =0.5)\n",
    "plt.title(\"Distribution of offensive Rating in year 2016\")\n",
    "plt.xlabel('The Offensive Rating difference')\n",
    "plt.ylabel('Frequency')\n"
   ]
  },
  {
   "cell_type": "code",
   "execution_count": 164,
   "metadata": {
    "collapsed": false
   },
   "outputs": [
    {
     "data": {
      "text/plain": [
       "<matplotlib.text.Text at 0x114d7a7d0>"
      ]
     },
     "execution_count": 164,
     "metadata": {},
     "output_type": "execute_result"
    },
    {
     "data": {
      "image/png": "[encoded data removed]",
      "text/plain": [
       "<matplotlib.figure.Figure at 0x1151e2910>"
      ]
     },
     "metadata": {},
     "output_type": "display_data"
    }
   ],
   "source": [
    "#plot a histogram\n",
    "drtg_values = player_d['DRtg'].values\n",
    "plt.hist(drtg_values,color='y',bins=15,alpha =0.5)\n",
    "plt.title(\"Distribution of defensive Rating in year 2016\")\n",
    "plt.xlabel('The Offensive Rating difference')\n",
    "plt.ylabel('Frequency')"
   ]
  },
  {
   "cell_type": "markdown",
   "metadata": {},
   "source": [
    "From the two plots above, we see that our two ratings could be treated as two normal distributions with two different shapes. Although for defensive ratings, it looks like a mixture Gaussian model, for the simplistic of this problem, we decided to treat them as normal distributions. \n"
   ]
  },
  {
   "cell_type": "markdown",
   "metadata": {},
   "source": [
    "Before we get to the further part, we need to figure out players in each team. We use binary indicators in this problem, which has the length of \"player_num\" vector will be generated, and if this player is playing, the number will be 1, 0 otherwise. "
   ]
  },
  {
   "cell_type": "code",
   "execution_count": 321,
   "metadata": {
    "collapsed": true
   },
   "outputs": [],
   "source": [
    "# Initialize beta and gamma for each player\n",
    "N = player_num\n",
    "beta = np.empty(N, dtype=object)\n",
    "gamma = np.empty(N, dtype=object)\n",
    "for i in range(N):\n",
    "    beta[i] = pm.Normal('beta_%i' % i, mu=0, tau=1)\n",
    "    gamma[i] = pm.Normal('gamma_%i' % i, mu=0, tau=1)"
   ]
  },
  {
   "cell_type": "code",
   "execution_count": null,
   "metadata": {
    "collapsed": true
   },
   "outputs": [],
   "source": [
    "# Pymc Part\n",
    "# 1*n beta vector, n is the number of players inside one team\n",
    "# n*1 x vector, x could be either defensive or offensive\n",
    "# Each player's contribution could be understood as positive and negative\n",
    "# Each player's distribution could be treated as independently, with mu = 0\n",
    "# To figure out the mean value for normal distribution\n",
    "# (beta*x - gamma*x2) - (beta*x2 - gamma*x1)"
   ]
  },
  {
   "cell_type": "code",
   "execution_count": 286,
   "metadata": {
    "collapsed": false
   },
   "outputs": [],
   "source": [
    "guest_teams = game16_df['Visitor/Neutral'].values \n",
    "host_teams = game16_df['Home/Neutral'].values "
   ]
  },
  {
   "cell_type": "code",
   "execution_count": null,
   "metadata": {
    "collapsed": true
   },
   "outputs": [],
   "source": [
    "@pm.deterministic\n",
    "def likelihood(offensive_x = ortg_values , defensive_y = drtg_values,beta = beta,gamma = gamma,\n",
    "               guest_value = guest_team_line_up,host_value = host_team_line_up, value = score_diff):\n",
    "    likelihood = 0\n",
    "    for i in range(0, len(value)):\n",
    "        # In order to find mean, find the\n",
    "        mean = guest_value[i].dot(beta) - host_team_line_up[i]\n",
    "        likelihood += pm.normal_like(value[i], guest_value[i], 1/sigma**2)\n",
    "    return likelihood"
   ]
  },
  {
   "cell_type": "code",
   "execution_count": null,
   "metadata": {
    "collapsed": true
   },
   "outputs": [],
   "source": []
  }
 ],
 "metadata": {
  "kernelspec": {
   "display_name": "Python 2",
   "language": "python",
   "name": "python2"
  },
  "language_info": {
   "codemirror_mode": {
    "name": "ipython",
    "version": 2
   },
   "file_extension": ".py",
   "mimetype": "text/x-python",
   "name": "python",
   "nbconvert_exporter": "python",
   "pygments_lexer": "ipython2",
   "version": "2.7.11"
  }
 },
 "nbformat": 4,
 "nbformat_minor": 0
}
