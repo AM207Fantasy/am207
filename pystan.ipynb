{
 "cells": [
  {
   "cell_type": "markdown",
   "metadata": {},
   "source": [
    "# PyStan"
   ]
  },
  {
   "cell_type": "code",
   "execution_count": 1,
   "metadata": {
    "collapsed": false
   },
   "outputs": [],
   "source": [
    "import numpy as np\n",
    "import matplotlib\n",
    "import matplotlib.pyplot as plt\n",
    "%matplotlib inline\n",
    "\n",
    "import seaborn as sns\n",
    "\n",
    "import time\n",
    "import timeit\n",
    "\n",
    "import scipy.stats \n",
    "import pandas as pd\n",
    "import pickle\n",
    "\n",
    "import pystan"
   ]
  },
  {
   "cell_type": "code",
   "execution_count": 2,
   "metadata": {
    "collapsed": false
   },
   "outputs": [],
   "source": [
    "# Import data\n",
    "game16_df = pd.read_csv('clean-data/game_outcomes_15-16.csv')\n",
    "player_info = pd.read_csv('clean-data/player_info_pergame.csv')"
   ]
  },
  {
   "cell_type": "code",
   "execution_count": 3,
   "metadata": {
    "collapsed": false
   },
   "outputs": [],
   "source": [
    "score_diff = game16_df['diff'].values"
   ]
  },
  {
   "cell_type": "code",
   "execution_count": 4,
   "metadata": {
    "collapsed": true
   },
   "outputs": [],
   "source": [
    "# import the pickle files for guest/host teams line_up\n",
    "with open('clean-data/guest_team_line_up.pkl', 'rb') as handle:\n",
    "    guest_team_line_up = pickle.load(handle)\n",
    "with open('clean-data/host_team_line_up.pkl','rb') as handle:\n",
    "    host_team_line_up = pickle.load(handle)\n",
    "    \n",
    "guest_lineup_arr = np.array(guest_team_line_up, dtype = int)\n",
    "host_lineup_arr = np.array(host_team_line_up, dtype = int)"
   ]
  },
  {
   "cell_type": "code",
   "execution_count": 5,
   "metadata": {
    "collapsed": false
   },
   "outputs": [],
   "source": [
    "def make_guest_host_mat(game_outcomes_df):\n",
    "    '''\n",
    "    Makes a matrix for guests and hosts. Each row of each\n",
    "    matrix corresponds to one matchup. All elements of each row\n",
    "    are zero except the ith one (different for each row).\n",
    "    For the guest matrix, the ith entry in row j means that in game j,\n",
    "    the guest team was team i. In the host matrix, the ith entry in\n",
    "    row j means that the host team was team i\n",
    "    '''\n",
    "    \n",
    "    def make_matrix(mat, indices):\n",
    "        '''given a matrix and indices, sets the right one in each row\n",
    "        to be true'''\n",
    "        for (i, ind) in enumerate(indices):\n",
    "            mat[i, ind] = 1\n",
    "        \n",
    "    nrows = game_outcomes_df.shape[0]\n",
    "    ncols = np.max(game_outcomes_df['Visitor_Index'] + 1)\n",
    "    \n",
    "    guest_matrix = np.zeros((nrows, ncols), dtype = bool)\n",
    "    host_matrix = np.zeros((nrows, ncols), dtype = bool)\n",
    "    \n",
    "    make_matrix(guest_matrix, game_outcomes_df['Visitor_Index'].values)\n",
    "    make_matrix(host_matrix, game_outcomes_df['Home_Index'].values)\n",
    "    \n",
    "    return(guest_matrix, host_matrix)"
   ]
  },
  {
   "cell_type": "code",
   "execution_count": 6,
   "metadata": {
    "collapsed": true
   },
   "outputs": [],
   "source": [
    "guest_matrix, host_matrix = make_guest_host_mat(game16_df)\n",
    "guest_matrix = np.array(guest_matrix, dtype = int)\n",
    "host_matrix = np.array(host_matrix, dtype = int)"
   ]
  },
  {
   "cell_type": "code",
   "execution_count": 7,
   "metadata": {
    "collapsed": true
   },
   "outputs": [],
   "source": [
    "off_rating = player_info['PTS'].values + player_info['AST'].values\n",
    "def_rating = player_info['BLK'].values + player_info[\"STL\"].values + player_info['DRB'].values"
   ]
  },
  {
   "cell_type": "code",
   "execution_count": 8,
   "metadata": {
    "collapsed": false
   },
   "outputs": [],
   "source": [
    "nba_code = \"\"\"\n",
    "data {\n",
    "    int<lower=0> nplayers; // number of players\n",
    "    int<lower=0> nteams; // number of teams\n",
    "    int<lower=0> ngames; // number of games played in season\n",
    "    vector[nplayers] off_rating;\n",
    "    vector[nplayers] def_rating;\n",
    "    matrix[ngames, nteams] guest_matrix;\n",
    "    matrix[ngames, nteams] host_matrix;\n",
    "    matrix[ngames, nplayers] guest_lineup_arr;\n",
    "    matrix[ngames, nplayers] host_lineup_arr;\n",
    "    vector[ngames] score_diff;\n",
    "    real<lower=0> lam;\n",
    "}\n",
    "parameters {\n",
    "    vector[nteams] beta0;\n",
    "    vector[nplayers] beta;\n",
    "    vector[nteams] gamma0;\n",
    "    vector[nplayers] gamma;\n",
    "    real logsigma;\n",
    "}\n",
    "model {\n",
    "    for (i in 1:nteams) {\n",
    "        beta0[i] ~ normal(0, lam);\n",
    "        gamma0[i] ~ normal(0, lam);\n",
    "    } \n",
    "        \n",
    "    for (j in 1:nplayers) {\n",
    "        beta[j] ~ normal(0, lam);\n",
    "        gamma[j] ~ normal(0, lam);\n",
    "    }  \n",
    "\n",
    "    score_diff ~ normal(((guest_matrix * beta0) + \n",
    "                        guest_lineup_arr * (beta .* off_rating)) -\n",
    "                        ((host_matrix * gamma0) + \n",
    "                        host_lineup_arr * (gamma .* def_rating)) - \n",
    "                        (((host_matrix * beta0) +\n",
    "                        host_lineup_arr * (beta .* off_rating)) -\n",
    "                        ((guest_matrix * gamma0) + \n",
    "                        guest_lineup_arr * (gamma .* def_rating))), exp(logsigma));\n",
    "}\n",
    "\"\"\""
   ]
  },
  {
   "cell_type": "code",
   "execution_count": 9,
   "metadata": {
    "collapsed": false
   },
   "outputs": [],
   "source": [
    "sm = pystan.StanModel(model_code=nba_code)"
   ]
  },
  {
   "cell_type": "code",
   "execution_count": 12,
   "metadata": {
    "collapsed": false
   },
   "outputs": [],
   "source": [
    "data = {\n",
    "    'nplayers': guest_lineup_arr.shape[1],\n",
    "    'nteams': guest_matrix.shape[1],\n",
    "    'ngames': guest_matrix.shape[0],\n",
    "    'off_rating': off_rating,\n",
    "    'def_rating': def_rating,\n",
    "    'guest_matrix': guest_matrix,\n",
    "    'host_matrix': host_matrix,\n",
    "    'guest_lineup_arr': guest_lineup_arr,\n",
    "    'host_lineup_arr': host_lineup_arr,\n",
    "    'score_diff': score_diff,\n",
    "    'lam': 1.0\n",
    "}"
   ]
  },
  {
   "cell_type": "code",
   "execution_count": 13,
   "metadata": {
    "collapsed": false
   },
   "outputs": [],
   "source": [
    "#opt_res = sm.optimizing(data = data)"
   ]
  },
  {
   "cell_type": "code",
   "execution_count": null,
   "metadata": {
    "collapsed": false
   },
   "outputs": [],
   "source": [
    "# contribute_off = np.argsort(-opt_res['beta'])# * player_info['PTS'])\n",
    "# betas_df = player_info.loc[contribute_off]\n",
    "# betas_df['beta'] = opt_res['beta'][contribute_off]\n",
    "# betas_df.head(20)"
   ]
  },
  {
   "cell_type": "code",
   "execution_count": null,
   "metadata": {
    "collapsed": false
   },
   "outputs": [],
   "source": [
    "sm.sampling(data = data, chains = 1, iter = 500)"
   ]
  },
  {
   "cell_type": "code",
   "execution_count": null,
   "metadata": {
    "collapsed": true
   },
   "outputs": [],
   "source": []
  }
 ],
 "metadata": {
  "kernelspec": {
   "display_name": "Python 2",
   "language": "python",
   "name": "python2"
  },
  "language_info": {
   "codemirror_mode": {
    "name": "ipython",
    "version": 2
   },
   "file_extension": ".py",
   "mimetype": "text/x-python",
   "name": "python",
   "nbconvert_exporter": "python",
   "pygments_lexer": "ipython2",
   "version": "2.7.11"
  }
 },
 "nbformat": 4,
 "nbformat_minor": 0
}
