{
 "cells": [
  {
   "cell_type": "markdown",
   "metadata": {},
   "source": [
    "### Pymc and Pooling"
   ]
  },
  {
   "cell_type": "markdown",
   "metadata": {},
   "source": [
    "Problem Setup\n",
    "\n",
    "In our example, we need to sample posterior and find its maximize value using PyMC. The data we have in this problem is the score difference between two teams. We agree to use the following formula to calculate the score difference\n",
    "\n",
    "$$diff = GuestScore(PTS) - HostScore(PTS.1)$$\n",
    "\n",
    "The score difference(diff) follows a Gaussian distribution $N(\\mu,\\sigma)$. The $\\mu$ is determined by:\n",
    "\n",
    "$$\\mu = (O_i - D_j ) - (O_j - D_i)$$ where O is the offensive index and D is the defensive index for one team. Offensive and \n",
    "\n",
    "Defensive indexes shall be calculated by the following formulas:\n",
    "\n",
    "$$ O_{i} = \\beta_{i,0}^O + \\beta_{i,1}^O x_{i,1} + \\beta_{i,2}^O x_{i,2} +\\ldots + \\beta_{i,J}^O x_{i,J}$$\n",
    "$$D_{i} = \\gamma_{i,0}^D + \\gamma_{i,1}^D x_{i,1} + \\gamma_{i,2}^D x_{i,2} + \\ldots + \\gamma_{i,J}^D x_{i,J}$$\n",
    "\n",
    "You can see that $x_i$ is the offensive/defensive rating for each player, we need to figure out $\\beta$ in this problem.\n",
    "\n",
    "In this problem, we construct our offensive/defensive ratings using the follow formulas:\n",
    "\n",
    "**offensive = pointsper games + Assists per game**\n",
    "\n",
    "\n",
    "**defensive = Blocks + Steals + Defensive Rebound**\n",
    "\n",
    "**Therefore, our score difference Gaussian is actually a MIXTURE MODEL consisting of many gaussian of different team pairs, so can be written as:**\n",
    "\n",
    "$$\\prod_{n=1}^N N(\\mu_{nk},\\sigma)^{z_nk}$$ Where $z_nk$ is an indicator showing which team pair the nth data belong to.\n",
    "\n",
    "**Our goal is to find each $\\beta$ value**\n",
    "\n",
    "Thus, we assume there are $K$ players, and each team has $N$ players, so we initialize:\n",
    "\n",
    "K ($N*1$) vectors  $\\beta$ and \n",
    "\n",
    "\n",
    "K ($N*1$) vectors $\\gamma$\n",
    "\n",
    "So, \n",
    "\n",
    "$$Offensive = \\beta * X$$ where X is 1*N offensive rating\n",
    "\n",
    "$$Defensive = \\gamma * Y$$ where Y is 1*N defensive rating \n",
    "\n",
    "\n",
    "\n",
    "\n",
    "\n"
   ]
  },
  {
   "cell_type": "code",
   "execution_count": 1,
   "metadata": {
    "collapsed": false
   },
   "outputs": [
    {
     "name": "stderr",
     "output_type": "stream",
     "text": [
      "/Users/xdai/anaconda/lib/python2.7/site-packages/matplotlib/font_manager.py:273: UserWarning: Matplotlib is building the font cache using fc-list. This may take a moment.\n",
      "  warnings.warn('Matplotlib is building the font cache using fc-list. This may take a moment.')\n",
      "/Users/xdai/anaconda/lib/python2.7/site-packages/matplotlib/__init__.py:872: UserWarning: axes.color_cycle is deprecated and replaced with axes.prop_cycle; please use the latter.\n",
      "  warnings.warn(self.msg_depr % (key, alt_key))\n"
     ]
    }
   ],
   "source": [
    "import numpy as np\n",
    "import matplotlib\n",
    "import matplotlib.pyplot as plt\n",
    "%matplotlib inline\n",
    "\n",
    "import seaborn as sns\n",
    "sns.set_style(\"white\")\n",
    "\n",
    "import time\n",
    "import timeit\n",
    "\n",
    "import scipy.stats \n",
    "import pandas as pd\n",
    "import pymc as pm\n",
    "import pickle"
   ]
  },
  {
   "cell_type": "code",
   "execution_count": 2,
   "metadata": {
    "collapsed": false
   },
   "outputs": [],
   "source": [
    "# Import data\n",
    "game16_df = pd.read_csv('clean-data/game_outcomes_15-16.csv')\n",
    "player_info = pd.read_csv('clean-data/player_info_pergame.csv')"
   ]
  },
  {
   "cell_type": "code",
   "execution_count": 3,
   "metadata": {
    "collapsed": false
   },
   "outputs": [
    {
     "data": {
      "text/plain": [
       "<matplotlib.text.Text at 0x1139cf2d0>"
      ]
     },
     "execution_count": 3,
     "metadata": {},
     "output_type": "execute_result"
    },
    {
     "data": {
      "image/png": "[encoded data removed]",
      "text/plain": [
       "<matplotlib.figure.Figure at 0x113754ed0>"
      ]
     },
     "metadata": {},
     "output_type": "display_data"
    }
   ],
   "source": [
    "score_diff = game16_df['diff'].values\n",
    "#plot a histogram\n",
    "plt.hist(score_diff,color='y',alpha = 0.5)\n",
    "plt.title(\"Distribution of score difference in year 2016\")\n",
    "plt.xlabel('The Score difference')\n",
    "plt.ylabel('Frequency')"
   ]
  },
  {
   "cell_type": "code",
   "execution_count": 4,
   "metadata": {
    "collapsed": false
   },
   "outputs": [
    {
     "name": "stdout",
     "output_type": "stream",
     "text": [
      "The variance of the entire data set is: 177.785299755\n"
     ]
    }
   ],
   "source": [
    "# Here we have sigma for the entire data set and assume this sigma as my likehood variance as well\n",
    "print \"The variance of the entire data set is:\",np.var(score_diff)"
   ]
  },
  {
   "cell_type": "markdown",
   "metadata": {},
   "source": [
    "#### As you can see, the score difference follows a normal distribution"
   ]
  },
  {
   "cell_type": "markdown",
   "metadata": {},
   "source": [
    "### Peek into our prior\n",
    "Here I plot the Offensive rating and defensive rating to have a basic idea what our prior would be like"
   ]
  },
  {
   "cell_type": "code",
   "execution_count": 5,
   "metadata": {
    "collapsed": false
   },
   "outputs": [
    {
     "data": {
      "text/plain": [
       "<matplotlib.text.Text at 0x113a71990>"
      ]
     },
     "execution_count": 5,
     "metadata": {},
     "output_type": "execute_result"
    },
    {
     "data": {
      "image/png": "[encoded data removed]",
      "text/plain": [
       "<matplotlib.figure.Figure at 0x113754a50>"
      ]
     },
     "metadata": {},
     "output_type": "display_data"
    }
   ],
   "source": [
    "#plot a histogram\n",
    "ortg_values = player_info['PTS'].values\n",
    "plt.hist(ortg_values,color='y',bins=15,alpha =0.5)\n",
    "plt.title(\"Distribution of offensive Rating in year 2016\")\n",
    "plt.xlabel('The Offensive Rating difference')\n",
    "plt.ylabel('Frequency')\n"
   ]
  },
  {
   "cell_type": "markdown",
   "metadata": {},
   "source": [
    "From the two plots above, we see that our two ratings could be treated as two normal distributions with two different shapes. Although for defensive ratings, it looks like a mixture Gaussian model, for the simplistic of this problem, we decided to treat them as normal distributions. \n"
   ]
  },
  {
   "cell_type": "markdown",
   "metadata": {},
   "source": [
    "Before we get to the further part, we need to figure out players in each team. We use binary indicators in this problem, which has the length of \"player_num\" vector will be generated, and if this player is playing, the number will be 1, 0 otherwise. "
   ]
  },
  {
   "cell_type": "code",
   "execution_count": 7,
   "metadata": {
    "collapsed": true
   },
   "outputs": [],
   "source": [
    "# import the pickle files for guest/host teams line_up\n",
    "with open('clean-data/guest_team_line_up.pkl', 'rb') as handle:\n",
    "    guest_team_line_up = pickle.load(handle)\n",
    "with open('clean-data/host_team_line_up.pkl','rb') as handle:\n",
    "    host_team_line_up = pickle.load(handle)"
   ]
  },
  {
   "cell_type": "markdown",
   "metadata": {},
   "source": [
    "We constructed two data indicators,which input the host/guest team **index** and return an binary indicator showing which team it is. For example, the first host team is \"Atlanta Hawks\", put 0 in host_team dictionary will return a 30-long array[True,Flase,...,False]. In this binary indicator, the team is ordered alphabetically. So, the first one is \"Atlanta Hawks\" and the second one \"Boston Celtics\". The \"team_list\" shows the order of the team. "
   ]
  },
  {
   "cell_type": "markdown",
   "metadata": {},
   "source": [
    "### A different approach to the likelihood function"
   ]
  },
  {
   "cell_type": "code",
   "execution_count": 8,
   "metadata": {
    "collapsed": false
   },
   "outputs": [],
   "source": [
    "def make_guest_host_mat(game_outcomes_df):\n",
    "    '''\n",
    "    Makes a matrix for guests and hosts. Each row of each\n",
    "    matrix corresponds to one matchup. All elements of each row\n",
    "    are zero except the ith one (different for each row).\n",
    "    For the guest matrix, the ith entry in row j means that in game j,\n",
    "    the guest team was team i. In the host matrix, the ith entry in\n",
    "    row j means that the host team was team i\n",
    "    '''\n",
    "    \n",
    "    def make_matrix(mat, indices):\n",
    "        '''given a matrix and indices, sets the right one in each row\n",
    "        to be true'''\n",
    "        for (i, ind) in enumerate(indices):\n",
    "            mat[i, ind] = True\n",
    "        \n",
    "    nrows = game_outcomes_df.shape[0]\n",
    "    ncols = np.max(game_outcomes_df['Visitor_Index'] + 1)\n",
    "    \n",
    "    guest_matrix = np.zeros((nrows, ncols), dtype = bool)\n",
    "    host_matrix = np.zeros((nrows, ncols), dtype = bool)\n",
    "    \n",
    "    make_matrix(guest_matrix, game_outcomes_df['Visitor_Index'].values)\n",
    "    make_matrix(host_matrix, game_outcomes_df['Home_Index'].values)\n",
    "    \n",
    "    return(guest_matrix, host_matrix)"
   ]
  },
  {
   "cell_type": "code",
   "execution_count": 9,
   "metadata": {
    "collapsed": true
   },
   "outputs": [],
   "source": [
    "guest_matrix, host_matrix = make_guest_host_mat(game16_df)"
   ]
  },
  {
   "cell_type": "code",
   "execution_count": 39,
   "metadata": {
    "collapsed": false
   },
   "outputs": [
    {
     "data": {
      "text/plain": [
       "996"
      ]
     },
     "execution_count": 39,
     "metadata": {},
     "output_type": "execute_result"
    }
   ],
   "source": [
    "2 *(team_num + player_num)"
   ]
  },
  {
   "cell_type": "code",
   "execution_count": 10,
   "metadata": {
    "collapsed": false
   },
   "outputs": [],
   "source": [
    "# Construct beta and gamma \n",
    "team_num = 30\n",
    "player_num = len(player_info)\n",
    "\n",
    "coefs = pm.MvNormalCov(\"coefs\", mu = np.zeros(2*(team_num + player_num)),\n",
    "                      C = np.eye(2*(team_num + player_num)))\n",
    "\n",
    "# beta0 = np.empty(team_num,dtype=object)\n",
    "# beta0 = pm.Container(np.array([pm.Normal('beta0_%i' % i, \n",
    "#                    mu=1, tau=1) for i in xrange(team_num)]))\n",
    "# gamma0 = np.empty(team_num,dtype=object)\n",
    "# gamma0 = pm.Container(np.array([pm.Normal('gamma0_%i' % i, \n",
    "#                    mu=1, tau=1) for i in xrange(team_num)]))\n",
    "# betas = pm.Container(np.array([pm.Normal('betas_%i' % i, \n",
    "#                    mu=1, tau=1) for i in xrange(play_num)]))\n",
    "# gammas = pm.Container(np.array([pm.Normal('gammas_%i' % i, \n",
    "#                    mu=1, tau=1) for i in xrange(play_num)]))\n",
    "tau = pm.Gamma(\"tau\", alpha = 2, beta = 2)"
   ]
  },
  {
   "cell_type": "code",
   "execution_count": 11,
   "metadata": {
    "collapsed": true
   },
   "outputs": [],
   "source": [
    "# Copy the variables from Andy's part\n",
    "guest_lineup_arr = np.array(guest_team_line_up)\n",
    "host_lineup_arr = np.array(host_team_line_up)\n",
    "off_rating = player_info['PTS'].values + player_info['AST'].values\n",
    "def_rating = player_info['BLK'].values + player_info[\"STL\"].values + player_info['DRB'].values"
   ]
  },
  {
   "cell_type": "code",
   "execution_count": 12,
   "metadata": {
    "collapsed": true
   },
   "outputs": [],
   "source": [
    "def split_params(coefs, nplayers, nteams):\n",
    "    '''\n",
    "    Split the parameters\n",
    "    first are the beta0 for each team\n",
    "    then the beta for each player\n",
    "    then the gamma0 for each team\n",
    "    then the gamma for each player'''\n",
    "    assert(coefs.shape == (2*(nplayers+nteams),))\n",
    "    \n",
    "    beta0 = coefs[:nteams]\n",
    "    beta_player = coefs[nteams:(nplayers + nteams)]\n",
    "    gamma0 = coefs[(nplayers + nteams):(nplayers + 2*nteams)]\n",
    "    gamma_player = coefs[(nplayers + 2*nteams):]\n",
    "    \n",
    "    # parameterize sigma by its log\n",
    "    #logsigma = coefs[-1]\n",
    "    \n",
    "    assert(beta0.shape == (nteams,))\n",
    "    assert(beta_player.shape == (nplayers,))\n",
    "    assert(beta0.shape == (nteams,))\n",
    "    assert(gamma_player.shape == (nplayers,))\n",
    "    \n",
    "    \n",
    "    return (beta0, beta_player, gamma0, gamma_player)#, logsigma)"
   ]
  },
  {
   "cell_type": "code",
   "execution_count": 14,
   "metadata": {
    "collapsed": false
   },
   "outputs": [],
   "source": [
    "# Use a different log-likelihood\n",
    "@pm.observed(name = \"loglik\", observed = True)\n",
    "def loglik(coefs = coefs, tau = tau, value = score_diff, \n",
    "            off_rating = off_rating, def_rating = def_rating, \n",
    "            nplayers = player_num, nteams = team_num,\n",
    "            guest_matrix = guest_matrix, host_matrix = host_matrix, guest_lineup_arr = guest_lineup_arr,\n",
    "            host_lineup_arr = host_lineup_arr):\n",
    "\n",
    "    beta0, betas, gamma0, gammas = \\\n",
    "             split_params(coefs, nplayers, nteams)\n",
    "    \n",
    "    ngames = value.shape[0]\n",
    "    \n",
    "    guest_off_0 = np.dot(guest_matrix, beta0)\n",
    "    guest_def_0 = np.dot(guest_matrix, gamma0)\n",
    "    host_off_0 = np.dot(host_matrix, beta0)\n",
    "    host_def_0 = np.dot(host_matrix, gamma0)\n",
    "    \n",
    "    guest_off = guest_off_0 + np.dot(guest_lineup_arr, betas * off_rating)\n",
    "    guest_def = guest_def_0 + np.dot(guest_lineup_arr, gammas * def_rating)\n",
    "    host_off = host_off_0 + np.dot(host_lineup_arr, betas * off_rating)\n",
    "    host_def = host_def_0 + np.dot(host_lineup_arr, gammas * def_rating)\n",
    "    \n",
    "    mean = guest_off - host_def - (host_off - guest_def)\n",
    "    \n",
    "    loglik = pm.normal_like(value, mean, tau)\n",
    "#     loglik -= lam * np.linalg.norm(coefs[:-1])\n",
    "    return(loglik)"
   ]
  },
  {
   "cell_type": "code",
   "execution_count": 16,
   "metadata": {
    "collapsed": false
   },
   "outputs": [],
   "source": [
    "parameterlist = [loglik, coefs, tau]\n",
    "response_model2=pm.Model(parameterlist)"
   ]
  },
  {
   "cell_type": "code",
   "execution_count": 17,
   "metadata": {
    "collapsed": false
   },
   "outputs": [],
   "source": [
    "mcmc2 = pm.MCMC(response_model2)"
   ]
  },
  {
   "cell_type": "code",
   "execution_count": null,
   "metadata": {
    "collapsed": false
   },
   "outputs": [
    {
     "name": "stdout",
     "output_type": "stream",
     "text": [
      " [                  1%                  ] 11450 of 1000000 complete in 391.3 sec"
     ]
    }
   ],
   "source": [
    "mcmc2.sample(iter=1000000, burn = 0, thin = 1)"
   ]
  },
  {
   "cell_type": "code",
   "execution_count": 60,
   "metadata": {
    "collapsed": false
   },
   "outputs": [
    {
     "data": {
      "text/plain": [
       "array([[-0.3003509 ,  0.41922066,  0.05795773, ...,  0.43091078,\n",
       "        -0.37180848, -0.82981439],\n",
       "       [-0.3003509 ,  0.41922066,  0.05795773, ...,  0.43091078,\n",
       "        -0.37180848, -0.82981439],\n",
       "       [-0.3003509 ,  0.41922066,  0.05795773, ...,  0.43091078,\n",
       "        -0.37180848, -0.82981439],\n",
       "       ..., \n",
       "       [ 0.78937056, -0.14399078, -0.12344945, ..., -0.67931245,\n",
       "         0.96412075,  0.84658865],\n",
       "       [ 0.78937056, -0.14399078, -0.12344945, ..., -0.67931245,\n",
       "         0.96412075,  0.84658865],\n",
       "       [ 0.78937056, -0.14399078, -0.12344945, ..., -0.67931245,\n",
       "         0.96412075,  0.84658865]])"
      ]
     },
     "execution_count": 60,
     "metadata": {},
     "output_type": "execute_result"
    }
   ],
   "source": [
    "coefs.trace()"
   ]
  },
  {
   "cell_type": "code",
   "execution_count": 61,
   "metadata": {
    "collapsed": false
   },
   "outputs": [
    {
     "data": {
      "text/plain": [
       "[<matplotlib.lines.Line2D at 0x11801af90>]"
      ]
     },
     "execution_count": 61,
     "metadata": {},
     "output_type": "execute_result"
    },
    {
     "data": {
      "image/png": "[encoded data removed]",
      "text/plain": [
       "<matplotlib.figure.Figure at 0x14beee610>"
      ]
     },
     "metadata": {},
     "output_type": "display_data"
    }
   ],
   "source": [
    "plt.plot(coefs.trace()[:, 70])"
   ]
  },
  {
   "cell_type": "code",
   "execution_count": 70,
   "metadata": {
    "collapsed": false
   },
   "outputs": [
    {
     "data": {
      "image/png": "[encoded data removed]",
      "text/plain": [
       "<matplotlib.figure.Figure at 0x1a65e1310>"
      ]
     },
     "metadata": {},
     "output_type": "display_data"
    }
   ],
   "source": [
    "geweke_res = pm.geweke(coefs.trace()[:,60])\n",
    "pm.Matplot.geweke_plot(geweke_res,'coefs')\n"
   ]
  },
  {
   "cell_type": "markdown",
   "metadata": {},
   "source": [
    "### Convergence Check\n",
    "In order to check the model convergence, we picked \"Golden State Warrior\" as our example and check its convergence."
   ]
  },
  {
   "cell_type": "markdown",
   "metadata": {},
   "source": [
    "### Result Analysis"
   ]
  },
  {
   "cell_type": "markdown",
   "metadata": {},
   "source": [
    "### Hypothesis \n",
    "In order to analyze the results, we use two metrics, the first one is to use the $\\beta$ we got multiply offensive rating and multiply $\\beta$ by Points Per Game. Also, we multiply $\\gamma$ by players' defensive rating. To measure one team's performance, we could therefore to use $score = defensive + offensive$. Our hypothesis is that when two teams have similar scores genreated by our models, their games will be more fun and unpredicable. On the other hand, when two teams have a huge gap in this scores, their results shall be more predicable. \n",
    "\n",
    "We will check this hypothesis by predicting the score difference from different groups"
   ]
  },
  {
   "cell_type": "code",
   "execution_count": 15,
   "metadata": {
    "collapsed": false
   },
   "outputs": [
    {
     "name": "stderr",
     "output_type": "stream",
     "text": [
      "/Users/xdai/anaconda/lib/python2.7/site-packages/ipykernel/__main__.py:9: SettingWithCopyWarning: \n",
      "A value is trying to be set on a copy of a slice from a DataFrame.\n",
      "Try using .loc[row_indexer,col_indexer] = value instead\n",
      "\n",
      "See the caveats in the documentation: http://pandas.pydata.org/pandas-docs/stable/indexing.html#indexing-view-versus-copy\n",
      "/Users/xdai/anaconda/lib/python2.7/site-packages/ipykernel/__main__.py:10: SettingWithCopyWarning: \n",
      "A value is trying to be set on a copy of a slice from a DataFrame.\n",
      "Try using .loc[row_indexer,col_indexer] = value instead\n",
      "\n",
      "See the caveats in the documentation: http://pandas.pydata.org/pandas-docs/stable/indexing.html#indexing-view-versus-copy\n"
     ]
    },
    {
     "data": {
      "text/html": [
       "<div>\n",
       "<table border=\"1\" class=\"dataframe\">\n",
       "  <thead>\n",
       "    <tr style=\"text-align: right;\">\n",
       "      <th></th>\n",
       "      <th>Parameter</th>\n",
       "      <th>Mean</th>\n",
       "      <th>Contribution* ortg</th>\n",
       "      <th>Contribution* PTS(P. P. Game)</th>\n",
       "    </tr>\n",
       "  </thead>\n",
       "  <tbody>\n",
       "    <tr>\n",
       "      <th>0</th>\n",
       "      <td>beta_0</td>\n",
       "      <td>-0.821082</td>\n",
       "      <td>-78.002770</td>\n",
       "      <td>-25.699860</td>\n",
       "    </tr>\n",
       "    <tr>\n",
       "      <th>1</th>\n",
       "      <td>beta_1</td>\n",
       "      <td>0.012389</td>\n",
       "      <td>1.288434</td>\n",
       "      <td>0.230432</td>\n",
       "    </tr>\n",
       "    <tr>\n",
       "      <th>2</th>\n",
       "      <td>beta_2</td>\n",
       "      <td>0.160221</td>\n",
       "      <td>18.585585</td>\n",
       "      <td>5.848050</td>\n",
       "    </tr>\n",
       "    <tr>\n",
       "      <th>3</th>\n",
       "      <td>beta_3</td>\n",
       "      <td>-1.228993</td>\n",
       "      <td>-131.502271</td>\n",
       "      <td>-39.327782</td>\n",
       "    </tr>\n",
       "    <tr>\n",
       "      <th>4</th>\n",
       "      <td>beta_4</td>\n",
       "      <td>0.954801</td>\n",
       "      <td>105.982924</td>\n",
       "      <td>20.050823</td>\n",
       "    </tr>\n",
       "  </tbody>\n",
       "</table>\n",
       "</div>"
      ],
      "text/plain": [
       "  Parameter      Mean  Contribution* ortg  Contribution* PTS(P. P. Game)\n",
       "0    beta_0 -0.821082          -78.002770                     -25.699860\n",
       "1    beta_1  0.012389            1.288434                       0.230432\n",
       "2    beta_2  0.160221           18.585585                       5.848050\n",
       "3    beta_3 -1.228993         -131.502271                     -39.327782\n",
       "4    beta_4  0.954801          105.982924                      20.050823"
      ]
     },
     "execution_count": 15,
     "metadata": {},
     "output_type": "execute_result"
    }
   ],
   "source": [
    "# Read csv and analyze the data\n",
    "mcmc.write_csv(\"pymcResult.csv\")\n",
    "pymc_result = pd.read_csv('pymcResult.csv')[['Parameter', ' Mean']]\n",
    "beta_result = pymc_result[:451]\n",
    "gamma_result = pymc_result[481:481+451]\n",
    "rosters = player_info[\"Player\"].values\n",
    "player_PTS = player_info['PTS'].values\n",
    "#Adjusted Contribution with Points per game\n",
    "beta_result[\"Contribution* ortg\"] = beta_result[' Mean'] * ortg_values\n",
    "beta_result[\"Contribution* PTS(P. P. Game)\"] = beta_result[' Mean'] * player_PTS\n",
    "beta_result.head()"
   ]
  },
  {
   "cell_type": "code",
   "execution_count": 16,
   "metadata": {
    "collapsed": false
   },
   "outputs": [
    {
     "name": "stderr",
     "output_type": "stream",
     "text": [
      "/Users/xdai/anaconda/lib/python2.7/site-packages/ipykernel/__main__.py:2: SettingWithCopyWarning: \n",
      "A value is trying to be set on a copy of a slice from a DataFrame.\n",
      "Try using .loc[row_indexer,col_indexer] = value instead\n",
      "\n",
      "See the caveats in the documentation: http://pandas.pydata.org/pandas-docs/stable/indexing.html#indexing-view-versus-copy\n",
      "  from ipykernel import kernelapp as app\n"
     ]
    },
    {
     "data": {
      "text/html": [
       "<div>\n",
       "<table border=\"1\" class=\"dataframe\">\n",
       "  <thead>\n",
       "    <tr style=\"text-align: right;\">\n",
       "      <th></th>\n",
       "      <th>Parameter</th>\n",
       "      <th>Mean</th>\n",
       "      <th>Contribution* drtg</th>\n",
       "    </tr>\n",
       "  </thead>\n",
       "  <tbody>\n",
       "    <tr>\n",
       "      <th>481</th>\n",
       "      <td>gamma_0</td>\n",
       "      <td>-1.208653</td>\n",
       "      <td>-136.577741</td>\n",
       "    </tr>\n",
       "    <tr>\n",
       "      <th>482</th>\n",
       "      <td>gamma_1</td>\n",
       "      <td>-1.360216</td>\n",
       "      <td>-153.704450</td>\n",
       "    </tr>\n",
       "    <tr>\n",
       "      <th>483</th>\n",
       "      <td>gamma_2</td>\n",
       "      <td>0.417258</td>\n",
       "      <td>42.977621</td>\n",
       "    </tr>\n",
       "    <tr>\n",
       "      <th>484</th>\n",
       "      <td>gamma_3</td>\n",
       "      <td>-0.120567</td>\n",
       "      <td>-12.900645</td>\n",
       "    </tr>\n",
       "    <tr>\n",
       "      <th>485</th>\n",
       "      <td>gamma_4</td>\n",
       "      <td>-0.207312</td>\n",
       "      <td>-21.560437</td>\n",
       "    </tr>\n",
       "  </tbody>\n",
       "</table>\n",
       "</div>"
      ],
      "text/plain": [
       "    Parameter      Mean  Contribution* drtg\n",
       "481   gamma_0 -1.208653         -136.577741\n",
       "482   gamma_1 -1.360216         -153.704450\n",
       "483   gamma_2  0.417258           42.977621\n",
       "484   gamma_3 -0.120567          -12.900645\n",
       "485   gamma_4 -0.207312          -21.560437"
      ]
     },
     "execution_count": 16,
     "metadata": {},
     "output_type": "execute_result"
    }
   ],
   "source": [
    "#Process gamma result \n",
    "gamma_result[\"Contribution* drtg\"] = gamma_result[' Mean'] * drtg_values\n",
    "gamma_result.head()"
   ]
  },
  {
   "cell_type": "markdown",
   "metadata": {},
   "source": [
    "### Make predictions"
   ]
  },
  {
   "cell_type": "code",
   "execution_count": 103,
   "metadata": {
    "collapsed": false
   },
   "outputs": [
    {
     "name": "stdout",
     "output_type": "stream",
     "text": [
      "The score of la_clippers is: -79.9154831064\n"
     ]
    },
    {
     "name": "stderr",
     "output_type": "stream",
     "text": [
      "/Users/xdai/anaconda/lib/python2.7/site-packages/ipykernel/__main__.py:2: SettingWithCopyWarning: \n",
      "A value is trying to be set on a copy of a slice from a DataFrame.\n",
      "Try using .loc[row_indexer,col_indexer] = value instead\n",
      "\n",
      "See the caveats in the documentation: http://pandas.pydata.org/pandas-docs/stable/indexing.html#indexing-view-versus-copy\n",
      "  from ipykernel import kernelapp as app\n",
      "/Users/xdai/anaconda/lib/python2.7/site-packages/ipykernel/__main__.py:5: SettingWithCopyWarning: \n",
      "A value is trying to be set on a copy of a slice from a DataFrame.\n",
      "Try using .loc[row_indexer,col_indexer] = value instead\n",
      "\n",
      "See the caveats in the documentation: http://pandas.pydata.org/pandas-docs/stable/indexing.html#indexing-view-versus-copy\n"
     ]
    }
   ],
   "source": [
    "la_clippers_beta = beta_result[host_team_line_up[18]]\n",
    "la_clippers_beta['Player'] = rosters[la_clippers_beta.index]\n",
    "la_clippers_beta.head()\n",
    "la_clippers_gamma = gamma_result[host_team_line_up[18]]\n",
    "la_clippers_gamma['Player'] = rosters[la_clippers_beta.index]\n",
    "la_clippers_offensive  = np.sum(la_clippers_beta[\"Contribution* PTS(P. P. Game)\"].values)\n",
    "la_clippers_defensive = np.sum(la_clippers_gamma[\"Contribution* drtg\"].values)\n",
    "score = la_clippers_offensive + la_clippers_defensive\n",
    "print \"The score of la_clippers is:\", score"
   ]
  },
  {
   "cell_type": "code",
   "execution_count": null,
   "metadata": {
    "collapsed": true
   },
   "outputs": [],
   "source": [
    "la_clippers_beta = beta_result[host_team_line_up[18]]\n",
    "la_clippers_beta['Player'] = rosters[la_clippers_beta.index]\n",
    "la_clippers_beta.head()\n",
    "la_clippers_gamma = gamma_result[host_team_line_up[18]]\n",
    "la_clippers_gamma['Player'] = rosters[la_clippers_beta.index]\n",
    "la_clippers_offensive  = np.sum(la_clippers_beta[\"Contribution* PTS(P. P. Game)\"].values)\n",
    "la_clippers_defensive = np.sum(la_clippers_gamma[\"Contribution* drtg\"].values)\n",
    "score = la_clippers_offensive + la_clippers_defensive\n",
    "print \"The score of la_clippers is:\", score"
   ]
  },
  {
   "cell_type": "code",
   "execution_count": 105,
   "metadata": {
    "collapsed": false
   },
   "outputs": [
    {
     "name": "stderr",
     "output_type": "stream",
     "text": [
      "/Users/xdai/anaconda/lib/python2.7/site-packages/ipykernel/__main__.py:3: SettingWithCopyWarning: \n",
      "A value is trying to be set on a copy of a slice from a DataFrame.\n",
      "Try using .loc[row_indexer,col_indexer] = value instead\n",
      "\n",
      "See the caveats in the documentation: http://pandas.pydata.org/pandas-docs/stable/indexing.html#indexing-view-versus-copy\n",
      "  app.launch_new_instance()\n"
     ]
    },
    {
     "data": {
      "text/html": [
       "<div>\n",
       "<table border=\"1\" class=\"dataframe\">\n",
       "  <thead>\n",
       "    <tr style=\"text-align: right;\">\n",
       "      <th></th>\n",
       "      <th>Parameter</th>\n",
       "      <th>Mean</th>\n",
       "      <th>Contribution* ortg</th>\n",
       "      <th>Contribution* PTS(P. P. Game)</th>\n",
       "      <th>Player</th>\n",
       "    </tr>\n",
       "  </thead>\n",
       "  <tbody>\n",
       "    <tr>\n",
       "      <th>28</th>\n",
       "      <td>beta_28</td>\n",
       "      <td>0.492629</td>\n",
       "      <td>55.174450</td>\n",
       "      <td>15.813392</td>\n",
       "      <td>Klay Thompson</td>\n",
       "    </tr>\n",
       "    <tr>\n",
       "      <th>37</th>\n",
       "      <td>beta_37</td>\n",
       "      <td>-0.938370</td>\n",
       "      <td>-107.912577</td>\n",
       "      <td>-18.298220</td>\n",
       "      <td>Draymond Green</td>\n",
       "    </tr>\n",
       "    <tr>\n",
       "      <th>58</th>\n",
       "      <td>beta_58</td>\n",
       "      <td>2.459972</td>\n",
       "      <td>295.196676</td>\n",
       "      <td>30.749654</td>\n",
       "      <td>Andrew Bogut</td>\n",
       "    </tr>\n",
       "    <tr>\n",
       "      <th>63</th>\n",
       "      <td>beta_63</td>\n",
       "      <td>1.962966</td>\n",
       "      <td>225.741116</td>\n",
       "      <td>24.929671</td>\n",
       "      <td>Andre Iguodala</td>\n",
       "    </tr>\n",
       "    <tr>\n",
       "      <th>64</th>\n",
       "      <td>beta_64</td>\n",
       "      <td>-0.313012</td>\n",
       "      <td>-39.126544</td>\n",
       "      <td>-13.303025</td>\n",
       "      <td>Stephen Curry</td>\n",
       "    </tr>\n",
       "    <tr>\n",
       "      <th>118</th>\n",
       "      <td>beta_118</td>\n",
       "      <td>0.467475</td>\n",
       "      <td>55.629584</td>\n",
       "      <td>7.339365</td>\n",
       "      <td>Jason Thompson</td>\n",
       "    </tr>\n",
       "    <tr>\n",
       "      <th>134</th>\n",
       "      <td>beta_134</td>\n",
       "      <td>-0.322025</td>\n",
       "      <td>-38.321004</td>\n",
       "      <td>-4.991391</td>\n",
       "      <td>Shaun Livingston</td>\n",
       "    </tr>\n",
       "    <tr>\n",
       "      <th>186</th>\n",
       "      <td>beta_186</td>\n",
       "      <td>-0.015555</td>\n",
       "      <td>-1.773266</td>\n",
       "      <td>-0.284656</td>\n",
       "      <td>Harrison Barnes</td>\n",
       "    </tr>\n",
       "    <tr>\n",
       "      <th>187</th>\n",
       "      <td>beta_187</td>\n",
       "      <td>0.017752</td>\n",
       "      <td>1.810710</td>\n",
       "      <td>0.527236</td>\n",
       "      <td>Marreese Speights</td>\n",
       "    </tr>\n",
       "    <tr>\n",
       "      <th>247</th>\n",
       "      <td>beta_247</td>\n",
       "      <td>0.091441</td>\n",
       "      <td>9.692720</td>\n",
       "      <td>1.773951</td>\n",
       "      <td>Leandro Barbosa</td>\n",
       "    </tr>\n",
       "    <tr>\n",
       "      <th>277</th>\n",
       "      <td>beta_277</td>\n",
       "      <td>0.513029</td>\n",
       "      <td>58.485279</td>\n",
       "      <td>10.311878</td>\n",
       "      <td>Festus Ezeli</td>\n",
       "    </tr>\n",
       "    <tr>\n",
       "      <th>336</th>\n",
       "      <td>beta_336</td>\n",
       "      <td>-1.446633</td>\n",
       "      <td>-156.236310</td>\n",
       "      <td>-20.252855</td>\n",
       "      <td>Brandon Rush</td>\n",
       "    </tr>\n",
       "    <tr>\n",
       "      <th>357</th>\n",
       "      <td>beta_357</td>\n",
       "      <td>-0.334428</td>\n",
       "      <td>-41.803488</td>\n",
       "      <td>-6.922658</td>\n",
       "      <td>Kevon Looney</td>\n",
       "    </tr>\n",
       "    <tr>\n",
       "      <th>392</th>\n",
       "      <td>beta_392</td>\n",
       "      <td>-0.317420</td>\n",
       "      <td>-32.376806</td>\n",
       "      <td>-6.253167</td>\n",
       "      <td>Ian Clark</td>\n",
       "    </tr>\n",
       "    <tr>\n",
       "      <th>415</th>\n",
       "      <td>beta_415</td>\n",
       "      <td>-1.021027</td>\n",
       "      <td>-114.354978</td>\n",
       "      <td>-22.054174</td>\n",
       "      <td>James Michael McAdoo</td>\n",
       "    </tr>\n",
       "  </tbody>\n",
       "</table>\n",
       "</div>"
      ],
      "text/plain": [
       "    Parameter      Mean  Contribution* ortg  Contribution* PTS(P. P. Game)  \\\n",
       "28    beta_28  0.492629           55.174450                      15.813392   \n",
       "37    beta_37 -0.938370         -107.912577                     -18.298220   \n",
       "58    beta_58  2.459972          295.196676                      30.749654   \n",
       "63    beta_63  1.962966          225.741116                      24.929671   \n",
       "64    beta_64 -0.313012          -39.126544                     -13.303025   \n",
       "118  beta_118  0.467475           55.629584                       7.339365   \n",
       "134  beta_134 -0.322025          -38.321004                      -4.991391   \n",
       "186  beta_186 -0.015555           -1.773266                      -0.284656   \n",
       "187  beta_187  0.017752            1.810710                       0.527236   \n",
       "247  beta_247  0.091441            9.692720                       1.773951   \n",
       "277  beta_277  0.513029           58.485279                      10.311878   \n",
       "336  beta_336 -1.446633         -156.236310                     -20.252855   \n",
       "357  beta_357 -0.334428          -41.803488                      -6.922658   \n",
       "392  beta_392 -0.317420          -32.376806                      -6.253167   \n",
       "415  beta_415 -1.021027         -114.354978                     -22.054174   \n",
       "\n",
       "                   Player  \n",
       "28          Klay Thompson  \n",
       "37         Draymond Green  \n",
       "58           Andrew Bogut  \n",
       "63         Andre Iguodala  \n",
       "64          Stephen Curry  \n",
       "118        Jason Thompson  \n",
       "134      Shaun Livingston  \n",
       "186       Harrison Barnes  \n",
       "187     Marreese Speights  \n",
       "247       Leandro Barbosa  \n",
       "277          Festus Ezeli  \n",
       "336          Brandon Rush  \n",
       "357          Kevon Looney  \n",
       "392             Ian Clark  \n",
       "415  James Michael McAdoo  "
      ]
     },
     "execution_count": 105,
     "metadata": {},
     "output_type": "execute_result"
    }
   ],
   "source": [
    "#Find the Golden State Warrior Member\n",
    "gs_warriors = beta_result[host_team_line_up[2]]\n",
    "gs_warriors['Player'] = rosters[gs_warriors.index]\n",
    "gs_warriors"
   ]
  },
  {
   "cell_type": "code",
   "execution_count": 59,
   "metadata": {
    "collapsed": false
   },
   "outputs": [
    {
     "data": {
      "text/plain": [
       "169.82556171737411"
      ]
     },
     "execution_count": 59,
     "metadata": {},
     "output_type": "execute_result"
    }
   ],
   "source": [
    "np.sum(gs_warriors[\"Contribution*PTS(ortg)\"].values)"
   ]
  },
  {
   "cell_type": "code",
   "execution_count": 17,
   "metadata": {
    "collapsed": false
   },
   "outputs": [
    {
     "data": {
      "text/html": [
       "<div>\n",
       "<table border=\"1\" class=\"dataframe\">\n",
       "  <thead>\n",
       "    <tr style=\"text-align: right;\">\n",
       "      <th></th>\n",
       "      <th>Parameter</th>\n",
       "      <th>Mean</th>\n",
       "      <th>Contribution* ortg</th>\n",
       "      <th>Contribution* PTS(P. P. Game)</th>\n",
       "    </tr>\n",
       "  </thead>\n",
       "  <tbody>\n",
       "    <tr>\n",
       "      <th>64</th>\n",
       "      <td>beta_64</td>\n",
       "      <td>2.262351</td>\n",
       "      <td>282.793916</td>\n",
       "      <td>96.149931</td>\n",
       "    </tr>\n",
       "  </tbody>\n",
       "</table>\n",
       "</div>"
      ],
      "text/plain": [
       "   Parameter      Mean  Contribution* ortg  Contribution* PTS(P. P. Game)\n",
       "64   beta_64  2.262351          282.793916                      96.149931"
      ]
     },
     "execution_count": 17,
     "metadata": {},
     "output_type": "execute_result"
    }
   ],
   "source": [
    "# check Curry's score\n",
    "beta_result[beta_result['Parameter'] == 'beta_64']"
   ]
  },
  {
   "cell_type": "code",
   "execution_count": 21,
   "metadata": {
    "collapsed": false
   },
   "outputs": [
    {
     "name": "stderr",
     "output_type": "stream",
     "text": [
      "/Users/xdai/anaconda/lib/python2.7/site-packages/ipykernel/__main__.py:1: SettingWithCopyWarning: \n",
      "A value is trying to be set on a copy of a slice from a DataFrame.\n",
      "Try using .loc[row_indexer,col_indexer] = value instead\n",
      "\n",
      "See the caveats in the documentation: http://pandas.pydata.org/pandas-docs/stable/indexing.html#indexing-view-versus-copy\n",
      "  if __name__ == '__main__':\n"
     ]
    }
   ],
   "source": [
    "beta_result['Player'] = rosters"
   ]
  },
  {
   "cell_type": "code",
   "execution_count": 26,
   "metadata": {
    "collapsed": false
   },
   "outputs": [
    {
     "data": {
      "text/plain": [
       "Index([u'Parameter', u' Mean', u'Contribution* ortg',\n",
       "       u'Contribution* PTS(P. P. Game)', u'Player'],\n",
       "      dtype='object')"
      ]
     },
     "execution_count": 26,
     "metadata": {},
     "output_type": "execute_result"
    }
   ],
   "source": [
    "beta_result.keys()"
   ]
  },
  {
   "cell_type": "code",
   "execution_count": 28,
   "metadata": {
    "collapsed": false
   },
   "outputs": [
    {
     "data": {
      "text/html": [
       "<div>\n",
       "<table border=\"1\" class=\"dataframe\">\n",
       "  <thead>\n",
       "    <tr style=\"text-align: right;\">\n",
       "      <th></th>\n",
       "      <th>Parameter</th>\n",
       "      <th>Mean</th>\n",
       "      <th>Contribution* ortg</th>\n",
       "      <th>Contribution* PTS(P. P. Game)</th>\n",
       "      <th>Player</th>\n",
       "    </tr>\n",
       "  </thead>\n",
       "  <tbody>\n",
       "    <tr>\n",
       "      <th>266</th>\n",
       "      <td>beta_266</td>\n",
       "      <td>8.073223</td>\n",
       "      <td>888.054548</td>\n",
       "      <td>193.757356</td>\n",
       "      <td>Kelly Olynyk</td>\n",
       "    </tr>\n",
       "    <tr>\n",
       "      <th>373</th>\n",
       "      <td>beta_373</td>\n",
       "      <td>5.330408</td>\n",
       "      <td>1087.403195</td>\n",
       "      <td>176.436499</td>\n",
       "      <td>Rakeem Christmas</td>\n",
       "    </tr>\n",
       "    <tr>\n",
       "      <th>362</th>\n",
       "      <td>beta_362</td>\n",
       "      <td>8.242820</td>\n",
       "      <td>931.438677</td>\n",
       "      <td>168.977813</td>\n",
       "      <td>Cole Aldrich</td>\n",
       "    </tr>\n",
       "    <tr>\n",
       "      <th>19</th>\n",
       "      <td>beta_19</td>\n",
       "      <td>5.138913</td>\n",
       "      <td>621.808450</td>\n",
       "      <td>168.556340</td>\n",
       "      <td>Kawhi Leonard</td>\n",
       "    </tr>\n",
       "    <tr>\n",
       "      <th>9</th>\n",
       "      <td>beta_9</td>\n",
       "      <td>4.470250</td>\n",
       "      <td>460.435797</td>\n",
       "      <td>143.048015</td>\n",
       "      <td>Dwyane Wade</td>\n",
       "    </tr>\n",
       "    <tr>\n",
       "      <th>70</th>\n",
       "      <td>beta_70</td>\n",
       "      <td>11.218449</td>\n",
       "      <td>1189.155646</td>\n",
       "      <td>126.768479</td>\n",
       "      <td>Omer Asik</td>\n",
       "    </tr>\n",
       "    <tr>\n",
       "      <th>357</th>\n",
       "      <td>beta_357</td>\n",
       "      <td>5.528534</td>\n",
       "      <td>691.066705</td>\n",
       "      <td>114.440646</td>\n",
       "      <td>Kevon Looney</td>\n",
       "    </tr>\n",
       "    <tr>\n",
       "      <th>274</th>\n",
       "      <td>beta_274</td>\n",
       "      <td>3.982852</td>\n",
       "      <td>438.113677</td>\n",
       "      <td>103.155857</td>\n",
       "      <td>Shabazz Muhammad</td>\n",
       "    </tr>\n",
       "    <tr>\n",
       "      <th>423</th>\n",
       "      <td>beta_423</td>\n",
       "      <td>4.711010</td>\n",
       "      <td>461.678996</td>\n",
       "      <td>98.460112</td>\n",
       "      <td>Jarell Eddie</td>\n",
       "    </tr>\n",
       "    <tr>\n",
       "      <th>220</th>\n",
       "      <td>beta_220</td>\n",
       "      <td>4.660036</td>\n",
       "      <td>489.303788</td>\n",
       "      <td>97.860758</td>\n",
       "      <td>Luis Scola</td>\n",
       "    </tr>\n",
       "    <tr>\n",
       "      <th>89</th>\n",
       "      <td>beta_89</td>\n",
       "      <td>3.313195</td>\n",
       "      <td>364.451469</td>\n",
       "      <td>97.739257</td>\n",
       "      <td>Dirk Nowitzki</td>\n",
       "    </tr>\n",
       "    <tr>\n",
       "      <th>5</th>\n",
       "      <td>beta_5</td>\n",
       "      <td>3.353268</td>\n",
       "      <td>382.272584</td>\n",
       "      <td>97.580107</td>\n",
       "      <td>Chris Bosh</td>\n",
       "    </tr>\n",
       "    <tr>\n",
       "      <th>446</th>\n",
       "      <td>beta_446</td>\n",
       "      <td>4.687356</td>\n",
       "      <td>501.547133</td>\n",
       "      <td>96.559541</td>\n",
       "      <td>Christian Wood</td>\n",
       "    </tr>\n",
       "    <tr>\n",
       "      <th>64</th>\n",
       "      <td>beta_64</td>\n",
       "      <td>2.262351</td>\n",
       "      <td>282.793916</td>\n",
       "      <td>96.149931</td>\n",
       "      <td>Stephen Curry</td>\n",
       "    </tr>\n",
       "    <tr>\n",
       "      <th>164</th>\n",
       "      <td>beta_164</td>\n",
       "      <td>4.680231</td>\n",
       "      <td>486.744059</td>\n",
       "      <td>94.072650</td>\n",
       "      <td>Kris Humphries</td>\n",
       "    </tr>\n",
       "    <tr>\n",
       "      <th>198</th>\n",
       "      <td>beta_198</td>\n",
       "      <td>4.994081</td>\n",
       "      <td>494.414034</td>\n",
       "      <td>92.889909</td>\n",
       "      <td>Nerlens Noel</td>\n",
       "    </tr>\n",
       "    <tr>\n",
       "      <th>163</th>\n",
       "      <td>beta_163</td>\n",
       "      <td>3.591120</td>\n",
       "      <td>430.934454</td>\n",
       "      <td>91.573571</td>\n",
       "      <td>Jonas Valanciunas</td>\n",
       "    </tr>\n",
       "    <tr>\n",
       "      <th>348</th>\n",
       "      <td>beta_348</td>\n",
       "      <td>4.137004</td>\n",
       "      <td>393.015421</td>\n",
       "      <td>91.427798</td>\n",
       "      <td>Archie Goodwin</td>\n",
       "    </tr>\n",
       "    <tr>\n",
       "      <th>214</th>\n",
       "      <td>beta_214</td>\n",
       "      <td>4.329263</td>\n",
       "      <td>437.255540</td>\n",
       "      <td>87.884034</td>\n",
       "      <td>Austin Rivers</td>\n",
       "    </tr>\n",
       "    <tr>\n",
       "      <th>22</th>\n",
       "      <td>beta_22</td>\n",
       "      <td>4.371781</td>\n",
       "      <td>459.036958</td>\n",
       "      <td>82.189474</td>\n",
       "      <td>Wesley Matthews</td>\n",
       "    </tr>\n",
       "    <tr>\n",
       "      <th>442</th>\n",
       "      <td>beta_442</td>\n",
       "      <td>7.092640</td>\n",
       "      <td>588.689084</td>\n",
       "      <td>80.856091</td>\n",
       "      <td>Kostas Papanikolaou</td>\n",
       "    </tr>\n",
       "    <tr>\n",
       "      <th>346</th>\n",
       "      <td>beta_346</td>\n",
       "      <td>5.203166</td>\n",
       "      <td>582.754539</td>\n",
       "      <td>79.088116</td>\n",
       "      <td>Rudy Gobert</td>\n",
       "    </tr>\n",
       "    <tr>\n",
       "      <th>371</th>\n",
       "      <td>beta_371</td>\n",
       "      <td>3.451393</td>\n",
       "      <td>334.785168</td>\n",
       "      <td>76.275796</td>\n",
       "      <td>Robert Covington</td>\n",
       "    </tr>\n",
       "    <tr>\n",
       "      <th>170</th>\n",
       "      <td>beta_170</td>\n",
       "      <td>3.667685</td>\n",
       "      <td>366.768460</td>\n",
       "      <td>74.453997</td>\n",
       "      <td>Alexis Ajinca</td>\n",
       "    </tr>\n",
       "    <tr>\n",
       "      <th>408</th>\n",
       "      <td>beta_408</td>\n",
       "      <td>3.964970</td>\n",
       "      <td>440.111664</td>\n",
       "      <td>74.144938</td>\n",
       "      <td>Tyler Johnson</td>\n",
       "    </tr>\n",
       "    <tr>\n",
       "      <th>353</th>\n",
       "      <td>beta_353</td>\n",
       "      <td>4.709468</td>\n",
       "      <td>513.332010</td>\n",
       "      <td>73.938647</td>\n",
       "      <td>Matthew Dellavedova</td>\n",
       "    </tr>\n",
       "    <tr>\n",
       "      <th>14</th>\n",
       "      <td>beta_14</td>\n",
       "      <td>2.766273</td>\n",
       "      <td>309.822626</td>\n",
       "      <td>72.476364</td>\n",
       "      <td>Kevin Love</td>\n",
       "    </tr>\n",
       "    <tr>\n",
       "      <th>395</th>\n",
       "      <td>beta_395</td>\n",
       "      <td>4.150158</td>\n",
       "      <td>460.667548</td>\n",
       "      <td>70.967703</td>\n",
       "      <td>Mike Muscala</td>\n",
       "    </tr>\n",
       "    <tr>\n",
       "      <th>301</th>\n",
       "      <td>beta_301</td>\n",
       "      <td>3.761576</td>\n",
       "      <td>379.919177</td>\n",
       "      <td>68.836841</td>\n",
       "      <td>Wayne Ellington</td>\n",
       "    </tr>\n",
       "    <tr>\n",
       "      <th>136</th>\n",
       "      <td>beta_136</td>\n",
       "      <td>2.835572</td>\n",
       "      <td>303.406209</td>\n",
       "      <td>67.203057</td>\n",
       "      <td>Nikola Mirotic</td>\n",
       "    </tr>\n",
       "    <tr>\n",
       "      <th>...</th>\n",
       "      <td>...</td>\n",
       "      <td>...</td>\n",
       "      <td>...</td>\n",
       "      <td>...</td>\n",
       "      <td>...</td>\n",
       "    </tr>\n",
       "    <tr>\n",
       "      <th>231</th>\n",
       "      <td>beta_231</td>\n",
       "      <td>-2.760207</td>\n",
       "      <td>-270.500296</td>\n",
       "      <td>-46.095459</td>\n",
       "      <td>Nik Stauskas</td>\n",
       "    </tr>\n",
       "    <tr>\n",
       "      <th>232</th>\n",
       "      <td>beta_232</td>\n",
       "      <td>-5.595146</td>\n",
       "      <td>-559.514605</td>\n",
       "      <td>-47.558741</td>\n",
       "      <td>Mike Miller</td>\n",
       "    </tr>\n",
       "    <tr>\n",
       "      <th>402</th>\n",
       "      <td>beta_402</td>\n",
       "      <td>-4.851442</td>\n",
       "      <td>-392.966841</td>\n",
       "      <td>-49.969858</td>\n",
       "      <td>Joe Harris</td>\n",
       "    </tr>\n",
       "    <tr>\n",
       "      <th>20</th>\n",
       "      <td>beta_20</td>\n",
       "      <td>-1.723379</td>\n",
       "      <td>-211.975589</td>\n",
       "      <td>-51.529025</td>\n",
       "      <td>Enes Kanter</td>\n",
       "    </tr>\n",
       "    <tr>\n",
       "      <th>99</th>\n",
       "      <td>beta_99</td>\n",
       "      <td>-2.345681</td>\n",
       "      <td>-246.296458</td>\n",
       "      <td>-52.074108</td>\n",
       "      <td>Avery Bradley</td>\n",
       "    </tr>\n",
       "    <tr>\n",
       "      <th>238</th>\n",
       "      <td>beta_238</td>\n",
       "      <td>-5.053774</td>\n",
       "      <td>-414.409447</td>\n",
       "      <td>-53.064624</td>\n",
       "      <td>Sonny Weems</td>\n",
       "    </tr>\n",
       "    <tr>\n",
       "      <th>264</th>\n",
       "      <td>beta_264</td>\n",
       "      <td>-3.616607</td>\n",
       "      <td>-350.810901</td>\n",
       "      <td>-53.887448</td>\n",
       "      <td>Beno Udrih</td>\n",
       "    </tr>\n",
       "    <tr>\n",
       "      <th>268</th>\n",
       "      <td>beta_268</td>\n",
       "      <td>-4.048712</td>\n",
       "      <td>-340.091790</td>\n",
       "      <td>-55.062480</td>\n",
       "      <td>Kendall Marshall</td>\n",
       "    </tr>\n",
       "    <tr>\n",
       "      <th>102</th>\n",
       "      <td>beta_102</td>\n",
       "      <td>-2.135412</td>\n",
       "      <td>-228.489060</td>\n",
       "      <td>-55.520706</td>\n",
       "      <td>Pau Gasol</td>\n",
       "    </tr>\n",
       "    <tr>\n",
       "      <th>327</th>\n",
       "      <td>beta_327</td>\n",
       "      <td>-2.778026</td>\n",
       "      <td>-275.024604</td>\n",
       "      <td>-56.393934</td>\n",
       "      <td>Gerald Green</td>\n",
       "    </tr>\n",
       "    <tr>\n",
       "      <th>11</th>\n",
       "      <td>beta_11</td>\n",
       "      <td>-2.371815</td>\n",
       "      <td>-249.040620</td>\n",
       "      <td>-58.583841</td>\n",
       "      <td>Marc Gasol</td>\n",
       "    </tr>\n",
       "    <tr>\n",
       "      <th>26</th>\n",
       "      <td>beta_26</td>\n",
       "      <td>-2.581843</td>\n",
       "      <td>-278.839044</td>\n",
       "      <td>-59.382389</td>\n",
       "      <td>Eric Gordon</td>\n",
       "    </tr>\n",
       "    <tr>\n",
       "      <th>349</th>\n",
       "      <td>beta_349</td>\n",
       "      <td>-3.332429</td>\n",
       "      <td>-343.240142</td>\n",
       "      <td>-69.981000</td>\n",
       "      <td>C.J. Wilcox</td>\n",
       "    </tr>\n",
       "    <tr>\n",
       "      <th>217</th>\n",
       "      <td>beta_217</td>\n",
       "      <td>-3.196035</td>\n",
       "      <td>-332.387590</td>\n",
       "      <td>-75.746018</td>\n",
       "      <td>Jeremy Lamb</td>\n",
       "    </tr>\n",
       "    <tr>\n",
       "      <th>191</th>\n",
       "      <td>beta_191</td>\n",
       "      <td>-2.766547</td>\n",
       "      <td>-337.518761</td>\n",
       "      <td>-75.803394</td>\n",
       "      <td>Steve Novak</td>\n",
       "    </tr>\n",
       "    <tr>\n",
       "      <th>207</th>\n",
       "      <td>beta_207</td>\n",
       "      <td>-3.885186</td>\n",
       "      <td>-435.140884</td>\n",
       "      <td>-77.703729</td>\n",
       "      <td>Mike Scott</td>\n",
       "    </tr>\n",
       "    <tr>\n",
       "      <th>218</th>\n",
       "      <td>beta_218</td>\n",
       "      <td>-5.252459</td>\n",
       "      <td>-430.701635</td>\n",
       "      <td>-80.887868</td>\n",
       "      <td>Tibor Pleiss</td>\n",
       "    </tr>\n",
       "    <tr>\n",
       "      <th>132</th>\n",
       "      <td>beta_132</td>\n",
       "      <td>-3.655092</td>\n",
       "      <td>-372.819401</td>\n",
       "      <td>-85.894666</td>\n",
       "      <td>J.J. Hickson</td>\n",
       "    </tr>\n",
       "    <tr>\n",
       "      <th>115</th>\n",
       "      <td>beta_115</td>\n",
       "      <td>-4.297547</td>\n",
       "      <td>-434.052288</td>\n",
       "      <td>-86.380703</td>\n",
       "      <td>Rodney Stuckey</td>\n",
       "    </tr>\n",
       "    <tr>\n",
       "      <th>151</th>\n",
       "      <td>beta_151</td>\n",
       "      <td>-4.593454</td>\n",
       "      <td>-459.345433</td>\n",
       "      <td>-90.031705</td>\n",
       "      <td>Chris Kaman</td>\n",
       "    </tr>\n",
       "    <tr>\n",
       "      <th>216</th>\n",
       "      <td>beta_216</td>\n",
       "      <td>-5.196860</td>\n",
       "      <td>-488.504824</td>\n",
       "      <td>-102.378139</td>\n",
       "      <td>Norris Cole</td>\n",
       "    </tr>\n",
       "    <tr>\n",
       "      <th>322</th>\n",
       "      <td>beta_322</td>\n",
       "      <td>-5.523006</td>\n",
       "      <td>-552.300613</td>\n",
       "      <td>-109.355521</td>\n",
       "      <td>Bobby Portis</td>\n",
       "    </tr>\n",
       "    <tr>\n",
       "      <th>6</th>\n",
       "      <td>beta_6</td>\n",
       "      <td>-3.977874</td>\n",
       "      <td>-473.367037</td>\n",
       "      <td>-118.938440</td>\n",
       "      <td>Chris Paul</td>\n",
       "    </tr>\n",
       "    <tr>\n",
       "      <th>43</th>\n",
       "      <td>beta_43</td>\n",
       "      <td>-5.804418</td>\n",
       "      <td>-632.681521</td>\n",
       "      <td>-128.858071</td>\n",
       "      <td>Tony Parker</td>\n",
       "    </tr>\n",
       "    <tr>\n",
       "      <th>45</th>\n",
       "      <td>beta_45</td>\n",
       "      <td>-4.474883</td>\n",
       "      <td>-478.812481</td>\n",
       "      <td>-130.219095</td>\n",
       "      <td>Eric Bledsoe</td>\n",
       "    </tr>\n",
       "    <tr>\n",
       "      <th>129</th>\n",
       "      <td>beta_129</td>\n",
       "      <td>-5.281923</td>\n",
       "      <td>-544.038090</td>\n",
       "      <td>-144.196504</td>\n",
       "      <td>Bradley Beal</td>\n",
       "    </tr>\n",
       "    <tr>\n",
       "      <th>319</th>\n",
       "      <td>beta_319</td>\n",
       "      <td>-10.158578</td>\n",
       "      <td>-1046.333530</td>\n",
       "      <td>-166.600679</td>\n",
       "      <td>Justin Anderson</td>\n",
       "    </tr>\n",
       "    <tr>\n",
       "      <th>28</th>\n",
       "      <td>beta_28</td>\n",
       "      <td>-5.699923</td>\n",
       "      <td>-638.391427</td>\n",
       "      <td>-182.967543</td>\n",
       "      <td>Klay Thompson</td>\n",
       "    </tr>\n",
       "    <tr>\n",
       "      <th>300</th>\n",
       "      <td>beta_300</td>\n",
       "      <td>-8.830163</td>\n",
       "      <td>-962.487785</td>\n",
       "      <td>-204.859785</td>\n",
       "      <td>Delon Wright</td>\n",
       "    </tr>\n",
       "    <tr>\n",
       "      <th>379</th>\n",
       "      <td>beta_379</td>\n",
       "      <td>-8.741473</td>\n",
       "      <td>-1022.752342</td>\n",
       "      <td>-219.410972</td>\n",
       "      <td>Hassan Whiteside</td>\n",
       "    </tr>\n",
       "  </tbody>\n",
       "</table>\n",
       "<p>451 rows × 5 columns</p>\n",
       "</div>"
      ],
      "text/plain": [
       "    Parameter       Mean  Contribution* ortg  Contribution* PTS(P. P. Game)  \\\n",
       "266  beta_266   8.073223          888.054548                     193.757356   \n",
       "373  beta_373   5.330408         1087.403195                     176.436499   \n",
       "362  beta_362   8.242820          931.438677                     168.977813   \n",
       "19    beta_19   5.138913          621.808450                     168.556340   \n",
       "9      beta_9   4.470250          460.435797                     143.048015   \n",
       "70    beta_70  11.218449         1189.155646                     126.768479   \n",
       "357  beta_357   5.528534          691.066705                     114.440646   \n",
       "274  beta_274   3.982852          438.113677                     103.155857   \n",
       "423  beta_423   4.711010          461.678996                      98.460112   \n",
       "220  beta_220   4.660036          489.303788                      97.860758   \n",
       "89    beta_89   3.313195          364.451469                      97.739257   \n",
       "5      beta_5   3.353268          382.272584                      97.580107   \n",
       "446  beta_446   4.687356          501.547133                      96.559541   \n",
       "64    beta_64   2.262351          282.793916                      96.149931   \n",
       "164  beta_164   4.680231          486.744059                      94.072650   \n",
       "198  beta_198   4.994081          494.414034                      92.889909   \n",
       "163  beta_163   3.591120          430.934454                      91.573571   \n",
       "348  beta_348   4.137004          393.015421                      91.427798   \n",
       "214  beta_214   4.329263          437.255540                      87.884034   \n",
       "22    beta_22   4.371781          459.036958                      82.189474   \n",
       "442  beta_442   7.092640          588.689084                      80.856091   \n",
       "346  beta_346   5.203166          582.754539                      79.088116   \n",
       "371  beta_371   3.451393          334.785168                      76.275796   \n",
       "170  beta_170   3.667685          366.768460                      74.453997   \n",
       "408  beta_408   3.964970          440.111664                      74.144938   \n",
       "353  beta_353   4.709468          513.332010                      73.938647   \n",
       "14    beta_14   2.766273          309.822626                      72.476364   \n",
       "395  beta_395   4.150158          460.667548                      70.967703   \n",
       "301  beta_301   3.761576          379.919177                      68.836841   \n",
       "136  beta_136   2.835572          303.406209                      67.203057   \n",
       "..        ...        ...                 ...                            ...   \n",
       "231  beta_231  -2.760207         -270.500296                     -46.095459   \n",
       "232  beta_232  -5.595146         -559.514605                     -47.558741   \n",
       "402  beta_402  -4.851442         -392.966841                     -49.969858   \n",
       "20    beta_20  -1.723379         -211.975589                     -51.529025   \n",
       "99    beta_99  -2.345681         -246.296458                     -52.074108   \n",
       "238  beta_238  -5.053774         -414.409447                     -53.064624   \n",
       "264  beta_264  -3.616607         -350.810901                     -53.887448   \n",
       "268  beta_268  -4.048712         -340.091790                     -55.062480   \n",
       "102  beta_102  -2.135412         -228.489060                     -55.520706   \n",
       "327  beta_327  -2.778026         -275.024604                     -56.393934   \n",
       "11    beta_11  -2.371815         -249.040620                     -58.583841   \n",
       "26    beta_26  -2.581843         -278.839044                     -59.382389   \n",
       "349  beta_349  -3.332429         -343.240142                     -69.981000   \n",
       "217  beta_217  -3.196035         -332.387590                     -75.746018   \n",
       "191  beta_191  -2.766547         -337.518761                     -75.803394   \n",
       "207  beta_207  -3.885186         -435.140884                     -77.703729   \n",
       "218  beta_218  -5.252459         -430.701635                     -80.887868   \n",
       "132  beta_132  -3.655092         -372.819401                     -85.894666   \n",
       "115  beta_115  -4.297547         -434.052288                     -86.380703   \n",
       "151  beta_151  -4.593454         -459.345433                     -90.031705   \n",
       "216  beta_216  -5.196860         -488.504824                    -102.378139   \n",
       "322  beta_322  -5.523006         -552.300613                    -109.355521   \n",
       "6      beta_6  -3.977874         -473.367037                    -118.938440   \n",
       "43    beta_43  -5.804418         -632.681521                    -128.858071   \n",
       "45    beta_45  -4.474883         -478.812481                    -130.219095   \n",
       "129  beta_129  -5.281923         -544.038090                    -144.196504   \n",
       "319  beta_319 -10.158578        -1046.333530                    -166.600679   \n",
       "28    beta_28  -5.699923         -638.391427                    -182.967543   \n",
       "300  beta_300  -8.830163         -962.487785                    -204.859785   \n",
       "379  beta_379  -8.741473        -1022.752342                    -219.410972   \n",
       "\n",
       "                  Player  \n",
       "266         Kelly Olynyk  \n",
       "373     Rakeem Christmas  \n",
       "362         Cole Aldrich  \n",
       "19         Kawhi Leonard  \n",
       "9            Dwyane Wade  \n",
       "70             Omer Asik  \n",
       "357         Kevon Looney  \n",
       "274     Shabazz Muhammad  \n",
       "423         Jarell Eddie  \n",
       "220           Luis Scola  \n",
       "89         Dirk Nowitzki  \n",
       "5             Chris Bosh  \n",
       "446       Christian Wood  \n",
       "64         Stephen Curry  \n",
       "164       Kris Humphries  \n",
       "198         Nerlens Noel  \n",
       "163    Jonas Valanciunas  \n",
       "348       Archie Goodwin  \n",
       "214        Austin Rivers  \n",
       "22       Wesley Matthews  \n",
       "442  Kostas Papanikolaou  \n",
       "346          Rudy Gobert  \n",
       "371     Robert Covington  \n",
       "170        Alexis Ajinca  \n",
       "408        Tyler Johnson  \n",
       "353  Matthew Dellavedova  \n",
       "14            Kevin Love  \n",
       "395         Mike Muscala  \n",
       "301      Wayne Ellington  \n",
       "136       Nikola Mirotic  \n",
       "..                   ...  \n",
       "231         Nik Stauskas  \n",
       "232          Mike Miller  \n",
       "402           Joe Harris  \n",
       "20           Enes Kanter  \n",
       "99         Avery Bradley  \n",
       "238          Sonny Weems  \n",
       "264           Beno Udrih  \n",
       "268     Kendall Marshall  \n",
       "102            Pau Gasol  \n",
       "327         Gerald Green  \n",
       "11            Marc Gasol  \n",
       "26           Eric Gordon  \n",
       "349          C.J. Wilcox  \n",
       "217          Jeremy Lamb  \n",
       "191          Steve Novak  \n",
       "207           Mike Scott  \n",
       "218         Tibor Pleiss  \n",
       "132         J.J. Hickson  \n",
       "115       Rodney Stuckey  \n",
       "151          Chris Kaman  \n",
       "216          Norris Cole  \n",
       "322         Bobby Portis  \n",
       "6             Chris Paul  \n",
       "43           Tony Parker  \n",
       "45          Eric Bledsoe  \n",
       "129         Bradley Beal  \n",
       "319      Justin Anderson  \n",
       "28         Klay Thompson  \n",
       "300         Delon Wright  \n",
       "379     Hassan Whiteside  \n",
       "\n",
       "[451 rows x 5 columns]"
      ]
     },
     "execution_count": 28,
     "metadata": {},
     "output_type": "execute_result"
    }
   ],
   "source": [
    "beta_result.sort_values(['Contribution* PTS(P. P. Game)'],ascending=False)"
   ]
  },
  {
   "cell_type": "code",
   "execution_count": null,
   "metadata": {
    "collapsed": true
   },
   "outputs": [],
   "source": []
  }
 ],
 "metadata": {
  "kernelspec": {
   "display_name": "Python 2",
   "language": "python",
   "name": "python2"
  },
  "language_info": {
   "codemirror_mode": {
    "name": "ipython",
    "version": 2
   },
   "file_extension": ".py",
   "mimetype": "text/x-python",
   "name": "python",
   "nbconvert_exporter": "python",
   "pygments_lexer": "ipython2",
   "version": "2.7.11"
  }
 },
 "nbformat": 4,
 "nbformat_minor": 0
}
