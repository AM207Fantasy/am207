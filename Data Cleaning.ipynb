{
 "cells": [
  {
   "cell_type": "markdown",
   "metadata": {},
   "source": [
    "### Data Cleanning"
   ]
  },
  {
   "cell_type": "code",
   "execution_count": 1,
   "metadata": {
    "collapsed": true
   },
   "outputs": [],
   "source": [
    "import numpy as np\n",
    "import matplotlib\n",
    "import matplotlib.pyplot as plt\n",
    "%matplotlib inline\n",
    "\n",
    "import seaborn as sns\n",
    "sns.set_style(\"white\")\n",
    "\n",
    "import time\n",
    "import timeit\n",
    "\n",
    "import scipy.stats \n",
    "import pandas as pd\n",
    "import pymc as pm"
   ]
  },
  {
   "cell_type": "code",
   "execution_count": 2,
   "metadata": {
    "collapsed": false
   },
   "outputs": [],
   "source": [
    "# This function is to conver the string into int\n",
    "def Str2float(string):\n",
    "    try:\n",
    "        return float(string)\n",
    "    except:\n",
    "        return \"NaN\""
   ]
  },
  {
   "cell_type": "code",
   "execution_count": 3,
   "metadata": {
    "collapsed": false
   },
   "outputs": [],
   "source": [
    "#import 2011\n",
    "game11_df = pd.read_csv('10-11game_stats.csv')[[\"Visitor/Neutral\", \"PTS\", \"Home/Neutral\", \"PTS.1\"]]\n",
    "game11_df['Year'] = 2011\n",
    "game11_df['PTS'] = game11_df['PTS'].map(lambda x: Str2float(x))\n",
    "game11_df['PTS'] = game11_df['PTS.1'].map(lambda x: Str2float(x))\n",
    "game11_df = game11_df[game11_df['PTS'].map(lambda x: type(x) is float)]"
   ]
  },
  {
   "cell_type": "code",
   "execution_count": 4,
   "metadata": {
    "collapsed": false
   },
   "outputs": [],
   "source": [
    "#import name and their teams \n",
    "playerTeam_df = pd.read_csv('salary.csv', header = 1)[['Player','Tm']]\n",
    "playerTeam_df = playerTeam_df[playerTeam_df['Tm'] != 'Tm']\n",
    "playerTeam_df = playerTeam_df[playerTeam_df['Player'] != 'Player']\n",
    "playerTeam_df = playerTeam_df[~pd.isnull(playerTeam_df['Player'])]"
   ]
  },
  {
   "cell_type": "code",
   "execution_count": 5,
   "metadata": {
    "collapsed": true
   },
   "outputs": [],
   "source": [
    "#import 2012\n",
    "game12_df = pd.read_csv('11-12game_stats.csv')[[\"Visitor/Neutral\", \"PTS\", \"Home/Neutral\", \"PTS.1\"]]\n",
    "game12_df['Year'] = 2012\n",
    "game12_df['PTS'] = game12_df['PTS'].map(lambda x: Str2float(x))\n",
    "game12_df['PTS'] = game12_df['PTS.1'].map(lambda x: Str2float(x))\n",
    "game12_df = game12_df[game12_df['PTS'].map(lambda x: type(x) is float)]"
   ]
  },
  {
   "cell_type": "code",
   "execution_count": 11,
   "metadata": {
    "collapsed": true
   },
   "outputs": [],
   "source": [
    "#import 2013\n",
    "game13_df = pd.read_csv('12-13game_stats.csv')[[\"Visitor/Neutral\", \"PTS\", \"Home/Neutral\", \"PTS.1\"]]\n",
    "game13_df['Year'] = 2013\n",
    "game13_df['PTS'] = game13_df['PTS'].map(lambda x: Str2float(x))\n",
    "game13_df['PTS'] = game13_df['PTS.1'].map(lambda x: Str2float(x))\n",
    "game13_df = game13_df[game13_df['PTS'].map(lambda x: type(x) is float)]"
   ]
  },
  {
   "cell_type": "code",
   "execution_count": 16,
   "metadata": {
    "collapsed": false
   },
   "outputs": [],
   "source": [
    "#import 2014\n",
    "game14_df = pd.read_csv('13-14game_stats.csv')[[\"Visitor/Neutral\", \"PTS\", \"Home/Neutral\", \"PTS.1\"]]\n",
    "game14_df['Year'] = 2014\n",
    "game14_df['PTS'] = game14_df['PTS'].map(lambda x: Str2float(x))\n",
    "game14_df['PTS'] = game14_df['PTS.1'].map(lambda x: Str2float(x))\n",
    "game14_df = game14_df[game14_df['PTS'].map(lambda x: type(x) is float)]"
   ]
  },
  {
   "cell_type": "code",
   "execution_count": 13,
   "metadata": {
    "collapsed": true
   },
   "outputs": [],
   "source": [
    "#import 2015\n",
    "game15_df = pd.read_csv('14-15game_stats.csv')[[\"Visitor/Neutral\", \"PTS\", \"Home/Neutral\", \"PTS.1\"]]\n",
    "game15_df['Year'] = 2015\n",
    "game15_df['PTS'] = game15_df['PTS'].map(lambda x: Str2float(x))\n",
    "game15_df['PTS'] = game15_df['PTS.1'].map(lambda x: Str2float(x))\n",
    "game15_df = game15_df[game15_df['PTS'].map(lambda x: type(x) is float)]"
   ]
  },
  {
   "cell_type": "code",
   "execution_count": null,
   "metadata": {
    "collapsed": true
   },
   "outputs": [],
   "source": []
  }
 ],
 "metadata": {
  "kernelspec": {
   "display_name": "Python 2",
   "language": "python",
   "name": "python2"
  },
  "language_info": {
   "codemirror_mode": {
    "name": "ipython",
    "version": 2
   },
   "file_extension": ".py",
   "mimetype": "text/x-python",
   "name": "python",
   "nbconvert_exporter": "python",
   "pygments_lexer": "ipython2",
   "version": "2.7.11"
  }
 },
 "nbformat": 4,
 "nbformat_minor": 0
}
