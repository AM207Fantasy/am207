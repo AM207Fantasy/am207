{
 "cells": [
  {
   "cell_type": "code",
   "execution_count": null,
   "metadata": {
    "collapsed": true
   },
   "outputs": [],
   "source": [
    "### Data Cleanning"
   ]
  },
  {
   "cell_type": "code",
   "execution_count": 2,
   "metadata": {
    "collapsed": false
   },
   "outputs": [],
   "source": [
    "import numpy as np\n",
    "import matplotlib\n",
    "import matplotlib.pyplot as plt\n",
    "%matplotlib inline\n",
    "\n",
    "import seaborn as sns\n",
    "sns.set_style(\"white\")\n",
    "\n",
    "import time\n",
    "import timeit\n",
    "\n",
    "import scipy.stats \n",
    "import pandas as pd\n",
    "import pymc as pm\n",
    "\n",
    "\n",
    "import scipy as sp\n",
    "pd.set_option('display.width', 500)\n",
    "pd.set_option('display.max_columns', 100)\n",
    "import seaborn as sns\n",
    "import statsmodels.api as sm\n",
    "import statsmodels.graphics.tsaplots as tsaplots\n",
    "from IPython.display import Image"
   ]
  },
  {
   "cell_type": "code",
   "execution_count": 5,
   "metadata": {
    "collapsed": true
   },
   "outputs": [],
   "source": [
    "# This function is to conver the string into int\n",
    "def Str2float(string):\n",
    "    try:\n",
    "        return float(string)\n",
    "    except:\n",
    "        return \"NaN\""
   ]
  },
  {
   "cell_type": "code",
   "execution_count": 251,
   "metadata": {
    "collapsed": false
   },
   "outputs": [],
   "source": [
    "#import 2011\n",
    "game11_df = pd.read_csv('10-11game_stats.csv')[[\"Visitor/Neutral\", \"PTS\", \"Home/Neutral\", \"PTS.1\"]]\n",
    "game11_df['Year'] = 2011\n",
    "game11_df['PTS'] = game11_df['PTS'].map(lambda x: Str2float(x))\n",
    "game11_df['PTS'] = game11_df['PTS.1'].map(lambda x: Str2float(x))\n",
    "game11_df = game11_df[game11_df['PTS'].map(lambda x: type(x) is float)]"
   ]
  },
  {
   "cell_type": "code",
   "execution_count": 213,
   "metadata": {
    "collapsed": false
   },
   "outputs": [],
   "source": [
    "#import name and their teams \n",
    "playerTeam_df = pd.read_csv('salary.csv', header = 1)[['Player','Tm']]\n",
    "playerTeam_df = playerTeam_df[playerTeam_df['Tm'] != 'Tm']\n",
    "playerTeam_df = playerTeam_df[playerTeam_df['Player'] != 'Player']\n",
    "playerTeam_df = playerTeam_df[~pd.isnull(playerTeam_df['Player'])]"
   ]
  },
  {
   "cell_type": "code",
   "execution_count": 214,
   "metadata": {
    "collapsed": true
   },
   "outputs": [],
   "source": [
    "#import 2012\n",
    "game12_df = pd.read_csv('11-12game_stats.csv')[[\"Visitor/Neutral\", \"PTS\", \"Home/Neutral\", \"PTS.1\"]]\n",
    "game12_df['Year'] = 2012\n",
    "game12_df['PTS'] = game12_df['PTS'].map(lambda x: Str2float(x))\n",
    "game12_df['PTS'] = game12_df['PTS.1'].map(lambda x: Str2float(x))\n",
    "game12_df = game12_df[game12_df['PTS'].map(lambda x: type(x) is float)]"
   ]
  },
  {
   "cell_type": "code",
   "execution_count": 215,
   "metadata": {
    "collapsed": true
   },
   "outputs": [],
   "source": [
    "#import 2013\n",
    "game13_df = pd.read_csv('12-13game_stats.csv')[[\"Visitor/Neutral\", \"PTS\", \"Home/Neutral\", \"PTS.1\"]]\n",
    "game13_df['Year'] = 2013\n",
    "game13_df['PTS'] = game13_df['PTS'].map(lambda x: Str2float(x))\n",
    "game13_df['PTS'] = game13_df['PTS.1'].map(lambda x: Str2float(x))\n",
    "game13_df = game13_df[game13_df['PTS'].map(lambda x: type(x) is float)]"
   ]
  },
  {
   "cell_type": "code",
   "execution_count": 216,
   "metadata": {
    "collapsed": false
   },
   "outputs": [],
   "source": [
    "#import 2014\n",
    "game14_df = pd.read_csv('13-14game_stats.csv')[[\"Visitor/Neutral\", \"PTS\", \"Home/Neutral\", \"PTS.1\"]]\n",
    "game14_df['Year'] = 2014\n",
    "game14_df['PTS'] = game14_df['PTS'].map(lambda x: Str2float(x))\n",
    "game14_df['PTS'] = game14_df['PTS.1'].map(lambda x: Str2float(x))\n",
    "game14_df = game14_df[game14_df['PTS'].map(lambda x: type(x) is float)]"
   ]
  },
  {
   "cell_type": "code",
   "execution_count": 217,
   "metadata": {
    "collapsed": true
   },
   "outputs": [],
   "source": [
    "#import 2015\n",
    "game15_df = pd.read_csv('14-15game_stats.csv')[[\"Visitor/Neutral\", \"PTS\", \"Home/Neutral\", \"PTS.1\"]]\n",
    "game15_df['Year'] = 2015\n",
    "game15_df['PTS'] = game15_df['PTS'].map(lambda x: Str2float(x))\n",
    "game15_df['PTS'] = game15_df['PTS.1'].map(lambda x: Str2float(x))\n",
    "game15_df = game15_df[game15_df['PTS'].map(lambda x: type(x) is float)]"
   ]
  },
  {
   "cell_type": "code",
   "execution_count": 219,
   "metadata": {
    "collapsed": false
   },
   "outputs": [],
   "source": [
    "game_all_df=pd.concat([game11_df,game12_df,game13_df,game14_df,game15_df])"
   ]
  },
  {
   "cell_type": "code",
   "execution_count": 220,
   "metadata": {
    "collapsed": false
   },
   "outputs": [
    {
     "data": {
      "text/plain": [
       "'Atlanta Hawks'"
      ]
     },
     "execution_count": 220,
     "metadata": {},
     "output_type": "execute_result"
    }
   ],
   "source": [
    "Team_names=game_all_df['Visitor/Neutral'].drop_duplicates()\n",
    "Team_names=list(Team_names)\n",
    "Team_names[7]"
   ]
  },
  {
   "cell_type": "code",
   "execution_count": 231,
   "metadata": {
    "collapsed": false
   },
   "outputs": [
    {
     "name": "stdout",
     "output_type": "stream",
     "text": [
      "Miami Heat 99.0913705584\n",
      "Houston Rockets 104.850253807\n",
      "Phoenix Suns 103.225888325\n",
      "Boston Celtics 97.9567430025\n",
      "Charlotte Bobcats 97.7435897436\n",
      "Utah Jazz 100.14213198\n",
      "Portland Trail Blazers 101.573604061\n",
      "Atlanta Hawks 98.6852791878\n",
      "Sacramento Kings 103.822335025\n",
      "Detroit Pistons 99.6446700508\n",
      "Milwaukee Bucks 98.269035533\n",
      "Chicago Bulls 95.4695431472\n",
      "Indiana Pacers 98.1857506361\n",
      "New York Knicks 100.47715736\n",
      "Washington Wizards 99.9568527919\n",
      "Memphis Grizzlies 96.8045685279\n",
      "Oklahoma City Thunder 103.814720812\n",
      "Los Angeles Clippers 102.279187817\n",
      "Orlando Magic 98.4060913706\n",
      "Denver Nuggets 106.053299492\n",
      "Los Angeles Lakers 102.565989848\n",
      "Cleveland Cavaliers 100.558375635\n",
      "Philadelphia 76ers 98.6725888325\n",
      "Minnesota Timberwolves 102.939086294\n",
      "New Orleans Hornets 95.1\n",
      "Dallas Mavericks 101.763959391\n",
      "Golden State Warriors 104.126903553\n",
      "San Antonio Spurs 102.187817259\n",
      "Toronto Raptors 100.42893401\n",
      "New Jersey Nets 97.4594594595\n",
      "Brooklyn Nets 99.0975609756\n",
      "New Orleans Pelicans 101.81097561\n",
      "Charlotte Hornets 96.5243902439\n"
     ]
    }
   ],
   "source": [
    "Team_Score = np.zeros(33)\n",
    "for i in range(33):\n",
    "    Full_Score=np.append( np.array(Visitor_Score.get_group(Team_names[i])['PTS']), np.array(Home_Score.get_group(Team_names[i])['PTS']) )\n",
    "    print Team_names[i], np.mean(Full_Score)"
   ]
  },
  {
   "cell_type": "code",
   "execution_count": 815,
   "metadata": {
    "collapsed": false
   },
   "outputs": [
    {
     "data": {
      "text/plain": [
       "<matplotlib.figure.Figure at 0x10e480210>"
      ]
     },
     "metadata": {},
     "output_type": "display_data"
    },
    {
     "data": {
      "text/plain": [
       "<matplotlib.figure.Figure at 0x111bf4250>"
      ]
     },
     "metadata": {},
     "output_type": "display_data"
    },
    {
     "data": {
      "text/plain": [
       "<matplotlib.figure.Figure at 0x11ae58790>"
      ]
     },
     "metadata": {},
     "output_type": "display_data"
    },
    {
     "data": {
      "text/plain": [
       "<matplotlib.figure.Figure at 0x110fc64d0>"
      ]
     },
     "metadata": {},
     "output_type": "display_data"
    },
    {
     "data": {
      "text/plain": [
       "<matplotlib.figure.Figure at 0x110fc67d0>"
      ]
     },
     "metadata": {},
     "output_type": "display_data"
    },
    {
     "data": {
      "text/plain": [
       "<matplotlib.figure.Figure at 0x110fc6d90>"
      ]
     },
     "metadata": {},
     "output_type": "display_data"
    },
    {
     "data": {
      "text/plain": [
       "<matplotlib.figure.Figure at 0x110fc5f90>"
      ]
     },
     "metadata": {},
     "output_type": "display_data"
    },
    {
     "data": {
      "text/plain": [
       "<matplotlib.figure.Figure at 0x111a673d0>"
      ]
     },
     "metadata": {},
     "output_type": "display_data"
    },
    {
     "data": {
      "text/plain": [
       "<matplotlib.figure.Figure at 0x11b0eb7d0>"
      ]
     },
     "metadata": {},
     "output_type": "display_data"
    },
    {
     "data": {
      "text/plain": [
       "<matplotlib.figure.Figure at 0x10db84250>"
      ]
     },
     "metadata": {},
     "output_type": "display_data"
    },
    {
     "data": {
      "text/plain": [
       "<matplotlib.figure.Figure at 0x10db84450>"
      ]
     },
     "metadata": {},
     "output_type": "display_data"
    },
    {
     "data": {
      "text/plain": [
       "<matplotlib.figure.Figure at 0x113488850>"
      ]
     },
     "metadata": {},
     "output_type": "display_data"
    },
    {
     "data": {
      "text/plain": [
       "<matplotlib.figure.Figure at 0x115e5e4d0>"
      ]
     },
     "metadata": {},
     "output_type": "display_data"
    },
    {
     "data": {
      "text/plain": [
       "<matplotlib.figure.Figure at 0x11ae12a10>"
      ]
     },
     "metadata": {},
     "output_type": "display_data"
    },
    {
     "data": {
      "text/plain": [
       "<matplotlib.figure.Figure at 0x119693a10>"
      ]
     },
     "metadata": {},
     "output_type": "display_data"
    },
    {
     "data": {
      "text/plain": [
       "<matplotlib.figure.Figure at 0x113742650>"
      ]
     },
     "metadata": {},
     "output_type": "display_data"
    },
    {
     "data": {
      "text/plain": [
       "<matplotlib.figure.Figure at 0x113742810>"
      ]
     },
     "metadata": {},
     "output_type": "display_data"
    },
    {
     "data": {
      "text/plain": [
       "<matplotlib.figure.Figure at 0x11ae2cbd0>"
      ]
     },
     "metadata": {},
     "output_type": "display_data"
    },
    {
     "data": {
      "text/plain": [
       "<matplotlib.figure.Figure at 0x115d68190>"
      ]
     },
     "metadata": {},
     "output_type": "display_data"
    },
    {
     "data": {
      "text/plain": [
       "<matplotlib.figure.Figure at 0x11592d150>"
      ]
     },
     "metadata": {},
     "output_type": "display_data"
    },
    {
     "data": {
      "text/plain": [
       "<matplotlib.figure.Figure at 0x11592d190>"
      ]
     },
     "metadata": {},
     "output_type": "display_data"
    },
    {
     "data": {
      "text/plain": [
       "<matplotlib.figure.Figure at 0x11648c450>"
      ]
     },
     "metadata": {},
     "output_type": "display_data"
    },
    {
     "data": {
      "text/plain": [
       "<matplotlib.figure.Figure at 0x11648c110>"
      ]
     },
     "metadata": {},
     "output_type": "display_data"
    },
    {
     "data": {
      "text/plain": [
       "<matplotlib.figure.Figure at 0x1159bb310>"
      ]
     },
     "metadata": {},
     "output_type": "display_data"
    },
    {
     "data": {
      "text/plain": [
       "<matplotlib.figure.Figure at 0x1159bbb90>"
      ]
     },
     "metadata": {},
     "output_type": "display_data"
    },
    {
     "data": {
      "text/plain": [
       "<matplotlib.figure.Figure at 0x115d4fc10>"
      ]
     },
     "metadata": {},
     "output_type": "display_data"
    },
    {
     "data": {
      "text/plain": [
       "<matplotlib.figure.Figure at 0x11aec6810>"
      ]
     },
     "metadata": {},
     "output_type": "display_data"
    },
    {
     "data": {
      "text/plain": [
       "<matplotlib.figure.Figure at 0x11162e8d0>"
      ]
     },
     "metadata": {},
     "output_type": "display_data"
    },
    {
     "data": {
      "text/plain": [
       "<matplotlib.figure.Figure at 0x11ab5f650>"
      ]
     },
     "metadata": {},
     "output_type": "display_data"
    },
    {
     "data": {
      "text/plain": [
       "<matplotlib.figure.Figure at 0x11ab5f5d0>"
      ]
     },
     "metadata": {},
     "output_type": "display_data"
    },
    {
     "data": {
      "text/plain": [
       "<matplotlib.figure.Figure at 0x1164759d0>"
      ]
     },
     "metadata": {},
     "output_type": "display_data"
    },
    {
     "data": {
      "text/plain": [
       "<matplotlib.figure.Figure at 0x116475d90>"
      ]
     },
     "metadata": {},
     "output_type": "display_data"
    },
    {
     "data": {
      "text/plain": [
       "<matplotlib.figure.Figure at 0x1115b05d0>"
      ]
     },
     "metadata": {},
     "output_type": "display_data"
    }
   ],
   "source": [
    "Visitor_Score=game_all_df.groupby(['Visitor/Neutral'])\n",
    "Home_Score=game_all_df.groupby(['Home/Neutral'])\n",
    "for i in range(len(Team_names)):\n",
    "    plt.figure(figsize=(7, 5)) \n",
    "    a=np.histogram(np.append( np.array(Visitor_Score.get_group(Team_names[i])['PTS']), np.array(Home_Score.get_group(Team_names[i])['PTS']) ),bins=np.arange(50,150,5),normed=True)\n",
    "    #plt.plot(np.arange(52.5,147.5,5),a[0],'ro')\n",
    "    #plt.title(Team_names[i])"
   ]
  },
  {
   "cell_type": "code",
   "execution_count": 252,
   "metadata": {
    "collapsed": false
   },
   "outputs": [
    {
     "data": {
      "text/plain": [
       "<matplotlib.text.Text at 0x11399bad0>"
      ]
     },
     "execution_count": 252,
     "metadata": {},
     "output_type": "execute_result"
    },
    {
     "data": {
      "image/png": "[encoded data removed]",
      "text/plain": [
       "<matplotlib.figure.Figure at 0x11597bf10>"
      ]
     },
     "metadata": {},
     "output_type": "display_data"
    }
   ],
   "source": [
    "Visitor_Score=game_all_df.groupby(['Visitor/Neutral'])\n",
    "Home_Score=game_all_df.groupby(['Home/Neutral'])\n",
    "plt.figure(figsize=(7, 5)) \n",
    "team=20\n",
    "AllScore=np.append( np.array(Visitor_Score.get_group(Team_names[team])['PTS']), np.array(Home_Score.get_group(Team_names[team])['PTS'])) \n",
    "a=np.histogram( AllScore ,bins=np.arange(0,180,5),normed=True)\n",
    "plt.plot(np.arange(2.5,177.5,5),a[0],'ro')\n",
    "plt.title(Team_names[team])"
   ]
  },
  {
   "cell_type": "markdown",
   "metadata": {},
   "source": [
    "## b). Derive and compute the maximum likelihood solution for a Gaussian.\n",
    "First, we take frequentist view. We look for single value of parameter which maximizes likelihood function given the set of data and Poisson distribution.\n",
    "$$N(X=k;\\lambda)=\\frac{1}{\\sqrt{ 2 \\pi \\sigma^2} } e^{-\\frac{(x-\\mu)^2}{2 \\sigma^2}} $$\n",
    "\n",
    "given data sets $D=\\{d_0,d_1,...d_N\\}$  log-likelihood function is obtained by \n",
    "$$\\ln L(\\lambda : d_1,d_2,...d_N)=\\sum_{i=1}^{N} \\ln \\frac{\\lambda^{d_i}e^{-\\lambda}}{d_i!} =\\sum_{i=1}^{N}(d_i\\ln\\lambda-\\lambda-\\ln d_i!) = (\\sum_{i=1}^{N}d_i)\\ln\\lambda-N\\lambda-\\sum_{i=1}^{N}ln d_i !$$\n",
    "\n",
    "We maximize $\\ln L(\\lambda)$ with respect to $\\lambda$, given data sets 'hangout_chat_data.csv'.\n",
    "\n",
    "$$ \\frac{\\partial \\ln L}{\\partial \\lambda} = 0 = \\frac{\\sum_{i=1}^{N} d_i}{\\lambda} - N$$\n",
    "\n",
    "$$\\lambda = \\frac{\\sum_{i=1}^{N}d_i}{N}$$\n",
    "\n",
    "which is equal to mean of the data."
   ]
  },
  {
   "cell_type": "code",
   "execution_count": 206,
   "metadata": {
    "collapsed": false
   },
   "outputs": [],
   "source": [
    "data=pd.DataFrame(map(int, AllScore))"
   ]
  },
  {
   "cell_type": "markdown",
   "metadata": {},
   "source": [
    "## c). Bayesian solution with Metropolis Hastings\n",
    "* Compare this to the Bayesian solution with a prior of your choice and using your own implementation of Metropolis Hastings to sample from the posterior. Make sure to describe why you chose this prior, as well as the specifics of your Metropolis Hastings implementation.\n",
    "\n",
    "### Choice of prior: Jeffreys prior of Poisson distribution $p(\\lambda)=\\frac{1}{\\sqrt \\lambda}$\n",
    "Now we want to compare Bayesian solution with Maximum Likelihood solution. For that purpose I use Jeffreys prior to avoid prior strongly influence the posterior distribution.(uninformative prior)\n",
    "\n",
    "\n",
    "\n",
    "\n",
    "## Metropolice Hastings Algorithm\n",
    "### Step 1. Start with $\\lambda^{0}$\n",
    "### Step 2. Propose $\\lambda^P$ (ex. $N(\\lambda^0,c)$)\n",
    "### Step 3. Check $R = \\frac{f(\\lambda^{P})P(\\lambda^{P} | \\lambda^{0})}{f(\\lambda^{0})P(\\lambda^{0} | \\lambda^{P})} $\n",
    "### Step 4. Accept with probability $min\\{1,R\\}$\n",
    "### Step 5. If accept, record $\\lambda^{0}=\\lambda^{P}$ else $\\lambda^{1}=\\lambda^{0}$\n",
    "\n",
    "We want to obtain $p(\\lambda|d)=\\frac{p(d|\\lambda)p(\\lambda)}{p(d)}$ since $p(d|\\lambda)$ is likelihood function, \n",
    "$$p(d|\\lambda)=\\prod_{i=1}^{N}\\frac{\\lambda^{d_i}e^{-\\lambda}}{d_i !}\\propto \\lambda ^{N\\overline d} e^{-N\\lambda}$$\n",
    "\n",
    "\n",
    "\n",
    "\n",
    "$$p(\\lambda|d)\\propto p(d|\\lambda)p(\\lambda) \\propto \\frac{1}{\\sqrt \\lambda}  \\lambda ^{N\\overline d} e^{-N\\lambda}  $$\n",
    "\n",
    "$$ln\\, p(\\lambda|d)=-\\frac{1}{2}ln\\lambda +N\\overline d\\ln\\lambda-N\\lambda + Constant (1)$$\n",
    "\n",
    "$$R = ln\\ \\frac{ p(d|\\lambda_1)p(\\lambda_1) }{ p(d|\\lambda_2)p(\\lambda_2) }=ln\\ p(d|\\lambda_1)p(\\lambda_1)-ln\\ p(d|\\lambda_2)p(\\lambda_2) $$\n",
    "\n"
   ]
  },
  {
   "cell_type": "code",
   "execution_count": 207,
   "metadata": {
    "collapsed": false
   },
   "outputs": [
    {
     "name": "stdout",
     "output_type": "stream",
     "text": [
      "97.7201122576\n",
      "0.6054\n"
     ]
    },
    {
     "data": {
      "text/plain": [
       "<matplotlib.text.Text at 0x115d9b390>"
      ]
     },
     "execution_count": 207,
     "metadata": {},
     "output_type": "execute_result"
    },
    {
     "data": {
      "image/png": "[encoded data removed]",
      "text/plain": [
       "<matplotlib.figure.Figure at 0x116023710>"
      ]
     },
     "metadata": {},
     "output_type": "display_data"
    }
   ],
   "source": [
    "acc_ratio=np.zeros(100)\n",
    "for z in range(100):\n",
    "\n",
    "\n",
    "    # given mean of data and lambda and length of data, return log of (likelihood) * (prior) \n",
    "    def ln_p(d_mean,lam,len_data):\n",
    "        return -(1/2)*np.log(lam)+len_data*d_mean*np.log(lam)-len_data*lam\n",
    "\n",
    "\n",
    "\n",
    "    # length of data\n",
    "    len_data=len(data)\n",
    "\n",
    "    # mean of response time\n",
    "    d_mean = data.mean()[0]\n",
    "\n",
    "    # total steps of Monte Carlo random walk\n",
    "    total_steps = 10000\n",
    "\n",
    "    # store trajectory of random walk for trace plot \n",
    "    trace=np.zeros(total_steps)\n",
    "\n",
    "    # \n",
    "    accepted=np.zeros(total_steps)\n",
    "\n",
    "    # random walk starts from lambda=10 which is a bit off from the maximum likelihood solution\n",
    "    # but can check convergence well. \n",
    "    lam_old= 10\n",
    "    # store where the random walker was in the beginning\n",
    "    trace[0]=lam_old\n",
    "\n",
    "    j=0\n",
    "    for i in range(total_steps):\n",
    "        # generate proposal distribution with normal distribution \n",
    "        acc = np.random.normal(0,0.7)\n",
    "        # random walker examines new place\n",
    "        lam_new=lam_old + acc\n",
    "        # Calculate log of acceptance ratio\n",
    "        ln_R = (ln_p(d_mean,lam_new,len_data)-ln_p(d_mean,lam_old,len_data))\n",
    "        # Decide weather or not to accept the proposal\n",
    "        if np.log( np.random.rand() ) < ln_R :\n",
    "            lam_old = lam_new\n",
    "            accepted[i]+=1\n",
    "\n",
    "        trace[i]=lam_old\n",
    "    acc_ratio[z]=accepted.sum()/len(accepted)\n",
    "print trace.mean()\n",
    "print accepted.sum()/len(accepted)\n",
    "plt.subplot(2,1,1)\n",
    "\n",
    "fig=plt.hist(trace,bins=50,normed = True,color='r',alpha=0.5);\n",
    "plt.xlabel('lambda',fontsize=20)"
   ]
  },
  {
   "cell_type": "code",
   "execution_count": 208,
   "metadata": {
    "collapsed": false
   },
   "outputs": [
    {
     "name": "stdout",
     "output_type": "stream",
     "text": [
      "mean of lambda is 99.1056035024\n"
     ]
    },
    {
     "data": {
      "image/png": "[encoded data removed]",
      "text/plain": [
       "<matplotlib.figure.Figure at 0x10de86a90>"
      ]
     },
     "metadata": {},
     "output_type": "display_data"
    }
   ],
   "source": [
    "burnin=500\n",
    "fig=plt.hist(trace[burnin:],bins=100,normed = True,color='r',alpha=0.5);\n",
    "plt.xlabel('lambda',fontsize=20)\n",
    "print \"mean of lambda is\", trace[burnin:].mean()"
   ]
  },
  {
   "cell_type": "code",
   "execution_count": 435,
   "metadata": {
    "collapsed": true
   },
   "outputs": [],
   "source": [
    "Age_Score_13=pd.read_csv('./raw-data/13-14Per100Pos_stats.csv')[[\"Player\", \"Age\", \"PTS\"]].drop_duplicates('Player')\n",
    "Age_Score_13['PTS'] = Age_Score_13['PTS'].map(lambda x: Str2float(x))\n",
    "Age_Score_13 = Age_Score_13[Age_Score_13['PTS'].map(lambda x: type(x) is float)]"
   ]
  },
  {
   "cell_type": "code",
   "execution_count": null,
   "metadata": {
    "collapsed": true
   },
   "outputs": [],
   "source": [
    "Age_Score_13=pd.read_csv('./raw-data/13-14Per100Pos_stats.csv')[[\"Player\", \"Age\", \"PTS\"]].drop_duplicates('Player')\n",
    "Age_Score_13['PTS'] = Age_Score_13['PTS'].map(lambda x: Str2float(x))\n",
    "Age_Score_13 = Age_Score_13[Age_Score_13['PTS'].map(lambda x: type(x) is float)]"
   ]
  },
  {
   "cell_type": "code",
   "execution_count": 595,
   "metadata": {
    "collapsed": false
   },
   "outputs": [],
   "source": [
    "Age_Games_6=pd.read_csv('./raw-data/5-6Per100Pos_stats.csv')[[\"Player\", \"Age\", \"G\"]].drop_duplicates('Player')\n",
    "Age_Games_7=pd.read_csv('./raw-data/6-7Per100Pos_stats.csv')[[\"Player\", \"Age\", \"G\"]].drop_duplicates('Player')\n",
    "Age_Games_8=pd.read_csv('./raw-data/7-8Per100Pos_stats.csv')[[\"Player\", \"Age\", \"G\"]].drop_duplicates('Player')\n",
    "Age_Games_9=pd.read_csv('./raw-data/8-9Per100Pos_stats.csv')[[\"Player\", \"Age\", \"G\"]].drop_duplicates('Player')\n",
    "Age_Games_10=pd.read_csv('./raw-data/9-10Per100Pos_stats.csv')[[\"Player\", \"Age\", \"G\"]].drop_duplicates('Player')\n",
    "Age_Games_11=pd.read_csv('./raw-data/10-11Per100Pos_stats.csv')[[\"Player\", \"Age\", \"G\"]].drop_duplicates('Player')\n",
    "Age_Games_12=pd.read_csv('./raw-data/11-12Per100Pos_stats.csv')[[\"Player\", \"Age\", \"G\"]].drop_duplicates('Player')\n",
    "Age_Games_13=pd.read_csv('./raw-data/12-13Per100Pos_stats.csv')[[\"Player\", \"Age\", \"G\"]].drop_duplicates('Player')\n",
    "Age_Games_14=pd.read_csv('./raw-data/13-14Per100Pos_stats.csv')[[\"Player\", \"Age\", \"G\"]].drop_duplicates('Player')\n",
    "Age_Games_15=pd.read_csv('./raw-data/14-15Per100Pos_stats.csv')[[\"Player\", \"Age\", \"G\"]].drop_duplicates('Player')\n",
    "Age_Games_16=pd.read_csv('./raw-data/15-16Per100Pos_stats.csv')[[\"Player\", \"Age\", \"G\"]].drop_duplicates('Player')\n",
    "\n",
    "Age_Games_6['G'] = Age_Games_6['G'].map(lambda x: Str2float(x))\n",
    "Age_Games_6 = Age_Games_6[ Age_Games_6['G'].map(lambda x: type(x) is float)]\n",
    "\n",
    "\n",
    "Score_all=pd.concat([Age_Games_6,Age_Games_7,Age_Games_8,Age_Games_9,Age_Games_10,Age_Games_11,Age_Games_12,Age_Games_13,Age_Games_14,Age_Games_15,Age_Games_16])\n",
    "Score_all['G'] = Score_all['G'].map(lambda x: Str2float(x))\n",
    "Score_all = Score_all[Score_all['G'].map(lambda x: type(x) is float)]"
   ]
  },
  {
   "cell_type": "code",
   "execution_count": 602,
   "metadata": {
    "collapsed": false
   },
   "outputs": [
    {
     "data": {
      "image/png": "[encoded data removed]",
      "text/plain": [
       "<matplotlib.figure.Figure at 0x1150c46d0>"
      ]
     },
     "metadata": {},
     "output_type": "display_data"
    },
    {
     "data": {
      "image/png": "[encoded data removed]",
      "text/plain": [
       "<matplotlib.figure.Figure at 0x110fc5f10>"
      ]
     },
     "metadata": {},
     "output_type": "display_data"
    },
    {
     "data": {
      "image/png": "[encoded data removed]",
      "text/plain": [
       "<matplotlib.figure.Figure at 0x11bb35490>"
      ]
     },
     "metadata": {},
     "output_type": "display_data"
    },
    {
     "data": {
      "image/png": "[encoded data removed]",
      "text/plain": [
       "<matplotlib.figure.Figure at 0x11b575b50>"
      ]
     },
     "metadata": {},
     "output_type": "display_data"
    },
    {
     "data": {
      "image/png": "[encoded data removed]",
      "text/plain": [
       "<matplotlib.figure.Figure at 0x11b24aa10>"
      ]
     },
     "metadata": {},
     "output_type": "display_data"
    },
    {
     "data": {
      "image/png": "[encoded data removed]",
      "text/plain": [
       "<matplotlib.figure.Figure at 0x110ff1e50>"
      ]
     },
     "metadata": {},
     "output_type": "display_data"
    },
    {
     "data": {
      "image/png": "[encoded data removed]",
      "text/plain": [
       "<matplotlib.figure.Figure at 0x11bb0bf90>"
      ]
     },
     "metadata": {},
     "output_type": "display_data"
    }
   ],
   "source": [
    "total_years=5\n",
    "for age in range(28,35):\n",
    "    Age_Games_6_GbyA=Age_Games_6.groupby(['Age'])\n",
    "    PlayerList=list( Age_Games_6_GbyA.get_group(str(age))['Player'] )\n",
    "\n",
    "    SumGame=np.zeros(total_years)\n",
    "    NumPlayers=0\n",
    "    plt.figure(figsize=(7, 5)) \n",
    "    for i in range(len(PlayerList)): \n",
    "        playyears=len(Score_all_GbyP.get_group(PlayerList[i])['G'])\n",
    "        if playyears>total_years:\n",
    "            Score_all_GbyP=Score_all.groupby(['Player'])\n",
    "            SumGame= SumGame + np.array( Score_all_GbyP.get_group(PlayerList[i])['G'] )[:total_years]\n",
    "            NumPlayers+=1\n",
    "    plt.plot(np.arange(age,age+total_years),SumGame/NumPlayers,'ro')\n",
    "    plt.ylim(0,82)"
   ]
  },
  {
   "cell_type": "code",
   "execution_count": 632,
   "metadata": {
    "collapsed": false
   },
   "outputs": [],
   "source": [
    "Age_Games_16=pd.read_csv('./raw-data/15-16Per100Pos_stats.csv')[[\"Player\", \"Age\", \"G\"]].drop_duplicates('Player')"
   ]
  },
  {
   "cell_type": "code",
   "execution_count": 636,
   "metadata": {
    "collapsed": false
   },
   "outputs": [
    {
     "data": {
      "text/plain": [
       "['Matt Barnes',\n",
       " 'Steve Blake',\n",
       " 'Matt Bonner',\n",
       " 'Caron Butler',\n",
       " 'Nick Collison',\n",
       " 'Jamal Crawford',\n",
       " 'Mike Dunleavy',\n",
       " 'Pau Gasol',\n",
       " 'Udonis Haslem',\n",
       " 'Kirk Hinrich',\n",
       " 'Richard Jefferson',\n",
       " 'Dahntay Jones',\n",
       " 'James Jones',\n",
       " 'Mike Miller',\n",
       " 'Tayshaun Prince',\n",
       " 'Luis Scola',\n",
       " 'David West']"
      ]
     },
     "execution_count": 636,
     "metadata": {},
     "output_type": "execute_result"
    }
   ],
   "source": [
    "Age_Games_16=pd.read_csv('./raw-data/15-16Per100Pos_stats.csv')[[\"Player\", \"Age\", \"G\"]].drop_duplicates('Player')\n",
    "Age_Games_16['G'] = Age_Games_16['G'].map(lambda x: Str2float(x))\n",
    "Age_Games_16 = Age_Games_16[ Age_Games_16['G'].map(lambda x: type(x) is float)]\n",
    "\n",
    "Age_Games_16\n",
    "Age_Games_16_GbyA=Age_Games_16.groupby(['Age'])\n",
    "PlayerList=list( Age_Games_16_GbyA.get_group('35')['Player'] )\n",
    "PlayerList"
   ]
  },
  {
   "cell_type": "code",
   "execution_count": 680,
   "metadata": {
    "collapsed": false
   },
   "outputs": [
    {
     "data": {
      "text/plain": [
       "0     14\n",
       "1     16\n",
       "2     17\n",
       "3     -1\n",
       "4     11\n",
       "5     18\n",
       "6     12\n",
       "7     13\n",
       "8     15\n",
       "9     10\n",
       "10    19\n",
       "11     9\n",
       "12     7\n",
       "13    17\n",
       "14    18\n",
       "15    14\n",
       "16    -1\n",
       "17    14\n",
       "18    14\n",
       "19    13\n",
       "21    23\n",
       "22    -1\n",
       "23    19\n",
       "24    15\n",
       "25    -1\n",
       "26    23\n",
       "27    32\n",
       "28    -1\n",
       "29    21\n",
       "30    15\n",
       "      ..\n",
       "54     8\n",
       "55    30\n",
       "56     8\n",
       "57    14\n",
       "58    20\n",
       "59    12\n",
       "60     6\n",
       "61     5\n",
       "63    15\n",
       "64     3\n",
       "65    12\n",
       "66    18\n",
       "67    10\n",
       "68    17\n",
       "69    19\n",
       "70    10\n",
       "71    12\n",
       "72     6\n",
       "73    16\n",
       "74     8\n",
       "75    10\n",
       "76    12\n",
       "77     6\n",
       "78     4\n",
       "79    19\n",
       "80    12\n",
       "81     6\n",
       "82    29\n",
       "84    22\n",
       "85    15\n",
       "Name: PTS, dtype: object"
      ]
     },
     "execution_count": 680,
     "metadata": {},
     "output_type": "execute_result"
    }
   ],
   "source": [
    "Duncan = pd.read_csv('14-15Tim Duncan.csv')[[\"PTS\"]].replace('Did Not Play','-1')\n",
    "Duncan['PTS'] = Duncan['PTS'].map(lambda x: Str2float(x))\n",
    "Duncan = Duncan[ Duncan['PTS'].map(lambda x: type(x) is float)]\n",
    "\n",
    "Duncan['PTS']\n",
    "#Duncan['MP'] = Duncan['MP'].map(lambda x: Str2float(x))\n",
    "#Duncan = Duncan[Duncan['MP'].map(lambda x: type(x) is float)]"
   ]
  },
  {
   "cell_type": "code",
   "execution_count": 560,
   "metadata": {
    "collapsed": false
   },
   "outputs": [],
   "source": [
    "SumGame=np.zeros(10)\n",
    "NumPlayers=0\n",
    "for i in range(len(PlayerList)): \n",
    "    playyears=len(Score_all_GbyP.get_group(PlayerList[i])['G'])\n",
    "    if playyears==10:\n",
    "        Score_all_GbyP=Score_all.groupby(['Player'])\n",
    "        SumGame= SumGame + np.array( Score_all_GbyP.get_group(PlayerList[i])['G'] )\n",
    "        NumPlayers+=1"
   ]
  },
  {
   "cell_type": "code",
   "execution_count": 561,
   "metadata": {
    "collapsed": false,
    "scrolled": true
   },
   "outputs": [
    {
     "data": {
      "text/plain": [
       "[<matplotlib.lines.Line2D at 0x115702250>]"
      ]
     },
     "execution_count": 561,
     "metadata": {},
     "output_type": "execute_result"
    },
    {
     "data": {
      "image/png": "[encoded data removed]",
      "text/plain": [
       "<matplotlib.figure.Figure at 0x115ed1090>"
      ]
     },
     "metadata": {},
     "output_type": "display_data"
    }
   ],
   "source": [
    "plt.plot(SumGame/NumPlayers,'ro')"
   ]
  },
  {
   "cell_type": "code",
   "execution_count": 590,
   "metadata": {
    "collapsed": false
   },
   "outputs": [
    {
     "data": {
      "text/plain": [
       "[<matplotlib.lines.Line2D at 0x11bef4b50>]"
      ]
     },
     "execution_count": 590,
     "metadata": {},
     "output_type": "execute_result"
    },
    {
     "data": {
      "image/png": "[encoded data removed]",
      "text/plain": [
       "<matplotlib.figure.Figure at 0x11659afd0>"
      ]
     },
     "metadata": {},
     "output_type": "display_data"
    }
   ],
   "source": [
    "plt.plot(Score_all['Age'], Score_all['G'],'ro')"
   ]
  },
  {
   "cell_type": "code",
   "execution_count": 481,
   "metadata": {
    "collapsed": true
   },
   "outputs": [],
   "source": [
    "Games=np.zeros(24)\n",
    "for i in range(19,43):\n",
    "    Games[i-19]=Score_all.groupby('Age')['G'].get_group(str(i)).mean()"
   ]
  },
  {
   "cell_type": "code",
   "execution_count": 484,
   "metadata": {
    "collapsed": false
   },
   "outputs": [
    {
     "data": {
      "text/plain": [
       "[<matplotlib.lines.Line2D at 0x10eec0750>]"
      ]
     },
     "execution_count": 484,
     "metadata": {},
     "output_type": "execute_result"
    },
    {
     "data": {
      "image/png": "[encoded data removed]",
      "text/plain": [
       "<matplotlib.figure.Figure at 0x115dd0290>"
      ]
     },
     "metadata": {},
     "output_type": "display_data"
    }
   ],
   "source": [
    "plt.plot(np.arange(19,43),Games,'ro')"
   ]
  },
  {
   "cell_type": "code",
   "execution_count": 428,
   "metadata": {
    "collapsed": false
   },
   "outputs": [
    {
     "ename": "SyntaxError",
     "evalue": "invalid syntax (<ipython-input-428-f63a11ee4745>, line 2)",
     "output_type": "error",
     "traceback": [
      "\u001b[0;36m  File \u001b[0;32m\"<ipython-input-428-f63a11ee4745>\"\u001b[0;36m, line \u001b[0;32m2\u001b[0m\n\u001b[0;31m    Age_Score_12['PTS\\'] = Age_Score_12['PTS'].map(lambda x: Str2float(x))\u001b[0m\n\u001b[0m                                           ^\u001b[0m\n\u001b[0;31mSyntaxError\u001b[0m\u001b[0;31m:\u001b[0m invalid syntax\n"
     ]
    }
   ],
   "source": [
    "Age_Score_12=pd.read_csv('./raw-data/11-12Per100Pos_stats.csv')[[\"Player\", \"Age\", \"PTS\\\\\"]].drop_duplicates('Player')\n",
    "Age_Score_12['PTS\\'] = Age_Score_12['PTS'].map(lambda x: Str2float(x))\n",
    "Age_Score_12 = Age_Score_12[Age_Score_12['PTS'].map(lambda x: type(x) is float)]"
   ]
  },
  {
   "cell_type": "code",
   "execution_count": 414,
   "metadata": {
    "collapsed": false
   },
   "outputs": [
    {
     "ename": "IOError",
     "evalue": "File ./raw-data/12-13Per100Pos_stats.csv does not exist",
     "output_type": "error",
     "traceback": [
      "\u001b[0;31m---------------------------------------------------------------------------\u001b[0m",
      "\u001b[0;31mIOError\u001b[0m                                   Traceback (most recent call last)",
      "\u001b[0;32m<ipython-input-414-3ae288c74112>\u001b[0m in \u001b[0;36m<module>\u001b[0;34m()\u001b[0m\n\u001b[0;32m----> 1\u001b[0;31m \u001b[0mAge_Score_13\u001b[0m\u001b[0;34m=\u001b[0m\u001b[0mpd\u001b[0m\u001b[0;34m.\u001b[0m\u001b[0mread_csv\u001b[0m\u001b[0;34m(\u001b[0m\u001b[0;34m'./raw-data/12-13Per100Pos_stats.csv'\u001b[0m\u001b[0;34m)\u001b[0m\u001b[0;34m[\u001b[0m\u001b[0;34m[\u001b[0m\u001b[0;34m\"Player\"\u001b[0m\u001b[0;34m,\u001b[0m \u001b[0;34m\"Age\"\u001b[0m\u001b[0;34m,\u001b[0m \u001b[0;34m\"PTS\"\u001b[0m\u001b[0;34m]\u001b[0m\u001b[0;34m]\u001b[0m\u001b[0;34m.\u001b[0m\u001b[0mdrop_duplicates\u001b[0m\u001b[0;34m(\u001b[0m\u001b[0;34m'Player'\u001b[0m\u001b[0;34m)\u001b[0m\u001b[0;34m\u001b[0m\u001b[0m\n\u001b[0m\u001b[1;32m      2\u001b[0m \u001b[0mAge_Score_13\u001b[0m\u001b[0;34m[\u001b[0m\u001b[0;34m'PTS'\u001b[0m\u001b[0;34m]\u001b[0m \u001b[0;34m=\u001b[0m \u001b[0mAge_Score_13\u001b[0m\u001b[0;34m[\u001b[0m\u001b[0;34m'PTS'\u001b[0m\u001b[0;34m]\u001b[0m\u001b[0;34m.\u001b[0m\u001b[0mmap\u001b[0m\u001b[0;34m(\u001b[0m\u001b[0;32mlambda\u001b[0m \u001b[0mx\u001b[0m\u001b[0;34m:\u001b[0m \u001b[0mStr2float\u001b[0m\u001b[0;34m(\u001b[0m\u001b[0mx\u001b[0m\u001b[0;34m)\u001b[0m\u001b[0;34m)\u001b[0m\u001b[0;34m\u001b[0m\u001b[0m\n\u001b[1;32m      3\u001b[0m \u001b[0mAge_Score_13\u001b[0m \u001b[0;34m=\u001b[0m \u001b[0mAge_Score_13\u001b[0m\u001b[0;34m[\u001b[0m\u001b[0mAge_Score_13\u001b[0m\u001b[0;34m[\u001b[0m\u001b[0;34m'PTS'\u001b[0m\u001b[0;34m]\u001b[0m\u001b[0;34m.\u001b[0m\u001b[0mmap\u001b[0m\u001b[0;34m(\u001b[0m\u001b[0;32mlambda\u001b[0m \u001b[0mx\u001b[0m\u001b[0;34m:\u001b[0m \u001b[0mtype\u001b[0m\u001b[0;34m(\u001b[0m\u001b[0mx\u001b[0m\u001b[0;34m)\u001b[0m \u001b[0;32mis\u001b[0m \u001b[0mfloat\u001b[0m\u001b[0;34m)\u001b[0m\u001b[0;34m]\u001b[0m\u001b[0;34m\u001b[0m\u001b[0m\n",
      "\u001b[0;32m/Users/hidenori/anaconda/envs/py27/lib/python2.7/site-packages/pandas/io/parsers.pyc\u001b[0m in \u001b[0;36mparser_f\u001b[0;34m(filepath_or_buffer, sep, dialect, compression, doublequote, escapechar, quotechar, quoting, skipinitialspace, lineterminator, header, index_col, names, prefix, skiprows, skipfooter, skip_footer, na_values, true_values, false_values, delimiter, converters, dtype, usecols, engine, delim_whitespace, as_recarray, na_filter, compact_ints, use_unsigned, low_memory, buffer_lines, warn_bad_lines, error_bad_lines, keep_default_na, thousands, comment, decimal, parse_dates, keep_date_col, dayfirst, date_parser, memory_map, float_precision, nrows, iterator, chunksize, verbose, encoding, squeeze, mangle_dupe_cols, tupleize_cols, infer_datetime_format, skip_blank_lines)\u001b[0m\n\u001b[1;32m    496\u001b[0m                     skip_blank_lines=skip_blank_lines)\n\u001b[1;32m    497\u001b[0m \u001b[0;34m\u001b[0m\u001b[0m\n\u001b[0;32m--> 498\u001b[0;31m         \u001b[0;32mreturn\u001b[0m \u001b[0m_read\u001b[0m\u001b[0;34m(\u001b[0m\u001b[0mfilepath_or_buffer\u001b[0m\u001b[0;34m,\u001b[0m \u001b[0mkwds\u001b[0m\u001b[0;34m)\u001b[0m\u001b[0;34m\u001b[0m\u001b[0m\n\u001b[0m\u001b[1;32m    499\u001b[0m \u001b[0;34m\u001b[0m\u001b[0m\n\u001b[1;32m    500\u001b[0m     \u001b[0mparser_f\u001b[0m\u001b[0;34m.\u001b[0m\u001b[0m__name__\u001b[0m \u001b[0;34m=\u001b[0m \u001b[0mname\u001b[0m\u001b[0;34m\u001b[0m\u001b[0m\n",
      "\u001b[0;32m/Users/hidenori/anaconda/envs/py27/lib/python2.7/site-packages/pandas/io/parsers.pyc\u001b[0m in \u001b[0;36m_read\u001b[0;34m(filepath_or_buffer, kwds)\u001b[0m\n\u001b[1;32m    273\u001b[0m \u001b[0;34m\u001b[0m\u001b[0m\n\u001b[1;32m    274\u001b[0m     \u001b[0;31m# Create the parser.\u001b[0m\u001b[0;34m\u001b[0m\u001b[0;34m\u001b[0m\u001b[0m\n\u001b[0;32m--> 275\u001b[0;31m     \u001b[0mparser\u001b[0m \u001b[0;34m=\u001b[0m \u001b[0mTextFileReader\u001b[0m\u001b[0;34m(\u001b[0m\u001b[0mfilepath_or_buffer\u001b[0m\u001b[0;34m,\u001b[0m \u001b[0;34m**\u001b[0m\u001b[0mkwds\u001b[0m\u001b[0;34m)\u001b[0m\u001b[0;34m\u001b[0m\u001b[0m\n\u001b[0m\u001b[1;32m    276\u001b[0m \u001b[0;34m\u001b[0m\u001b[0m\n\u001b[1;32m    277\u001b[0m     \u001b[0;32mif\u001b[0m \u001b[0;34m(\u001b[0m\u001b[0mnrows\u001b[0m \u001b[0;32mis\u001b[0m \u001b[0;32mnot\u001b[0m \u001b[0mNone\u001b[0m\u001b[0;34m)\u001b[0m \u001b[0;32mand\u001b[0m \u001b[0;34m(\u001b[0m\u001b[0mchunksize\u001b[0m \u001b[0;32mis\u001b[0m \u001b[0;32mnot\u001b[0m \u001b[0mNone\u001b[0m\u001b[0;34m)\u001b[0m\u001b[0;34m:\u001b[0m\u001b[0;34m\u001b[0m\u001b[0m\n",
      "\u001b[0;32m/Users/hidenori/anaconda/envs/py27/lib/python2.7/site-packages/pandas/io/parsers.pyc\u001b[0m in \u001b[0;36m__init__\u001b[0;34m(self, f, engine, **kwds)\u001b[0m\n\u001b[1;32m    588\u001b[0m             \u001b[0mself\u001b[0m\u001b[0;34m.\u001b[0m\u001b[0moptions\u001b[0m\u001b[0;34m[\u001b[0m\u001b[0;34m'has_index_names'\u001b[0m\u001b[0;34m]\u001b[0m \u001b[0;34m=\u001b[0m \u001b[0mkwds\u001b[0m\u001b[0;34m[\u001b[0m\u001b[0;34m'has_index_names'\u001b[0m\u001b[0;34m]\u001b[0m\u001b[0;34m\u001b[0m\u001b[0m\n\u001b[1;32m    589\u001b[0m \u001b[0;34m\u001b[0m\u001b[0m\n\u001b[0;32m--> 590\u001b[0;31m         \u001b[0mself\u001b[0m\u001b[0;34m.\u001b[0m\u001b[0m_make_engine\u001b[0m\u001b[0;34m(\u001b[0m\u001b[0mself\u001b[0m\u001b[0;34m.\u001b[0m\u001b[0mengine\u001b[0m\u001b[0;34m)\u001b[0m\u001b[0;34m\u001b[0m\u001b[0m\n\u001b[0m\u001b[1;32m    591\u001b[0m \u001b[0;34m\u001b[0m\u001b[0m\n\u001b[1;32m    592\u001b[0m     \u001b[0;32mdef\u001b[0m \u001b[0m_get_options_with_defaults\u001b[0m\u001b[0;34m(\u001b[0m\u001b[0mself\u001b[0m\u001b[0;34m,\u001b[0m \u001b[0mengine\u001b[0m\u001b[0;34m)\u001b[0m\u001b[0;34m:\u001b[0m\u001b[0;34m\u001b[0m\u001b[0m\n",
      "\u001b[0;32m/Users/hidenori/anaconda/envs/py27/lib/python2.7/site-packages/pandas/io/parsers.pyc\u001b[0m in \u001b[0;36m_make_engine\u001b[0;34m(self, engine)\u001b[0m\n\u001b[1;32m    729\u001b[0m     \u001b[0;32mdef\u001b[0m \u001b[0m_make_engine\u001b[0m\u001b[0;34m(\u001b[0m\u001b[0mself\u001b[0m\u001b[0;34m,\u001b[0m \u001b[0mengine\u001b[0m\u001b[0;34m=\u001b[0m\u001b[0;34m'c'\u001b[0m\u001b[0;34m)\u001b[0m\u001b[0;34m:\u001b[0m\u001b[0;34m\u001b[0m\u001b[0m\n\u001b[1;32m    730\u001b[0m         \u001b[0;32mif\u001b[0m \u001b[0mengine\u001b[0m \u001b[0;34m==\u001b[0m \u001b[0;34m'c'\u001b[0m\u001b[0;34m:\u001b[0m\u001b[0;34m\u001b[0m\u001b[0m\n\u001b[0;32m--> 731\u001b[0;31m             \u001b[0mself\u001b[0m\u001b[0;34m.\u001b[0m\u001b[0m_engine\u001b[0m \u001b[0;34m=\u001b[0m \u001b[0mCParserWrapper\u001b[0m\u001b[0;34m(\u001b[0m\u001b[0mself\u001b[0m\u001b[0;34m.\u001b[0m\u001b[0mf\u001b[0m\u001b[0;34m,\u001b[0m \u001b[0;34m**\u001b[0m\u001b[0mself\u001b[0m\u001b[0;34m.\u001b[0m\u001b[0moptions\u001b[0m\u001b[0;34m)\u001b[0m\u001b[0;34m\u001b[0m\u001b[0m\n\u001b[0m\u001b[1;32m    732\u001b[0m         \u001b[0;32melse\u001b[0m\u001b[0;34m:\u001b[0m\u001b[0;34m\u001b[0m\u001b[0m\n\u001b[1;32m    733\u001b[0m             \u001b[0;32mif\u001b[0m \u001b[0mengine\u001b[0m \u001b[0;34m==\u001b[0m \u001b[0;34m'python'\u001b[0m\u001b[0;34m:\u001b[0m\u001b[0;34m\u001b[0m\u001b[0m\n",
      "\u001b[0;32m/Users/hidenori/anaconda/envs/py27/lib/python2.7/site-packages/pandas/io/parsers.pyc\u001b[0m in \u001b[0;36m__init__\u001b[0;34m(self, src, **kwds)\u001b[0m\n\u001b[1;32m   1101\u001b[0m         \u001b[0mkwds\u001b[0m\u001b[0;34m[\u001b[0m\u001b[0;34m'allow_leading_cols'\u001b[0m\u001b[0;34m]\u001b[0m \u001b[0;34m=\u001b[0m \u001b[0mself\u001b[0m\u001b[0;34m.\u001b[0m\u001b[0mindex_col\u001b[0m \u001b[0;32mis\u001b[0m \u001b[0;32mnot\u001b[0m \u001b[0mFalse\u001b[0m\u001b[0;34m\u001b[0m\u001b[0m\n\u001b[1;32m   1102\u001b[0m \u001b[0;34m\u001b[0m\u001b[0m\n\u001b[0;32m-> 1103\u001b[0;31m         \u001b[0mself\u001b[0m\u001b[0;34m.\u001b[0m\u001b[0m_reader\u001b[0m \u001b[0;34m=\u001b[0m \u001b[0m_parser\u001b[0m\u001b[0;34m.\u001b[0m\u001b[0mTextReader\u001b[0m\u001b[0;34m(\u001b[0m\u001b[0msrc\u001b[0m\u001b[0;34m,\u001b[0m \u001b[0;34m**\u001b[0m\u001b[0mkwds\u001b[0m\u001b[0;34m)\u001b[0m\u001b[0;34m\u001b[0m\u001b[0m\n\u001b[0m\u001b[1;32m   1104\u001b[0m \u001b[0;34m\u001b[0m\u001b[0m\n\u001b[1;32m   1105\u001b[0m         \u001b[0;31m# XXX\u001b[0m\u001b[0;34m\u001b[0m\u001b[0;34m\u001b[0m\u001b[0m\n",
      "\u001b[0;32mpandas/parser.pyx\u001b[0m in \u001b[0;36mpandas.parser.TextReader.__cinit__ (pandas/parser.c:3246)\u001b[0;34m()\u001b[0m\n",
      "\u001b[0;32mpandas/parser.pyx\u001b[0m in \u001b[0;36mpandas.parser.TextReader._setup_parser_source (pandas/parser.c:6111)\u001b[0;34m()\u001b[0m\n",
      "\u001b[0;31mIOError\u001b[0m: File ./raw-data/12-13Per100Pos_stats.csv does not exist"
     ]
    }
   ],
   "source": [
    "Age_Score_13=pd.read_csv('./raw-data/12-13Per100Pos_stats.csv')[[\"Player\", \"Age\", \"PTS\"]].drop_duplicates('Player')\n",
    "Age_Score_13['PTS'] = Age_Score_13['PTS'].map(lambda x: Str2float(x))\n",
    "Age_Score_13 = Age_Score_13[Age_Score_13['PTS'].map(lambda x: type(x) is float)]"
   ]
  },
  {
   "cell_type": "code",
   "execution_count": 413,
   "metadata": {
    "collapsed": false
   },
   "outputs": [],
   "source": [
    "Age_Score_14=pd.read_csv('./raw-data/13-14Per100Pos_stats.csv')[[\"Player\", \"Age\", \"PTS\"]].drop_duplicates('Player')\n",
    "Age_Score_14['PTS'] = Age_Score_14['PTS'].map(lambda x: Str2float(x))\n",
    "Age_Score_14 = Age_Score_14[Age_Score_14['PTS'].map(lambda x: type(x) is float)]"
   ]
  },
  {
   "cell_type": "code",
   "execution_count": 411,
   "metadata": {
    "collapsed": false
   },
   "outputs": [],
   "source": [
    "Age_Score_15=pd.read_csv('./raw-data/14-15Per100Pos_stats.csv')[[\"Player\", \"Age\", \"PTS\"]].drop_duplicates('Player')\n",
    "Age_Score_15['PTS'] = Age_Score_15['PTS'].map(lambda x: Str2float(x))\n",
    "Age_Score_15 = Age_Score_15[Age_Score_15['PTS'].map(lambda x: type(x) is float)]"
   ]
  },
  {
   "cell_type": "code",
   "execution_count": 412,
   "metadata": {
    "collapsed": false
   },
   "outputs": [],
   "source": [
    "Age_Score_16=pd.read_csv('./raw-data/15-16Per100Pos_stats.csv')[[\"Player\", \"Age\", \"PTS\"]].drop_duplicates('Player')\n",
    "Age_Score_16['PTS'] = Age_Score_16['PTS'].map(lambda x: Str2float(x))\n",
    "Age_Score_16 = Age_Score_16[Age_Score_16['PTS'].map(lambda x: type(x) is float)]"
   ]
  },
  {
   "cell_type": "code",
   "execution_count": 405,
   "metadata": {
    "collapsed": true
   },
   "outputs": [],
   "source": [
    "Score_all=pd.concat([Age_Score_13, Age_Score_14, Age_Score_15])"
   ]
  },
  {
   "cell_type": "markdown",
   "metadata": {},
   "source": [
    "# Time series data analysis"
   ]
  },
  {
   "cell_type": "markdown",
   "metadata": {
    "collapsed": false
   },
   "source": [
    "# Model player's condition with 1st and 2nd order Markov Model\n",
    "Once we chose players who should be in a team, we have to chose players who will be on the game today. Our player selection to construct a team has benn based on \"Long term achievement\" learnt from past years and haven't reflected current player's recent condition. \n",
    "\n",
    "Here we first learn each player's scoring pattern from past data using first order Markov Model. Some players score well in theree games in a row and will be in bad condition for three games after. Other players may score well every other game.\n",
    "\n",
    "This is the simplest way of estimating how much does the player score in next game, based on a result of last game.\n",
    "\n",
    "\n"
   ]
  },
  {
   "cell_type": "code",
   "execution_count": 527,
   "metadata": {
    "collapsed": false
   },
   "outputs": [
    {
     "name": "stdout",
     "output_type": "stream",
     "text": [
      "1560\n"
     ]
    },
    {
     "data": {
      "text/plain": [
       "<matplotlib.text.Text at 0x11d4b2d10>"
      ]
     },
     "execution_count": 527,
     "metadata": {},
     "output_type": "execute_result"
    },
    {
     "data": {
      "image/png": "[encoded data removed]",
      "text/plain": [
       "<matplotlib.figure.Figure at 0x11d0c1950>"
      ]
     },
     "metadata": {},
     "output_type": "display_data"
    }
   ],
   "source": [
    "# First import Kareem's \"Points per game\" data from 1969-1989 \n",
    "Scores        = pd.read_csv('./raw-data/Kareem_All_GameLog.csv')[[\"PTS\"]].replace('Did Not Play','0')\n",
    "Scores['PTS'] = Scores['PTS'].map(lambda x: Str2float(x))\n",
    "Scores        = Scores[ Scores['PTS'].map(lambda x: type(x) is float)]\n",
    "# Total length of the data set\n",
    "print len( Scores )\n",
    "# Plot time series of scores\n",
    "plt.plot(Scores,lw=0.3)\n",
    "plt.xlabel('Number of game')\n",
    "plt.ylabel('Points scored in a game')"
   ]
  },
  {
   "cell_type": "markdown",
   "metadata": {},
   "source": [
    "# 1st order Markov Model\n",
    "To begin with, let's start with 1st order Markov Model, in which we estimate the result of this game only based on the last game.\n",
    "\n",
    "### Pros\n",
    "The good thing about this first order Markov Model is that, we can create reasonable transition matrix with small data sets. Each NBA player plays in 82 games at most and for example if we use 2 years of data which is around 160, and classify player's conditoin with 5 levels, total elements of transitoin matrix becomes 25. Given 160 data, 25 matrix is already at the border to have reliability. If we want to go higher order, we have to construct bigger matrix and in which case we don't have enough data."
   ]
  },
  {
   "cell_type": "code",
   "execution_count": 528,
   "metadata": {
    "collapsed": false
   },
   "outputs": [
    {
     "name": "stdout",
     "output_type": "stream",
     "text": [
      "Mean of score is  24.6102564103\n",
      "Standard deviation of score is  8.74617263903\n"
     ]
    }
   ],
   "source": [
    "# Change Scores into numpy array\n",
    "Scores = np.array(Scores['PTS']).astype(float)\n",
    "# States\n",
    "States = np.zeros( len(Scores) )\n",
    "\n",
    "# Mean of scores\n",
    "MeanScore = np.mean(Scores)\n",
    "# Variance of scores\n",
    "StdScore  = np.std(Scores)\n",
    "\n",
    "print 'Mean of score is ',     MeanScore\n",
    "print 'Standard deviation of score is ', StdScore"
   ]
  },
  {
   "cell_type": "code",
   "execution_count": 529,
   "metadata": {
    "collapsed": false
   },
   "outputs": [
    {
     "name": "stdout",
     "output_type": "stream",
     "text": [
      "33.3564290493 24.6102564103 15.8640837712\n"
     ]
    }
   ],
   "source": [
    "PlusVar = MeanScore + StdScore \n",
    "MinusVar= MeanScore - StdScore\n",
    "\n",
    "print PlusVar, MeanScore, MinusVar"
   ]
  },
  {
   "cell_type": "code",
   "execution_count": 545,
   "metadata": {
    "collapsed": false
   },
   "outputs": [
    {
     "name": "stdout",
     "output_type": "stream",
     "text": [
      "[[   0.    0.    1.    0.    0.]\n",
      " [   0.    7.   10.   14.    6.]\n",
      " [   0.   15.   87.  108.   41.]\n",
      " [   1.   14.  104.  182.   95.]\n",
      " [   0.    1.   49.   92.   72.]]\n"
     ]
    },
    {
     "name": "stderr",
     "output_type": "stream",
     "text": [
      "/Users/hidenori/anaconda/envs/py27/lib/python2.7/site-packages/ipykernel/__main__.py:26: DeprecationWarning: using a non-integer number instead of an integer will result in an error in the future\n"
     ]
    }
   ],
   "source": [
    "for i in range( len(States) ):\n",
    "    # if a player score more than \"average + Var/2\", the player is in the best condition\n",
    "    if PlusVar    <= Scores[i]:\n",
    "        States[i] = 4\n",
    "    \n",
    "    # if a player score more than \"average\" but less than \"average + Var/2\", the player is in the good condition\n",
    "    elif MeanScore<= Scores[i] < PlusVar:\n",
    "        States[i] = 3\n",
    "    \n",
    "    # if a player score less than \"average\" but more than \"average - Var/2\", the player is in the worse condition\n",
    "    elif MinusVar <= Scores[i] < MeanScore: \n",
    "        States[i] = 2\n",
    "\n",
    "    # if a player score less than \"average - Var/2\", \n",
    "    elif 0 < Scores[i] < MinusVar:\n",
    "        States[i] = 1\n",
    "    elif Scores[i]     == 0:\n",
    "        States[i] = 0\n",
    "    \n",
    "States_train = States[:900]\n",
    "States_test  = States[900:1000]\n",
    "    \n",
    "Tmatrix1 = np.zeros([5,5])\n",
    "\n",
    "for i in range(0,len(States_train)-1):\n",
    "    Tmatrix1[ States_train[i] ][ States_train[i+1] ] += 1\n",
    "print Tmatrix1"
   ]
  },
  {
   "cell_type": "code",
   "execution_count": 546,
   "metadata": {
    "collapsed": false
   },
   "outputs": [
    {
     "name": "stdout",
     "output_type": "stream",
     "text": [
      "0.40404040404\n"
     ]
    }
   ],
   "source": [
    "Correct = 0\n",
    "Wrong   = 0\n",
    "\n",
    "for i in range(0,len(States_test)-1):\n",
    "    if np.argmax( Tmatrix[ int( States_test[i] ) ] ) == States_test[i+1]:\n",
    "        Correct +=1\n",
    "    else:\n",
    "        Wrong += 1\n",
    "print float( Correct )/(Correct+Wrong)"
   ]
  },
  {
   "cell_type": "code",
   "execution_count": 367,
   "metadata": {
    "collapsed": false
   },
   "outputs": [
    {
     "name": "stdout",
     "output_type": "stream",
     "text": [
      "[[  0.   2.   2.   2.   5.]\n",
      " [  1.  22.  15.  12.  23.]\n",
      " [  1.  16.  12.  12.  15.]\n",
      " [  3.  20.  14.  21.  11.]\n",
      " [  6.  12.  13.  23.  25.]]\n"
     ]
    },
    {
     "name": "stderr",
     "output_type": "stream",
     "text": [
      "/Users/hidenori/anaconda/envs/py27/lib/python2.7/site-packages/ipykernel/__main__.py:39: DeprecationWarning: using a non-integer number instead of an integer will result in an error in the future\n"
     ]
    }
   ],
   "source": [
    "# First import a player's \"Points per game\" data from past years to learn player's scoreing pattern\n",
    "PlayerState12 = pd.read_csv('./raw-data/11-12Tim Duncan.csv')[[\"PTS\"]].replace('Did Not Play','0')\n",
    "PlayerState13 = pd.read_csv('./raw-data/12-13Tim Duncan.csv')[[\"PTS\"]].replace('Did Not Play','0')\n",
    "PlayerState14 = pd.read_csv('./raw-data/13-14Tim Duncan.csv')[[\"PTS\"]].replace('Did Not Play','0')\n",
    "PlayerState15 = pd.read_csv('./raw-data/14-15Tim Duncan.csv')[[\"PTS\"]].replace('Did Not Play','0')\n",
    "PlayerState   = pd.concat([PlayerState12, PlayerState13 ,PlayerState14 ,PlayerState15 ])\n",
    "PlayerState['PTS'] = PlayerState['PTS'].map(lambda x: Str2float(x))\n",
    "PlayerState   = PlayerState[ PlayerState['PTS'].map(lambda x: type(x) is float)]\n",
    "\n"
   ]
  },
  {
   "cell_type": "code",
   "execution_count": 948,
   "metadata": {
    "collapsed": false
   },
   "outputs": [
    {
     "name": "stdout",
     "output_type": "stream",
     "text": [
      "0.131147540984\n"
     ]
    }
   ],
   "source": [
    "Correct = 0\n",
    "Wrong   = 0\n",
    "\n",
    "for i in range(0,len(PlayerState16)-1):\n",
    "    if np.argmax( Tmatrix[ int( PlayerState16[i] ) ] ) == PlayerState16[i+1]:\n",
    "        Correct +=1\n",
    "    else:\n",
    "        Wrong += 1\n",
    "print float( Correct )/(Correct+Wrong)"
   ]
  },
  {
   "cell_type": "markdown",
   "metadata": {},
   "source": [
    "# Let's interpret the transition matrix of the great basket ball player Tim Duncan.\n",
    "\n",
    "### If Tim didn't play in last game\n",
    "Tim is supposed to play well because the most likely condition is \"better\" or \"best\""
   ]
  },
  {
   "cell_type": "code",
   "execution_count": 807,
   "metadata": {
    "collapsed": false
   },
   "outputs": [
    {
     "data": {
      "text/plain": [
       "array([ 0.   ,  0.125,  0.125,  0.375,  0.375])"
      ]
     },
     "execution_count": 807,
     "metadata": {},
     "output_type": "execute_result"
    }
   ],
   "source": [
    "Tmatrix[0]"
   ]
  },
  {
   "cell_type": "markdown",
   "metadata": {},
   "source": [
    "### If Tim played poorly in the last game\n",
    "using Tim in next game is like a gamble, since his condition most likely will be \"worst\" or \"best\"."
   ]
  },
  {
   "cell_type": "markdown",
   "metadata": {},
   "source": [
    "# 2nd order Markov Model\n",
    "To find longer term correlatoin, we use 2nd order Markov Model which has $25 \\times 25$ transition matrix. "
   ]
  },
  {
   "cell_type": "code",
   "execution_count": 346,
   "metadata": {
    "collapsed": false
   },
   "outputs": [
    {
     "data": {
      "text/plain": [
       "1560"
      ]
     },
     "execution_count": 346,
     "metadata": {},
     "output_type": "execute_result"
    }
   ],
   "source": [
    "len(Kareem)"
   ]
  },
  {
   "cell_type": "code",
   "execution_count": 363,
   "metadata": {
    "collapsed": false
   },
   "outputs": [
    {
     "name": "stdout",
     "output_type": "stream",
     "text": [
      "[[  0.   0.   0.   0.   0.   0.   0.   0.   0.   0.   0.   0.   0.   0.\n",
      "    0.   0.   0.   0.   0.   0.   0.   0.   0.   0.   0.]\n",
      " [  0.   0.   0.   0.   0.   0.   0.   1.   0.   0.   0.   0.   0.   0.\n",
      "    0.   0.   0.   0.   0.   0.   0.   0.   0.   0.   0.]\n",
      " [  0.   0.   0.   0.   0.   0.   0.   0.   0.   0.   0.   0.   0.   0.\n",
      "    0.   0.   0.   0.   0.   0.   0.   0.   0.   0.   0.]\n",
      " [  0.   0.   0.   0.   0.   0.   0.   0.   0.   0.   0.   0.   0.   0.\n",
      "    0.   0.   0.   0.   0.   0.   0.   0.   0.   0.   0.]\n",
      " [  0.   0.   0.   0.   0.   0.   0.   0.   0.   0.   0.   0.   0.   0.\n",
      "    0.   0.   0.   0.   0.   0.   0.   0.   0.   0.   0.]\n",
      " [  0.   0.   0.   0.   0.   0.   0.   0.   0.   0.   0.   0.   0.   0.\n",
      "    0.   0.   0.   0.   0.   0.   0.   0.   0.   0.   0.]\n",
      " [  0.   0.   0.   0.   0.   0.  54.  20.  24.  21.   0.   0.   0.   0.\n",
      "    0.   0.   0.   0.   0.   0.   0.   0.   0.   0.   0.]\n",
      " [  0.   0.   0.   0.   0.   0.   0.   0.   0.   0.   0.  20.  19.   9.\n",
      "   14.   0.   0.   0.   0.   0.   0.   0.   0.   0.   0.]\n",
      " [  0.   0.   0.   0.   0.   0.   0.   0.   0.   0.   0.   0.   0.   0.\n",
      "    0.   1.  21.  11.   9.  10.   0.   0.   0.   0.   0.]\n",
      " [  0.   0.   0.   0.   0.   0.   0.   0.   0.   0.   0.   0.   0.   0.\n",
      "    0.   0.   0.   0.   0.   0.   0.  12.  12.  12.  19.]\n",
      " [  0.   0.   0.   0.   0.   0.   0.   0.   0.   0.   0.   0.   0.   0.\n",
      "    0.   0.   0.   0.   0.   0.   0.   0.   0.   0.   0.]\n",
      " [  0.   0.   0.   0.   0.   0.  31.  13.  14.   5.   0.   0.   0.   0.\n",
      "    0.   0.   0.   0.   0.   0.   0.   0.   0.   0.   0.]\n",
      " [  0.   0.   0.   0.   0.   0.   0.   0.   0.   0.   0.  22.  18.   8.\n",
      "    8.   0.   0.   0.   0.   0.   0.   0.   0.   0.   0.]\n",
      " [  0.   0.   0.   0.   0.   0.   0.   0.   0.   0.   0.   0.   0.   0.\n",
      "    0.   0.  10.   8.   5.  12.   0.   0.   0.   0.   0.]\n",
      " [  0.   0.   0.   0.   0.   0.   0.   0.   0.   0.   0.   0.   0.   0.\n",
      "    0.   0.   0.   0.   0.   0.   0.  16.  13.   9.  16.]\n",
      " [  0.   1.   0.   0.   0.   0.   0.   0.   0.   0.   0.   0.   0.   0.\n",
      "    0.   0.   0.   0.   0.   0.   0.   0.   0.   0.   0.]\n",
      " [  0.   0.   0.   0.   0.   0.  14.  13.   8.  13.   0.   0.   0.   0.\n",
      "    0.   0.   0.   0.   0.   0.   0.   0.   0.   0.   0.]\n",
      " [  0.   0.   0.   0.   0.   0.   0.   0.   0.   0.   0.   7.   9.   7.\n",
      "   12.   0.   0.   0.   0.   0.   0.   0.   0.   0.   0.]\n",
      " [  0.   0.   0.   0.   0.   0.   0.   0.   0.   0.   0.   0.   0.   0.\n",
      "    0.   0.   7.   8.   6.   7.   0.   0.   0.   0.   0.]\n",
      " [  0.   0.   0.   0.   0.   0.   0.   0.   0.   0.   0.   0.   0.   0.\n",
      "    0.   0.   0.   0.   0.   0.   0.  12.   6.   7.  19.]\n",
      " [  0.   0.   0.   0.   0.   0.   0.   0.   0.   0.   0.   0.   0.   0.\n",
      "    0.   0.   0.   0.   0.   0.   0.   0.   0.   0.   0.]\n",
      " [  0.   0.   0.   0.   0.   0.  20.  15.   6.  16.   0.   0.   0.   0.\n",
      "    0.   0.   0.   0.   0.   0.   0.   0.   0.   0.   0.]\n",
      " [  0.   0.   0.   0.   0.   0.   0.   0.   0.   0.   0.  14.  10.  10.\n",
      "   20.   0.   0.   0.   0.   0.   0.   0.   0.   0.   0.]\n",
      " [  0.   0.   0.   0.   0.   0.   0.   0.   0.   0.   0.   0.   0.   0.\n",
      "    0.   0.  10.   9.   8.  15.   0.   0.   0.   0.   0.]\n",
      " [  0.   0.   0.   0.   0.   0.   0.   0.   0.   0.   0.   0.   0.   0.\n",
      "    0.   0.   0.   0.   0.   0.   0.  17.  23.  14.  39.]]\n"
     ]
    },
    {
     "name": "stderr",
     "output_type": "stream",
     "text": [
      "/Users/hidenori/anaconda/envs/py27/lib/python2.7/site-packages/ipykernel/__main__.py:59: DeprecationWarning: using a non-integer number instead of an integer will result in an error in the future\n"
     ]
    }
   ],
   "source": [
    "# First import a player's \"Points per game\" data from past years to learn player's scoreing pattern\n",
    "PlayerState12 = pd.read_csv('./raw-data/11-12Tim Duncan.csv')[[\"PTS\"]].replace('Did Not Play','0')\n",
    "PlayerState13 = pd.read_csv('./raw-data/12-13Tim Duncan.csv')[[\"PTS\"]].replace('Did Not Play','0')\n",
    "PlayerState14 = pd.read_csv('./raw-data/13-14Tim Duncan.csv')[[\"PTS\"]].replace('Did Not Play','0')\n",
    "PlayerState15 = pd.read_csv('./raw-data/14-15Tim Duncan.csv')[[\"PTS\"]].replace('Did Not Play','0')\n",
    "PlayerState   = pd.concat([PlayerState12, PlayerState13 ,PlayerState14 ,PlayerState15])\n",
    "PlayerState['PTS'] = PlayerState['PTS'].map(lambda x: Str2float(x))\n",
    "PlayerState   = PlayerState[ PlayerState['PTS'].map(lambda x: type(x) is float)]\n",
    "\n",
    "\n",
    "\n",
    "\n",
    "\n",
    "\n",
    "\n",
    "\n",
    "\n",
    "# First import Kareem's \"Points per game\" data from 1969-1989 \n",
    "Kareem        = pd.read_csv('./raw-data/Kareem_All_GameLog.csv')[[\"PTS\"]].replace('Did Not Play','0')\n",
    "Kareem['PTS'] = Kareem['PTS'].map(lambda x: Str2float(x))\n",
    "Kareem        = Kareem[ Kareem['PTS'].map(lambda x: type(x) is float)]\n",
    "PlayerState = Kareem[:900]\n",
    "\n",
    "\n",
    "\n",
    "\n",
    "\n",
    "\n",
    "\n",
    "# Then calculate average score by the player per game\n",
    "Mean     = np.mean( PlayerState['PTS'] )\n",
    "\n",
    "# To classify how well player do or did in a game, we calculate variance\n",
    "PlusVar     = np.mean( PlayerState['PTS'] )+np.sqrt(np.var( PlayerState['PTS'] ))/2\n",
    "MinusVar    = np.mean( PlayerState['PTS'] )-np.sqrt(np.var( PlayerState['PTS'] ))/2\n",
    "PlayerState = np.array(PlayerState['PTS']).astype(float)\n",
    "\n",
    "for i in range( len(PlayerState) ):\n",
    "    # if a player score more than \"average + Var/2\", the player is in the best condition\n",
    "    if PlusVar    <= PlayerState[i]:\n",
    "        PlayerState[i] = 4\n",
    "    \n",
    "    # if a player score more than \"average\" but less than \"average + Var/2\", the player is in the good condition\n",
    "    elif Mean     <= PlayerState[i] < PlusVar:\n",
    "        PlayerState[i] = 3\n",
    "    \n",
    "    # if a player score less than \"average\" but more than \"average - Var/2\", the player is in the worse condition\n",
    "    elif MinusVar <= PlayerState[i] < Mean: \n",
    "        PlayerState[i] = 2\n",
    "\n",
    "    # if a player score less than \"average - Var/2\", \n",
    "    elif 0 < PlayerState[i] < MinusVar:\n",
    "        PlayerState[i] = 1\n",
    "    elif PlayerState[i]     == 0:\n",
    "        PlayerState[i] = 0\n",
    "    \n",
    "Tmatrix2=np.zeros([25,25])\n",
    "for i in range(len(PlayerState)-1):\n",
    "    Tmatrix2[ 5*PlayerState[i-1] + PlayerState[i] ][ 5*PlayerState[i] + PlayerState[i+1] ] +=1\n",
    "# normalize\n",
    "for i in range(25):\n",
    "    if Tmatrix2[i].sum() != 0:\n",
    "        Tmatrix2[i]=Tmatrix2[i]#/Tmatrix[i].sum()\n",
    "print Tmatrix2"
   ]
  },
  {
   "cell_type": "code",
   "execution_count": 364,
   "metadata": {
    "collapsed": false
   },
   "outputs": [],
   "source": [
    "# First import a player's \"Points per game\" data from past years to learn player's scoreing pattern\n",
    "PlayerState16 = pd.read_csv('./raw-data/15-16Tim Duncan.csv')[[\"PTS\"]].replace('Did Not Play','0')\n",
    "PlayerState16['PTS'] = PlayerState16['PTS'].map(lambda x: Str2float(x))\n",
    "PlayerState16   = PlayerState16[ PlayerState16['PTS'].map(lambda x: type(x) is float)]\n",
    "\n",
    "PlayerState16 = Kareem[900:1100]\n",
    "\n",
    "PlayerState16 = np.array( PlayerState16 )\n",
    "\n",
    "for i in range( len(PlayerState16) ):\n",
    "    # if a player score more than \"average + Var/2\", the player is in the best condition\n",
    "    if PlusVar    <= PlayerState16[i]:\n",
    "        PlayerState16[i] = 4\n",
    "    \n",
    "    # if a player score more than \"average\" but less than \"average + Var/2\", the player is in the good condition\n",
    "    elif Mean     <= PlayerState16[i] < PlusVar:\n",
    "        PlayerState16[i] = 3\n",
    "    \n",
    "    # if a player score less than \"average\" but more than \"average - Var/2\", the player is in the worse condition\n",
    "    elif MinusVar <= PlayerState16[i] < Mean: \n",
    "        PlayerState16[i] = 2\n",
    "\n",
    "    # if a player score less than \"average - Var/2\", \n",
    "    elif 0 < PlayerState16[i] < MinusVar:\n",
    "        PlayerState16[i] = 1\n",
    "    elif PlayerState16[i]     == 0:\n",
    "        PlayerState16[i] = 0"
   ]
  },
  {
   "cell_type": "code",
   "execution_count": 365,
   "metadata": {
    "collapsed": false
   },
   "outputs": [
    {
     "name": "stdout",
     "output_type": "stream",
     "text": [
      "The probability of giving a right answer is  0.474747474747\n"
     ]
    }
   ],
   "source": [
    "Correct = 0\n",
    "Wrong   = 0\n",
    "\n",
    "for i in range(1,len(PlayerState16)-1):\n",
    "    if np.mod( np.argmax( Tmatrix2[ int( PlayerState16[i-1]*5+PlayerState16[i] ) ] ), 5) == PlayerState16[i+1]:\n",
    "        Correct +=1\n",
    "    else:\n",
    "        Wrong += 1\n",
    "print \"The probability of giving a right answer is \" ,float( Correct )/(Correct+Wrong)"
   ]
  },
  {
   "cell_type": "code",
   "execution_count": 366,
   "metadata": {
    "collapsed": false
   },
   "outputs": [
    {
     "data": {
      "text/plain": [
       "array([[3],\n",
       "       [3],\n",
       "       [1],\n",
       "       [2],\n",
       "       [1],\n",
       "       [2],\n",
       "       [4],\n",
       "       [3],\n",
       "       [2],\n",
       "       [1],\n",
       "       [3],\n",
       "       [3],\n",
       "       [4],\n",
       "       [2],\n",
       "       [4],\n",
       "       [3],\n",
       "       [1],\n",
       "       [3],\n",
       "       [2],\n",
       "       [2],\n",
       "       [1],\n",
       "       [2],\n",
       "       [4],\n",
       "       [2],\n",
       "       [2],\n",
       "       [2],\n",
       "       [2],\n",
       "       [2],\n",
       "       [4],\n",
       "       [3],\n",
       "       [3],\n",
       "       [1],\n",
       "       [1],\n",
       "       [1],\n",
       "       [1],\n",
       "       [4],\n",
       "       [4],\n",
       "       [1],\n",
       "       [2],\n",
       "       [1],\n",
       "       [3],\n",
       "       [1],\n",
       "       [3],\n",
       "       [1],\n",
       "       [1],\n",
       "       [2],\n",
       "       [3],\n",
       "       [4],\n",
       "       [2],\n",
       "       [1],\n",
       "       [3],\n",
       "       [1],\n",
       "       [1],\n",
       "       [3],\n",
       "       [1],\n",
       "       [1],\n",
       "       [1],\n",
       "       [3],\n",
       "       [4],\n",
       "       [2],\n",
       "       [2],\n",
       "       [1],\n",
       "       [3],\n",
       "       [1],\n",
       "       [1],\n",
       "       [3],\n",
       "       [1],\n",
       "       [1],\n",
       "       [1],\n",
       "       [1],\n",
       "       [1],\n",
       "       [3],\n",
       "       [3],\n",
       "       [1],\n",
       "       [1],\n",
       "       [4],\n",
       "       [1],\n",
       "       [1],\n",
       "       [1],\n",
       "       [1],\n",
       "       [2],\n",
       "       [1],\n",
       "       [1],\n",
       "       [1],\n",
       "       [3],\n",
       "       [4],\n",
       "       [3],\n",
       "       [3],\n",
       "       [4],\n",
       "       [2],\n",
       "       [1],\n",
       "       [1],\n",
       "       [2],\n",
       "       [1],\n",
       "       [2],\n",
       "       [1],\n",
       "       [1],\n",
       "       [3],\n",
       "       [2],\n",
       "       [1],\n",
       "       [2],\n",
       "       [1],\n",
       "       [1],\n",
       "       [1],\n",
       "       [1],\n",
       "       [1],\n",
       "       [4],\n",
       "       [2],\n",
       "       [1],\n",
       "       [2],\n",
       "       [4],\n",
       "       [1],\n",
       "       [1],\n",
       "       [1],\n",
       "       [1],\n",
       "       [1],\n",
       "       [1],\n",
       "       [1],\n",
       "       [2],\n",
       "       [3],\n",
       "       [1],\n",
       "       [1],\n",
       "       [1],\n",
       "       [1],\n",
       "       [1],\n",
       "       [2],\n",
       "       [1],\n",
       "       [1],\n",
       "       [1],\n",
       "       [1],\n",
       "       [1],\n",
       "       [1],\n",
       "       [1],\n",
       "       [1],\n",
       "       [4],\n",
       "       [1],\n",
       "       [1],\n",
       "       [1],\n",
       "       [1],\n",
       "       [1],\n",
       "       [2],\n",
       "       [1],\n",
       "       [1],\n",
       "       [1],\n",
       "       [1],\n",
       "       [1],\n",
       "       [1],\n",
       "       [2],\n",
       "       [2],\n",
       "       [3],\n",
       "       [1],\n",
       "       [2],\n",
       "       [4],\n",
       "       [2],\n",
       "       [1],\n",
       "       [3],\n",
       "       [1],\n",
       "       [2],\n",
       "       [3],\n",
       "       [1],\n",
       "       [2],\n",
       "       [1],\n",
       "       [1],\n",
       "       [1],\n",
       "       [3],\n",
       "       [3],\n",
       "       [1],\n",
       "       [1],\n",
       "       [1],\n",
       "       [3],\n",
       "       [1],\n",
       "       [1],\n",
       "       [4],\n",
       "       [1],\n",
       "       [1],\n",
       "       [1],\n",
       "       [1],\n",
       "       [1],\n",
       "       [2],\n",
       "       [2],\n",
       "       [1],\n",
       "       [2],\n",
       "       [2],\n",
       "       [3],\n",
       "       [1],\n",
       "       [1],\n",
       "       [1],\n",
       "       [4],\n",
       "       [3],\n",
       "       [3],\n",
       "       [2],\n",
       "       [1],\n",
       "       [1],\n",
       "       [1],\n",
       "       [1],\n",
       "       [1],\n",
       "       [1],\n",
       "       [1],\n",
       "       [1],\n",
       "       [1]], dtype=object)"
      ]
     },
     "execution_count": 366,
     "metadata": {},
     "output_type": "execute_result"
    }
   ],
   "source": [
    "PlayerState16"
   ]
  },
  {
   "cell_type": "code",
   "execution_count": 355,
   "metadata": {
    "collapsed": false
   },
   "outputs": [
    {
     "data": {
      "text/html": [
       "<div>\n",
       "<table border=\"1\" class=\"dataframe\">\n",
       "  <thead>\n",
       "    <tr style=\"text-align: right;\">\n",
       "      <th></th>\n",
       "      <th>PTS</th>\n",
       "    </tr>\n",
       "  </thead>\n",
       "  <tbody>\n",
       "    <tr>\n",
       "      <th>0</th>\n",
       "      <td>29</td>\n",
       "    </tr>\n",
       "    <tr>\n",
       "      <th>1</th>\n",
       "      <td>19</td>\n",
       "    </tr>\n",
       "    <tr>\n",
       "      <th>2</th>\n",
       "      <td>36</td>\n",
       "    </tr>\n",
       "    <tr>\n",
       "      <th>3</th>\n",
       "      <td>23</td>\n",
       "    </tr>\n",
       "    <tr>\n",
       "      <th>4</th>\n",
       "      <td>16</td>\n",
       "    </tr>\n",
       "    <tr>\n",
       "      <th>5</th>\n",
       "      <td>28</td>\n",
       "    </tr>\n",
       "    <tr>\n",
       "      <th>6</th>\n",
       "      <td>43</td>\n",
       "    </tr>\n",
       "    <tr>\n",
       "      <th>7</th>\n",
       "      <td>23</td>\n",
       "    </tr>\n",
       "    <tr>\n",
       "      <th>8</th>\n",
       "      <td>25</td>\n",
       "    </tr>\n",
       "    <tr>\n",
       "      <th>9</th>\n",
       "      <td>36</td>\n",
       "    </tr>\n",
       "    <tr>\n",
       "      <th>10</th>\n",
       "      <td>17</td>\n",
       "    </tr>\n",
       "    <tr>\n",
       "      <th>11</th>\n",
       "      <td>29</td>\n",
       "    </tr>\n",
       "    <tr>\n",
       "      <th>12</th>\n",
       "      <td>24</td>\n",
       "    </tr>\n",
       "    <tr>\n",
       "      <th>13</th>\n",
       "      <td>28</td>\n",
       "    </tr>\n",
       "    <tr>\n",
       "      <th>14</th>\n",
       "      <td>16</td>\n",
       "    </tr>\n",
       "    <tr>\n",
       "      <th>15</th>\n",
       "      <td>26</td>\n",
       "    </tr>\n",
       "    <tr>\n",
       "      <th>16</th>\n",
       "      <td>28</td>\n",
       "    </tr>\n",
       "    <tr>\n",
       "      <th>17</th>\n",
       "      <td>21</td>\n",
       "    </tr>\n",
       "    <tr>\n",
       "      <th>18</th>\n",
       "      <td>31</td>\n",
       "    </tr>\n",
       "    <tr>\n",
       "      <th>19</th>\n",
       "      <td>21</td>\n",
       "    </tr>\n",
       "    <tr>\n",
       "      <th>21</th>\n",
       "      <td>13</td>\n",
       "    </tr>\n",
       "    <tr>\n",
       "      <th>22</th>\n",
       "      <td>33</td>\n",
       "    </tr>\n",
       "    <tr>\n",
       "      <th>23</th>\n",
       "      <td>29</td>\n",
       "    </tr>\n",
       "    <tr>\n",
       "      <th>24</th>\n",
       "      <td>23</td>\n",
       "    </tr>\n",
       "    <tr>\n",
       "      <th>25</th>\n",
       "      <td>23</td>\n",
       "    </tr>\n",
       "    <tr>\n",
       "      <th>26</th>\n",
       "      <td>24</td>\n",
       "    </tr>\n",
       "    <tr>\n",
       "      <th>27</th>\n",
       "      <td>36</td>\n",
       "    </tr>\n",
       "    <tr>\n",
       "      <th>28</th>\n",
       "      <td>26</td>\n",
       "    </tr>\n",
       "    <tr>\n",
       "      <th>29</th>\n",
       "      <td>25</td>\n",
       "    </tr>\n",
       "    <tr>\n",
       "      <th>30</th>\n",
       "      <td>13</td>\n",
       "    </tr>\n",
       "    <tr>\n",
       "      <th>...</th>\n",
       "      <td>...</td>\n",
       "    </tr>\n",
       "    <tr>\n",
       "      <th>1615</th>\n",
       "      <td>13</td>\n",
       "    </tr>\n",
       "    <tr>\n",
       "      <th>1616</th>\n",
       "      <td>17</td>\n",
       "    </tr>\n",
       "    <tr>\n",
       "      <th>1617</th>\n",
       "      <td>12</td>\n",
       "    </tr>\n",
       "    <tr>\n",
       "      <th>1618</th>\n",
       "      <td>11</td>\n",
       "    </tr>\n",
       "    <tr>\n",
       "      <th>1619</th>\n",
       "      <td>7</td>\n",
       "    </tr>\n",
       "    <tr>\n",
       "      <th>1620</th>\n",
       "      <td>16</td>\n",
       "    </tr>\n",
       "    <tr>\n",
       "      <th>1621</th>\n",
       "      <td>10</td>\n",
       "    </tr>\n",
       "    <tr>\n",
       "      <th>1622</th>\n",
       "      <td>10</td>\n",
       "    </tr>\n",
       "    <tr>\n",
       "      <th>1623</th>\n",
       "      <td>19</td>\n",
       "    </tr>\n",
       "    <tr>\n",
       "      <th>1624</th>\n",
       "      <td>21</td>\n",
       "    </tr>\n",
       "    <tr>\n",
       "      <th>1625</th>\n",
       "      <td>5</td>\n",
       "    </tr>\n",
       "    <tr>\n",
       "      <th>1626</th>\n",
       "      <td>4</td>\n",
       "    </tr>\n",
       "    <tr>\n",
       "      <th>1627</th>\n",
       "      <td>12</td>\n",
       "    </tr>\n",
       "    <tr>\n",
       "      <th>1628</th>\n",
       "      <td>6</td>\n",
       "    </tr>\n",
       "    <tr>\n",
       "      <th>1629</th>\n",
       "      <td>12</td>\n",
       "    </tr>\n",
       "    <tr>\n",
       "      <th>1630</th>\n",
       "      <td>6</td>\n",
       "    </tr>\n",
       "    <tr>\n",
       "      <th>1632</th>\n",
       "      <td>4</td>\n",
       "    </tr>\n",
       "    <tr>\n",
       "      <th>1633</th>\n",
       "      <td>13</td>\n",
       "    </tr>\n",
       "    <tr>\n",
       "      <th>1634</th>\n",
       "      <td>10</td>\n",
       "    </tr>\n",
       "    <tr>\n",
       "      <th>1635</th>\n",
       "      <td>2</td>\n",
       "    </tr>\n",
       "    <tr>\n",
       "      <th>1636</th>\n",
       "      <td>13</td>\n",
       "    </tr>\n",
       "    <tr>\n",
       "      <th>1637</th>\n",
       "      <td>8</td>\n",
       "    </tr>\n",
       "    <tr>\n",
       "      <th>1638</th>\n",
       "      <td>4</td>\n",
       "    </tr>\n",
       "    <tr>\n",
       "      <th>1639</th>\n",
       "      <td>14</td>\n",
       "    </tr>\n",
       "    <tr>\n",
       "      <th>1640</th>\n",
       "      <td>15</td>\n",
       "    </tr>\n",
       "    <tr>\n",
       "      <th>1641</th>\n",
       "      <td>12</td>\n",
       "    </tr>\n",
       "    <tr>\n",
       "      <th>1642</th>\n",
       "      <td>9</td>\n",
       "    </tr>\n",
       "    <tr>\n",
       "      <th>1643</th>\n",
       "      <td>12</td>\n",
       "    </tr>\n",
       "    <tr>\n",
       "      <th>1644</th>\n",
       "      <td>4</td>\n",
       "    </tr>\n",
       "    <tr>\n",
       "      <th>1645</th>\n",
       "      <td>10</td>\n",
       "    </tr>\n",
       "  </tbody>\n",
       "</table>\n",
       "<p>1560 rows × 1 columns</p>\n",
       "</div>"
      ],
      "text/plain": [
       "     PTS\n",
       "0     29\n",
       "1     19\n",
       "2     36\n",
       "3     23\n",
       "4     16\n",
       "5     28\n",
       "6     43\n",
       "7     23\n",
       "8     25\n",
       "9     36\n",
       "10    17\n",
       "11    29\n",
       "12    24\n",
       "13    28\n",
       "14    16\n",
       "15    26\n",
       "16    28\n",
       "17    21\n",
       "18    31\n",
       "19    21\n",
       "21    13\n",
       "22    33\n",
       "23    29\n",
       "24    23\n",
       "25    23\n",
       "26    24\n",
       "27    36\n",
       "28    26\n",
       "29    25\n",
       "30    13\n",
       "...   ..\n",
       "1615  13\n",
       "1616  17\n",
       "1617  12\n",
       "1618  11\n",
       "1619   7\n",
       "1620  16\n",
       "1621  10\n",
       "1622  10\n",
       "1623  19\n",
       "1624  21\n",
       "1625   5\n",
       "1626   4\n",
       "1627  12\n",
       "1628   6\n",
       "1629  12\n",
       "1630   6\n",
       "1632   4\n",
       "1633  13\n",
       "1634  10\n",
       "1635   2\n",
       "1636  13\n",
       "1637   8\n",
       "1638   4\n",
       "1639  14\n",
       "1640  15\n",
       "1641  12\n",
       "1642   9\n",
       "1643  12\n",
       "1644   4\n",
       "1645  10\n",
       "\n",
       "[1560 rows x 1 columns]"
      ]
     },
     "execution_count": 355,
     "metadata": {},
     "output_type": "execute_result"
    }
   ],
   "source": [
    "Kareem"
   ]
  },
  {
   "cell_type": "code",
   "execution_count": 87,
   "metadata": {
    "collapsed": false
   },
   "outputs": [],
   "source": [
    "PlayerState\n",
    "PlayerState_Average=np.zeros( len(PlayerState) -3 )\n",
    "for i in range(2,len(PlayerState)-3):\n",
    "    PlayerState_Average[i]=( PlayerState[i-2] + PlayerState[i-1] + PlayerState[i] + PlayerState[i+1] + PlayerState[i+2] )/float(5)"
   ]
  },
  {
   "cell_type": "code",
   "execution_count": 88,
   "metadata": {
    "collapsed": false
   },
   "outputs": [
    {
     "data": {
      "text/plain": [
       "[<matplotlib.lines.Line2D at 0x10e1b9f50>]"
      ]
     },
     "execution_count": 88,
     "metadata": {},
     "output_type": "execute_result"
    },
    {
     "data": {
      "image/png": "[encoded data removed]",
      "text/plain": [
       "<matplotlib.figure.Figure at 0x10dc8cb90>"
      ]
     },
     "metadata": {},
     "output_type": "display_data"
    }
   ],
   "source": [
    "plt.plot( PlayerState_Average )"
   ]
  },
  {
   "cell_type": "markdown",
   "metadata": {},
   "source": [
    "# Time Series Analysis with Longer Scale: Effect of Aging\n",
    "In the previous section we analyzed \"condition\" of each player using 2nd order Markov model, which takes results from recent two games to predict result for \"next game\".\n",
    "\n",
    "When selecting the best member, another important factor when determining the team member is how do the player do in the \"next year\".\n",
    "\n",
    "These trend can be partially affected by the player's age.\n",
    "\n",
    "For example, some young player may be in the process of growing and the scores getting better and better every year, in which case we can expect for him to do better in comming year.\n",
    "\n",
    "On the other hand, some great player's scores may be getting worse due to several reasons such as injury or aging.\n",
    "\n",
    "To analyze these time series data to predict future out come, here we analyze \"Point Per Game\" data of \"Kareem Abdul-Jabbar\" who played from 1969 to 1989.\n",
    "\n",
    "Refering to Lecture 17 \"TimeSeries\", we conduct inference and prediction with the data\n"
   ]
  },
  {
   "cell_type": "code",
   "execution_count": 339,
   "metadata": {
    "collapsed": true
   },
   "outputs": [],
   "source": [
    "# First import Kareem's \"Points per game\" data from 1969-1989 \n",
    "Kareem        = pd.read_csv('./raw-data/Kareem_All_GameLog.csv')[[\"PTS\"]].replace('Did Not Play','0')\n",
    "Kareem['PTS'] = Kareem['PTS'].map(lambda x: Str2float(x))\n",
    "Kareem        = Kareem[ Kareem['PTS'].map(lambda x: type(x) is float)]\n",
    "\n",
    "Kareem   = np.array( Kareem ).astype(float)\n",
    "\n",
    "PlayerState = Kareem"
   ]
  },
  {
   "cell_type": "code",
   "execution_count": 303,
   "metadata": {
    "collapsed": false
   },
   "outputs": [
    {
     "data": {
      "image/png": "[encoded data removed]",
      "text/plain": [
       "<matplotlib.figure.Figure at 0x114cc8110>"
      ]
     },
     "metadata": {},
     "output_type": "display_data"
    },
    {
     "data": {
      "image/png": "[encoded data removed]",
      "text/plain": [
       "<matplotlib.figure.Figure at 0x10e0b95d0>"
      ]
     },
     "metadata": {},
     "output_type": "display_data"
    },
    {
     "data": {
      "image/png": "[encoded data removed]",
      "text/plain": [
       "<matplotlib.figure.Figure at 0x118173250>"
      ]
     },
     "metadata": {},
     "output_type": "display_data"
    }
   ],
   "source": [
    "# In order to see the long term trend\n",
    "games=30\n",
    "Ave=np.zeros(len(PlayerState)/games)\n",
    "i=0\n",
    "j=0\n",
    "for j in range(len(Ave)):\n",
    "    Ave[j]=np.sum(PlayerState[i:i+games])/games\n",
    "    i+=games\n",
    "    j+=1\n",
    "plt.plot(Ave,lw='5')\n",
    "tsaplots.plot_acf( Ave  , lags=20);\n",
    "tsaplots.plot_pacf( Ave , lags=20);"
   ]
  },
  {
   "cell_type": "code",
   "execution_count": 335,
   "metadata": {
    "collapsed": false
   },
   "outputs": [
    {
     "data": {
      "text/plain": [
       "array([ 277.72225994,  238.49942176,  237.67863099,  238.48223109,\n",
       "        239.63485257,  238.25524795,  238.61525411,  239.97113618,\n",
       "        241.81521547,  243.43501475,  245.31631423,  246.58284664,\n",
       "        248.48518236,  250.08436395,  247.59968213])"
      ]
     },
     "execution_count": 335,
     "metadata": {},
     "output_type": "execute_result"
    },
    {
     "data": {
      "image/png": "[encoded data removed]",
      "text/plain": [
       "<matplotlib.figure.Figure at 0x1180d4890>"
      ]
     },
     "metadata": {},
     "output_type": "display_data"
    }
   ],
   "source": [
    "PlayerState_train = Ave[:47]\n",
    "PlayerState_test = Ave[47:]\n",
    "aics=np.zeros(15)\n",
    "orders=range(15)\n",
    "fits=[]\n",
    "for j in orders:\n",
    "    fit=sm.tsa.ARMA(PlayerState_train, (j,0)).fit(method=\"mle\")\n",
    "    fits.append(fit)\n",
    "    aics[j]=fit.aic\n",
    "plt.plot(orders, aics);\n",
    "aics"
   ]
  },
  {
   "cell_type": "code",
   "execution_count": 336,
   "metadata": {
    "collapsed": false
   },
   "outputs": [
    {
     "data": {
      "image/png": "[encoded data removed]",
      "text/plain": [
       "<matplotlib.figure.Figure at 0x1168002d0>"
      ]
     },
     "metadata": {},
     "output_type": "display_data"
    }
   ],
   "source": [
    "from statsmodels.graphics.api import qqplot\n",
    "qqplot(fits[10].resid,line='q');"
   ]
  },
  {
   "cell_type": "code",
   "execution_count": 320,
   "metadata": {
    "collapsed": false
   },
   "outputs": [
    {
     "data": {
      "text/html": [
       "<table class=\"simpletable\">\n",
       "<caption>ARMA Model Results</caption>\n",
       "<tr>\n",
       "  <th>Dep. Variable:</th>         <td>y</td>        <th>  No. Observations:  </th>    <td>47</td>   \n",
       "</tr>\n",
       "<tr>\n",
       "  <th>Model:</th>            <td>ARMA(10, 0)</td>   <th>  Log Likelihood     </th> <td>-110.658</td>\n",
       "</tr>\n",
       "<tr>\n",
       "  <th>Method:</th>               <td>mle</td>       <th>  S.D. of innovations</th>   <td>2.485</td> \n",
       "</tr>\n",
       "<tr>\n",
       "  <th>Date:</th>          <td>Mon, 02 May 2016</td> <th>  AIC                </th>  <td>245.316</td>\n",
       "</tr>\n",
       "<tr>\n",
       "  <th>Time:</th>              <td>21:26:00</td>     <th>  BIC                </th>  <td>267.518</td>\n",
       "</tr>\n",
       "<tr>\n",
       "  <th>Sample:</th>                <td>0</td>        <th>  HQIC               </th>  <td>253.671</td>\n",
       "</tr>\n",
       "<tr>\n",
       "  <th></th>                       <td> </td>        <th>                     </th>     <td> </td>   \n",
       "</tr>\n",
       "</table>\n",
       "<table class=\"simpletable\">\n",
       "<tr>\n",
       "      <td></td>        <th>coef</th>     <th>std err</th>      <th>z</th>      <th>P>|z|</th> <th>[95.0% Conf. Int.]</th> \n",
       "</tr>\n",
       "<tr>\n",
       "  <th>const</th>    <td>   24.9525</td> <td>    3.309</td> <td>    7.540</td> <td> 0.000</td> <td>   18.466    31.439</td>\n",
       "</tr>\n",
       "<tr>\n",
       "  <th>ar.L1.y</th>  <td>    0.6682</td> <td>    0.151</td> <td>    4.429</td> <td> 0.000</td> <td>    0.372     0.964</td>\n",
       "</tr>\n",
       "<tr>\n",
       "  <th>ar.L2.y</th>  <td>   -0.0154</td> <td>    0.182</td> <td>   -0.084</td> <td> 0.933</td> <td>   -0.372     0.341</td>\n",
       "</tr>\n",
       "<tr>\n",
       "  <th>ar.L3.y</th>  <td>    0.2598</td> <td>    0.187</td> <td>    1.392</td> <td> 0.172</td> <td>   -0.106     0.626</td>\n",
       "</tr>\n",
       "<tr>\n",
       "  <th>ar.L4.y</th>  <td>   -0.2821</td> <td>    0.186</td> <td>   -1.513</td> <td> 0.139</td> <td>   -0.648     0.083</td>\n",
       "</tr>\n",
       "<tr>\n",
       "  <th>ar.L5.y</th>  <td>    0.4320</td> <td>    0.198</td> <td>    2.187</td> <td> 0.035</td> <td>    0.045     0.819</td>\n",
       "</tr>\n",
       "<tr>\n",
       "  <th>ar.L6.y</th>  <td>   -0.3480</td> <td>    0.203</td> <td>   -1.713</td> <td> 0.095</td> <td>   -0.746     0.050</td>\n",
       "</tr>\n",
       "<tr>\n",
       "  <th>ar.L7.y</th>  <td>    0.1114</td> <td>    0.200</td> <td>    0.556</td> <td> 0.582</td> <td>   -0.281     0.504</td>\n",
       "</tr>\n",
       "<tr>\n",
       "  <th>ar.L8.y</th>  <td>    0.0118</td> <td>    0.201</td> <td>    0.059</td> <td> 0.953</td> <td>   -0.381     0.405</td>\n",
       "</tr>\n",
       "<tr>\n",
       "  <th>ar.L9.y</th>  <td>    0.1468</td> <td>    0.206</td> <td>    0.712</td> <td> 0.481</td> <td>   -0.257     0.551</td>\n",
       "</tr>\n",
       "<tr>\n",
       "  <th>ar.L10.y</th> <td>   -0.0624</td> <td>    0.181</td> <td>   -0.345</td> <td> 0.732</td> <td>   -0.417     0.292</td>\n",
       "</tr>\n",
       "</table>\n",
       "<table class=\"simpletable\">\n",
       "<caption>Roots</caption>\n",
       "<tr>\n",
       "    <td></td>    <th>           Real</th> <th>         Imaginary</th> <th>         Modulus</th> <th>        Frequency</th>\n",
       "</tr>\n",
       "<tr>\n",
       "  <th>AR.1</th>               -0.9617                    -0.6878j                    1.1823                   -0.4012     \n",
       "</tr>\n",
       "<tr>\n",
       "  <th>AR.2</th>               -0.9617                    +0.6878j                    1.1823                    0.4012     \n",
       "</tr>\n",
       "<tr>\n",
       "  <th>AR.3</th>               -0.8832                    -1.0803j                    1.3954                   -0.3591     \n",
       "</tr>\n",
       "<tr>\n",
       "  <th>AR.4</th>               -0.8832                    +1.0803j                    1.3954                    0.3591     \n",
       "</tr>\n",
       "<tr>\n",
       "  <th>AR.5</th>                0.2161                    -1.1647j                    1.1845                   -0.2208     \n",
       "</tr>\n",
       "<tr>\n",
       "  <th>AR.6</th>                0.2161                    +1.1647j                    1.1845                    0.2208     \n",
       "</tr>\n",
       "<tr>\n",
       "  <th>AR.7</th>                1.0377                    -0.0000j                    1.0377                   -0.0000     \n",
       "</tr>\n",
       "<tr>\n",
       "  <th>AR.8</th>                1.0329                    -0.7390j                    1.2701                   -0.0988     \n",
       "</tr>\n",
       "<tr>\n",
       "  <th>AR.9</th>                1.0329                    +0.7390j                    1.2701                    0.0988     \n",
       "</tr>\n",
       "<tr>\n",
       "  <th>AR.10</th>               2.5073                    -0.0000j                    2.5073                   -0.0000     \n",
       "</tr>\n",
       "</table>"
      ],
      "text/plain": [
       "<class 'statsmodels.iolib.summary.Summary'>\n",
       "\"\"\"\n",
       "                              ARMA Model Results                              \n",
       "==============================================================================\n",
       "Dep. Variable:                      y   No. Observations:                   47\n",
       "Model:                    ARMA(10, 0)   Log Likelihood                -110.658\n",
       "Method:                           mle   S.D. of innovations              2.485\n",
       "Date:                Mon, 02 May 2016   AIC                            245.316\n",
       "Time:                        21:26:00   BIC                            267.518\n",
       "Sample:                             0   HQIC                           253.671\n",
       "                                                                              \n",
       "==============================================================================\n",
       "                 coef    std err          z      P>|z|      [95.0% Conf. Int.]\n",
       "------------------------------------------------------------------------------\n",
       "const         24.9525      3.309      7.540      0.000        18.466    31.439\n",
       "ar.L1.y        0.6682      0.151      4.429      0.000         0.372     0.964\n",
       "ar.L2.y       -0.0154      0.182     -0.084      0.933        -0.372     0.341\n",
       "ar.L3.y        0.2598      0.187      1.392      0.172        -0.106     0.626\n",
       "ar.L4.y       -0.2821      0.186     -1.513      0.139        -0.648     0.083\n",
       "ar.L5.y        0.4320      0.198      2.187      0.035         0.045     0.819\n",
       "ar.L6.y       -0.3480      0.203     -1.713      0.095        -0.746     0.050\n",
       "ar.L7.y        0.1114      0.200      0.556      0.582        -0.281     0.504\n",
       "ar.L8.y        0.0118      0.201      0.059      0.953        -0.381     0.405\n",
       "ar.L9.y        0.1468      0.206      0.712      0.481        -0.257     0.551\n",
       "ar.L10.y      -0.0624      0.181     -0.345      0.732        -0.417     0.292\n",
       "                                    Roots                                     \n",
       "==============================================================================\n",
       "                  Real           Imaginary           Modulus         Frequency\n",
       "------------------------------------------------------------------------------\n",
       "AR.1            -0.9617           -0.6878j            1.1823           -0.4012\n",
       "AR.2            -0.9617           +0.6878j            1.1823            0.4012\n",
       "AR.3            -0.8832           -1.0803j            1.3954           -0.3591\n",
       "AR.4            -0.8832           +1.0803j            1.3954            0.3591\n",
       "AR.5             0.2161           -1.1647j            1.1845           -0.2208\n",
       "AR.6             0.2161           +1.1647j            1.1845            0.2208\n",
       "AR.7             1.0377           -0.0000j            1.0377           -0.0000\n",
       "AR.8             1.0329           -0.7390j            1.2701           -0.0988\n",
       "AR.9             1.0329           +0.7390j            1.2701            0.0988\n",
       "AR.10            2.5073           -0.0000j            2.5073           -0.0000\n",
       "------------------------------------------------------------------------------\n",
       "\"\"\""
      ]
     },
     "execution_count": 320,
     "metadata": {},
     "output_type": "execute_result"
    }
   ],
   "source": [
    "fits[10].summary()"
   ]
  },
  {
   "cell_type": "code",
   "execution_count": 337,
   "metadata": {
    "collapsed": true
   },
   "outputs": [],
   "source": [
    "index_rem=np.arange(47,53,1)\n",
    "predicts=fits[10].predict(start=47, end=52)\n",
    "in_predicts = fits[10].predict()"
   ]
  },
  {
   "cell_type": "code",
   "execution_count": 333,
   "metadata": {
    "collapsed": false
   },
   "outputs": [
    {
     "data": {
      "text/plain": [
       "((6,), (6,), (47,))"
      ]
     },
     "execution_count": 333,
     "metadata": {},
     "output_type": "execute_result"
    }
   ],
   "source": [
    "predicts.shape, index_rem.shape, in_predicts.shape"
   ]
  },
  {
   "cell_type": "code",
   "execution_count": 334,
   "metadata": {
    "collapsed": false
   },
   "outputs": [
    {
     "data": {
      "text/plain": [
       "[<matplotlib.lines.Line2D at 0x1168dacd0>]"
      ]
     },
     "execution_count": 334,
     "metadata": {},
     "output_type": "execute_result"
    },
    {
     "data": {
      "image/png": "[encoded data removed]",
      "text/plain": [
       "<matplotlib.figure.Figure at 0x118205790>"
      ]
     },
     "metadata": {},
     "output_type": "display_data"
    }
   ],
   "source": [
    "plt.plot(Ave)\n",
    "plt.plot(in_predicts)\n",
    "plt.plot(index_rem, predicts)"
   ]
  },
  {
   "cell_type": "code",
   "execution_count": 263,
   "metadata": {
    "collapsed": false
   },
   "outputs": [
    {
     "data": {
      "image/png": "[encoded data removed]",
      "text/plain": [
       "<matplotlib.figure.Figure at 0x10d06ca90>"
      ]
     },
     "metadata": {},
     "output_type": "display_data"
    }
   ],
   "source": [
    "def powspec(samps):\n",
    "    ps = np.abs(np.fft.fft(samps))**2\n",
    "    time_step = 1. / 30. #assume Hertz\n",
    "    freqs = np.fft.fftfreq(samps.size, time_step)\n",
    "    idx = np.argsort(freqs)\n",
    "    return freqs[idx], ps[idx]\n",
    "\n",
    "def plot_powspec(samps, title):\n",
    "    f,p = powspec(samps)\n",
    "    plt.plot(f,p)\n",
    "    plt.xlabel(\"frequency (Hz)\")\n",
    "    plt.ylabel(\"Power\")\n",
    "    plt.title(title+ \" Power Spectrum\")\n",
    "    \n",
    "plot_powspec(PlayerState, \"White Noise\")"
   ]
  },
  {
   "cell_type": "code",
   "execution_count": 254,
   "metadata": {
    "collapsed": true
   },
   "outputs": [],
   "source": [
    "index_rem=np.arange(45,55,1)\n",
    "predicts=fits[10].predict(start=45, end=54)\n",
    "in_predicts = fits[10].predict()"
   ]
  },
  {
   "cell_type": "code",
   "execution_count": 255,
   "metadata": {
    "collapsed": false
   },
   "outputs": [
    {
     "data": {
      "text/plain": [
       "((10,), (10,), (45,))"
      ]
     },
     "execution_count": 255,
     "metadata": {},
     "output_type": "execute_result"
    }
   ],
   "source": [
    "predicts.shape, index_rem.shape, in_predicts.shape"
   ]
  },
  {
   "cell_type": "code",
   "execution_count": 256,
   "metadata": {
    "collapsed": false
   },
   "outputs": [
    {
     "data": {
      "text/plain": [
       "[<matplotlib.lines.Line2D at 0x11567aa10>]"
      ]
     },
     "execution_count": 256,
     "metadata": {},
     "output_type": "execute_result"
    },
    {
     "data": {
      "image/png": "[encoded data removed]",
      "text/plain": [
       "<matplotlib.figure.Figure at 0x115d32690>"
      ]
     },
     "metadata": {},
     "output_type": "display_data"
    }
   ],
   "source": [
    "plt.plot(PlayerState)\n",
    "plt.plot(in_predicts)\n",
    "plt.plot(index_rem, predicts)"
   ]
  },
  {
   "cell_type": "code",
   "execution_count": 192,
   "metadata": {
    "collapsed": true
   },
   "outputs": [],
   "source": [
    "# First import a player's \"Points per game\" data from past years to learn player's scoreing pattern\n",
    "PlayerState16 = pd.read_csv('./raw-data/Kareem_All_GameLog.csv')[[\"PTS\"]].replace('Did Not Play','0')\n",
    "PlayerState16['PTS'] = PlayerState16['PTS'].map(lambda x: Str2float(x))\n",
    "PlayerState16   = PlayerState16[ PlayerState16['PTS'].map(lambda x: type(x) is float)]\n",
    "\n",
    "PlayerState = np.array( PlayerState16 ).astype(float)"
   ]
  },
  {
   "cell_type": "code",
   "execution_count": 193,
   "metadata": {
    "collapsed": false
   },
   "outputs": [
    {
     "data": {
      "image/png": "[encoded data removed]",
      "text/plain": [
       "<matplotlib.figure.Figure at 0x10e166810>"
      ]
     },
     "metadata": {},
     "output_type": "display_data"
    },
    {
     "data": {
      "image/png": "[encoded data removed]",
      "text/plain": [
       "<matplotlib.figure.Figure at 0x10e166e90>"
      ]
     },
     "metadata": {},
     "output_type": "display_data"
    }
   ],
   "source": [
    "tsaplots.plot_acf( PlayerState  , lags=50);\n",
    "tsaplots.plot_pacf( PlayerState , lags=50);"
   ]
  },
  {
   "cell_type": "code",
   "execution_count": 181,
   "metadata": {
    "collapsed": false
   },
   "outputs": [],
   "source": [
    "PlayerState_Ave=np.zeros(len(PlayerState)-4)\n",
    "for i in range(3,len(PlayerState)-4):\n",
    "    \n",
    "    PlayerState_Ave[i]=(PlayerState[i-3]+PlayerState[i-2]+PlayerState[i-1]+PlayerState[i]+PlayerState[i+1]+PlayerState[i+2]+PlayerState[i+3])/float(7)"
   ]
  },
  {
   "cell_type": "code",
   "execution_count": 183,
   "metadata": {
    "collapsed": false
   },
   "outputs": [
    {
     "data": {
      "text/plain": [
       "[<matplotlib.lines.Line2D at 0x10ef7a750>]"
      ]
     },
     "execution_count": 183,
     "metadata": {},
     "output_type": "execute_result"
    },
    {
     "data": {
      "image/png": "[encoded data removed]",
      "text/plain": [
       "<matplotlib.figure.Figure at 0x1125d3b10>"
      ]
     },
     "metadata": {},
     "output_type": "display_data"
    }
   ],
   "source": [
    "plt.plot(PlayerState_Ave)"
   ]
  },
  {
   "cell_type": "code",
   "execution_count": 150,
   "metadata": {
    "collapsed": false
   },
   "outputs": [
    {
     "ename": "NameError",
     "evalue": "name 'plot' is not defined",
     "output_type": "error",
     "traceback": [
      "\u001b[0;31m---------------------------------------------------------------------------\u001b[0m",
      "\u001b[0;31mNameError\u001b[0m                                 Traceback (most recent call last)",
      "\u001b[0;32m<ipython-input-150-f7c3d2beafef>\u001b[0m in \u001b[0;36m<module>\u001b[0;34m()\u001b[0m\n\u001b[1;32m      6\u001b[0m \u001b[0mx\u001b[0m \u001b[0;34m=\u001b[0m \u001b[0mnp\u001b[0m\u001b[0;34m.\u001b[0m\u001b[0mhstack\u001b[0m\u001b[0;34m(\u001b[0m\u001b[0;34m(\u001b[0m\u001b[0mx\u001b[0m\u001b[0;34m,\u001b[0m\u001b[0mx\u001b[0m\u001b[0;34m[\u001b[0m\u001b[0;34m:\u001b[0m\u001b[0;34m:\u001b[0m\u001b[0;34m-\u001b[0m\u001b[0;36m1\u001b[0m\u001b[0;34m]\u001b[0m\u001b[0;34m)\u001b[0m\u001b[0;34m)\u001b[0m\u001b[0;34m\u001b[0m\u001b[0m\n\u001b[1;32m      7\u001b[0m \u001b[0mx\u001b[0m \u001b[0;34m+=\u001b[0m \u001b[0mnp\u001b[0m\u001b[0;34m.\u001b[0m\u001b[0mrandom\u001b[0m\u001b[0;34m.\u001b[0m\u001b[0mnormal\u001b[0m\u001b[0;34m(\u001b[0m \u001b[0mloc\u001b[0m\u001b[0;34m=\u001b[0m\u001b[0;36m0\u001b[0m\u001b[0;34m,\u001b[0m \u001b[0mscale\u001b[0m\u001b[0;34m=\u001b[0m\u001b[0;36m0.1\u001b[0m\u001b[0;34m,\u001b[0m \u001b[0msize\u001b[0m\u001b[0;34m=\u001b[0m\u001b[0;36m200\u001b[0m \u001b[0;34m)\u001b[0m\u001b[0;34m\u001b[0m\u001b[0m\n\u001b[0;32m----> 8\u001b[0;31m \u001b[0mplot\u001b[0m\u001b[0;34m(\u001b[0m \u001b[0mx\u001b[0m\u001b[0;34m,\u001b[0m \u001b[0malpha\u001b[0m\u001b[0;34m=\u001b[0m\u001b[0;36m0.4\u001b[0m\u001b[0;34m,\u001b[0m \u001b[0mlabel\u001b[0m\u001b[0;34m=\u001b[0m\u001b[0;34m'Raw'\u001b[0m \u001b[0;34m)\u001b[0m\u001b[0;34m\u001b[0m\u001b[0m\n\u001b[0m\u001b[1;32m      9\u001b[0m \u001b[0;34m\u001b[0m\u001b[0m\n\u001b[1;32m     10\u001b[0m \u001b[0;31m# take EWMA in both directions with a smaller span term\u001b[0m\u001b[0;34m\u001b[0m\u001b[0;34m\u001b[0m\u001b[0m\n",
      "\u001b[0;31mNameError\u001b[0m: name 'plot' is not defined"
     ]
    }
   ],
   "source": [
    "import pandas, numpy as np\n",
    "ewma = pandas.stats.moments.ewma\n",
    " \n",
    "# make a hat function, and add noise\n",
    "x = np.linspace(0,1,100)\n",
    "x = np.hstack((x,x[::-1]))\n",
    "x += np.random.normal( loc=0, scale=0.1, size=200 )\n",
    "plot( x, alpha=0.4, label='Raw' )\n",
    " \n",
    "# take EWMA in both directions with a smaller span term\n",
    "fwd = ewma( x, span=15 ) # take EWMA in fwd direction\n",
    "bwd = ewma( x[::-1], span=15 ) # take EWMA in bwd direction\n",
    "c = np.vstack(( fwd, bwd[::-1] )) # lump fwd and bwd together\n",
    "c = np.mean( c, axis=0 ) # average\n",
    " \n",
    "# regular EWMA, with bias against trend\n",
    "plot( ewma( x, span=20 ), 'b', label='EWMA, span=20' )\n",
    " \n",
    "# \"corrected\" (?) EWMA\n",
    "plot( c, 'r', label='Reversed-Recombined' )\n",
    " \n",
    "legend(loc=8)\n",
    "savefig( 'ewma_correction.png', fmt='png', dpi=100 )"
   ]
  },
  {
   "cell_type": "code",
   "execution_count": 259,
   "metadata": {
    "collapsed": false
   },
   "outputs": [
    {
     "data": {
      "text/plain": [
       "[<matplotlib.lines.Line2D at 0x10daf7e90>]"
      ]
     },
     "execution_count": 259,
     "metadata": {},
     "output_type": "execute_result"
    },
    {
     "data": {
      "image/png": "[encoded data removed]",
      "text/plain": [
       "<matplotlib.figure.Figure at 0x114cd8190>"
      ]
     },
     "metadata": {},
     "output_type": "display_data"
    }
   ],
   "source": [
    "Ave=np.zeros(len(PlayerState)/30)\n",
    "i=0\n",
    "j=0\n",
    "for j in range(len(Ave)):\n",
    "    Ave[j]=np.sum(PlayerState[i:i+30])/30\n",
    "    i+=30\n",
    "    j+=1\n",
    "plt.plot(Ave,'ro')"
   ]
  },
  {
   "cell_type": "code",
   "execution_count": 286,
   "metadata": {
    "collapsed": false
   },
   "outputs": [
    {
     "data": {
      "text/plain": [
       "array([[ 29.],\n",
       "       [ 19.],\n",
       "       [ 36.],\n",
       "       ..., \n",
       "       [ 12.],\n",
       "       [  4.],\n",
       "       [ 10.]])"
      ]
     },
     "execution_count": 286,
     "metadata": {},
     "output_type": "execute_result"
    }
   ],
   "source": [
    "PlayerState"
   ]
  },
  {
   "cell_type": "code",
   "execution_count": null,
   "metadata": {
    "collapsed": true
   },
   "outputs": [],
   "source": []
  }
 ],
 "metadata": {
  "kernelspec": {
   "display_name": "Python 2",
   "language": "python",
   "name": "python2"
  },
  "language_info": {
   "codemirror_mode": {
    "name": "ipython",
    "version": 2
   },
   "file_extension": ".py",
   "mimetype": "text/x-python",
   "name": "python",
   "nbconvert_exporter": "python",
   "pygments_lexer": "ipython2",
   "version": "2.7.11"
  }
 },
 "nbformat": 4,
 "nbformat_minor": 0
}
