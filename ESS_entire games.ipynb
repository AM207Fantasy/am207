{
 "cells": [
  {
   "cell_type": "markdown",
   "metadata": {},
   "source": [
    "# Model Fitting: ESS (Elliptical Slice Sampling) for the entire games"
   ]
  },
  {
   "cell_type": "code",
   "execution_count": 2,
   "metadata": {
    "collapsed": false
   },
   "outputs": [],
   "source": [
    "import numpy as np\n",
    "import matplotlib\n",
    "import matplotlib.pyplot as plt\n",
    "%matplotlib inline\n",
    "\n",
    "import seaborn as sns\n",
    "sns.set_style(\"white\")\n",
    "import time\n",
    "import timeit\n",
    "\n",
    "import scipy.stats\n",
    "# import scipy.stats.norm as norm\n",
    "import pandas as pd\n",
    "import pymc as pm\n",
    "\n",
    "import re\n",
    "import numpy as np\n",
    "import pickle as pickle"
   ]
  },
  {
   "cell_type": "code",
   "execution_count": 3,
   "metadata": {
    "collapsed": false
   },
   "outputs": [],
   "source": [
    "player_info = pd.read_csv(\"clean-data/player_info_pergame.csv\")\n",
    "game_outcomes = pd.read_csv(\"clean-data/game_outcomes_15-16.csv\")"
   ]
  },
  {
   "cell_type": "code",
   "execution_count": 4,
   "metadata": {
    "collapsed": false
   },
   "outputs": [
    {
     "name": "stdout",
     "output_type": "stream",
     "text": [
      "468 30 1230\n",
      "996\n"
     ]
    }
   ],
   "source": [
    "N_players = len(player_info)\n",
    "N_teams = np.max(game_outcomes['Visitor_Index'].values) + 1\n",
    "N_games =  len(game_outcomes)\n",
    "\n",
    "print N_players, N_teams, N_games\n",
    "print 2 * (N_players + N_teams)"
   ]
  },
  {
   "cell_type": "code",
   "execution_count": 5,
   "metadata": {
    "collapsed": false
   },
   "outputs": [],
   "source": [
    "################# INPUT SECTION ###################\n",
    "###################################################\n",
    "\n",
    "########### player indicator for each game ###############\n",
    "### host_lineup_arr & guest_lineup_arr are (1230 x 476)###\n",
    "with open(\"clean-data/host_team_line_up.pkl\", \"rb\") as f:\n",
    "    host_team_line_up = pickle.load(f)\n",
    "\n",
    "with open(\"clean-data/guest_team_line_up.pkl\", \"rb\") as f:\n",
    "    guest_team_line_up = pickle.load(f)\n",
    "    \n",
    "# print len(host_team_line_up[0])\n",
    "host_lineup_arr = np.array(host_team_line_up)\n",
    "guest_lineup_arr = np.array(guest_team_line_up)\n",
    "\n",
    "\n",
    "######### team indicator for each game ########### \n",
    "### host_matrix & guest_matrix are (1230 x 30) ###\n",
    "guest_matrix = np.zeros((game_outcomes.shape[0], np.max(game_outcomes['Visitor_Index']) + 1), dtype = bool)\n",
    "guest_matrix.shape\n",
    "host_matrix = np.copy(guest_matrix)\n",
    "\n",
    "def make_matrix(mat, indices):\n",
    "    for (i, ind) in enumerate(indices):\n",
    "        mat[i, ind] = True\n",
    "\n",
    "make_matrix(host_matrix, game_outcomes['Visitor_Index'].values)\n",
    "make_matrix(guest_matrix, game_outcomes['Home_Index'].values)\n",
    "\n",
    "\n",
    "############## Observed data ##################\n",
    "score_diff = game_outcomes['diff'].values\n",
    "off_rating = player_info['PTS'].values + player_info['AST'].values\n",
    "def_rating = player_info['BLK'].values + player_info[\"STL\"].values + player_info['DRB'].values"
   ]
  },
  {
   "cell_type": "code",
   "execution_count": 6,
   "metadata": {
    "collapsed": true
   },
   "outputs": [],
   "source": [
    "def split_params(coefs, nplayers, nteams):\n",
    "    '''\n",
    "    Split the parameters\n",
    "    first are the beta0 for each team\n",
    "    then the beta for each player\n",
    "    then the gamma0 for each team\n",
    "    then the gamma for each player'''\n",
    "    assert(coefs.shape == (2*(nplayers+nteams),))\n",
    "    \n",
    "    beta0 = coefs[:nteams]\n",
    "    beta_player = coefs[nteams:(nplayers + nteams)]\n",
    "    gamma0 = coefs[(nplayers + nteams):(nplayers + 2*nteams)]\n",
    "    gamma_player = coefs[(nplayers + 2*nteams):]\n",
    "    \n",
    "    # parameterize sigma by its log\n",
    "#     logsigma = coefs[-1]\n",
    "    \n",
    "    assert(beta0.shape == (nteams,))\n",
    "    assert(beta_player.shape == (nplayers,))\n",
    "    assert(beta0.shape == (nteams,))\n",
    "    assert(gamma_player.shape == (nplayers,))\n",
    "    \n",
    "    return (beta0, beta_player, gamma0, gamma_player)"
   ]
  },
  {
   "cell_type": "code",
   "execution_count": 7,
   "metadata": {
    "collapsed": true
   },
   "outputs": [],
   "source": [
    "def diff_score_calc(coefs):\n",
    "    # This function returns the differential score for each game given the states of the latent vairables\n",
    "    \n",
    "    beta0, betas, gamma0, gammas = \\\n",
    "        split_params(coefs, N_players, N_teams)\n",
    "        \n",
    "    guest_off_0 = np.dot(guest_matrix, beta0)\n",
    "    guest_def_0 = np.dot(guest_matrix, gamma0)\n",
    "    host_off_0 = np.dot(host_matrix, beta0)\n",
    "    host_def_0 = np.dot(host_matrix, gamma0)\n",
    "    \n",
    "    guest_off = guest_off_0 + np.dot(guest_lineup_arr, betas * off_rating)\n",
    "    guest_def = guest_def_0 + np.dot(guest_lineup_arr, gammas * def_rating)\n",
    "    host_off = host_off_0 + np.dot(host_lineup_arr, betas * off_rating)\n",
    "    host_def = host_def_0 + np.dot(host_lineup_arr, gammas * def_rating)\n",
    "    \n",
    "    mean = guest_off - host_def - (host_off - guest_def)\n",
    "    return mean"
   ]
  },
  {
   "cell_type": "code",
   "execution_count": 8,
   "metadata": {
    "collapsed": true
   },
   "outputs": [],
   "source": [
    "def logLik(coefs, lam = 1.0, sigma = 10.):\n",
    "    # This functino calculates the logLikelihood for the entire games\n",
    "    mean = diff_score_calc(coefs)\n",
    "    loglik = np.sum(scipy.stats.norm.logpdf(score_diff, mean, sigma))\n",
    "    \n",
    "    # add L2 regularization\n",
    "    loglik -= lam * np.dot(coefs, coefs)\n",
    "    return (loglik)"
   ]
  },
  {
   "cell_type": "code",
   "execution_count": 9,
   "metadata": {
    "collapsed": true
   },
   "outputs": [],
   "source": [
    "# def changeCoefs(coefs, theta, norm_random):\n",
    "#     ''' evaluate the negative log likelihood for our basketball model '''\n",
    "    \n",
    "#     beta0, betas, gamma0, gammas = \\\n",
    "#             split_params(coefs, N_players, N_teams)    \n",
    "    \n",
    "#     norm_beta0, norm_betas, norm_gamma0, norm_gammas = \\\n",
    "#             split_params(norm_random, N_players, N_teams)\n",
    "    \n",
    "# #     nteams = len(beta0)\n",
    "# #     nplayers = len(betas)\n",
    "    \n",
    "#     new_coefs = np.zeros(coefs.shape)    \n",
    "#     new_coefs[:nteams] = beta0 * np.cos(theta) + norm_beta0 * np.sin(theta)\n",
    "#     new_coefs[nteams:(nplayers + nteams)] = betas * np.cos(theta) + norm_betas * np.sin(theta)\n",
    "#     new_coefs[(nplayers + nteams):(nplayers + 2*nteams)] = gamma0 * np.cos(theta) + norm_gamma0 * np.sin(theta)\n",
    "#     new_coefs[(nplayers + 2*nteams):] = gammas * np.cos(theta) + norm_gammas * np.sin(theta)\n",
    "    \n",
    "#     return new_coefs"
   ]
  },
  {
   "cell_type": "code",
   "execution_count": 10,
   "metadata": {
    "collapsed": false
   },
   "outputs": [],
   "source": [
    "mvn = np.random.multivariate_normal\n",
    "def ess(sig, logLik, N_mcmc, burn_in):\n",
    "    bi = burn_in\n",
    "    dim = 2*(N_teams + N_players)\n",
    "    \n",
    "    # Make a random initial proposal for the states of the latent variables\n",
    "    # based on the assumption that the states are in the Gaussian distribution\n",
    "    mcmc_coefs = np.random.randn(N_mcmc + bi, dim)\n",
    "       \n",
    "    # random draws with which we'll make a new proposal for the states of the latent variables\n",
    "    norm_random = mvn(np.zeros(dim), sig, N_mcmc+bi)\n",
    "    \n",
    "    # random draws from unifrom distribution with which we'll determine \n",
    "    # the loglikelihood threshold (likelihood threshold defines the 'slice' where we sample)\n",
    "    unif_samples = np.random.uniform(0, 1, N_mcmc+bi)\n",
    "    \n",
    "    # initial proposal of the theta\n",
    "    theta = np.random.uniform(0, 2*np.pi, N_mcmc+bi)\n",
    "    \n",
    "    # variables with which we'll propose a new state by shrinking the range of theta\n",
    "    theta_min = theta - 2*np.pi\n",
    "    theta_max = theta + 2*np.pi\n",
    "    \n",
    "    # We select a new location (i.e. new state of the latent variables)\n",
    "    # on the randomly generated ellipse given theta and norm_samples\n",
    "    for i in range(1, N_mcmc + bi):\n",
    "#         if i % 100 == 0:\n",
    "#             print i\n",
    "     \n",
    "        coefs = mcmc_coefs[i - 1, :]\n",
    "\n",
    "        # the loglikelihood threshold\n",
    "        # the threshold is chosen between [0, Likelihood]\n",
    "        llh_thresh = logLik(coefs) + np.log(unif_samples[i])\n",
    "        \n",
    "        # new proposals for the latent variable states\n",
    "        new_coefs = coefs*np.cos(theta[i]) + norm_random[i,:]*np.sin(theta[i])\n",
    "        while logLik(new_coefs) < llh_thresh:\n",
    "            if theta[i] < 0:\n",
    "                theta_min[i] = theta[i]\n",
    "            else:\n",
    "                theta_max[i] = theta[i]\n",
    "\n",
    "            # shrink the range of the search for the new proposal while we logLikelohood > threshold\n",
    "            theta[i] = np.random.uniform(theta_min[i], theta_max[i], 1)  \n",
    "            \n",
    "            # new proposals with the changed range of the ellipse\n",
    "            new_coefs = coefs*np.cos(theta[i]) + norm_random[i,:]*np.sin(theta[i])\n",
    "        \n",
    "        # when the condition is satisfied, we keep the proposals of the latent variable states\n",
    "        mcmc_coefs[i, :] = new_coefs\n",
    "\n",
    "    # return except the burnin     \n",
    "    return mcmc_coefs[(bi + 1): (bi + N_mcmc),]"
   ]
  },
  {
   "cell_type": "markdown",
   "metadata": {},
   "source": [
    "# when the performance each player is assumed to be independent\n",
    "1.Estimation of the latent variable states "
   ]
  },
  {
   "cell_type": "code",
   "execution_count": 11,
   "metadata": {
    "collapsed": false,
    "scrolled": true
   },
   "outputs": [
    {
     "name": "stdout",
     "output_type": "stream",
     "text": [
      "Elapsed Time (sec): 398.008000\n"
     ]
    }
   ],
   "source": [
    "# game_index = 10\n",
    "N_mcmc = 5000\n",
    "burn_in = 100\n",
    "dim = 2*(N_teams + N_players)\n",
    "\n",
    "start_time = time.time()\n",
    "stateCoefs = ess(np.identity(dim), logLik, N_mcmc, burn_in)\n",
    "elapsed = time.time() - start_time\n",
    "print(\"Elapsed Time (sec): %f\" %elapsed)"
   ]
  },
  {
   "cell_type": "markdown",
   "metadata": {
    "collapsed": false
   },
   "source": [
    "2.Trace plot of one of the states of the latent variables"
   ]
  },
  {
   "cell_type": "code",
   "execution_count": 12,
   "metadata": {
    "collapsed": false
   },
   "outputs": [
    {
     "data": {
      "text/plain": [
       "[<matplotlib.lines.Line2D at 0xe337a20>]"
      ]
     },
     "execution_count": 12,
     "metadata": {},
     "output_type": "execute_result"
    },
    {
     "data": {
      "image/png": "[encoded data removed]",
      "text/plain": [
       "<matplotlib.figure.Figure at 0xdaef3c8>"
      ]
     },
     "metadata": {},
     "output_type": "display_data"
    }
   ],
   "source": [
    "plt.plot(stateCoefs[:,100])"
   ]
  },
  {
   "cell_type": "markdown",
   "metadata": {},
   "source": [
    "3.MAP estimation\n",
    "* It's clear that the state of the variable did not converge."
   ]
  },
  {
   "cell_type": "code",
   "execution_count": 16,
   "metadata": {
    "collapsed": false
   },
   "outputs": [
    {
     "name": "stdout",
     "output_type": "stream",
     "text": [
      "The MAP value for beta 100 is: 0.946024232316\n"
     ]
    },
    {
     "data": {
      "image/png": "[encoded data removed]",
      "text/plain": [
       "<matplotlib.figure.Figure at 0x19083278>"
      ]
     },
     "metadata": {},
     "output_type": "display_data"
    }
   ],
   "source": [
    "for i in range(100,101):\n",
    "    plt.figure(i)\n",
    "    p_hist = plt.hist(stateCoefs[burn_in:,i], bins=100)\n",
    "    plt.title(\"Guest variable states in game %s\" %(i))\n",
    "    plt.xlabel(\"beta %s\" %(i+1))\n",
    "    plt.ylabel(\"counts\")\n",
    "    p_map_index = np.argmax(p_hist[0])\n",
    "    p_hist_bin_middle = 0.5*p_hist[1][:-1] + 0.5*p_hist[1][1:]\n",
    "    p_map = p_hist_bin_middle[p_map_index]\n",
    "    \n",
    "    print \"The MAP value for beta %s is: %s\" %(i, p_map)"
   ]
  },
  {
   "cell_type": "markdown",
   "metadata": {},
   "source": [
    "* It's not converging. We tried up to N_mcmc = 100,000, but the trace of the state is not convergent. So, I just took the average of the states and checked the contribution ranking. The below is the result."
   ]
  },
  {
   "cell_type": "code",
   "execution_count": 17,
   "metadata": {
    "collapsed": false
   },
   "outputs": [
    {
     "data": {
      "text/html": [
       "<div>\n",
       "<table border=\"1\" class=\"dataframe\">\n",
       "  <thead>\n",
       "    <tr style=\"text-align: right;\">\n",
       "      <th></th>\n",
       "      <th>Player</th>\n",
       "      <th>Tm</th>\n",
       "      <th>2015-16</th>\n",
       "      <th>Pos</th>\n",
       "      <th>Age</th>\n",
       "      <th>G</th>\n",
       "      <th>GS</th>\n",
       "      <th>MP</th>\n",
       "      <th>FG</th>\n",
       "      <th>FGA</th>\n",
       "      <th>...</th>\n",
       "      <th>DRB</th>\n",
       "      <th>TRB</th>\n",
       "      <th>AST</th>\n",
       "      <th>STL</th>\n",
       "      <th>BLK</th>\n",
       "      <th>TOV</th>\n",
       "      <th>PF</th>\n",
       "      <th>PTS</th>\n",
       "      <th>Tm_Index</th>\n",
       "      <th>beta</th>\n",
       "    </tr>\n",
       "  </thead>\n",
       "  <tbody>\n",
       "    <tr>\n",
       "      <th>410</th>\n",
       "      <td>James Ennis</td>\n",
       "      <td>Memphis Grizzlies</td>\n",
       "      <td>845059</td>\n",
       "      <td>SF</td>\n",
       "      <td>25</td>\n",
       "      <td>22</td>\n",
       "      <td>5</td>\n",
       "      <td>15.0</td>\n",
       "      <td>2.5</td>\n",
       "      <td>5.1</td>\n",
       "      <td>...</td>\n",
       "      <td>1.0</td>\n",
       "      <td>1.9</td>\n",
       "      <td>1.0</td>\n",
       "      <td>0.7</td>\n",
       "      <td>0.2</td>\n",
       "      <td>0.9</td>\n",
       "      <td>1.3</td>\n",
       "      <td>7.2</td>\n",
       "      <td>2</td>\n",
       "      <td>2.355143</td>\n",
       "    </tr>\n",
       "    <tr>\n",
       "      <th>349</th>\n",
       "      <td>Archie Goodwin</td>\n",
       "      <td>Phoenix Suns</td>\n",
       "      <td>1160160</td>\n",
       "      <td>PG</td>\n",
       "      <td>21</td>\n",
       "      <td>57</td>\n",
       "      <td>13</td>\n",
       "      <td>19.5</td>\n",
       "      <td>3.1</td>\n",
       "      <td>7.4</td>\n",
       "      <td>...</td>\n",
       "      <td>2.0</td>\n",
       "      <td>2.5</td>\n",
       "      <td>2.1</td>\n",
       "      <td>0.5</td>\n",
       "      <td>0.2</td>\n",
       "      <td>1.8</td>\n",
       "      <td>1.5</td>\n",
       "      <td>8.9</td>\n",
       "      <td>22</td>\n",
       "      <td>2.222903</td>\n",
       "    </tr>\n",
       "    <tr>\n",
       "      <th>464</th>\n",
       "      <td>Elliot Williams</td>\n",
       "      <td>Charlotte Hornets</td>\n",
       "      <td>80000</td>\n",
       "      <td>PG</td>\n",
       "      <td>26</td>\n",
       "      <td>5</td>\n",
       "      <td>0</td>\n",
       "      <td>9.0</td>\n",
       "      <td>0.4</td>\n",
       "      <td>2.0</td>\n",
       "      <td>...</td>\n",
       "      <td>0.6</td>\n",
       "      <td>0.8</td>\n",
       "      <td>0.8</td>\n",
       "      <td>0.0</td>\n",
       "      <td>0.0</td>\n",
       "      <td>0.2</td>\n",
       "      <td>0.4</td>\n",
       "      <td>1.6</td>\n",
       "      <td>18</td>\n",
       "      <td>2.106741</td>\n",
       "    </tr>\n",
       "    <tr>\n",
       "      <th>293</th>\n",
       "      <td>Lou Amundson</td>\n",
       "      <td>New York Knicks</td>\n",
       "      <td>1650000</td>\n",
       "      <td>PF</td>\n",
       "      <td>33</td>\n",
       "      <td>29</td>\n",
       "      <td>0</td>\n",
       "      <td>7.0</td>\n",
       "      <td>0.7</td>\n",
       "      <td>1.8</td>\n",
       "      <td>...</td>\n",
       "      <td>0.9</td>\n",
       "      <td>1.7</td>\n",
       "      <td>0.4</td>\n",
       "      <td>0.2</td>\n",
       "      <td>0.2</td>\n",
       "      <td>0.5</td>\n",
       "      <td>1.5</td>\n",
       "      <td>1.8</td>\n",
       "      <td>0</td>\n",
       "      <td>2.012828</td>\n",
       "    </tr>\n",
       "    <tr>\n",
       "      <th>164</th>\n",
       "      <td>Kris Humphries</td>\n",
       "      <td>Phoenix Suns</td>\n",
       "      <td>4600000</td>\n",
       "      <td>PF</td>\n",
       "      <td>30</td>\n",
       "      <td>53</td>\n",
       "      <td>17</td>\n",
       "      <td>15.8</td>\n",
       "      <td>2.3</td>\n",
       "      <td>5.6</td>\n",
       "      <td>...</td>\n",
       "      <td>3.0</td>\n",
       "      <td>4.1</td>\n",
       "      <td>0.7</td>\n",
       "      <td>0.3</td>\n",
       "      <td>0.4</td>\n",
       "      <td>0.7</td>\n",
       "      <td>1.8</td>\n",
       "      <td>6.5</td>\n",
       "      <td>22</td>\n",
       "      <td>1.961256</td>\n",
       "    </tr>\n",
       "    <tr>\n",
       "      <th>222</th>\n",
       "      <td>Dante Cunningham</td>\n",
       "      <td>New Orleans Pelicans</td>\n",
       "      <td>3000000</td>\n",
       "      <td>SF</td>\n",
       "      <td>28</td>\n",
       "      <td>80</td>\n",
       "      <td>46</td>\n",
       "      <td>24.6</td>\n",
       "      <td>2.3</td>\n",
       "      <td>5.2</td>\n",
       "      <td>...</td>\n",
       "      <td>2.2</td>\n",
       "      <td>3.0</td>\n",
       "      <td>1.0</td>\n",
       "      <td>0.5</td>\n",
       "      <td>0.4</td>\n",
       "      <td>0.5</td>\n",
       "      <td>2.2</td>\n",
       "      <td>6.1</td>\n",
       "      <td>24</td>\n",
       "      <td>1.889515</td>\n",
       "    </tr>\n",
       "    <tr>\n",
       "      <th>345</th>\n",
       "      <td>Marcus Thornton</td>\n",
       "      <td>Houston Rockets</td>\n",
       "      <td>1186000</td>\n",
       "      <td>SG</td>\n",
       "      <td>28</td>\n",
       "      <td>61</td>\n",
       "      <td>8</td>\n",
       "      <td>18.2</td>\n",
       "      <td>3.5</td>\n",
       "      <td>8.9</td>\n",
       "      <td>...</td>\n",
       "      <td>1.8</td>\n",
       "      <td>2.5</td>\n",
       "      <td>1.4</td>\n",
       "      <td>0.8</td>\n",
       "      <td>0.1</td>\n",
       "      <td>0.8</td>\n",
       "      <td>1.5</td>\n",
       "      <td>9.7</td>\n",
       "      <td>13</td>\n",
       "      <td>1.842698</td>\n",
       "    </tr>\n",
       "    <tr>\n",
       "      <th>452</th>\n",
       "      <td>Bryce Dejean-Jones</td>\n",
       "      <td>New Orleans Pelicans</td>\n",
       "      <td>169883</td>\n",
       "      <td>SG</td>\n",
       "      <td>23</td>\n",
       "      <td>14</td>\n",
       "      <td>11</td>\n",
       "      <td>19.9</td>\n",
       "      <td>2.0</td>\n",
       "      <td>4.9</td>\n",
       "      <td>...</td>\n",
       "      <td>2.9</td>\n",
       "      <td>3.4</td>\n",
       "      <td>1.1</td>\n",
       "      <td>0.7</td>\n",
       "      <td>0.1</td>\n",
       "      <td>0.8</td>\n",
       "      <td>1.2</td>\n",
       "      <td>5.6</td>\n",
       "      <td>24</td>\n",
       "      <td>1.838988</td>\n",
       "    </tr>\n",
       "    <tr>\n",
       "      <th>259</th>\n",
       "      <td>Jared Sullinger</td>\n",
       "      <td>Boston Celtics</td>\n",
       "      <td>2269260</td>\n",
       "      <td>PF</td>\n",
       "      <td>23</td>\n",
       "      <td>81</td>\n",
       "      <td>73</td>\n",
       "      <td>23.6</td>\n",
       "      <td>4.3</td>\n",
       "      <td>10.0</td>\n",
       "      <td>...</td>\n",
       "      <td>5.9</td>\n",
       "      <td>8.3</td>\n",
       "      <td>2.3</td>\n",
       "      <td>0.9</td>\n",
       "      <td>0.6</td>\n",
       "      <td>1.3</td>\n",
       "      <td>2.6</td>\n",
       "      <td>10.3</td>\n",
       "      <td>6</td>\n",
       "      <td>1.834914</td>\n",
       "    </tr>\n",
       "    <tr>\n",
       "      <th>167</th>\n",
       "      <td>Mike Dunleavy</td>\n",
       "      <td>Chicago Bulls</td>\n",
       "      <td>4500000</td>\n",
       "      <td>SF</td>\n",
       "      <td>35</td>\n",
       "      <td>31</td>\n",
       "      <td>30</td>\n",
       "      <td>22.7</td>\n",
       "      <td>2.5</td>\n",
       "      <td>6.1</td>\n",
       "      <td>...</td>\n",
       "      <td>2.4</td>\n",
       "      <td>2.7</td>\n",
       "      <td>1.3</td>\n",
       "      <td>0.5</td>\n",
       "      <td>0.3</td>\n",
       "      <td>0.8</td>\n",
       "      <td>2.1</td>\n",
       "      <td>7.2</td>\n",
       "      <td>11</td>\n",
       "      <td>1.807705</td>\n",
       "    </tr>\n",
       "    <tr>\n",
       "      <th>475</th>\n",
       "      <td>Dahntay Jones</td>\n",
       "      <td>Cleveland Cavaliers</td>\n",
       "      <td>8819</td>\n",
       "      <td>SF</td>\n",
       "      <td>35</td>\n",
       "      <td>1</td>\n",
       "      <td>0</td>\n",
       "      <td>42.0</td>\n",
       "      <td>6.0</td>\n",
       "      <td>14.0</td>\n",
       "      <td>...</td>\n",
       "      <td>4.0</td>\n",
       "      <td>5.0</td>\n",
       "      <td>2.0</td>\n",
       "      <td>1.0</td>\n",
       "      <td>2.0</td>\n",
       "      <td>0.0</td>\n",
       "      <td>6.0</td>\n",
       "      <td>13.0</td>\n",
       "      <td>25</td>\n",
       "      <td>1.795869</td>\n",
       "    </tr>\n",
       "    <tr>\n",
       "      <th>354</th>\n",
       "      <td>Matthew Dellavedova</td>\n",
       "      <td>Cleveland Cavaliers</td>\n",
       "      <td>1147280</td>\n",
       "      <td>PG</td>\n",
       "      <td>25</td>\n",
       "      <td>76</td>\n",
       "      <td>14</td>\n",
       "      <td>24.6</td>\n",
       "      <td>2.7</td>\n",
       "      <td>6.7</td>\n",
       "      <td>...</td>\n",
       "      <td>1.7</td>\n",
       "      <td>2.1</td>\n",
       "      <td>4.4</td>\n",
       "      <td>0.6</td>\n",
       "      <td>0.1</td>\n",
       "      <td>1.5</td>\n",
       "      <td>2.3</td>\n",
       "      <td>7.5</td>\n",
       "      <td>25</td>\n",
       "      <td>1.781625</td>\n",
       "    </tr>\n",
       "    <tr>\n",
       "      <th>318</th>\n",
       "      <td>Gorgui Dieng</td>\n",
       "      <td>Minnesota Timberwolves</td>\n",
       "      <td>1474440</td>\n",
       "      <td>C</td>\n",
       "      <td>26</td>\n",
       "      <td>82</td>\n",
       "      <td>39</td>\n",
       "      <td>27.1</td>\n",
       "      <td>3.8</td>\n",
       "      <td>7.1</td>\n",
       "      <td>...</td>\n",
       "      <td>5.2</td>\n",
       "      <td>7.1</td>\n",
       "      <td>1.7</td>\n",
       "      <td>1.1</td>\n",
       "      <td>1.2</td>\n",
       "      <td>1.7</td>\n",
       "      <td>2.7</td>\n",
       "      <td>10.1</td>\n",
       "      <td>15</td>\n",
       "      <td>1.767928</td>\n",
       "    </tr>\n",
       "    <tr>\n",
       "      <th>136</th>\n",
       "      <td>Nikola Mirotic</td>\n",
       "      <td>Chicago Bulls</td>\n",
       "      <td>5543725</td>\n",
       "      <td>PF</td>\n",
       "      <td>24</td>\n",
       "      <td>66</td>\n",
       "      <td>38</td>\n",
       "      <td>24.9</td>\n",
       "      <td>3.8</td>\n",
       "      <td>9.2</td>\n",
       "      <td>...</td>\n",
       "      <td>4.6</td>\n",
       "      <td>5.5</td>\n",
       "      <td>1.5</td>\n",
       "      <td>0.9</td>\n",
       "      <td>0.7</td>\n",
       "      <td>1.5</td>\n",
       "      <td>2.3</td>\n",
       "      <td>11.8</td>\n",
       "      <td>11</td>\n",
       "      <td>1.767632</td>\n",
       "    </tr>\n",
       "    <tr>\n",
       "      <th>277</th>\n",
       "      <td>Festus Ezeli</td>\n",
       "      <td>Golden State Warriors</td>\n",
       "      <td>2008748</td>\n",
       "      <td>C</td>\n",
       "      <td>26</td>\n",
       "      <td>46</td>\n",
       "      <td>13</td>\n",
       "      <td>16.7</td>\n",
       "      <td>2.7</td>\n",
       "      <td>5.0</td>\n",
       "      <td>...</td>\n",
       "      <td>3.6</td>\n",
       "      <td>5.6</td>\n",
       "      <td>0.7</td>\n",
       "      <td>0.4</td>\n",
       "      <td>1.1</td>\n",
       "      <td>0.8</td>\n",
       "      <td>2.0</td>\n",
       "      <td>7.0</td>\n",
       "      <td>10</td>\n",
       "      <td>1.765382</td>\n",
       "    </tr>\n",
       "  </tbody>\n",
       "</table>\n",
       "<p>15 rows × 32 columns</p>\n",
       "</div>"
      ],
      "text/plain": [
       "                  Player                      Tm  2015-16 Pos  Age   G  GS  \\\n",
       "410          James Ennis       Memphis Grizzlies   845059  SF   25  22   5   \n",
       "349       Archie Goodwin            Phoenix Suns  1160160  PG   21  57  13   \n",
       "464      Elliot Williams       Charlotte Hornets    80000  PG   26   5   0   \n",
       "293         Lou Amundson         New York Knicks  1650000  PF   33  29   0   \n",
       "164       Kris Humphries            Phoenix Suns  4600000  PF   30  53  17   \n",
       "222     Dante Cunningham    New Orleans Pelicans  3000000  SF   28  80  46   \n",
       "345      Marcus Thornton         Houston Rockets  1186000  SG   28  61   8   \n",
       "452   Bryce Dejean-Jones    New Orleans Pelicans   169883  SG   23  14  11   \n",
       "259      Jared Sullinger          Boston Celtics  2269260  PF   23  81  73   \n",
       "167        Mike Dunleavy           Chicago Bulls  4500000  SF   35  31  30   \n",
       "475        Dahntay Jones     Cleveland Cavaliers     8819  SF   35   1   0   \n",
       "354  Matthew Dellavedova     Cleveland Cavaliers  1147280  PG   25  76  14   \n",
       "318         Gorgui Dieng  Minnesota Timberwolves  1474440   C   26  82  39   \n",
       "136       Nikola Mirotic           Chicago Bulls  5543725  PF   24  66  38   \n",
       "277         Festus Ezeli   Golden State Warriors  2008748   C   26  46  13   \n",
       "\n",
       "       MP   FG   FGA    ...     DRB  TRB  AST  STL  BLK  TOV   PF   PTS  \\\n",
       "410  15.0  2.5   5.1    ...     1.0  1.9  1.0  0.7  0.2  0.9  1.3   7.2   \n",
       "349  19.5  3.1   7.4    ...     2.0  2.5  2.1  0.5  0.2  1.8  1.5   8.9   \n",
       "464   9.0  0.4   2.0    ...     0.6  0.8  0.8  0.0  0.0  0.2  0.4   1.6   \n",
       "293   7.0  0.7   1.8    ...     0.9  1.7  0.4  0.2  0.2  0.5  1.5   1.8   \n",
       "164  15.8  2.3   5.6    ...     3.0  4.1  0.7  0.3  0.4  0.7  1.8   6.5   \n",
       "222  24.6  2.3   5.2    ...     2.2  3.0  1.0  0.5  0.4  0.5  2.2   6.1   \n",
       "345  18.2  3.5   8.9    ...     1.8  2.5  1.4  0.8  0.1  0.8  1.5   9.7   \n",
       "452  19.9  2.0   4.9    ...     2.9  3.4  1.1  0.7  0.1  0.8  1.2   5.6   \n",
       "259  23.6  4.3  10.0    ...     5.9  8.3  2.3  0.9  0.6  1.3  2.6  10.3   \n",
       "167  22.7  2.5   6.1    ...     2.4  2.7  1.3  0.5  0.3  0.8  2.1   7.2   \n",
       "475  42.0  6.0  14.0    ...     4.0  5.0  2.0  1.0  2.0  0.0  6.0  13.0   \n",
       "354  24.6  2.7   6.7    ...     1.7  2.1  4.4  0.6  0.1  1.5  2.3   7.5   \n",
       "318  27.1  3.8   7.1    ...     5.2  7.1  1.7  1.1  1.2  1.7  2.7  10.1   \n",
       "136  24.9  3.8   9.2    ...     4.6  5.5  1.5  0.9  0.7  1.5  2.3  11.8   \n",
       "277  16.7  2.7   5.0    ...     3.6  5.6  0.7  0.4  1.1  0.8  2.0   7.0   \n",
       "\n",
       "     Tm_Index      beta  \n",
       "410         2  2.355143  \n",
       "349        22  2.222903  \n",
       "464        18  2.106741  \n",
       "293         0  2.012828  \n",
       "164        22  1.961256  \n",
       "222        24  1.889515  \n",
       "345        13  1.842698  \n",
       "452        24  1.838988  \n",
       "259         6  1.834914  \n",
       "167        11  1.807705  \n",
       "475        25  1.795869  \n",
       "354        25  1.781625  \n",
       "318        15  1.767928  \n",
       "136        11  1.767632  \n",
       "277        10  1.765382  \n",
       "\n",
       "[15 rows x 32 columns]"
      ]
     },
     "execution_count": 17,
     "metadata": {},
     "output_type": "execute_result"
    }
   ],
   "source": [
    "mean_coefs = stateCoefs.mean(axis=0)\n",
    "mean_b0, mean_bs, mean_g0, mean_gs = split_params(mean_coefs, N_players, N_teams)\n",
    "contribute_off = np.argsort(-mean_bs)# * player_info['PTS'])\n",
    "\n",
    "betas_df = player_info.loc[contribute_off]\n",
    "betas_df['beta'] = mean_bs[contribute_off]\n",
    "betas_df.head(15)"
   ]
  },
  {
   "cell_type": "markdown",
   "metadata": {
    "collapsed": false
   },
   "source": [
    "* The contribution ranking is very different from our expectation; we expected that players who have higher PTS would contribute more but that's not the case here. We thought it's maybe bacause of the possible correlation among players, which we simply ignored in the previous case. So, we constructed a covariance matrix where we assigned covariance among players in the same team; the covariance was randomly sampled from the gamma distribution to make sure that it's always positive. "
   ]
  },
  {
   "cell_type": "markdown",
   "metadata": {},
   "source": [
    "# when the performance each player is assumed to be correlated\n",
    "1.Estimation of the latent variable states "
   ]
  },
  {
   "cell_type": "code",
   "execution_count": 12,
   "metadata": {
    "collapsed": true
   },
   "outputs": [],
   "source": [
    "def covariance(gammaMean = 1.0, gammaScale = 1.0):\n",
    "    dim = 2*(N_teams + N_players)\n",
    "    mat = np.identity(dim)\n",
    "    \n",
    "    tmIndexBox = player_info['Tm_Index'].values\n",
    "\n",
    "    for j in np.arange(len(player_info)):\n",
    "        tmIdxThisPlayer = tmIndexBox[j]\n",
    "        for x in np.arange(len(player_info)):\n",
    "            if (x == j):\n",
    "                continue\n",
    "            \n",
    "            if (tmIndexBox[x] == tmIdxThisPlayer):\n",
    "                mat[N_teams + j, N_teams + x] = np.random.gamma(gammaMean, gammaScale, size=None)\n",
    "                mat[2 * N_teams + N_players + j, 2* N_teams + N_players + x] = np.random.gamma(gammaMean, gammaScale, size=None)\n",
    "    return mat\n",
    "# print correlation()[2*N_teams + N_players][2 * N_teams + N_players:2 * N_teams + N_players +N_players]"
   ]
  },
  {
   "cell_type": "code",
   "execution_count": 19,
   "metadata": {
    "collapsed": false
   },
   "outputs": [
    {
     "name": "stdout",
     "output_type": "stream",
     "text": [
      "Elapsed Time (sec): 472.037000\n"
     ]
    },
    {
     "name": "stderr",
     "output_type": "stream",
     "text": [
      "D:\\Users\\Jim Hyungmok Son\\AppData\\Local\\Continuum\\Anaconda2\\lib\\site-packages\\ipykernel\\__main__.py:11: RuntimeWarning: covariance is not positive-semidefinite.\n"
     ]
    }
   ],
   "source": [
    "# game_index = 10\n",
    "N_mcmc = 5000\n",
    "burn_in = 100\n",
    "dim = 2*(N_teams + N_players)\n",
    "\n",
    "start_time = time.time()\n",
    "stateCoefs2 = ess(covariance(), logLik, N_mcmc, burn_in)\n",
    "elapsed = time.time() - start_time\n",
    "print(\"Elapsed Time (sec): %f\" %elapsed)"
   ]
  },
  {
   "cell_type": "markdown",
   "metadata": {},
   "source": [
    "2.Trace plot of one of the states of the latent variables"
   ]
  },
  {
   "cell_type": "code",
   "execution_count": 20,
   "metadata": {
    "collapsed": false
   },
   "outputs": [
    {
     "data": {
      "text/plain": [
       "[<matplotlib.lines.Line2D at 0x11878438>]"
      ]
     },
     "execution_count": 20,
     "metadata": {},
     "output_type": "execute_result"
    },
    {
     "data": {
      "image/png": "[encoded data removed]",
      "text/plain": [
       "<matplotlib.figure.Figure at 0x1902bc18>"
      ]
     },
     "metadata": {},
     "output_type": "display_data"
    }
   ],
   "source": [
    "i = 100\n",
    "plt.plot(stateCoefs2[:,i])\n",
    "plt.xlabel(\"$beta^{O}$ for the %sth player\" %(i))\n",
    "plt.ylabel(\"MCMC iteration\")"
   ]
  },
  {
   "cell_type": "code",
   "execution_count": 39,
   "metadata": {
    "collapsed": false
   },
   "outputs": [
    {
     "data": {
      "text/html": [
       "<div>\n",
       "<table border=\"1\" class=\"dataframe\">\n",
       "  <thead>\n",
       "    <tr style=\"text-align: right;\">\n",
       "      <th></th>\n",
       "      <th>Player</th>\n",
       "      <th>Tm</th>\n",
       "      <th>AST</th>\n",
       "      <th>PTS</th>\n",
       "      <th>beta</th>\n",
       "    </tr>\n",
       "  </thead>\n",
       "  <tbody>\n",
       "    <tr>\n",
       "      <th>88</th>\n",
       "      <td>Brandon Jennings</td>\n",
       "      <td>Orlando Magic</td>\n",
       "      <td>3.5</td>\n",
       "      <td>6.9</td>\n",
       "      <td>2.312773</td>\n",
       "    </tr>\n",
       "    <tr>\n",
       "      <th>86</th>\n",
       "      <td>Taj Gibson</td>\n",
       "      <td>Chicago Bulls</td>\n",
       "      <td>1.5</td>\n",
       "      <td>8.6</td>\n",
       "      <td>2.244996</td>\n",
       "    </tr>\n",
       "    <tr>\n",
       "      <th>435</th>\n",
       "      <td>Salah Mejri</td>\n",
       "      <td>Dallas Mavericks</td>\n",
       "      <td>0.3</td>\n",
       "      <td>3.7</td>\n",
       "      <td>2.049417</td>\n",
       "    </tr>\n",
       "    <tr>\n",
       "      <th>355</th>\n",
       "      <td>Kyle Anderson</td>\n",
       "      <td>San Antonio Spurs</td>\n",
       "      <td>1.6</td>\n",
       "      <td>4.5</td>\n",
       "      <td>2.026172</td>\n",
       "    </tr>\n",
       "    <tr>\n",
       "      <th>152</th>\n",
       "      <td>C.J. Watson</td>\n",
       "      <td>Orlando Magic</td>\n",
       "      <td>2.7</td>\n",
       "      <td>4.3</td>\n",
       "      <td>2.014821</td>\n",
       "    </tr>\n",
       "    <tr>\n",
       "      <th>219</th>\n",
       "      <td>Bismack Biyombo</td>\n",
       "      <td>Toronto Raptors</td>\n",
       "      <td>0.4</td>\n",
       "      <td>5.5</td>\n",
       "      <td>1.963750</td>\n",
       "    </tr>\n",
       "    <tr>\n",
       "      <th>107</th>\n",
       "      <td>Boris Diaw</td>\n",
       "      <td>San Antonio Spurs</td>\n",
       "      <td>2.3</td>\n",
       "      <td>6.4</td>\n",
       "      <td>1.863339</td>\n",
       "    </tr>\n",
       "    <tr>\n",
       "      <th>137</th>\n",
       "      <td>P.J. Tucker</td>\n",
       "      <td>Phoenix Suns</td>\n",
       "      <td>2.2</td>\n",
       "      <td>8.0</td>\n",
       "      <td>1.862467</td>\n",
       "    </tr>\n",
       "    <tr>\n",
       "      <th>199</th>\n",
       "      <td>Marcus Smart</td>\n",
       "      <td>Boston Celtics</td>\n",
       "      <td>3.0</td>\n",
       "      <td>9.1</td>\n",
       "      <td>1.813299</td>\n",
       "    </tr>\n",
       "    <tr>\n",
       "      <th>326</th>\n",
       "      <td>Solomon Hill</td>\n",
       "      <td>Indiana Pacers</td>\n",
       "      <td>1.0</td>\n",
       "      <td>4.2</td>\n",
       "      <td>1.765663</td>\n",
       "    </tr>\n",
       "    <tr>\n",
       "      <th>333</th>\n",
       "      <td>Sasha Kaun</td>\n",
       "      <td>Cleveland Cavaliers</td>\n",
       "      <td>0.1</td>\n",
       "      <td>0.9</td>\n",
       "      <td>1.710526</td>\n",
       "    </tr>\n",
       "    <tr>\n",
       "      <th>210</th>\n",
       "      <td>Randy Foye</td>\n",
       "      <td>Oklahoma City Thunder</td>\n",
       "      <td>2.0</td>\n",
       "      <td>5.9</td>\n",
       "      <td>1.639710</td>\n",
       "    </tr>\n",
       "    <tr>\n",
       "      <th>263</th>\n",
       "      <td>Ramon Sessions</td>\n",
       "      <td>Washington Wizards</td>\n",
       "      <td>2.9</td>\n",
       "      <td>9.9</td>\n",
       "      <td>1.621074</td>\n",
       "    </tr>\n",
       "    <tr>\n",
       "      <th>319</th>\n",
       "      <td>Mitch McGary</td>\n",
       "      <td>Oklahoma City Thunder</td>\n",
       "      <td>0.2</td>\n",
       "      <td>1.3</td>\n",
       "      <td>1.619596</td>\n",
       "    </tr>\n",
       "    <tr>\n",
       "      <th>160</th>\n",
       "      <td>Derrick Williams</td>\n",
       "      <td>New York Knicks</td>\n",
       "      <td>0.9</td>\n",
       "      <td>9.3</td>\n",
       "      <td>1.600187</td>\n",
       "    </tr>\n",
       "  </tbody>\n",
       "</table>\n",
       "</div>"
      ],
      "text/plain": [
       "               Player                     Tm  AST  PTS      beta\n",
       "88   Brandon Jennings          Orlando Magic  3.5  6.9  2.312773\n",
       "86         Taj Gibson          Chicago Bulls  1.5  8.6  2.244996\n",
       "435       Salah Mejri       Dallas Mavericks  0.3  3.7  2.049417\n",
       "355     Kyle Anderson      San Antonio Spurs  1.6  4.5  2.026172\n",
       "152       C.J. Watson          Orlando Magic  2.7  4.3  2.014821\n",
       "219   Bismack Biyombo        Toronto Raptors  0.4  5.5  1.963750\n",
       "107        Boris Diaw      San Antonio Spurs  2.3  6.4  1.863339\n",
       "137       P.J. Tucker           Phoenix Suns  2.2  8.0  1.862467\n",
       "199      Marcus Smart         Boston Celtics  3.0  9.1  1.813299\n",
       "326      Solomon Hill         Indiana Pacers  1.0  4.2  1.765663\n",
       "333        Sasha Kaun    Cleveland Cavaliers  0.1  0.9  1.710526\n",
       "210        Randy Foye  Oklahoma City Thunder  2.0  5.9  1.639710\n",
       "263    Ramon Sessions     Washington Wizards  2.9  9.9  1.621074\n",
       "319      Mitch McGary  Oklahoma City Thunder  0.2  1.3  1.619596\n",
       "160  Derrick Williams        New York Knicks  0.9  9.3  1.600187"
      ]
     },
     "execution_count": 39,
     "metadata": {},
     "output_type": "execute_result"
    }
   ],
   "source": [
    "# last_coefs = stateCoefs2[100,:]\n",
    "# last_b0, last_bs, last_g0, last_gs = split_params(last_coefs, N_players, N_teams)\n",
    "\n",
    "mean_coefs2 = stateCoefs2.mean(axis=0)\n",
    "mean_b0, mean_bs, mean_g0, mean_gs = split_params(mean_coefs2, N_players, N_teams)\n",
    "contribute_off = np.argsort(-mean_bs)# * player_info['PTS'])\n",
    "\n",
    "betas_df = player_info.loc[contribute_off]\n",
    "betas_df['beta'] = mean_bs[contribute_off]\n",
    "betas_df.head(15)[['Player', 'Tm', 'AST', 'PTS','beta']]"
   ]
  },
  {
   "cell_type": "markdown",
   "metadata": {},
   "source": [
    "3.MAP estimation"
   ]
  },
  {
   "cell_type": "code",
   "execution_count": 23,
   "metadata": {
    "collapsed": false
   },
   "outputs": [
    {
     "name": "stdout",
     "output_type": "stream",
     "text": [
      "The MAP value for beta 100 is: -0.0269793126602\n"
     ]
    },
    {
     "data": {
      "image/png": "[encoded data removed]",
      "text/plain": [
       "<matplotlib.figure.Figure at 0x11ed7940>"
      ]
     },
     "metadata": {},
     "output_type": "display_data"
    }
   ],
   "source": [
    "for i in range(100,101):\n",
    "    plt.figure(i)\n",
    "    p_hist = plt.hist(stateCoefs2[burn_in:,i], bins=100)\n",
    "    plt.title(\"Guest variable states in game %s\" %(i))\n",
    "    plt.xlabel(\"beta %s\" %(i+1))\n",
    "    plt.ylabel(\"counts\")\n",
    "    p_map_index = np.argmax(p_hist[0])\n",
    "    p_hist_bin_middle = 0.5*p_hist[1][:-1] + 0.5*p_hist[1][1:]\n",
    "    p_map = p_hist_bin_middle[p_map_index]\n",
    "    \n",
    "    print \"The MAP value for beta %s is: %s\" %(i, p_map)"
   ]
  },
  {
   "cell_type": "markdown",
   "metadata": {},
   "source": [
    "* Having a covariance matrix, it seems the result is more convergent compared to the previous case where the players were indenpendent. Even from the ranking of players based on the offensive contribution factors, we have more number of high profile player who have high PTS and AST this time. However, the level of convergence based on the MAP estimatino is not satisfactory. Maybe, by having a better covarinace matric which can reflect the actual correlation among players, we would do better sampling."
   ]
  },
  {
   "cell_type": "code",
   "execution_count": 13,
   "metadata": {
    "collapsed": false
   },
   "outputs": [
    {
     "name": "stdout",
     "output_type": "stream",
     "text": [
      "Elapsed Time (sec): 1954.638000\n"
     ]
    },
    {
     "name": "stderr",
     "output_type": "stream",
     "text": [
      "D:\\Users\\Jim Hyungmok Son\\AppData\\Local\\Continuum\\Anaconda2\\lib\\site-packages\\ipykernel\\__main__.py:11: RuntimeWarning: covariance is not positive-semidefinite.\n"
     ]
    }
   ],
   "source": [
    "# game_index = 10\n",
    "N_mcmc = 20000\n",
    "burn_in = 1000\n",
    "dim = 2*(N_teams + N_players)\n",
    "\n",
    "start_time = time.time()\n",
    "stateCoefs2 = ess(covariance(), logLik, N_mcmc, burn_in)\n",
    "elapsed = time.time() - start_time\n",
    "print(\"Elapsed Time (sec): %f\" %elapsed)"
   ]
  },
  {
   "cell_type": "code",
   "execution_count": 14,
   "metadata": {
    "collapsed": false
   },
   "outputs": [
    {
     "data": {
      "text/plain": [
       "[<matplotlib.lines.Line2D at 0xe676ba8>]"
      ]
     },
     "execution_count": 14,
     "metadata": {},
     "output_type": "execute_result"
    },
    {
     "data": {
      "image/png": "[encoded data removed]",
      "text/plain": [
       "<matplotlib.figure.Figure at 0xe25f550>"
      ]
     },
     "metadata": {},
     "output_type": "display_data"
    }
   ],
   "source": [
    "plt.plot(stateCoefs2[:,100])"
   ]
  },
  {
   "cell_type": "code",
   "execution_count": 15,
   "metadata": {
    "collapsed": false
   },
   "outputs": [
    {
     "name": "stdout",
     "output_type": "stream",
     "text": [
      "The MAP value for beta 100 is: -0.416541860484\n"
     ]
    },
    {
     "data": {
      "image/png": "[encoded data removed]",
      "text/plain": [
       "<matplotlib.figure.Figure at 0xe720ba8>"
      ]
     },
     "metadata": {},
     "output_type": "display_data"
    }
   ],
   "source": [
    "for i in range(100,101):\n",
    "    plt.figure(i)\n",
    "    p_hist = plt.hist(stateCoefs2[burn_in:,i], bins=100)\n",
    "    plt.title(\"Guest variable states in game %s\" %(i))\n",
    "    plt.xlabel(\"beta %s\" %(i+1))\n",
    "    plt.ylabel(\"counts\")\n",
    "    p_map_index = np.argmax(p_hist[0])\n",
    "    p_hist_bin_middle = 0.5*p_hist[1][:-1] + 0.5*p_hist[1][1:]\n",
    "    p_map = p_hist_bin_middle[p_map_index]\n",
    "    \n",
    "    print \"The MAP value for beta %s is: %s\" %(i, p_map)"
   ]
  },
  {
   "cell_type": "code",
   "execution_count": 40,
   "metadata": {
    "collapsed": false
   },
   "outputs": [
    {
     "data": {
      "text/html": [
       "<div>\n",
       "<table border=\"1\" class=\"dataframe\">\n",
       "  <thead>\n",
       "    <tr style=\"text-align: right;\">\n",
       "      <th></th>\n",
       "      <th>Player</th>\n",
       "      <th>Tm</th>\n",
       "      <th>AST</th>\n",
       "      <th>PTS</th>\n",
       "      <th>beta</th>\n",
       "    </tr>\n",
       "  </thead>\n",
       "  <tbody>\n",
       "    <tr>\n",
       "      <th>88</th>\n",
       "      <td>Brandon Jennings</td>\n",
       "      <td>Orlando Magic</td>\n",
       "      <td>3.5</td>\n",
       "      <td>6.9</td>\n",
       "      <td>2.312773</td>\n",
       "    </tr>\n",
       "    <tr>\n",
       "      <th>86</th>\n",
       "      <td>Taj Gibson</td>\n",
       "      <td>Chicago Bulls</td>\n",
       "      <td>1.5</td>\n",
       "      <td>8.6</td>\n",
       "      <td>2.244996</td>\n",
       "    </tr>\n",
       "    <tr>\n",
       "      <th>435</th>\n",
       "      <td>Salah Mejri</td>\n",
       "      <td>Dallas Mavericks</td>\n",
       "      <td>0.3</td>\n",
       "      <td>3.7</td>\n",
       "      <td>2.049417</td>\n",
       "    </tr>\n",
       "    <tr>\n",
       "      <th>355</th>\n",
       "      <td>Kyle Anderson</td>\n",
       "      <td>San Antonio Spurs</td>\n",
       "      <td>1.6</td>\n",
       "      <td>4.5</td>\n",
       "      <td>2.026172</td>\n",
       "    </tr>\n",
       "    <tr>\n",
       "      <th>152</th>\n",
       "      <td>C.J. Watson</td>\n",
       "      <td>Orlando Magic</td>\n",
       "      <td>2.7</td>\n",
       "      <td>4.3</td>\n",
       "      <td>2.014821</td>\n",
       "    </tr>\n",
       "    <tr>\n",
       "      <th>219</th>\n",
       "      <td>Bismack Biyombo</td>\n",
       "      <td>Toronto Raptors</td>\n",
       "      <td>0.4</td>\n",
       "      <td>5.5</td>\n",
       "      <td>1.963750</td>\n",
       "    </tr>\n",
       "    <tr>\n",
       "      <th>107</th>\n",
       "      <td>Boris Diaw</td>\n",
       "      <td>San Antonio Spurs</td>\n",
       "      <td>2.3</td>\n",
       "      <td>6.4</td>\n",
       "      <td>1.863339</td>\n",
       "    </tr>\n",
       "    <tr>\n",
       "      <th>137</th>\n",
       "      <td>P.J. Tucker</td>\n",
       "      <td>Phoenix Suns</td>\n",
       "      <td>2.2</td>\n",
       "      <td>8.0</td>\n",
       "      <td>1.862467</td>\n",
       "    </tr>\n",
       "    <tr>\n",
       "      <th>199</th>\n",
       "      <td>Marcus Smart</td>\n",
       "      <td>Boston Celtics</td>\n",
       "      <td>3.0</td>\n",
       "      <td>9.1</td>\n",
       "      <td>1.813299</td>\n",
       "    </tr>\n",
       "    <tr>\n",
       "      <th>326</th>\n",
       "      <td>Solomon Hill</td>\n",
       "      <td>Indiana Pacers</td>\n",
       "      <td>1.0</td>\n",
       "      <td>4.2</td>\n",
       "      <td>1.765663</td>\n",
       "    </tr>\n",
       "    <tr>\n",
       "      <th>333</th>\n",
       "      <td>Sasha Kaun</td>\n",
       "      <td>Cleveland Cavaliers</td>\n",
       "      <td>0.1</td>\n",
       "      <td>0.9</td>\n",
       "      <td>1.710526</td>\n",
       "    </tr>\n",
       "    <tr>\n",
       "      <th>210</th>\n",
       "      <td>Randy Foye</td>\n",
       "      <td>Oklahoma City Thunder</td>\n",
       "      <td>2.0</td>\n",
       "      <td>5.9</td>\n",
       "      <td>1.639710</td>\n",
       "    </tr>\n",
       "    <tr>\n",
       "      <th>263</th>\n",
       "      <td>Ramon Sessions</td>\n",
       "      <td>Washington Wizards</td>\n",
       "      <td>2.9</td>\n",
       "      <td>9.9</td>\n",
       "      <td>1.621074</td>\n",
       "    </tr>\n",
       "    <tr>\n",
       "      <th>319</th>\n",
       "      <td>Mitch McGary</td>\n",
       "      <td>Oklahoma City Thunder</td>\n",
       "      <td>0.2</td>\n",
       "      <td>1.3</td>\n",
       "      <td>1.619596</td>\n",
       "    </tr>\n",
       "    <tr>\n",
       "      <th>160</th>\n",
       "      <td>Derrick Williams</td>\n",
       "      <td>New York Knicks</td>\n",
       "      <td>0.9</td>\n",
       "      <td>9.3</td>\n",
       "      <td>1.600187</td>\n",
       "    </tr>\n",
       "  </tbody>\n",
       "</table>\n",
       "</div>"
      ],
      "text/plain": [
       "               Player                     Tm  AST  PTS      beta\n",
       "88   Brandon Jennings          Orlando Magic  3.5  6.9  2.312773\n",
       "86         Taj Gibson          Chicago Bulls  1.5  8.6  2.244996\n",
       "435       Salah Mejri       Dallas Mavericks  0.3  3.7  2.049417\n",
       "355     Kyle Anderson      San Antonio Spurs  1.6  4.5  2.026172\n",
       "152       C.J. Watson          Orlando Magic  2.7  4.3  2.014821\n",
       "219   Bismack Biyombo        Toronto Raptors  0.4  5.5  1.963750\n",
       "107        Boris Diaw      San Antonio Spurs  2.3  6.4  1.863339\n",
       "137       P.J. Tucker           Phoenix Suns  2.2  8.0  1.862467\n",
       "199      Marcus Smart         Boston Celtics  3.0  9.1  1.813299\n",
       "326      Solomon Hill         Indiana Pacers  1.0  4.2  1.765663\n",
       "333        Sasha Kaun    Cleveland Cavaliers  0.1  0.9  1.710526\n",
       "210        Randy Foye  Oklahoma City Thunder  2.0  5.9  1.639710\n",
       "263    Ramon Sessions     Washington Wizards  2.9  9.9  1.621074\n",
       "319      Mitch McGary  Oklahoma City Thunder  0.2  1.3  1.619596\n",
       "160  Derrick Williams        New York Knicks  0.9  9.3  1.600187"
      ]
     },
     "execution_count": 40,
     "metadata": {},
     "output_type": "execute_result"
    }
   ],
   "source": [
    "# last_coefs = stateCoefs2[100,:]\n",
    "# last_b0, last_bs, last_g0, last_gs = split_params(last_coefs, N_players, N_teams)\n",
    "\n",
    "mean_coefs2 = stateCoefs2.mean(axis=0)\n",
    "mean_b0, mean_bs, mean_g0, mean_gs = split_params(mean_coefs2, N_players, N_teams)\n",
    "contribute_off = np.argsort(-mean_bs)# * player_info['PTS'])\n",
    "\n",
    "betas_df = player_info.loc[contribute_off]\n",
    "betas_df['beta'] = mean_bs[contribute_off]\n",
    "betas_df.head(15)[['Player', 'Tm', 'AST', 'PTS','beta']]"
   ]
  },
  {
   "cell_type": "code",
   "execution_count": 17,
   "metadata": {
    "collapsed": false
   },
   "outputs": [
    {
     "name": "stdout",
     "output_type": "stream",
     "text": [
      "Elapsed Time (sec): 3839.672000\n"
     ]
    },
    {
     "name": "stderr",
     "output_type": "stream",
     "text": [
      "D:\\Users\\Jim Hyungmok Son\\AppData\\Local\\Continuum\\Anaconda2\\lib\\site-packages\\ipykernel\\__main__.py:11: RuntimeWarning: covariance is not positive-semidefinite.\n"
     ]
    }
   ],
   "source": [
    "# game_index = 10\n",
    "N_mcmc = 40000\n",
    "burn_in = 1000\n",
    "dim = 2*(N_teams + N_players)\n",
    "\n",
    "start_time = time.time()\n",
    "stateCoefs2 = ess(covariance(), logLik, N_mcmc, burn_in)\n",
    "elapsed = time.time() - start_time\n",
    "print(\"Elapsed Time (sec): %f\" %elapsed)"
   ]
  },
  {
   "cell_type": "code",
   "execution_count": 29,
   "metadata": {
    "collapsed": false
   },
   "outputs": [
    {
     "data": {
      "text/plain": [
       "<matplotlib.text.Text at 0x1ef28c88>"
      ]
     },
     "execution_count": 29,
     "metadata": {},
     "output_type": "execute_result"
    },
    {
     "data": {
      "image/png": "[encoded data removed]",
      "text/plain": [
       "<matplotlib.figure.Figure at 0x1a7d2f98>"
      ]
     },
     "metadata": {},
     "output_type": "display_data"
    }
   ],
   "source": [
    "i = 100\n",
    "plt.plot(stateCoefs2[:,i])\n",
    "plt.ylabel(\"$beta^{O}$ for the %sth player\" %(i+1-N_teams))\n",
    "plt.xlabel(\"ESS iteration\")"
   ]
  },
  {
   "cell_type": "code",
   "execution_count": 28,
   "metadata": {
    "collapsed": false
   },
   "outputs": [
    {
     "name": "stdout",
     "output_type": "stream",
     "text": [
      "The MAP value for beta 100 is: -0.189737553473\n"
     ]
    },
    {
     "data": {
      "image/png": "[encoded data removed]",
      "text/plain": [
       "<matplotlib.figure.Figure at 0x1a792518>"
      ]
     },
     "metadata": {},
     "output_type": "display_data"
    }
   ],
   "source": [
    "for i in range(100,101):\n",
    "    plt.figure(i)\n",
    "    p_hist = plt.hist(stateCoefs2[burn_in:,i], bins=100)\n",
    "#     plt.title(\"MAP estimation for the %sth player\" %(i+1))\n",
    "    plt.xlabel(\"$beta^{O}$ for the %sth player\" %(i+1-N_teams))\n",
    "    plt.ylabel(\"counts\")\n",
    "    p_map_index = np.argmax(p_hist[0])\n",
    "    p_hist_bin_middle = 0.5*p_hist[1][:-1] + 0.5*p_hist[1][1:]\n",
    "    p_map = p_hist_bin_middle[p_map_index]\n",
    "    \n",
    "    print \"The MAP value for beta %s is: %s\" %(i, p_map)"
   ]
  },
  {
   "cell_type": "code",
   "execution_count": null,
   "metadata": {
    "collapsed": true
   },
   "outputs": [],
   "source": []
  }
 ],
 "metadata": {
  "kernelspec": {
   "display_name": "Python 2",
   "language": "python",
   "name": "python2"
  },
  "language_info": {
   "codemirror_mode": {
    "name": "ipython",
    "version": 2
   },
   "file_extension": ".py",
   "mimetype": "text/x-python",
   "name": "python",
   "nbconvert_exporter": "python",
   "pygments_lexer": "ipython2",
   "version": "2.7.11"
  }
 },
 "nbformat": 4,
 "nbformat_minor": 0
}
