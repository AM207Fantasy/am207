{
 "cells": [
  {
   "cell_type": "markdown",
   "metadata": {},
   "source": [
    "### Cleaned Data"
   ]
  },
  {
   "cell_type": "code",
   "execution_count": 58,
   "metadata": {
    "collapsed": false
   },
   "outputs": [],
   "source": [
    "import numpy as np\n",
    "\n",
    "\n",
    "import scipy.stats \n",
    "import pandas as pd\n",
    "import pickle"
   ]
  },
  {
   "cell_type": "code",
   "execution_count": 3,
   "metadata": {
    "collapsed": true
   },
   "outputs": [],
   "source": [
    "# This function is to conver the string into int\n",
    "def Str2float(string):\n",
    "    try:\n",
    "        return float(string)\n",
    "    except:\n",
    "        return \"NaN\""
   ]
  },
  {
   "cell_type": "code",
   "execution_count": 6,
   "metadata": {
    "collapsed": false
   },
   "outputs": [
    {
     "data": {
      "text/html": [
       "<div>\n",
       "<table border=\"1\" class=\"dataframe\">\n",
       "  <thead>\n",
       "    <tr style=\"text-align: right;\">\n",
       "      <th></th>\n",
       "      <th>Visitor/Neutral</th>\n",
       "      <th>PTS</th>\n",
       "      <th>Home/Neutral</th>\n",
       "      <th>PTS.1</th>\n",
       "      <th>Year</th>\n",
       "      <th>diff</th>\n",
       "    </tr>\n",
       "  </thead>\n",
       "  <tbody>\n",
       "    <tr>\n",
       "      <th>1</th>\n",
       "      <td>Detroit Pistons</td>\n",
       "      <td>106</td>\n",
       "      <td>Atlanta Hawks</td>\n",
       "      <td>94</td>\n",
       "      <td>2016</td>\n",
       "      <td>12</td>\n",
       "    </tr>\n",
       "    <tr>\n",
       "      <th>2</th>\n",
       "      <td>Cleveland Cavaliers</td>\n",
       "      <td>95</td>\n",
       "      <td>Chicago Bulls</td>\n",
       "      <td>97</td>\n",
       "      <td>2016</td>\n",
       "      <td>-2</td>\n",
       "    </tr>\n",
       "    <tr>\n",
       "      <th>3</th>\n",
       "      <td>New Orleans Pelicans</td>\n",
       "      <td>95</td>\n",
       "      <td>Golden State Warriors</td>\n",
       "      <td>111</td>\n",
       "      <td>2016</td>\n",
       "      <td>-16</td>\n",
       "    </tr>\n",
       "    <tr>\n",
       "      <th>4</th>\n",
       "      <td>Philadelphia 76ers</td>\n",
       "      <td>95</td>\n",
       "      <td>Boston Celtics</td>\n",
       "      <td>112</td>\n",
       "      <td>2016</td>\n",
       "      <td>-17</td>\n",
       "    </tr>\n",
       "    <tr>\n",
       "      <th>5</th>\n",
       "      <td>Chicago Bulls</td>\n",
       "      <td>115</td>\n",
       "      <td>Brooklyn Nets</td>\n",
       "      <td>100</td>\n",
       "      <td>2016</td>\n",
       "      <td>15</td>\n",
       "    </tr>\n",
       "  </tbody>\n",
       "</table>\n",
       "</div>"
      ],
      "text/plain": [
       "        Visitor/Neutral  PTS           Home/Neutral PTS.1  Year diff\n",
       "1       Detroit Pistons  106          Atlanta Hawks    94  2016   12\n",
       "2   Cleveland Cavaliers   95          Chicago Bulls    97  2016   -2\n",
       "3  New Orleans Pelicans   95  Golden State Warriors   111  2016  -16\n",
       "4    Philadelphia 76ers   95         Boston Celtics   112  2016  -17\n",
       "5         Chicago Bulls  115          Brooklyn Nets   100  2016   15"
      ]
     },
     "execution_count": 6,
     "metadata": {},
     "output_type": "execute_result"
    }
   ],
   "source": [
    "#Construct the game stats with each team rosters\n",
    "#import 2016\n",
    "game16_df = pd.read_csv('15-16game_stats.csv')[[\"Visitor/Neutral\", \"PTS\", \"Home/Neutral\", \"PTS.1\"]]\n",
    "game16_df['Year'] = 2016\n",
    "game16_df['PTS'] = game16_df['PTS'].map(lambda x: Str2float(x))\n",
    "game16_df['PTS.1'] = game16_df['PTS.1'].map(lambda x: Str2float(x))\n",
    "game16_df = game16_df[game16_df['PTS'].map(lambda x: type(x) is float)]\n",
    "game16_df['diff'] = game16_df['PTS'] - game16_df['PTS.1']\n",
    "game16_df.head()"
   ]
  },
  {
   "cell_type": "code",
   "execution_count": 57,
   "metadata": {
    "collapsed": true
   },
   "outputs": [],
   "source": [
    "game16_df.to_csv(\"clean-data/game_outcomes_15-16.csv\")"
   ]
  },
  {
   "cell_type": "code",
   "execution_count": 7,
   "metadata": {
    "collapsed": false
   },
   "outputs": [
    {
     "data": {
      "text/html": [
       "<div>\n",
       "<table border=\"1\" class=\"dataframe\">\n",
       "  <thead>\n",
       "    <tr style=\"text-align: right;\">\n",
       "      <th></th>\n",
       "      <th>ORtg</th>\n",
       "      <th>Player</th>\n",
       "    </tr>\n",
       "  </thead>\n",
       "  <tbody>\n",
       "    <tr>\n",
       "      <th>0</th>\n",
       "      <td>99</td>\n",
       "      <td>Aaron Brooks</td>\n",
       "    </tr>\n",
       "    <tr>\n",
       "      <th>1</th>\n",
       "      <td>114</td>\n",
       "      <td>Aaron Gordon</td>\n",
       "    </tr>\n",
       "    <tr>\n",
       "      <th>2</th>\n",
       "      <td>77</td>\n",
       "      <td>Aaron Harrison</td>\n",
       "    </tr>\n",
       "    <tr>\n",
       "      <th>3</th>\n",
       "      <td>81</td>\n",
       "      <td>Adreian Payne</td>\n",
       "    </tr>\n",
       "    <tr>\n",
       "      <th>4</th>\n",
       "      <td>113</td>\n",
       "      <td>Al Horford</td>\n",
       "    </tr>\n",
       "  </tbody>\n",
       "</table>\n",
       "</div>"
      ],
      "text/plain": [
       "   ORtg          Player\n",
       "0    99    Aaron Brooks\n",
       "1   114    Aaron Gordon\n",
       "2    77  Aaron Harrison\n",
       "3    81   Adreian Payne\n",
       "4   113      Al Horford"
      ]
     },
     "execution_count": 7,
     "metadata": {},
     "output_type": "execute_result"
    }
   ],
   "source": [
    "#offensive Rating\n",
    "player_df2 = pd.read_csv('15-16Per100Pos_stats.csv')[['Player','ORtg']]\n",
    "player_df2 = player_df2[player_df2['ORtg'] != \"ORtg\"]\n",
    "player_df2 = player_df2[~pd.isnull(player_df2['ORtg'])] \n",
    "player_df2['ORtg'] = player_df2['ORtg'].map(lambda x: int(x))\n",
    "player_df2 = pd.DataFrame(player_df2.groupby('Player')['ORtg'].max())\n",
    "player_df2[\"Player\"] = player_df2.index\n",
    "player_df2 = player_df2.reset_index(drop=True)\n",
    "player_df2.head()"
   ]
  },
  {
   "cell_type": "code",
   "execution_count": 8,
   "metadata": {
    "collapsed": false
   },
   "outputs": [
    {
     "data": {
      "text/html": [
       "<div>\n",
       "<table border=\"1\" class=\"dataframe\">\n",
       "  <thead>\n",
       "    <tr style=\"text-align: right;\">\n",
       "      <th></th>\n",
       "      <th>DRtg</th>\n",
       "      <th>Player</th>\n",
       "    </tr>\n",
       "  </thead>\n",
       "  <tbody>\n",
       "    <tr>\n",
       "      <th>0</th>\n",
       "      <td>109</td>\n",
       "      <td>Aaron Brooks</td>\n",
       "    </tr>\n",
       "    <tr>\n",
       "      <th>1</th>\n",
       "      <td>105</td>\n",
       "      <td>Aaron Gordon</td>\n",
       "    </tr>\n",
       "    <tr>\n",
       "      <th>2</th>\n",
       "      <td>103</td>\n",
       "      <td>Aaron Harrison</td>\n",
       "    </tr>\n",
       "    <tr>\n",
       "      <th>3</th>\n",
       "      <td>108</td>\n",
       "      <td>Adreian Payne</td>\n",
       "    </tr>\n",
       "    <tr>\n",
       "      <th>4</th>\n",
       "      <td>101</td>\n",
       "      <td>Al Horford</td>\n",
       "    </tr>\n",
       "  </tbody>\n",
       "</table>\n",
       "</div>"
      ],
      "text/plain": [
       "   DRtg          Player\n",
       "0   109    Aaron Brooks\n",
       "1   105    Aaron Gordon\n",
       "2   103  Aaron Harrison\n",
       "3   108   Adreian Payne\n",
       "4   101      Al Horford"
      ]
     },
     "execution_count": 8,
     "metadata": {},
     "output_type": "execute_result"
    }
   ],
   "source": [
    "#defensive Rating \n",
    "player_d = pd.read_csv('15-16Per100Pos_stats.csv')[['Player','DRtg']]\n",
    "player_d = player_d[player_d['DRtg'] != \"DRtg\"]\n",
    "player_d = player_d[~pd.isnull(player_d['DRtg'])] \n",
    "player_d['DRtg'] = player_d['DRtg'].map(lambda x: int(x))\n",
    "player_d = pd.DataFrame(player_d.groupby('Player')['DRtg'].max())\n",
    "player_d[\"Player\"] = player_d.index\n",
    "player_d = player_d.reset_index(drop=True)\n",
    "player_d.head()"
   ]
  },
  {
   "cell_type": "code",
   "execution_count": 32,
   "metadata": {
    "collapsed": false
   },
   "outputs": [
    {
     "data": {
      "text/html": [
       "<div>\n",
       "<table border=\"1\" class=\"dataframe\">\n",
       "  <thead>\n",
       "    <tr style=\"text-align: right;\">\n",
       "      <th></th>\n",
       "      <th>Player</th>\n",
       "      <th>Tm</th>\n",
       "      <th>2015-16</th>\n",
       "    </tr>\n",
       "  </thead>\n",
       "  <tbody>\n",
       "    <tr>\n",
       "      <th>0</th>\n",
       "      <td>Kobe Bryant</td>\n",
       "      <td>Los Angeles Lakers</td>\n",
       "      <td>25000000</td>\n",
       "    </tr>\n",
       "    <tr>\n",
       "      <th>1</th>\n",
       "      <td>Joe Johnson</td>\n",
       "      <td>Brooklyn Nets</td>\n",
       "      <td>24894863</td>\n",
       "    </tr>\n",
       "    <tr>\n",
       "      <th>2</th>\n",
       "      <td>LeBron James</td>\n",
       "      <td>Cleveland Cavaliers</td>\n",
       "      <td>22971000</td>\n",
       "    </tr>\n",
       "    <tr>\n",
       "      <th>3</th>\n",
       "      <td>Carmelo Anthony</td>\n",
       "      <td>New York Knicks</td>\n",
       "      <td>22875000</td>\n",
       "    </tr>\n",
       "    <tr>\n",
       "      <th>4</th>\n",
       "      <td>Dwight Howard</td>\n",
       "      <td>Houston Rockets</td>\n",
       "      <td>22359364</td>\n",
       "    </tr>\n",
       "  </tbody>\n",
       "</table>\n",
       "</div>"
      ],
      "text/plain": [
       "            Player                   Tm   2015-16\n",
       "0      Kobe Bryant   Los Angeles Lakers  25000000\n",
       "1      Joe Johnson        Brooklyn Nets  24894863\n",
       "2     LeBron James  Cleveland Cavaliers  22971000\n",
       "3  Carmelo Anthony      New York Knicks  22875000\n",
       "4    Dwight Howard      Houston Rockets  22359364"
      ]
     },
     "execution_count": 32,
     "metadata": {},
     "output_type": "execute_result"
    }
   ],
   "source": [
    "#import name and their teams \n",
    "playerTeam_df = pd.read_csv('salary.csv', header = 1)[['Player','Tm','2015-16']]\n",
    "playerTeam_df = playerTeam_df[playerTeam_df['Tm'] != 'Tm']\n",
    "playerTeam_df = playerTeam_df[playerTeam_df['Player'] != 'Player']\n",
    "playerTeam_df = playerTeam_df[playerTeam_df['2015-16'] != 'Salary']\n",
    "playerTeam_df['2015-16'] = playerTeam_df['2015-16'].map(lambda x: int(x))\n",
    "# Construct the salary df\n",
    "salary_df = pd.DataFrame(playerTeam_df.groupby('Player')['2015-16'].max())\n",
    "salary_df[\"Player\"] = salary_df.index\n",
    "salary_df = salary_df.reset_index(drop=True)\n",
    "playerTeam_df = playerTeam_df[~pd.isnull(playerTeam_df['Player'])]\n",
    "playerTeam_df =  playerTeam_df.drop_duplicates('Player')\n",
    "playerTeam_df = playerTeam_df[[\"Player\",\"Tm\"]].merge(salary_df,how=\"inner\", on=\"Player\")\n",
    "playerTeam_df.head()"
   ]
  },
  {
   "cell_type": "code",
   "execution_count": 39,
   "metadata": {
    "collapsed": false
   },
   "outputs": [
    {
     "data": {
      "text/html": [
       "<div>\n",
       "<table border=\"1\" class=\"dataframe\">\n",
       "  <thead>\n",
       "    <tr style=\"text-align: right;\">\n",
       "      <th></th>\n",
       "      <th>Player</th>\n",
       "      <th>Tm</th>\n",
       "      <th>2015-16</th>\n",
       "      <th>DRtg</th>\n",
       "      <th>ORtg</th>\n",
       "    </tr>\n",
       "  </thead>\n",
       "  <tbody>\n",
       "    <tr>\n",
       "      <th>0</th>\n",
       "      <td>Kobe Bryant</td>\n",
       "      <td>Los Angeles Lakers</td>\n",
       "      <td>25000000</td>\n",
       "      <td>113</td>\n",
       "      <td>95</td>\n",
       "    </tr>\n",
       "    <tr>\n",
       "      <th>1</th>\n",
       "      <td>Joe Johnson</td>\n",
       "      <td>Brooklyn Nets</td>\n",
       "      <td>24894863</td>\n",
       "      <td>114</td>\n",
       "      <td>114</td>\n",
       "    </tr>\n",
       "    <tr>\n",
       "      <th>2</th>\n",
       "      <td>LeBron James</td>\n",
       "      <td>Cleveland Cavaliers</td>\n",
       "      <td>22971000</td>\n",
       "      <td>103</td>\n",
       "      <td>116</td>\n",
       "    </tr>\n",
       "    <tr>\n",
       "      <th>3</th>\n",
       "      <td>Carmelo Anthony</td>\n",
       "      <td>New York Knicks</td>\n",
       "      <td>22875000</td>\n",
       "      <td>107</td>\n",
       "      <td>107</td>\n",
       "    </tr>\n",
       "    <tr>\n",
       "      <th>4</th>\n",
       "      <td>Dwight Howard</td>\n",
       "      <td>Houston Rockets</td>\n",
       "      <td>22359364</td>\n",
       "      <td>104</td>\n",
       "      <td>111</td>\n",
       "    </tr>\n",
       "  </tbody>\n",
       "</table>\n",
       "</div>"
      ],
      "text/plain": [
       "            Player                   Tm   2015-16  DRtg  ORtg\n",
       "0      Kobe Bryant   Los Angeles Lakers  25000000   113    95\n",
       "1      Joe Johnson        Brooklyn Nets  24894863   114   114\n",
       "2     LeBron James  Cleveland Cavaliers  22971000   103   116\n",
       "3  Carmelo Anthony      New York Knicks  22875000   107   107\n",
       "4    Dwight Howard      Houston Rockets  22359364   104   111"
      ]
     },
     "execution_count": 39,
     "metadata": {},
     "output_type": "execute_result"
    }
   ],
   "source": [
    "player_info_df = playerTeam_df.merge(player_d,how='inner',on='Player').merge(player_df2,how='inner',on='Player')\n",
    "player_info_df.head()"
   ]
  },
  {
   "cell_type": "code",
   "execution_count": 56,
   "metadata": {
    "collapsed": true
   },
   "outputs": [],
   "source": [
    "# Save the info to CSV format\n",
    "player_info_df.to_csv(\"clean-data/player_info.csv\")"
   ]
  },
  {
   "cell_type": "markdown",
   "metadata": {},
   "source": [
    "The following part is guest/host_team_line_up"
   ]
  },
  {
   "cell_type": "code",
   "execution_count": 40,
   "metadata": {
    "collapsed": true
   },
   "outputs": [],
   "source": [
    "players_teams = {}\n",
    "gb = player_info_df.groupby(\"Tm\")\n",
    "for x in gb.groups:\n",
    "    players_teams[x] = gb.get_group(x)"
   ]
  },
  {
   "cell_type": "code",
   "execution_count": 43,
   "metadata": {
    "collapsed": true
   },
   "outputs": [],
   "source": [
    "#Convert the player into the index look-up list\n",
    "player_idx = player_info_df['Player'].values.tolist() \n",
    "roster_idx = {}\n",
    "for team in players_teams:\n",
    "    roster_idx[team] = [player_idx.index(i) for i in players_teams[team]['Player'].values]"
   ]
  },
  {
   "cell_type": "code",
   "execution_count": 50,
   "metadata": {
    "collapsed": true
   },
   "outputs": [],
   "source": [
    "guest_teams = game16_df['Visitor/Neutral'].values \n",
    "host_teams = game16_df['Home/Neutral'].values "
   ]
  },
  {
   "cell_type": "code",
   "execution_count": 51,
   "metadata": {
    "collapsed": true
   },
   "outputs": [],
   "source": [
    "player_num = len(player_idx)"
   ]
  },
  {
   "cell_type": "code",
   "execution_count": 54,
   "metadata": {
    "collapsed": false
   },
   "outputs": [
    {
     "name": "stdout",
     "output_type": "stream",
     "text": [
      "we have total: 1230\n",
      "confirm the previous num 1230\n"
     ]
    }
   ],
   "source": [
    "#Convert guest team to an array of player's indicator\n",
    "guest_team_line_up = []\n",
    "for team in guest_teams:\n",
    "    # Initialize the binary number\n",
    "    player_indicator = np.array([False] * player_num)\n",
    "    # Here I have the index of player\n",
    "    list_idx = roster_idx[team]\n",
    "    for i in list_idx:\n",
    "        player_indicator[i] = True\n",
    "    guest_team_line_up.append(player_indicator)\n",
    "print \"we have total:\",len(guest_team_line_up)\n",
    "print \"confirm the previous num\", len(guest_teams)"
   ]
  },
  {
   "cell_type": "code",
   "execution_count": 55,
   "metadata": {
    "collapsed": false
   },
   "outputs": [
    {
     "name": "stdout",
     "output_type": "stream",
     "text": [
      "we have total: 1230\n",
      "confirm the previous num 1230\n"
     ]
    }
   ],
   "source": [
    "#Convert guest team to an array of player's indicator\n",
    "host_team_line_up = []\n",
    "for team in host_teams:\n",
    "    # Initialize the binary number\n",
    "    player_indicator = np.array([False] * player_num)\n",
    "    # Here I have the index of player\n",
    "    list_idx = roster_idx[team]\n",
    "    for i in list_idx:\n",
    "        player_indicator[i] = True \n",
    "    host_team_line_up.append(player_indicator)\n",
    "#     print len(beta)\n",
    "#     print len(host_team_line_up[0])\n",
    "#     check = beta[host_team_line_up[0]]\n",
    "#     break\n",
    "print \"we have total:\",len(host_team_line_up)\n",
    "print \"confirm the previous num\", len(host_teams)"
   ]
  },
  {
   "cell_type": "code",
   "execution_count": 59,
   "metadata": {
    "collapsed": true
   },
   "outputs": [],
   "source": [
    "with open(\"clean-data/guest_team_line_up.pkl\", \"wb\") as f:\n",
    "    pickle.dump(guest_team_line_up, f)\n",
    "    \n",
    "with open(\"clean-data/host_team_line_up.pkl\", \"wb\") as f:\n",
    "    pickle.dump(host_team_line_up, f)"
   ]
  },
  {
   "cell_type": "code",
   "execution_count": null,
   "metadata": {
    "collapsed": true
   },
   "outputs": [],
   "source": []
  }
 ],
 "metadata": {
  "kernelspec": {
   "display_name": "Python 2",
   "language": "python",
   "name": "python2"
  },
  "language_info": {
   "codemirror_mode": {
    "name": "ipython",
    "version": 2
   },
   "file_extension": ".py",
   "mimetype": "text/x-python",
   "name": "python",
   "nbconvert_exporter": "python",
   "pygments_lexer": "ipython2",
   "version": "2.7.11"
  }
 },
 "nbformat": 4,
 "nbformat_minor": 0
}
