{
 "cells": [
  {
   "cell_type": "markdown",
   "metadata": {},
   "source": [
    "# Model Fitting: ESS (Elliptical Slice Sampling)"
   ]
  },
  {
   "cell_type": "code",
   "execution_count": 3,
   "metadata": {
    "collapsed": true
   },
   "outputs": [],
   "source": [
    "import numpy as np\n",
    "import matplotlib\n",
    "import matplotlib.pyplot as plt\n",
    "%matplotlib inline\n",
    "\n",
    "import seaborn as sns\n",
    "sns.set_style(\"white\")\n",
    "\n",
    "import time\n",
    "import timeit\n",
    "\n",
    "import scipy.stats \n",
    "import pandas as pd\n",
    "import pymc as pm\n",
    "\n",
    "import re\n",
    "import numpy as np\n",
    "import cPickle as pickle\n",
    "# import pickle as pickle"
   ]
  },
  {
   "cell_type": "code",
   "execution_count": 4,
   "metadata": {
    "collapsed": false
   },
   "outputs": [],
   "source": [
    "player_info = pd.read_csv(\"clean-data/player_info_pergame.csv\")\n",
    "game_outcomes = pd.read_csv(\"clean-data/game_outcomes_15-16.csv\")"
   ]
  },
  {
   "cell_type": "code",
   "execution_count": 5,
   "metadata": {
    "collapsed": false
   },
   "outputs": [],
   "source": [
    "with open(\"clean-data/host_team_line_up.pkl\", \"rb\") as f:\n",
    "    host_team_line_up = pickle.load(f)\n",
    "\n",
    "with open(\"clean-data/guest_team_line_up.pkl\", \"rb\") as f:\n",
    "    guest_team_line_up = pickle.load(f)"
   ]
  },
  {
   "cell_type": "code",
   "execution_count": 6,
   "metadata": {
    "collapsed": true
   },
   "outputs": [],
   "source": [
    "################# INPUT SECTION ###################\n",
    "###################################################\n",
    "\n",
    "########### player indicator for each game ###############\n",
    "### host_lineup_arr & guest_lineup_arr are (1230 x 476)###\n",
    "with open(\"clean-data/host_team_line_up.pkl\", \"rb\") as f:\n",
    "    host_team_line_up = pickle.load(f)\n",
    "\n",
    "with open(\"clean-data/guest_team_line_up.pkl\", \"rb\") as f:\n",
    "    guest_team_line_up = pickle.load(f)\n",
    "    \n",
    "# print len(host_team_line_up[0])\n",
    "host_lineup_arr = np.array(host_team_line_up)\n",
    "guest_lineup_arr = np.array(guest_team_line_up)\n",
    "\n",
    "\n",
    "######### team indicator for each game ########### \n",
    "### host_matrix & guest_matrix are (1230 x 30) ###\n",
    "guest_matrix = np.zeros((game_outcomes.shape[0], np.max(game_outcomes['Visitor_Index']) + 1), dtype = bool)\n",
    "guest_matrix.shape\n",
    "host_matrix = np.copy(guest_matrix)\n",
    "\n",
    "def make_matrix(mat, indices):\n",
    "    for (i, ind) in enumerate(indices):\n",
    "        mat[i, ind] = True\n",
    "\n",
    "make_matrix(host_matrix, game_outcomes['Visitor_Index'].values)\n",
    "make_matrix(guest_matrix, game_outcomes['Home_Index'].values)\n",
    "\n",
    "\n",
    "############## Observed data ##################\n",
    "score_diff = game_outcomes['diff'].values\n",
    "off_rating = player_info['PTS'].values + player_info['AST'].values\n",
    "def_rating = player_info['BLK'].values + player_info[\"STL\"].values + player_info['DRB'].values"
   ]
  },
  {
   "cell_type": "code",
   "execution_count": 7,
   "metadata": {
    "collapsed": false
   },
   "outputs": [],
   "source": [
    "# ortg_values = player_info['ORtg'].values\n",
    "# drtg_values = player_info['DRtg'].values\n",
    "# score_diff = game_outcomes['diff'].values\n",
    "\n",
    "def diff_score_calc(f_guest, f_host, game_index):\n",
    "    # f_i is the state of the latent variables: the vector 'beta' for team2 and the vector 'gamma' for team2\n",
    "    guest_i = guest_team_line_up[game_index]\n",
    "    host_i = host_team_line_up[game_index]\n",
    "    \n",
    "    guest_diff = (f_guest[0] + off_rating[guest_i].dot(f_guest[1:])) - (f_host[0] + def_rating[host_i].dot(f_host[1:]))\n",
    "    host_diff = (f_host[0] + off_rating[host_i].dot(f_host[1:])) - (f_guest[0] + def_rating[guest_i].dot(f_guest[1:]))\n",
    "    return guest_diff - host_diff    "
   ]
  },
  {
   "cell_type": "code",
   "execution_count": 8,
   "metadata": {
    "collapsed": false
   },
   "outputs": [],
   "source": [
    "# log likelihood for standard Gaussian\n",
    "def log_likelihood(f_guest, f_host, game_index):\n",
    "    new_mean = diff_score_calc(f_guest, f_host, game_index)    \n",
    "    return scipy.stats.norm.logpdf(score_diff[game_index], new_mean, 10.0)"
   ]
  },
  {
   "cell_type": "code",
   "execution_count": 19,
   "metadata": {
    "collapsed": true
   },
   "outputs": [],
   "source": [
    "def covariance(dim, gammaMean = 1.0, gammaScale = 1.0):\n",
    "    mat = np.identity(dim)\n",
    "    for i in np.arange(dim):\n",
    "        for j in np.arange(dim):\n",
    "            if (i == j):\n",
    "                continue\n",
    "            mat[i,j] = np.random.gamma(gammaMean, gammaScale, size=None)\n",
    "    return mat\n",
    "# print correlation()[2*N_teams + N_players][2 * N_teams + N_players:2 * N_teams + N_players +N_players]"
   ]
  },
  {
   "cell_type": "code",
   "execution_count": 21,
   "metadata": {
    "collapsed": false
   },
   "outputs": [],
   "source": [
    "mvn = np.random.multivariate_normal\n",
    "def ess(game_index, log_likelihood, N_mcmc, burn_in):\n",
    "    ## 1 indicates 'guest'\n",
    "    ## 2 indicates 'host'\n",
    "    N_1 = len(player_info[guest_team_line_up[game_index]]) + 1\n",
    "    N_2 = len(player_info[host_team_line_up[game_index]]) + 1\n",
    "    \n",
    "    # INITIALIZATION\n",
    "    # the combined latent variable states: first half is for the home team and the rest for the guest\n",
    "    mcmc_samples_1 = np.random.randn(N_mcmc + burn_in, N_1)\n",
    "    mcmc_samples_2 = np.random.randn(N_mcmc + burn_in, N_2)\n",
    "    \n",
    "    # random draw from normal distribution with which we'll determine\n",
    "    # new state of the latent variables\n",
    "    norm_samples_1 = mvn(np.zeros(N_1), covariance(N_1), N_mcmc + burn_in)\n",
    "    norm_samples_2 = mvn(np.zeros(N_2), covariance(N_2), N_mcmc + burn_in)\n",
    "    \n",
    "    # random draw from unifrom distribution with which we'll determine \n",
    "    # the loglikelihood threshold (likelihood threshold defines the 'slice' where we sample)\n",
    "    unif_samples = np.random.uniform(0, 1, N_mcmc+burn_in)\n",
    "    \n",
    "    # initial proposal of the theta\n",
    "    theta = np.random.uniform(0, 2*np.pi, N_mcmc+burn_in)\n",
    "    \n",
    "    # variables with which we'll propose a new state by shrinking the range of theta\n",
    "    theta_min = theta - 2*np.pi\n",
    "    theta_max = theta + 2*np.pi\n",
    "    \n",
    "    # We select a new location (i.e. new state of the latent variables)\n",
    "    # on the randomly generated ellipse given theta and norm_samples\n",
    "    for i in range(1, N_mcmc + burn_in):\n",
    "#         if i % 100 == 0:\n",
    "#             print i\n",
    "\n",
    "        # initial state of the latent vairables    \n",
    "        f_1 = mcmc_samples_1[i - 1,:]\n",
    "        f_2 = mcmc_samples_2[i - 1,:]\n",
    "        #print f, data\n",
    "        \n",
    "        # the loglikelihood threshold\n",
    "        # the threshold is chosen between [0, Likelihood]\n",
    "        llh_thresh = log_likelihood(f_1, f_2, game_index) + np.log(unif_samples[i])\n",
    "        \n",
    "        f_prime_1 = (f_1 * np.cos(theta[i])) + (norm_samples_1[i,:] * np.sin(theta[i]))\n",
    "        f_prime_2 = (f_2 * np.cos(theta[i])) + (norm_samples_2[i,:] * np.sin(theta[i]))\n",
    "        while log_likelihood(f_prime_1, f_prime_2, game_index) < llh_thresh:\n",
    "            if theta[i] < 0:\n",
    "                theta_min[i] = theta[i]\n",
    "            else:\n",
    "                theta_max[i] = theta[i]\n",
    "                \n",
    "            theta[i] = np.random.uniform(theta_min[i], theta_max[i], 1)  \n",
    "            f_prime_1 = (f_1 * np.cos(theta[i])) + (norm_samples_1[i,:]*np.sin(theta[i]))\n",
    "            f_prime_2 = (f_2 * np.cos(theta[i])) + (norm_samples_2[i,:]*np.sin(theta[i]))\n",
    "            \n",
    "        mcmc_samples_1[i,:] = f_prime_1\n",
    "        mcmc_samples_2[i,:] = f_prime_2\n",
    "    \n",
    "    return mcmc_samples_1[(burn_in+1):(burn_in+N_mcmc),], mcmc_samples_2[(burn_in+1):(burn_in+N_mcmc),]"
   ]
  },
  {
   "cell_type": "markdown",
   "metadata": {},
   "source": [
    "# Estimation of the states of the latent variables for Guest & Host in a certain game"
   ]
  },
  {
   "cell_type": "code",
   "execution_count": 22,
   "metadata": {
    "collapsed": false,
    "scrolled": true
   },
   "outputs": [
    {
     "name": "stdout",
     "output_type": "stream",
     "text": [
      "[ 0.04490497  0.05744615  0.07203298  0.07822011  0.0735599   0.04221165\n",
      "  0.09104917  0.09282428  0.10183189  0.08487599  0.04686742  0.07053405\n",
      "  0.07105551  0.07075351  0.06470859  0.10015367] (16L,)\n",
      "[-0.03998594 -0.06490554 -0.07390738 -0.04643875 -0.04202706 -0.02327724\n",
      " -0.05960578 -0.04864156 -0.06321626 -0.07932647 -0.00661486 -0.06717358\n",
      " -0.08052336 -0.02460649 -0.06219362] (15L,)\n",
      "the actual differential score = 25.0\n",
      "the differential score with the estimated variable states = 24.9810157715\n",
      "difference is 0.0759369139928 percent\n"
     ]
    },
    {
     "name": "stderr",
     "output_type": "stream",
     "text": [
      "D:\\Users\\Jim Hyungmok Son\\AppData\\Local\\Continuum\\Anaconda2\\lib\\site-packages\\ipykernel\\__main__.py:15: RuntimeWarning: covariance is not positive-semidefinite.\n",
      "D:\\Users\\Jim Hyungmok Son\\AppData\\Local\\Continuum\\Anaconda2\\lib\\site-packages\\ipykernel\\__main__.py:16: RuntimeWarning: covariance is not positive-semidefinite.\n"
     ]
    }
   ],
   "source": [
    "game_index = 10\n",
    "N_mcmc = 40000\n",
    "burn_in = 2000\n",
    "guest_states, host_states = ess(game_index, log_likelihood, N_mcmc, burn_in)\n",
    "# print guest_states\n",
    "# print guest_states.shape\n",
    "\n",
    "mean_g = guest_states.mean(axis=0)\n",
    "mean_h =  host_states.mean(axis=0)\n",
    "print mean_g, mean_g.shape\n",
    "print mean_h, mean_h.shape\n",
    "\n",
    "real = score_diff[game_index]\n",
    "estimated = diff_score_calc(mean_g, mean_h, game_index)\n",
    "print 'the actual differential score = %s' %(real)\n",
    "print 'the differential score with the estimated variable states = %s' %(estimated)\n",
    "print 'difference is %s percent' %(np.fabs(real - estimated)*100.0/real)"
   ]
  },
  {
   "cell_type": "markdown",
   "metadata": {},
   "source": [
    "# Convergence test through MAP estimation\n",
    "* The result for one player is shown"
   ]
  },
  {
   "cell_type": "code",
   "execution_count": 23,
   "metadata": {
    "collapsed": false,
    "scrolled": true
   },
   "outputs": [
    {
     "name": "stdout",
     "output_type": "stream",
     "text": [
      "The MAP value for beta 10 is: 0.298747001913\n"
     ]
    },
    {
     "data": {
      "image/png": "[encoded data removed]",
      "text/plain": [
       "<matplotlib.figure.Figure at 0x13ed6748>"
      ]
     },
     "metadata": {},
     "output_type": "display_data"
    }
   ],
   "source": [
    "for i in range(10,11):\n",
    "    plt.figure(i)\n",
    "    p_hist = plt.hist(guest_states[burn_in:,i], bins=100)\n",
    "    plt.title(\"Guest variable states in game %s\" %(game_index))\n",
    "    plt.xlabel(\"beta %s\" %(i+1))\n",
    "    plt.ylabel(\"counts\")\n",
    "    p_map_index = np.argmax(p_hist[0])\n",
    "    p_hist_bin_middle = 0.5*p_hist[1][:-1] + 0.5*p_hist[1][1:]\n",
    "    p_map = p_hist_bin_middle[p_map_index]\n",
    "    \n",
    "    print \"The MAP value for beta %s is: %s\" %(i, p_map)"
   ]
  },
  {
   "cell_type": "code",
   "execution_count": 24,
   "metadata": {
    "collapsed": false,
    "scrolled": true
   },
   "outputs": [
    {
     "name": "stdout",
     "output_type": "stream",
     "text": [
      "The MAP value for beta 10 is: 0.0195289201512\n"
     ]
    },
    {
     "data": {
      "image/png": "[encoded data removed]",
      "text/plain": [
       "<matplotlib.figure.Figure at 0x18300668>"
      ]
     },
     "metadata": {},
     "output_type": "display_data"
    }
   ],
   "source": [
    "for i in range(10,11):\n",
    "    plt.figure(i)\n",
    "    p_hist = plt.hist(host_states[burn_in:,i], bins=100)\n",
    "    plt.title(\"Host variable states in game %s\" %(game_index))\n",
    "    plt.xlabel(\"beta %s\" %(i+1))\n",
    "    plt.ylabel(\"counts\")\n",
    "    p_map_index = np.argmax(p_hist[0])\n",
    "    p_hist_bin_middle = 0.5*p_hist[1][:-1] + 0.5*p_hist[1][1:]\n",
    "    p_map = p_hist_bin_middle[p_map_index]\n",
    "    \n",
    "    print \"The MAP value for beta %s is: %s\" %(i, p_map)"
   ]
  },
  {
   "cell_type": "markdown",
   "metadata": {
    "collapsed": true
   },
   "source": [
    "* When we apply ESS for a single game, the states of the latent variable seem to converge nicely. In this case, even the differential scoer between the two teams calculated based on the estimated state values agrees pretty well with the observed data: for instance, the difference between the estimation and the actual observation is 0.07 percent in the 10th game."
   ]
  },
  {
   "cell_type": "code",
   "execution_count": null,
   "metadata": {
    "collapsed": true
   },
   "outputs": [],
   "source": []
  }
 ],
 "metadata": {
  "kernelspec": {
   "display_name": "Python 2",
   "language": "python",
   "name": "python2"
  },
  "language_info": {
   "codemirror_mode": {
    "name": "ipython",
    "version": 2
   },
   "file_extension": ".py",
   "mimetype": "text/x-python",
   "name": "python",
   "nbconvert_exporter": "python",
   "pygments_lexer": "ipython2",
   "version": "2.7.11"
  }
 },
 "nbformat": 4,
 "nbformat_minor": 0
}
