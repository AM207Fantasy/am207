{
 "cells": [
  {
   "cell_type": "markdown",
   "metadata": {},
   "source": [
    "### Data Cleanning"
   ]
  },
  {
   "cell_type": "code",
   "execution_count": 106,
   "metadata": {
    "collapsed": true
   },
   "outputs": [],
   "source": [
    "import numpy as np\n",
    "import matplotlib\n",
    "import matplotlib.pyplot as plt\n",
    "%matplotlib inline\n",
    "\n",
    "import seaborn as sns\n",
    "sns.set_style(\"white\")\n",
    "\n",
    "import time\n",
    "import timeit\n",
    "\n",
    "import scipy.stats \n",
    "import pandas as pd\n",
    "import pymc as pm"
   ]
  },
  {
   "cell_type": "code",
   "execution_count": 107,
   "metadata": {
    "collapsed": false
   },
   "outputs": [],
   "source": [
    "# This function is to conver the string into int\n",
    "def Str2float(string):\n",
    "    try:\n",
    "        return float(string)\n",
    "    except:\n",
    "        return \"NaN\""
   ]
  },
  {
   "cell_type": "markdown",
   "metadata": {},
   "source": [
    "#### The following five blocks are game stats from 2011 to 2016. It has five columns:\n",
    "\n",
    "* Visitor/Neutral: Guest Team\n",
    "* PTS: Guest Team's score\n",
    "* Home/Neutral: Host Team\n",
    "* PTS.1: Host Team Score\n",
    "* Year: the year of the game"
   ]
  },
  {
   "cell_type": "code",
   "execution_count": 193,
   "metadata": {
    "collapsed": false
   },
   "outputs": [],
   "source": [
    "#import 2011\n",
    "game11_df = pd.read_csv('10-11game_stats.csv')[[\"Visitor/Neutral\", \"PTS\", \"Home/Neutral\", \"PTS.1\"]]\n",
    "game11_df['Year'] = 2011\n",
    "game11_df['PTS'] = game11_df['PTS'].map(lambda x: Str2float(x))\n",
    "game11_df['PTS.1'] = game11_df['PTS.1'].map(lambda x: Str2float(x))\n",
    "game11_df = game11_df[game11_df['PTS'].map(lambda x: type(x) is float)]"
   ]
  },
  {
   "cell_type": "code",
   "execution_count": 194,
   "metadata": {
    "collapsed": false
   },
   "outputs": [
    {
     "data": {
      "text/html": [
       "<div>\n",
       "<table border=\"1\" class=\"dataframe\">\n",
       "  <thead>\n",
       "    <tr style=\"text-align: right;\">\n",
       "      <th></th>\n",
       "      <th>Visitor/Neutral</th>\n",
       "      <th>PTS</th>\n",
       "      <th>Home/Neutral</th>\n",
       "      <th>PTS.1</th>\n",
       "      <th>Year</th>\n",
       "    </tr>\n",
       "  </thead>\n",
       "  <tbody>\n",
       "    <tr>\n",
       "      <th>1</th>\n",
       "      <td>Miami Heat</td>\n",
       "      <td>80</td>\n",
       "      <td>Boston Celtics</td>\n",
       "      <td>88</td>\n",
       "      <td>2011</td>\n",
       "    </tr>\n",
       "    <tr>\n",
       "      <th>2</th>\n",
       "      <td>Houston Rockets</td>\n",
       "      <td>110</td>\n",
       "      <td>Los Angeles Lakers</td>\n",
       "      <td>112</td>\n",
       "      <td>2011</td>\n",
       "    </tr>\n",
       "    <tr>\n",
       "      <th>3</th>\n",
       "      <td>Phoenix Suns</td>\n",
       "      <td>92</td>\n",
       "      <td>Portland Trail Blazers</td>\n",
       "      <td>106</td>\n",
       "      <td>2011</td>\n",
       "    </tr>\n",
       "    <tr>\n",
       "      <th>4</th>\n",
       "      <td>Boston Celtics</td>\n",
       "      <td>87</td>\n",
       "      <td>Cleveland Cavaliers</td>\n",
       "      <td>95</td>\n",
       "      <td>2011</td>\n",
       "    </tr>\n",
       "    <tr>\n",
       "      <th>5</th>\n",
       "      <td>Charlotte Bobcats</td>\n",
       "      <td>86</td>\n",
       "      <td>Dallas Mavericks</td>\n",
       "      <td>101</td>\n",
       "      <td>2011</td>\n",
       "    </tr>\n",
       "  </tbody>\n",
       "</table>\n",
       "</div>"
      ],
      "text/plain": [
       "     Visitor/Neutral  PTS            Home/Neutral PTS.1  Year\n",
       "1         Miami Heat   80          Boston Celtics    88  2011\n",
       "2    Houston Rockets  110      Los Angeles Lakers   112  2011\n",
       "3       Phoenix Suns   92  Portland Trail Blazers   106  2011\n",
       "4     Boston Celtics   87     Cleveland Cavaliers    95  2011\n",
       "5  Charlotte Bobcats   86        Dallas Mavericks   101  2011"
      ]
     },
     "execution_count": 194,
     "metadata": {},
     "output_type": "execute_result"
    }
   ],
   "source": [
    "game11_df.head()"
   ]
  },
  {
   "cell_type": "code",
   "execution_count": 195,
   "metadata": {
    "collapsed": false
   },
   "outputs": [],
   "source": [
    "#import 2012\n",
    "game12_df = pd.read_csv('11-12game_stats.csv')[[\"Visitor/Neutral\", \"PTS\", \"Home/Neutral\", \"PTS.1\"]]\n",
    "game12_df['Year'] = 2012\n",
    "game12_df['PTS'] = game12_df['PTS'].map(lambda x: Str2float(x))\n",
    "game12_df['PTS.1'] = game12_df['PTS.1'].map(lambda x: Str2float(x))\n",
    "game12_df = game12_df[game12_df['PTS'].map(lambda x: type(x) is float)]"
   ]
  },
  {
   "cell_type": "code",
   "execution_count": 196,
   "metadata": {
    "collapsed": false
   },
   "outputs": [
    {
     "data": {
      "text/html": [
       "<div>\n",
       "<table border=\"1\" class=\"dataframe\">\n",
       "  <thead>\n",
       "    <tr style=\"text-align: right;\">\n",
       "      <th></th>\n",
       "      <th>Visitor/Neutral</th>\n",
       "      <th>PTS</th>\n",
       "      <th>Home/Neutral</th>\n",
       "      <th>PTS.1</th>\n",
       "      <th>Year</th>\n",
       "    </tr>\n",
       "  </thead>\n",
       "  <tbody>\n",
       "    <tr>\n",
       "      <th>1</th>\n",
       "      <td>Miami Heat</td>\n",
       "      <td>105</td>\n",
       "      <td>Dallas Mavericks</td>\n",
       "      <td>94</td>\n",
       "      <td>2012</td>\n",
       "    </tr>\n",
       "    <tr>\n",
       "      <th>2</th>\n",
       "      <td>Los Angeles Clippers</td>\n",
       "      <td>105</td>\n",
       "      <td>Golden State Warriors</td>\n",
       "      <td>86</td>\n",
       "      <td>2012</td>\n",
       "    </tr>\n",
       "    <tr>\n",
       "      <th>3</th>\n",
       "      <td>Chicago Bulls</td>\n",
       "      <td>88</td>\n",
       "      <td>Los Angeles Lakers</td>\n",
       "      <td>87</td>\n",
       "      <td>2012</td>\n",
       "    </tr>\n",
       "    <tr>\n",
       "      <th>4</th>\n",
       "      <td>Boston Celtics</td>\n",
       "      <td>104</td>\n",
       "      <td>New York Knicks</td>\n",
       "      <td>106</td>\n",
       "      <td>2012</td>\n",
       "    </tr>\n",
       "    <tr>\n",
       "      <th>5</th>\n",
       "      <td>Orlando Magic</td>\n",
       "      <td>89</td>\n",
       "      <td>Oklahoma City Thunder</td>\n",
       "      <td>97</td>\n",
       "      <td>2012</td>\n",
       "    </tr>\n",
       "  </tbody>\n",
       "</table>\n",
       "</div>"
      ],
      "text/plain": [
       "        Visitor/Neutral  PTS           Home/Neutral PTS.1  Year\n",
       "1            Miami Heat  105       Dallas Mavericks    94  2012\n",
       "2  Los Angeles Clippers  105  Golden State Warriors    86  2012\n",
       "3         Chicago Bulls   88     Los Angeles Lakers    87  2012\n",
       "4        Boston Celtics  104        New York Knicks   106  2012\n",
       "5         Orlando Magic   89  Oklahoma City Thunder    97  2012"
      ]
     },
     "execution_count": 196,
     "metadata": {},
     "output_type": "execute_result"
    }
   ],
   "source": [
    "game12_df.head()"
   ]
  },
  {
   "cell_type": "code",
   "execution_count": 197,
   "metadata": {
    "collapsed": true
   },
   "outputs": [],
   "source": [
    "#import 2013\n",
    "game13_df = pd.read_csv('12-13game_stats.csv')[[\"Visitor/Neutral\", \"PTS\", \"Home/Neutral\", \"PTS.1\"]]\n",
    "game13_df['Year'] = 2013\n",
    "game13_df['PTS'] = game13_df['PTS'].map(lambda x: Str2float(x))\n",
    "game13_df['PTS.1'] = game13_df['PTS.1'].map(lambda x: Str2float(x))\n",
    "game13_df = game13_df[game13_df['PTS'].map(lambda x: type(x) is float)]"
   ]
  },
  {
   "cell_type": "code",
   "execution_count": 198,
   "metadata": {
    "collapsed": false
   },
   "outputs": [
    {
     "data": {
      "text/html": [
       "<div>\n",
       "<table border=\"1\" class=\"dataframe\">\n",
       "  <thead>\n",
       "    <tr style=\"text-align: right;\">\n",
       "      <th></th>\n",
       "      <th>Visitor/Neutral</th>\n",
       "      <th>PTS</th>\n",
       "      <th>Home/Neutral</th>\n",
       "      <th>PTS.1</th>\n",
       "      <th>Year</th>\n",
       "    </tr>\n",
       "  </thead>\n",
       "  <tbody>\n",
       "    <tr>\n",
       "      <th>1</th>\n",
       "      <td>Washington Wizards</td>\n",
       "      <td>84</td>\n",
       "      <td>Cleveland Cavaliers</td>\n",
       "      <td>94</td>\n",
       "      <td>2013</td>\n",
       "    </tr>\n",
       "    <tr>\n",
       "      <th>2</th>\n",
       "      <td>Dallas Mavericks</td>\n",
       "      <td>99</td>\n",
       "      <td>Los Angeles Lakers</td>\n",
       "      <td>91</td>\n",
       "      <td>2013</td>\n",
       "    </tr>\n",
       "    <tr>\n",
       "      <th>3</th>\n",
       "      <td>Boston Celtics</td>\n",
       "      <td>107</td>\n",
       "      <td>Miami Heat</td>\n",
       "      <td>120</td>\n",
       "      <td>2013</td>\n",
       "    </tr>\n",
       "    <tr>\n",
       "      <th>4</th>\n",
       "      <td>Sacramento Kings</td>\n",
       "      <td>87</td>\n",
       "      <td>Chicago Bulls</td>\n",
       "      <td>93</td>\n",
       "      <td>2013</td>\n",
       "    </tr>\n",
       "    <tr>\n",
       "      <th>5</th>\n",
       "      <td>Houston Rockets</td>\n",
       "      <td>105</td>\n",
       "      <td>Detroit Pistons</td>\n",
       "      <td>96</td>\n",
       "      <td>2013</td>\n",
       "    </tr>\n",
       "  </tbody>\n",
       "</table>\n",
       "</div>"
      ],
      "text/plain": [
       "      Visitor/Neutral  PTS         Home/Neutral PTS.1  Year\n",
       "1  Washington Wizards   84  Cleveland Cavaliers    94  2013\n",
       "2    Dallas Mavericks   99   Los Angeles Lakers    91  2013\n",
       "3      Boston Celtics  107           Miami Heat   120  2013\n",
       "4    Sacramento Kings   87        Chicago Bulls    93  2013\n",
       "5     Houston Rockets  105      Detroit Pistons    96  2013"
      ]
     },
     "execution_count": 198,
     "metadata": {},
     "output_type": "execute_result"
    }
   ],
   "source": [
    "game13_df.head()"
   ]
  },
  {
   "cell_type": "code",
   "execution_count": 199,
   "metadata": {
    "collapsed": false
   },
   "outputs": [],
   "source": [
    "#import 2014\n",
    "game14_df = pd.read_csv('13-14game_stats.csv')[[\"Visitor/Neutral\", \"PTS\", \"Home/Neutral\", \"PTS.1\"]]\n",
    "game14_df['Year'] = 2014\n",
    "game14_df['PTS'] = game14_df['PTS'].map(lambda x: Str2float(x))\n",
    "game14_df['PTS.1'] = game14_df['PTS.1'].map(lambda x: Str2float(x))\n",
    "game14_df = game14_df[game14_df['PTS'].map(lambda x: type(x) is float)]"
   ]
  },
  {
   "cell_type": "code",
   "execution_count": 200,
   "metadata": {
    "collapsed": false
   },
   "outputs": [
    {
     "data": {
      "text/html": [
       "<div>\n",
       "<table border=\"1\" class=\"dataframe\">\n",
       "  <thead>\n",
       "    <tr style=\"text-align: right;\">\n",
       "      <th></th>\n",
       "      <th>Visitor/Neutral</th>\n",
       "      <th>PTS</th>\n",
       "      <th>Home/Neutral</th>\n",
       "      <th>PTS.1</th>\n",
       "      <th>Year</th>\n",
       "    </tr>\n",
       "  </thead>\n",
       "  <tbody>\n",
       "    <tr>\n",
       "      <th>1</th>\n",
       "      <td>Orlando Magic</td>\n",
       "      <td>87</td>\n",
       "      <td>Indiana Pacers</td>\n",
       "      <td>97</td>\n",
       "      <td>2014</td>\n",
       "    </tr>\n",
       "    <tr>\n",
       "      <th>2</th>\n",
       "      <td>Los Angeles Clippers</td>\n",
       "      <td>103</td>\n",
       "      <td>Los Angeles Lakers</td>\n",
       "      <td>116</td>\n",
       "      <td>2014</td>\n",
       "    </tr>\n",
       "    <tr>\n",
       "      <th>3</th>\n",
       "      <td>Chicago Bulls</td>\n",
       "      <td>95</td>\n",
       "      <td>Miami Heat</td>\n",
       "      <td>107</td>\n",
       "      <td>2014</td>\n",
       "    </tr>\n",
       "    <tr>\n",
       "      <th>4</th>\n",
       "      <td>Brooklyn Nets</td>\n",
       "      <td>94</td>\n",
       "      <td>Cleveland Cavaliers</td>\n",
       "      <td>98</td>\n",
       "      <td>2014</td>\n",
       "    </tr>\n",
       "    <tr>\n",
       "      <th>5</th>\n",
       "      <td>Atlanta Hawks</td>\n",
       "      <td>109</td>\n",
       "      <td>Dallas Mavericks</td>\n",
       "      <td>118</td>\n",
       "      <td>2014</td>\n",
       "    </tr>\n",
       "  </tbody>\n",
       "</table>\n",
       "</div>"
      ],
      "text/plain": [
       "        Visitor/Neutral  PTS         Home/Neutral PTS.1  Year\n",
       "1         Orlando Magic   87       Indiana Pacers    97  2014\n",
       "2  Los Angeles Clippers  103   Los Angeles Lakers   116  2014\n",
       "3         Chicago Bulls   95           Miami Heat   107  2014\n",
       "4         Brooklyn Nets   94  Cleveland Cavaliers    98  2014\n",
       "5         Atlanta Hawks  109     Dallas Mavericks   118  2014"
      ]
     },
     "execution_count": 200,
     "metadata": {},
     "output_type": "execute_result"
    }
   ],
   "source": [
    "game14_df.head()"
   ]
  },
  {
   "cell_type": "code",
   "execution_count": 201,
   "metadata": {
    "collapsed": true
   },
   "outputs": [],
   "source": [
    "#import 2015\n",
    "game15_df = pd.read_csv('14-15game_stats.csv')[[\"Visitor/Neutral\", \"PTS\", \"Home/Neutral\", \"PTS.1\"]]\n",
    "game15_df['Year'] = 2015\n",
    "game15_df['PTS'] = game15_df['PTS'].map(lambda x: Str2float(x))\n",
    "game15_df['PTS.1'] = game15_df['PTS.1'].map(lambda x: Str2float(x))\n",
    "game15_df = game15_df[game15_df['PTS'].map(lambda x: type(x) is float)]"
   ]
  },
  {
   "cell_type": "code",
   "execution_count": 202,
   "metadata": {
    "collapsed": false,
    "scrolled": true
   },
   "outputs": [
    {
     "data": {
      "text/html": [
       "<div>\n",
       "<table border=\"1\" class=\"dataframe\">\n",
       "  <thead>\n",
       "    <tr style=\"text-align: right;\">\n",
       "      <th></th>\n",
       "      <th>Visitor/Neutral</th>\n",
       "      <th>PTS</th>\n",
       "      <th>Home/Neutral</th>\n",
       "      <th>PTS.1</th>\n",
       "      <th>Year</th>\n",
       "    </tr>\n",
       "  </thead>\n",
       "  <tbody>\n",
       "    <tr>\n",
       "      <th>1</th>\n",
       "      <td>Houston Rockets</td>\n",
       "      <td>108</td>\n",
       "      <td>Los Angeles Lakers</td>\n",
       "      <td>90</td>\n",
       "      <td>2015</td>\n",
       "    </tr>\n",
       "    <tr>\n",
       "      <th>2</th>\n",
       "      <td>Orlando Magic</td>\n",
       "      <td>84</td>\n",
       "      <td>New Orleans Pelicans</td>\n",
       "      <td>101</td>\n",
       "      <td>2015</td>\n",
       "    </tr>\n",
       "    <tr>\n",
       "      <th>3</th>\n",
       "      <td>Dallas Mavericks</td>\n",
       "      <td>100</td>\n",
       "      <td>San Antonio Spurs</td>\n",
       "      <td>101</td>\n",
       "      <td>2015</td>\n",
       "    </tr>\n",
       "    <tr>\n",
       "      <th>4</th>\n",
       "      <td>Brooklyn Nets</td>\n",
       "      <td>105</td>\n",
       "      <td>Boston Celtics</td>\n",
       "      <td>121</td>\n",
       "      <td>2015</td>\n",
       "    </tr>\n",
       "    <tr>\n",
       "      <th>5</th>\n",
       "      <td>Milwaukee Bucks</td>\n",
       "      <td>106</td>\n",
       "      <td>Charlotte Hornets</td>\n",
       "      <td>108</td>\n",
       "      <td>2015</td>\n",
       "    </tr>\n",
       "  </tbody>\n",
       "</table>\n",
       "</div>"
      ],
      "text/plain": [
       "    Visitor/Neutral  PTS          Home/Neutral PTS.1  Year\n",
       "1   Houston Rockets  108    Los Angeles Lakers    90  2015\n",
       "2     Orlando Magic   84  New Orleans Pelicans   101  2015\n",
       "3  Dallas Mavericks  100     San Antonio Spurs   101  2015\n",
       "4     Brooklyn Nets  105        Boston Celtics   121  2015\n",
       "5   Milwaukee Bucks  106     Charlotte Hornets   108  2015"
      ]
     },
     "execution_count": 202,
     "metadata": {},
     "output_type": "execute_result"
    }
   ],
   "source": [
    "game15_df.head()"
   ]
  },
  {
   "cell_type": "code",
   "execution_count": 203,
   "metadata": {
    "collapsed": false
   },
   "outputs": [],
   "source": [
    "#import 2016\n",
    "game16_df = pd.read_csv('15-16game_stats.csv')[[\"Visitor/Neutral\", \"PTS\", \"Home/Neutral\", \"PTS.1\"]]\n",
    "game16_df['Year'] = 2016\n",
    "game16_df['PTS'] = game16_df['PTS'].map(lambda x: Str2float(x))\n",
    "game16_df['PTS.1'] = game16_df['PTS.1'].map(lambda x: Str2float(x))\n",
    "game16_df = game16_df[game16_df['PTS'].map(lambda x: type(x) is float)]"
   ]
  },
  {
   "cell_type": "code",
   "execution_count": 204,
   "metadata": {
    "collapsed": false
   },
   "outputs": [
    {
     "data": {
      "text/html": [
       "<div>\n",
       "<table border=\"1\" class=\"dataframe\">\n",
       "  <thead>\n",
       "    <tr style=\"text-align: right;\">\n",
       "      <th></th>\n",
       "      <th>Visitor/Neutral</th>\n",
       "      <th>PTS</th>\n",
       "      <th>Home/Neutral</th>\n",
       "      <th>PTS.1</th>\n",
       "      <th>Year</th>\n",
       "    </tr>\n",
       "  </thead>\n",
       "  <tbody>\n",
       "    <tr>\n",
       "      <th>1</th>\n",
       "      <td>Detroit Pistons</td>\n",
       "      <td>106</td>\n",
       "      <td>Atlanta Hawks</td>\n",
       "      <td>94</td>\n",
       "      <td>2016</td>\n",
       "    </tr>\n",
       "    <tr>\n",
       "      <th>2</th>\n",
       "      <td>Cleveland Cavaliers</td>\n",
       "      <td>95</td>\n",
       "      <td>Chicago Bulls</td>\n",
       "      <td>97</td>\n",
       "      <td>2016</td>\n",
       "    </tr>\n",
       "    <tr>\n",
       "      <th>3</th>\n",
       "      <td>New Orleans Pelicans</td>\n",
       "      <td>95</td>\n",
       "      <td>Golden State Warriors</td>\n",
       "      <td>111</td>\n",
       "      <td>2016</td>\n",
       "    </tr>\n",
       "    <tr>\n",
       "      <th>4</th>\n",
       "      <td>Philadelphia 76ers</td>\n",
       "      <td>95</td>\n",
       "      <td>Boston Celtics</td>\n",
       "      <td>112</td>\n",
       "      <td>2016</td>\n",
       "    </tr>\n",
       "    <tr>\n",
       "      <th>5</th>\n",
       "      <td>Chicago Bulls</td>\n",
       "      <td>115</td>\n",
       "      <td>Brooklyn Nets</td>\n",
       "      <td>100</td>\n",
       "      <td>2016</td>\n",
       "    </tr>\n",
       "  </tbody>\n",
       "</table>\n",
       "</div>"
      ],
      "text/plain": [
       "        Visitor/Neutral  PTS           Home/Neutral PTS.1  Year\n",
       "1       Detroit Pistons  106          Atlanta Hawks    94  2016\n",
       "2   Cleveland Cavaliers   95          Chicago Bulls    97  2016\n",
       "3  New Orleans Pelicans   95  Golden State Warriors   111  2016\n",
       "4    Philadelphia 76ers   95         Boston Celtics   112  2016\n",
       "5         Chicago Bulls  115          Brooklyn Nets   100  2016"
      ]
     },
     "execution_count": 204,
     "metadata": {},
     "output_type": "execute_result"
    }
   ],
   "source": [
    "game16_df.head()"
   ]
  },
  {
   "cell_type": "markdown",
   "metadata": {},
   "source": [
    "#### The player's team information. It has two columns\n",
    "* Player: the Name of Player\n",
    "* Tm: The team the player belongs to"
   ]
  },
  {
   "cell_type": "code",
   "execution_count": 124,
   "metadata": {
    "collapsed": true
   },
   "outputs": [],
   "source": [
    "#import name and their teams \n",
    "playerTeam_df = pd.read_csv('salary.csv', header = 1)[['Player','Tm']]\n",
    "playerTeam_df = playerTeam_df[playerTeam_df['Tm'] != 'Tm']\n",
    "playerTeam_df = playerTeam_df[playerTeam_df['Player'] != 'Player']\n",
    "playerTeam_df = playerTeam_df[~pd.isnull(playerTeam_df['Player'])]"
   ]
  },
  {
   "cell_type": "code",
   "execution_count": 126,
   "metadata": {
    "collapsed": false
   },
   "outputs": [
    {
     "data": {
      "text/html": [
       "<div>\n",
       "<table border=\"1\" class=\"dataframe\">\n",
       "  <thead>\n",
       "    <tr style=\"text-align: right;\">\n",
       "      <th></th>\n",
       "      <th>Player</th>\n",
       "      <th>Tm</th>\n",
       "    </tr>\n",
       "  </thead>\n",
       "  <tbody>\n",
       "    <tr>\n",
       "      <th>0</th>\n",
       "      <td>Kobe Bryant</td>\n",
       "      <td>Los Angeles Lakers</td>\n",
       "    </tr>\n",
       "    <tr>\n",
       "      <th>1</th>\n",
       "      <td>Joe Johnson</td>\n",
       "      <td>Brooklyn Nets</td>\n",
       "    </tr>\n",
       "    <tr>\n",
       "      <th>2</th>\n",
       "      <td>LeBron James</td>\n",
       "      <td>Cleveland Cavaliers</td>\n",
       "    </tr>\n",
       "    <tr>\n",
       "      <th>3</th>\n",
       "      <td>Carmelo Anthony</td>\n",
       "      <td>New York Knicks</td>\n",
       "    </tr>\n",
       "    <tr>\n",
       "      <th>4</th>\n",
       "      <td>Dwight Howard</td>\n",
       "      <td>Houston Rockets</td>\n",
       "    </tr>\n",
       "  </tbody>\n",
       "</table>\n",
       "</div>"
      ],
      "text/plain": [
       "            Player                   Tm\n",
       "0      Kobe Bryant   Los Angeles Lakers\n",
       "1      Joe Johnson        Brooklyn Nets\n",
       "2     LeBron James  Cleveland Cavaliers\n",
       "3  Carmelo Anthony      New York Knicks\n",
       "4    Dwight Howard      Houston Rockets"
      ]
     },
     "execution_count": 126,
     "metadata": {},
     "output_type": "execute_result"
    }
   ],
   "source": [
    "playerTeam_df.head()"
   ]
  },
  {
   "cell_type": "markdown",
   "metadata": {},
   "source": [
    "#### The salary information for each player\n",
    "* 2015-2016: The salary in the year 15 - 16\n",
    "* Player: Name"
   ]
  },
  {
   "cell_type": "code",
   "execution_count": 139,
   "metadata": {
    "collapsed": false
   },
   "outputs": [
    {
     "data": {
      "text/html": [
       "<div>\n",
       "<table border=\"1\" class=\"dataframe\">\n",
       "  <thead>\n",
       "    <tr style=\"text-align: right;\">\n",
       "      <th></th>\n",
       "      <th>2015-16</th>\n",
       "      <th>Player</th>\n",
       "    </tr>\n",
       "  </thead>\n",
       "  <tbody>\n",
       "    <tr>\n",
       "      <th>0</th>\n",
       "      <td>2000000</td>\n",
       "      <td>Aaron Brooks</td>\n",
       "    </tr>\n",
       "    <tr>\n",
       "      <th>1</th>\n",
       "      <td>4171680</td>\n",
       "      <td>Aaron Gordon</td>\n",
       "    </tr>\n",
       "    <tr>\n",
       "      <th>2</th>\n",
       "      <td>452059</td>\n",
       "      <td>Aaron Gray</td>\n",
       "    </tr>\n",
       "    <tr>\n",
       "      <th>3</th>\n",
       "      <td>525093</td>\n",
       "      <td>Aaron Harrison</td>\n",
       "    </tr>\n",
       "    <tr>\n",
       "      <th>4</th>\n",
       "      <td>60000</td>\n",
       "      <td>Adonis Thomas</td>\n",
       "    </tr>\n",
       "  </tbody>\n",
       "</table>\n",
       "</div>"
      ],
      "text/plain": [
       "   2015-16          Player\n",
       "0  2000000    Aaron Brooks\n",
       "1  4171680    Aaron Gordon\n",
       "2   452059      Aaron Gray\n",
       "3   525093  Aaron Harrison\n",
       "4    60000   Adonis Thomas"
      ]
     },
     "execution_count": 139,
     "metadata": {},
     "output_type": "execute_result"
    }
   ],
   "source": [
    "salary_df = pd.read_csv('salary.csv',header=1)[['Player','2015-16']]\n",
    "salary_df = salary_df[salary_df['Player'] != \"Player\"]\n",
    "salary_df = salary_df[salary_df['2015-16'] != \"Salary\"]\n",
    "salary_df['2015-16'] = salary_df['2015-16'].map(lambda x: int(x))\n",
    "salary_df = pd.DataFrame(salary_df.groupby('Player')['2015-16'].mean())\n",
    "salary_df[\"Player\"] = salary_df.index\n",
    "salary_df = salary_df.reset_index(drop=True)\n",
    "salary_df.head()"
   ]
  },
  {
   "cell_type": "markdown",
   "metadata": {},
   "source": [
    "#### The following data frames are for Simulated Annealing"
   ]
  },
  {
   "cell_type": "code",
   "execution_count": 141,
   "metadata": {
    "collapsed": false
   },
   "outputs": [
    {
     "data": {
      "text/html": [
       "<div>\n",
       "<table border=\"1\" class=\"dataframe\">\n",
       "  <thead>\n",
       "    <tr style=\"text-align: right;\">\n",
       "      <th></th>\n",
       "      <th>PTS</th>\n",
       "      <th>Player</th>\n",
       "      <th>2015-16</th>\n",
       "    </tr>\n",
       "  </thead>\n",
       "  <tbody>\n",
       "    <tr>\n",
       "      <th>0</th>\n",
       "      <td>7.1</td>\n",
       "      <td>Aaron Brooks</td>\n",
       "      <td>2000000</td>\n",
       "    </tr>\n",
       "    <tr>\n",
       "      <th>1</th>\n",
       "      <td>9.2</td>\n",
       "      <td>Aaron Gordon</td>\n",
       "      <td>4171680</td>\n",
       "    </tr>\n",
       "    <tr>\n",
       "      <th>2</th>\n",
       "      <td>0.9</td>\n",
       "      <td>Aaron Harrison</td>\n",
       "      <td>525093</td>\n",
       "    </tr>\n",
       "    <tr>\n",
       "      <th>3</th>\n",
       "      <td>2.5</td>\n",
       "      <td>Adreian Payne</td>\n",
       "      <td>1938840</td>\n",
       "    </tr>\n",
       "    <tr>\n",
       "      <th>4</th>\n",
       "      <td>15.2</td>\n",
       "      <td>Al Horford</td>\n",
       "      <td>12000000</td>\n",
       "    </tr>\n",
       "  </tbody>\n",
       "</table>\n",
       "</div>"
      ],
      "text/plain": [
       "    PTS          Player   2015-16\n",
       "0   7.1    Aaron Brooks   2000000\n",
       "1   9.2    Aaron Gordon   4171680\n",
       "2   0.9  Aaron Harrison    525093\n",
       "3   2.5   Adreian Payne   1938840\n",
       "4  15.2      Al Horford  12000000"
      ]
     },
     "execution_count": 141,
     "metadata": {},
     "output_type": "execute_result"
    }
   ],
   "source": [
    "# Import player/salary csvs\n",
    "player_df = pd.read_csv('fantasy_stats_2016.csv')[['Player','PTS']]\n",
    "player_df = player_df[player_df['PTS'] != \"PTS\"]\n",
    "player_df['PTS'] = player_df['PTS'].map(lambda x: float(x))\n",
    "player_df = pd.DataFrame(player_df.groupby('Player')['PTS'].mean())\n",
    "player_df[\"Player\"] = player_df.index\n",
    "player_df = player_df.reset_index(drop=True)\n",
    "player_df.head()\n",
    "# Merge the two dfs into one \n",
    "df_perGame = player_df.merge(salary_df, on=\"Player\" ,how='inner')\n",
    "df_perGame = df_perGame[df_perGame['Player'] != \"Player\"]\n",
    "df_perGame.head()"
   ]
  },
  {
   "cell_type": "code",
   "execution_count": 144,
   "metadata": {
    "collapsed": false
   },
   "outputs": [
    {
     "data": {
      "text/html": [
       "<div>\n",
       "<table border=\"1\" class=\"dataframe\">\n",
       "  <thead>\n",
       "    <tr style=\"text-align: right;\">\n",
       "      <th></th>\n",
       "      <th>PTS</th>\n",
       "      <th>Player</th>\n",
       "      <th>2015-16</th>\n",
       "    </tr>\n",
       "  </thead>\n",
       "  <tbody>\n",
       "    <tr>\n",
       "      <th>0</th>\n",
       "      <td>22.2</td>\n",
       "      <td>Aaron Brooks</td>\n",
       "      <td>2000000</td>\n",
       "    </tr>\n",
       "    <tr>\n",
       "      <th>1</th>\n",
       "      <td>19.3</td>\n",
       "      <td>Aaron Gordon</td>\n",
       "      <td>4171680</td>\n",
       "    </tr>\n",
       "    <tr>\n",
       "      <th>2</th>\n",
       "      <td>9.7</td>\n",
       "      <td>Aaron Harrison</td>\n",
       "      <td>525093</td>\n",
       "    </tr>\n",
       "    <tr>\n",
       "      <th>3</th>\n",
       "      <td>13.7</td>\n",
       "      <td>Adreian Payne</td>\n",
       "      <td>1938840</td>\n",
       "    </tr>\n",
       "    <tr>\n",
       "      <th>4</th>\n",
       "      <td>23.5</td>\n",
       "      <td>Al Horford</td>\n",
       "      <td>12000000</td>\n",
       "    </tr>\n",
       "  </tbody>\n",
       "</table>\n",
       "</div>"
      ],
      "text/plain": [
       "    PTS          Player   2015-16\n",
       "0  22.2    Aaron Brooks   2000000\n",
       "1  19.3    Aaron Gordon   4171680\n",
       "2   9.7  Aaron Harrison    525093\n",
       "3  13.7   Adreian Payne   1938840\n",
       "4  23.5      Al Horford  12000000"
      ]
     },
     "execution_count": 144,
     "metadata": {},
     "output_type": "execute_result"
    }
   ],
   "source": [
    "# Import player/salary csvs\n",
    "player_df2 = pd.read_csv('15-16Per100Pos_stats.csv')[['Player','PTS']]\n",
    "player_df2 = player_df2[player_df2['PTS'] != \"PTS\"]\n",
    "player_df2['PTS'] = player_df2['PTS'].map(lambda x: float(x))\n",
    "player_df2 = pd.DataFrame(player_df2.groupby('Player')['PTS'].mean())\n",
    "player_df2[\"Player\"] = player_df2.index\n",
    "player_df2 = player_df2.reset_index(drop=True)\n",
    "player_df2.head()\n",
    "# Merge the two dfs into one \n",
    "df_100 = player_df2.merge(salary_df, on=\"Player\" ,how='inner')\n",
    "df_100 = df_100[df_100['Player'] != \"Player\"]\n",
    "df_100.head()"
   ]
  },
  {
   "cell_type": "markdown",
   "metadata": {},
   "source": [
    "#### The following blocks are offensive/defensive points for each player[from per 100 possessions]\n",
    "* Player: Name\n",
    "* ORtg: Offensive Rating \n",
    "* DRtg: Defensive Rating"
   ]
  },
  {
   "cell_type": "code",
   "execution_count": 191,
   "metadata": {
    "collapsed": false
   },
   "outputs": [
    {
     "data": {
      "text/html": [
       "<div>\n",
       "<table border=\"1\" class=\"dataframe\">\n",
       "  <thead>\n",
       "    <tr style=\"text-align: right;\">\n",
       "      <th></th>\n",
       "      <th>ORtg</th>\n",
       "      <th>Player</th>\n",
       "    </tr>\n",
       "  </thead>\n",
       "  <tbody>\n",
       "    <tr>\n",
       "      <th>0</th>\n",
       "      <td>99</td>\n",
       "      <td>Aaron Brooks</td>\n",
       "    </tr>\n",
       "    <tr>\n",
       "      <th>1</th>\n",
       "      <td>114</td>\n",
       "      <td>Aaron Gordon</td>\n",
       "    </tr>\n",
       "    <tr>\n",
       "      <th>2</th>\n",
       "      <td>77</td>\n",
       "      <td>Aaron Harrison</td>\n",
       "    </tr>\n",
       "    <tr>\n",
       "      <th>3</th>\n",
       "      <td>81</td>\n",
       "      <td>Adreian Payne</td>\n",
       "    </tr>\n",
       "    <tr>\n",
       "      <th>4</th>\n",
       "      <td>113</td>\n",
       "      <td>Al Horford</td>\n",
       "    </tr>\n",
       "  </tbody>\n",
       "</table>\n",
       "</div>"
      ],
      "text/plain": [
       "   ORtg          Player\n",
       "0    99    Aaron Brooks\n",
       "1   114    Aaron Gordon\n",
       "2    77  Aaron Harrison\n",
       "3    81   Adreian Payne\n",
       "4   113      Al Horford"
      ]
     },
     "execution_count": 191,
     "metadata": {},
     "output_type": "execute_result"
    }
   ],
   "source": [
    "#offensive Rating\n",
    "player_df2 = pd.read_csv('15-16Per100Pos_stats.csv')[['Player','ORtg']]\n",
    "player_df2 = player_df2[player_df2['ORtg'] != \"ORtg\"]\n",
    "player_df2 = player_df2[~pd.isnull(player_df2['ORtg'])] \n",
    "player_df2['ORtg'] = player_df2['ORtg'].map(lambda x: int(x))\n",
    "player_df2 = pd.DataFrame(player_df2.groupby('Player')['ORtg'].mean())\n",
    "player_df2[\"Player\"] = player_df2.index\n",
    "player_df2 = player_df2.reset_index(drop=True)\n",
    "player_df2.head()"
   ]
  },
  {
   "cell_type": "code",
   "execution_count": 192,
   "metadata": {
    "collapsed": false
   },
   "outputs": [
    {
     "data": {
      "text/html": [
       "<div>\n",
       "<table border=\"1\" class=\"dataframe\">\n",
       "  <thead>\n",
       "    <tr style=\"text-align: right;\">\n",
       "      <th></th>\n",
       "      <th>DRtg</th>\n",
       "      <th>Player</th>\n",
       "    </tr>\n",
       "  </thead>\n",
       "  <tbody>\n",
       "    <tr>\n",
       "      <th>0</th>\n",
       "      <td>109</td>\n",
       "      <td>Aaron Brooks</td>\n",
       "    </tr>\n",
       "    <tr>\n",
       "      <th>1</th>\n",
       "      <td>105</td>\n",
       "      <td>Aaron Gordon</td>\n",
       "    </tr>\n",
       "    <tr>\n",
       "      <th>2</th>\n",
       "      <td>103</td>\n",
       "      <td>Aaron Harrison</td>\n",
       "    </tr>\n",
       "    <tr>\n",
       "      <th>3</th>\n",
       "      <td>108</td>\n",
       "      <td>Adreian Payne</td>\n",
       "    </tr>\n",
       "    <tr>\n",
       "      <th>4</th>\n",
       "      <td>101</td>\n",
       "      <td>Al Horford</td>\n",
       "    </tr>\n",
       "  </tbody>\n",
       "</table>\n",
       "</div>"
      ],
      "text/plain": [
       "   DRtg          Player\n",
       "0   109    Aaron Brooks\n",
       "1   105    Aaron Gordon\n",
       "2   103  Aaron Harrison\n",
       "3   108   Adreian Payne\n",
       "4   101      Al Horford"
      ]
     },
     "execution_count": 192,
     "metadata": {},
     "output_type": "execute_result"
    }
   ],
   "source": [
    "#defensive Rating\n",
    "player_df2 = pd.read_csv('15-16Per100Pos_stats.csv')[['Player','DRtg']]\n",
    "player_df2 = player_df2[player_df2['DRtg'] != \"DRtg\"]\n",
    "player_df2 = player_df2[~pd.isnull(player_df2['DRtg'])] \n",
    "player_df2['DRtg'] = player_df2['DRtg'].map(lambda x: int(x))\n",
    "player_df2 = pd.DataFrame(player_df2.groupby('Player')['DRtg'].mean())\n",
    "player_df2[\"Player\"] = player_df2.index\n",
    "player_df2 = player_df2.reset_index(drop=True)\n",
    "player_df2.head()"
   ]
  }
 ],
 "metadata": {
  "kernelspec": {
   "display_name": "Python 2",
   "language": "python",
   "name": "python2"
  },
  "language_info": {
   "codemirror_mode": {
    "name": "ipython",
    "version": 2
   },
   "file_extension": ".py",
   "mimetype": "text/x-python",
   "name": "python",
   "nbconvert_exporter": "python",
   "pygments_lexer": "ipython2",
   "version": "2.7.11"
  }
 },
 "nbformat": 4,
 "nbformat_minor": 0
}
