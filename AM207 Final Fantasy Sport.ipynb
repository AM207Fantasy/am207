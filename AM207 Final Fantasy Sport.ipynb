{
 "cells": [
  {
   "cell_type": "markdown",
   "metadata": {},
   "source": [
    "### AM207 Final Project Fantasy Sport \n",
    "Team Members: Andy Shi, Hidenori Tanaka, Hyungmok Sun, Xingchi Dai"
   ]
  },
  {
   "cell_type": "code",
   "execution_count": 181,
   "metadata": {
    "collapsed": false
   },
   "outputs": [],
   "source": [
    "# Import some necessary packages\n",
    "import numpy as np\n",
    "import matplotlib\n",
    "import matplotlib.pyplot as plt\n",
    "%matplotlib inline\n",
    "\n",
    "import seaborn as sns\n",
    "sns.set_style(\"white\")\n",
    "\n",
    "import time\n",
    "import timeit\n",
    "import copy\n",
    "import scipy.stats \n",
    "import pandas as pd\n",
    "import pymc as pm\n",
    "\n",
    "import numpy as np\n"
   ]
  },
  {
   "cell_type": "code",
   "execution_count": 148,
   "metadata": {
    "collapsed": false
   },
   "outputs": [
    {
     "data": {
      "text/html": [
       "<div>\n",
       "<table border=\"1\" class=\"dataframe\">\n",
       "  <thead>\n",
       "    <tr style=\"text-align: right;\">\n",
       "      <th></th>\n",
       "      <th>PTS</th>\n",
       "      <th>Player</th>\n",
       "    </tr>\n",
       "  </thead>\n",
       "  <tbody>\n",
       "    <tr>\n",
       "      <th>0</th>\n",
       "      <td>7.1</td>\n",
       "      <td>Aaron Brooks</td>\n",
       "    </tr>\n",
       "    <tr>\n",
       "      <th>1</th>\n",
       "      <td>9.2</td>\n",
       "      <td>Aaron Gordon</td>\n",
       "    </tr>\n",
       "    <tr>\n",
       "      <th>2</th>\n",
       "      <td>0.9</td>\n",
       "      <td>Aaron Harrison</td>\n",
       "    </tr>\n",
       "    <tr>\n",
       "      <th>3</th>\n",
       "      <td>2.5</td>\n",
       "      <td>Adreian Payne</td>\n",
       "    </tr>\n",
       "    <tr>\n",
       "      <th>4</th>\n",
       "      <td>15.2</td>\n",
       "      <td>Al Horford</td>\n",
       "    </tr>\n",
       "  </tbody>\n",
       "</table>\n",
       "</div>"
      ],
      "text/plain": [
       "    PTS          Player\n",
       "0   7.1    Aaron Brooks\n",
       "1   9.2    Aaron Gordon\n",
       "2   0.9  Aaron Harrison\n",
       "3   2.5   Adreian Payne\n",
       "4  15.2      Al Horford"
      ]
     },
     "execution_count": 148,
     "metadata": {},
     "output_type": "execute_result"
    }
   ],
   "source": [
    "# Import player/salary csvs\n",
    "player_df = pd.read_csv('fantasy_stats_2016.csv')[['Player','PTS']]\n",
    "player_df = player_df[player_df['PTS'] != \"PTS\"]\n",
    "player_df['PTS'] = player_df['PTS'].map(lambda x: float(x))\n",
    "player_df = pd.DataFrame(player_df.groupby('Player')['PTS'].mean())\n",
    "player_df[\"Player\"] = player_df.index\n",
    "player_df = player_df.reset_index(drop=True)\n",
    "player_df.head()"
   ]
  },
  {
   "cell_type": "code",
   "execution_count": 149,
   "metadata": {
    "collapsed": false
   },
   "outputs": [
    {
     "data": {
      "text/html": [
       "<div>\n",
       "<table border=\"1\" class=\"dataframe\">\n",
       "  <thead>\n",
       "    <tr style=\"text-align: right;\">\n",
       "      <th></th>\n",
       "      <th>2015-16</th>\n",
       "      <th>Player</th>\n",
       "    </tr>\n",
       "  </thead>\n",
       "  <tbody>\n",
       "    <tr>\n",
       "      <th>0</th>\n",
       "      <td>2000000</td>\n",
       "      <td>Aaron Brooks</td>\n",
       "    </tr>\n",
       "    <tr>\n",
       "      <th>1</th>\n",
       "      <td>4171680</td>\n",
       "      <td>Aaron Gordon</td>\n",
       "    </tr>\n",
       "    <tr>\n",
       "      <th>2</th>\n",
       "      <td>452059</td>\n",
       "      <td>Aaron Gray</td>\n",
       "    </tr>\n",
       "    <tr>\n",
       "      <th>3</th>\n",
       "      <td>525093</td>\n",
       "      <td>Aaron Harrison</td>\n",
       "    </tr>\n",
       "    <tr>\n",
       "      <th>4</th>\n",
       "      <td>60000</td>\n",
       "      <td>Adonis Thomas</td>\n",
       "    </tr>\n",
       "  </tbody>\n",
       "</table>\n",
       "</div>"
      ],
      "text/plain": [
       "   2015-16          Player\n",
       "0  2000000    Aaron Brooks\n",
       "1  4171680    Aaron Gordon\n",
       "2   452059      Aaron Gray\n",
       "3   525093  Aaron Harrison\n",
       "4    60000   Adonis Thomas"
      ]
     },
     "execution_count": 149,
     "metadata": {},
     "output_type": "execute_result"
    }
   ],
   "source": [
    "salary_df = pd.read_csv('salary.csv',header=1)[['Player','2015-16']]\n",
    "salary_df = salary_df[salary_df['Player'] != \"Player\"]\n",
    "salary_df = salary_df[salary_df['2015-16'] != \"Salary\"]\n",
    "salary_df['2015-16'] = salary_df['2015-16'].map(lambda x: int(x.lstrip('$')))\n",
    "salary_avg = pd.DataFrame(salary_df.groupby('Player')['2015-16'].mean())\n",
    "salary_avg[\"Player\"] = salary_avg.index\n",
    "salary_avg = salary_avg.reset_index(drop=True)\n",
    "salary_avg.head()"
   ]
  },
  {
   "cell_type": "code",
   "execution_count": 150,
   "metadata": {
    "collapsed": false
   },
   "outputs": [
    {
     "data": {
      "text/html": [
       "<div>\n",
       "<table border=\"1\" class=\"dataframe\">\n",
       "  <thead>\n",
       "    <tr style=\"text-align: right;\">\n",
       "      <th></th>\n",
       "      <th>PTS</th>\n",
       "      <th>Player</th>\n",
       "      <th>2015-16</th>\n",
       "    </tr>\n",
       "  </thead>\n",
       "  <tbody>\n",
       "    <tr>\n",
       "      <th>0</th>\n",
       "      <td>7.1</td>\n",
       "      <td>Aaron Brooks</td>\n",
       "      <td>2000000</td>\n",
       "    </tr>\n",
       "    <tr>\n",
       "      <th>1</th>\n",
       "      <td>9.2</td>\n",
       "      <td>Aaron Gordon</td>\n",
       "      <td>4171680</td>\n",
       "    </tr>\n",
       "    <tr>\n",
       "      <th>2</th>\n",
       "      <td>0.9</td>\n",
       "      <td>Aaron Harrison</td>\n",
       "      <td>525093</td>\n",
       "    </tr>\n",
       "    <tr>\n",
       "      <th>3</th>\n",
       "      <td>2.5</td>\n",
       "      <td>Adreian Payne</td>\n",
       "      <td>1938840</td>\n",
       "    </tr>\n",
       "    <tr>\n",
       "      <th>4</th>\n",
       "      <td>15.2</td>\n",
       "      <td>Al Horford</td>\n",
       "      <td>12000000</td>\n",
       "    </tr>\n",
       "  </tbody>\n",
       "</table>\n",
       "</div>"
      ],
      "text/plain": [
       "    PTS          Player   2015-16\n",
       "0   7.1    Aaron Brooks   2000000\n",
       "1   9.2    Aaron Gordon   4171680\n",
       "2   0.9  Aaron Harrison    525093\n",
       "3   2.5   Adreian Payne   1938840\n",
       "4  15.2      Al Horford  12000000"
      ]
     },
     "execution_count": 150,
     "metadata": {},
     "output_type": "execute_result"
    }
   ],
   "source": [
    "# Merge the two dfs into one \n",
    "df = player_df.merge(salary_df, on=\"Player\" ,how='inner')\n",
    "df = df[df['Player'] != \"Player\"]\n",
    "df.head()"
   ]
  },
  {
   "cell_type": "markdown",
   "metadata": {},
   "source": [
    "### Summary\n",
    "Up to here, we have a clean dataframe containning player name, and \"point per game\". The next step is to do Simulated Annealing. "
   ]
  },
  {
   "cell_type": "markdown",
   "metadata": {},
   "source": [
    "### Use Simulated Annealing to optimize the best line-up"
   ]
  },
  {
   "cell_type": "markdown",
   "metadata": {},
   "source": [
    "Similar to the previous homework problem, here we decided to use SA to optimize our best line-up as a baseline model. We also did greedy algorithm first to compare with our result later."
   ]
  },
  {
   "cell_type": "markdown",
   "metadata": {},
   "source": [
    "### Greedy Algorithm\n",
    "The greedy algorithm is to find AT LEAST 12 players as our line-up(5 players on the court while 7 players on the bench). Besides this constraints, we also limit our yearly salary we paid for one team. From [http://www.basketball-reference.com/contracts/], I decided to set the limit for 12 players $50,000,000. and choose the best 12 players\n",
    "\n",
    "The easiest way is to sort player by their pts(values), and pick up 12 players which under our salary restriction."
   ]
  },
  {
   "cell_type": "code",
   "execution_count": 211,
   "metadata": {
    "collapsed": true
   },
   "outputs": [],
   "source": [
    "# number of players\n",
    "N = 12\n",
    "N_min = 5\n",
    "# money we would like to pay in million dollars\n",
    "M = 55\n",
    "# PTS for players\n",
    "pts = df['PTS'].map(lambda x: float(x)).values\n",
    "# the salary is in million unit\n",
    "salary = df['2015-16'].values/1000000.0\n",
    "players = df['Player'].values"
   ]
  },
  {
   "cell_type": "code",
   "execution_count": 152,
   "metadata": {
    "collapsed": true
   },
   "outputs": [],
   "source": [
    "# Here we calculate the ratio\n",
    "sort_idx = np.argsort(pts)"
   ]
  },
  {
   "cell_type": "code",
   "execution_count": 166,
   "metadata": {
    "collapsed": false
   },
   "outputs": [],
   "source": [
    "# Here I print out the best 12 players under the naive method\n",
    "total_num = 0\n",
    "total_value = 0\n",
    "total_sal = 0\n",
    "line_up = []\n",
    "#loop through all players\n",
    "for i in range(len(pts)):\n",
    "    # we only need 12 player\n",
    "    if(total_num > 11):\n",
    "        break;\n",
    "    # pick one, check if it will be larger than our the total money\n",
    "    if(total_sal + salary[sort_idx[-i]] > M):\n",
    "        #take the last one out\n",
    "        total_num -= 1\n",
    "        total_sal -= salary[line_up[-1]]\n",
    "        total_value -= pts[line_up[-1]]\n",
    "        del line_up[-1]\n",
    "        continue;\n",
    "    else:\n",
    "        total_num += 1\n",
    "        total_sal += salary[sort_idx[-i]]\n",
    "        total_value += pts[sort_idx[-i]]\n",
    "        line_up.append(sort_idx[-i])"
   ]
  },
  {
   "cell_type": "code",
   "execution_count": 168,
   "metadata": {
    "collapsed": false,
    "scrolled": true
   },
   "outputs": [
    {
     "name": "stdout",
     "output_type": "stream",
     "text": [
      "The line-up under naive method is:\n",
      "\n",
      "J.J. O'Brien\n",
      "Stephen Curry\n",
      "James Harden\n",
      "Isaiah Thomas\n",
      "Joe Johnson\n",
      "J.R. Smith\n",
      "Ish Smith\n",
      "Omri Casspi\n",
      "C.J. Miles\n",
      "Harrison Barnes\n",
      "Michael Carter-Williams\n",
      "Jordan Hamilton\n",
      "the total value is: 176.433333333\n",
      "the total salary we would pay 54.35657\n",
      "we have 12 players\n"
     ]
    }
   ],
   "source": [
    "# print out line_up idx and summary\n",
    "print \"The line-up under naive method is:\\n\"\n",
    "for idx in line_up:\n",
    "    print players[idx]\n",
    "print \"the total value is:\", total_value\n",
    "print \"the total salary we would pay\", total_sal\n",
    "print \"we have\", total_num, \"players\""
   ]
  },
  {
   "cell_type": "markdown",
   "metadata": {},
   "source": [
    "### Summary\n",
    "Actually the naive method does a very good job here, judging by the fact that the money we paid is really close to our limit. and it seems total value is legit. We will see how simulated annealing could improve this result. "
   ]
  },
  {
   "cell_type": "markdown",
   "metadata": {},
   "source": [
    "### Simulated Annealing\n",
    "Those two restrictions still apply in this situation. I chose the result from previous section as my starting point."
   ]
  },
  {
   "cell_type": "code",
   "execution_count": 180,
   "metadata": {
    "collapsed": true
   },
   "outputs": [],
   "source": [
    "# two functions to calculate values and salary of players we picked\n",
    "def playersValues(line_up,value = pts):\n",
    "    return sum(line_up * value)\n",
    "def playersSalaries(line_up,salary = salary):\n",
    "    return sum(line_up * salary)"
   ]
  },
  {
   "cell_type": "code",
   "execution_count": 182,
   "metadata": {
    "collapsed": true
   },
   "outputs": [],
   "source": [
    "# function we randomly take players out of our line-up\n",
    "def firePlayer(line_up,num_fired):\n",
    "    proposed_line = copy.deepcopy(line_up)\n",
    "    for i in range(num_fired):\n",
    "        idx = np.random.randint(0,len(line_up))\n",
    "        proposed_line[idx] = False \n",
    "    return proposed_line"
   ]
  },
  {
   "cell_type": "code",
   "execution_count": 183,
   "metadata": {
    "collapsed": true
   },
   "outputs": [],
   "source": [
    "def hirePlayer(line_up,num_hired):\n",
    "    proposed_line = copy.deepcopy(line_up)\n",
    "    for i in range(num_hired):\n",
    "        idx = np.random.randint(0,len(line_up))\n",
    "        proposed_line[idx] = True \n",
    "    return proposed_line"
   ]
  },
  {
   "cell_type": "code",
   "execution_count": 245,
   "metadata": {
    "collapsed": true
   },
   "outputs": [],
   "source": [
    "# function for simulated annealing\n",
    "# items: all items we could choose from\n",
    "# init_temp: initial temperature \n",
    "# thermostat: linear factor to decrease the temperature \n",
    "# ftol, itol, otol: tolerance values for stopping \n",
    "# ftol: Not changing much anymore\n",
    "# itol: maximum number of iterations\n",
    "# otol: objective goal reached\n",
    "# reannealing: schedule for reheating\n",
    "\n",
    "def simulated_annealing(prev,init_temp, thermostat, ftol, itol, otol, reannealing):\n",
    "    # ===============\n",
    "    # SET THESE FOR DIAGNOSTICS\n",
    "    # ================\n",
    "    best = []\n",
    "    m=10000     \n",
    "    distsize=otol+1\n",
    "    temperature = init_temp   \n",
    "    best_line_up = prev\n",
    "    max_E = playersValues(prev)\n",
    "    #number of accepted steps\n",
    "    it = 0                    \n",
    "    # Initialize my energy values\n",
    "    prev_E = playersValues(prev)  \n",
    "    #number of iterations\n",
    "    atp=0\n",
    "    didPlot = False\n",
    "    while it >=0:\n",
    "        # adaptive step size\n",
    "        L = np.floor(np.sqrt(temperature)).astype(int)\n",
    "        #This step is to add new points in neighbors\n",
    "        propose_line = hirePlayer(prev,L)\n",
    "        new_num_player = sum(propose_line)     \n",
    "        \n",
    "        # Here check the items weights\n",
    "        new_salary = playersSalaries(propose_line)\n",
    "       \n",
    "        # Here is my condition, loop if new_weight is larger than W\n",
    "        while(new_salary > M or new_num_player < N_min or new_num_player > N):\n",
    "            if (new_salary > M):\n",
    "                propose_line = firePlayer(propose_line,L)\n",
    "            if(new_num_player < N_min):\n",
    "                propose_line = hirePlayer(propose_line,L)\n",
    "            if(new_num_player > N):\n",
    "                propose_line = firePlayer(propose_line,L)\n",
    "            new_salary = playersSalaries(propose_line)\n",
    "            new_num_player = sum(propose_line)\n",
    "        # Here I know everything satisfies conditions\n",
    "        # Now it's time to check the energy            \n",
    "        new_E = playersValues(propose_line)\n",
    "        # Here I got my new_E \n",
    "        deltaE  =  new_E - prev_E \n",
    "        # if the new energy is larger, I will take it\n",
    "        if new_E > prev_E:\n",
    "            prev  = propose_line\n",
    "            prev_E = new_E\n",
    "            best.append(new_E)\n",
    "            #tract the best sol\n",
    "            if(new_E > max_E):\n",
    "                max_E = new_E\n",
    "                best_line_up = prev\n",
    "            it = it+1\n",
    "            atp += 1\n",
    "        elif np.random.rand() < np.exp(deltaE/temperature):\n",
    "            prev  = propose_line\n",
    "            prev_E = new_E \n",
    "            best.append(new_E)\n",
    "            it = it+1\n",
    "            atp += 1\n",
    "\n",
    "        if(atp % 1000 == 0):\n",
    "            print \"ran\", atp,\"already\"\n",
    "        if it % reannealing == 0:\n",
    "            temperature = thermostat * temperature;\n",
    "            compl_temp=0;\n",
    "            if temperature < 0.01:\n",
    "                temperature = 1\n",
    "    \n",
    "        if len(best)>m and np.std(best[-m:])/np.mean(best[-m:]) < ftol:\n",
    "            print 'ftol'\n",
    "            break\n",
    "        if atp >itol:\n",
    "            print 'itol'\n",
    "            break\n",
    "        if len(best)> 0 and best[-1] >= otol:\n",
    "            print 'otol'\n",
    "            print otol\n",
    "            print best[-1]\n",
    "            break\n",
    "    return best, prev, best_line_up"
   ]
  },
  {
   "cell_type": "code",
   "execution_count": 171,
   "metadata": {
    "collapsed": true
   },
   "outputs": [],
   "source": [
    "#the init line_up info\n",
    "init_line_up = line_up"
   ]
  },
  {
   "cell_type": "code",
   "execution_count": 242,
   "metadata": {
    "collapsed": true
   },
   "outputs": [],
   "source": [
    "#set all players to false except those we picked fro the previous section\n",
    "start = [False] * len(players)\n",
    "for idx in init_line_up:\n",
    "    start[idx] = True"
   ]
  },
  {
   "cell_type": "code",
   "execution_count": 250,
   "metadata": {
    "collapsed": false
   },
   "outputs": [
    {
     "name": "stdout",
     "output_type": "stream",
     "text": [
      "ran 0 already\n",
      "ran 0 already\n",
      "ran 0 already\n",
      "ran 0 already\n",
      "ran 0 already\n",
      "ran 1000 already\n",
      "ran 1000 already\n",
      "ran 1000 already\n",
      "ran 1000 already\n",
      "ran 1000 already\n",
      "ran 1000 already\n",
      "ran 2000 already\n",
      "ran 3000 already\n",
      "ran 4000 already\n",
      "ran 5000 already\n",
      "ran 6000 already\n",
      "ran 7000 already\n",
      "ran 8000 already\n",
      "ran 9000 already\n",
      "ran 10000 already\n",
      "itol\n"
     ]
    }
   ],
   "source": [
    "best_results, new_line_up, best_line_up = simulated_annealing(start, 3.0, 0.9, 0.01, 10000, 300, 1000)"
   ]
  },
  {
   "cell_type": "code",
   "execution_count": 253,
   "metadata": {
    "collapsed": false
   },
   "outputs": [
    {
     "name": "stdout",
     "output_type": "stream",
     "text": [
      "The best result is: 221.7\n"
     ]
    },
    {
     "data": {
      "image/png": "[encoded data removed]",
      "text/plain": [
       "<matplotlib.figure.Figure at 0x11442a8d0>"
      ]
     },
     "metadata": {},
     "output_type": "display_data"
    }
   ],
   "source": [
    "plt.plot(best_results)\n",
    "plt.title(\"Value Vs. Iteration\")\n",
    "print \"The best result is:\", best_results[-1]"
   ]
  },
  {
   "cell_type": "code",
   "execution_count": 252,
   "metadata": {
    "collapsed": false
   },
   "outputs": [
    {
     "data": {
      "text/plain": [
       "228.43333333333334"
      ]
     },
     "execution_count": 252,
     "metadata": {},
     "output_type": "execute_result"
    }
   ],
   "source": [
    "np.max(best_results)"
   ]
  },
  {
   "cell_type": "code",
   "execution_count": 273,
   "metadata": {
    "collapsed": false
   },
   "outputs": [
    {
     "name": "stdout",
     "output_type": "stream",
     "text": [
      "The best line up given by SA is:\n",
      "C.J. McCollum\n",
      "Victor Oladipo\n",
      "Andrew Wiggins\n",
      "Dahntay Jones\n",
      "Damian Lillard\n",
      "Hassan Whiteside\n",
      "Joe Johnson\n",
      "James Harden\n",
      "Michael Beasley\n",
      "Stephen Curry\n",
      "Isaiah Thomas\n",
      "Ish Smith\n"
     ]
    }
   ],
   "source": [
    "# Here I print out players\n",
    "print \"The best line up given by SA is:\"\n",
    "sort_line = np.argsort(best_line_up)\n",
    "SA_result = []\n",
    "for i in range(1,np.sum(best_line_up)+1):\n",
    "    SA_result.append(sort_line[-i])\n",
    "    print players[sort_line[-i]]\n",
    "    "
   ]
  },
  {
   "cell_type": "code",
   "execution_count": 277,
   "metadata": {
    "collapsed": false
   },
   "outputs": [
    {
     "name": "stdout",
     "output_type": "stream",
     "text": [
      " The money we paid for this line-up is:  54.564517\n"
     ]
    }
   ],
   "source": [
    "print \"The money we paid for this line-up is: \",playersSalaries(best_line_up)"
   ]
  },
  {
   "cell_type": "code",
   "execution_count": 278,
   "metadata": {
    "collapsed": false
   },
   "outputs": [
    {
     "name": "stdout",
     "output_type": "stream",
     "text": [
      "The value of this line-up is:  228.433333333\n"
     ]
    }
   ],
   "source": [
    "print \"The value of this line-up is: \",playersValues(best_line_up)"
   ]
  }
 ],
 "metadata": {
  "kernelspec": {
   "display_name": "Python 2",
   "language": "python",
   "name": "python2"
  },
  "language_info": {
   "codemirror_mode": {
    "name": "ipython",
    "version": 2
   },
   "file_extension": ".py",
   "mimetype": "text/x-python",
   "name": "python",
   "nbconvert_exporter": "python",
   "pygments_lexer": "ipython2",
   "version": "2.7.11"
  }
 },
 "nbformat": 4,
 "nbformat_minor": 0
}
