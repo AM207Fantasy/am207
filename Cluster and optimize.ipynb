{
 "cells": [
  {
   "cell_type": "markdown",
   "metadata": {},
   "source": [
    "### Clustering and run MCMC\n",
    "Since we have too many parameter to optimize, and we only have limited observations. Due to the curse of dimensionality, we decided to reduce our dimensions. We grouped our players into 20 groups and optimize those 40 parameters. \n"
   ]
  },
  {
   "cell_type": "code",
   "execution_count": 1,
   "metadata": {
    "collapsed": false
   },
   "outputs": [
    {
     "name": "stderr",
     "output_type": "stream",
     "text": [
      "/Users/xdai/anaconda/lib/python2.7/site-packages/matplotlib/font_manager.py:273: UserWarning: Matplotlib is building the font cache using fc-list. This may take a moment.\n",
      "  warnings.warn('Matplotlib is building the font cache using fc-list. This may take a moment.')\n",
      "/Users/xdai/anaconda/lib/python2.7/site-packages/matplotlib/__init__.py:872: UserWarning: axes.color_cycle is deprecated and replaced with axes.prop_cycle; please use the latter.\n",
      "  warnings.warn(self.msg_depr % (key, alt_key))\n"
     ]
    }
   ],
   "source": [
    "import numpy as np\n",
    "import matplotlib\n",
    "import matplotlib.pyplot as plt\n",
    "%matplotlib inline\n",
    "\n",
    "import seaborn as sns\n",
    "sns.set_style(\"white\")\n",
    "\n",
    "import time\n",
    "import timeit\n",
    "\n",
    "import scipy.stats \n",
    "import pandas as pd\n",
    "import pymc as pm\n",
    "import pickle"
   ]
  },
  {
   "cell_type": "markdown",
   "metadata": {},
   "source": [
    "### Clustering "
   ]
  },
  {
   "cell_type": "code",
   "execution_count": 2,
   "metadata": {
    "collapsed": true
   },
   "outputs": [],
   "source": [
    "game16_df = pd.read_csv('clean-data/game_outcomes_15-16.csv')\n",
    "player_info = pd.read_csv('clean-data/player_info_pergame.csv')"
   ]
  },
  {
   "cell_type": "code",
   "execution_count": 3,
   "metadata": {
    "collapsed": false
   },
   "outputs": [],
   "source": [
    "player_info[\"off_rating\"] = player_info['PTS'].values + player_info['AST'].values\n",
    "player_info[\"def_rating\"] = player_info['BLK'].values + player_info[\"STL\"].values + player_info['DRB'].values"
   ]
  },
  {
   "cell_type": "code",
   "execution_count": 6,
   "metadata": {
    "collapsed": false
   },
   "outputs": [],
   "source": [
    "player_val = player_info[['off_rating','def_rating']]"
   ]
  },
  {
   "cell_type": "code",
   "execution_count": 7,
   "metadata": {
    "collapsed": false
   },
   "outputs": [],
   "source": [
    "df_norm = (player_val - player_val.mean(axis = 0))/ player_val.std(axis = 0)\n",
    "df_norm = df_norm.fillna(0)"
   ]
  },
  {
   "cell_type": "code",
   "execution_count": 9,
   "metadata": {
    "collapsed": false
   },
   "outputs": [],
   "source": [
    "from sklearn import cluster\n",
    "k_means = cluster.KMeans(init = \"k-means++\",n_clusters=20)\n",
    "k_means_clusters = k_means.fit_predict(df_norm.values) \n"
   ]
  },
  {
   "cell_type": "code",
   "execution_count": 59,
   "metadata": {
    "collapsed": true
   },
   "outputs": [],
   "source": [
    "score_diff = game16_df['diff'].values"
   ]
  },
  {
   "cell_type": "markdown",
   "metadata": {},
   "source": [
    "### Run MCMC "
   ]
  },
  {
   "cell_type": "code",
   "execution_count": 12,
   "metadata": {
    "collapsed": true
   },
   "outputs": [],
   "source": [
    "# import the pickle files for guest/host teams line_up\n",
    "with open('clean-data/guest_team_line_up.pkl', 'rb') as handle:\n",
    "    guest_team_line_up = pickle.load(handle)\n",
    "with open('clean-data/host_team_line_up.pkl','rb') as handle:\n",
    "    host_team_line_up = pickle.load(handle)"
   ]
  },
  {
   "cell_type": "code",
   "execution_count": 13,
   "metadata": {
    "collapsed": true
   },
   "outputs": [],
   "source": [
    "def make_guest_host_mat(game_outcomes_df):\n",
    "    '''\n",
    "    Makes a matrix for guests and hosts. Each row of each\n",
    "    matrix corresponds to one matchup. All elements of each row\n",
    "    are zero except the ith one (different for each row).\n",
    "    For the guest matrix, the ith entry in row j means that in game j,\n",
    "    the guest team was team i. In the host matrix, the ith entry in\n",
    "    row j means that the host team was team i\n",
    "    '''\n",
    "    \n",
    "    def make_matrix(mat, indices):\n",
    "        '''given a matrix and indices, sets the right one in each row\n",
    "        to be true'''\n",
    "        for (i, ind) in enumerate(indices):\n",
    "            mat[i, ind] = True\n",
    "        \n",
    "    nrows = game_outcomes_df.shape[0]\n",
    "    ncols = np.max(game_outcomes_df['Visitor_Index'] + 1)\n",
    "    \n",
    "    guest_matrix = np.zeros((nrows, ncols), dtype = bool)\n",
    "    host_matrix = np.zeros((nrows, ncols), dtype = bool)\n",
    "    \n",
    "    make_matrix(guest_matrix, game_outcomes_df['Visitor_Index'].values)\n",
    "    make_matrix(host_matrix, game_outcomes_df['Home_Index'].values)\n",
    "    \n",
    "    return(guest_matrix, host_matrix)"
   ]
  },
  {
   "cell_type": "code",
   "execution_count": 14,
   "metadata": {
    "collapsed": true
   },
   "outputs": [],
   "source": [
    "guest_matrix, host_matrix = make_guest_host_mat(game16_df)"
   ]
  },
  {
   "cell_type": "code",
   "execution_count": 15,
   "metadata": {
    "collapsed": true
   },
   "outputs": [],
   "source": [
    "# Copy the variables from Andy's part\n",
    "guest_lineup_arr = np.array(guest_team_line_up)\n",
    "host_lineup_arr = np.array(host_team_line_up)\n",
    "off_rating = player_info['PTS'].values + player_info['AST'].values\n",
    "def_rating = player_info['BLK'].values + player_info[\"STL\"].values + player_info['DRB'].values"
   ]
  },
  {
   "cell_type": "code",
   "execution_count": 16,
   "metadata": {
    "collapsed": true
   },
   "outputs": [],
   "source": [
    "def split_params(coefs, nplayers, nteams):\n",
    "    '''\n",
    "    Split the parameters\n",
    "    first are the beta0 for each team\n",
    "    then the beta for each player\n",
    "    then the gamma0 for each team\n",
    "    then the gamma for each player'''\n",
    "    assert(coefs.shape == (2*(nplayers+nteams),))\n",
    "    \n",
    "    beta0 = coefs[:nteams]\n",
    "    beta_player = coefs[nteams:(nplayers + nteams)]\n",
    "    gamma0 = coefs[(nplayers + nteams):(nplayers + 2*nteams)]\n",
    "    gamma_player = coefs[(nplayers + 2*nteams):]\n",
    "    \n",
    "    # parameterize sigma by its log\n",
    "    #logsigma = coefs[-1]\n",
    "    \n",
    "    assert(beta0.shape == (nteams,))\n",
    "    assert(beta_player.shape == (nplayers,))\n",
    "    assert(beta0.shape == (nteams,))\n",
    "    assert(gamma_player.shape == (nplayers,))\n",
    "    \n",
    "    \n",
    "    return (beta0, beta_player, gamma0, gamma_player)#, logsigma)"
   ]
  },
  {
   "cell_type": "code",
   "execution_count": 17,
   "metadata": {
    "collapsed": true
   },
   "outputs": [],
   "source": [
    "# Construct beta and gamma \n",
    "team_num = 30\n",
    "param_num = 20\n",
    "coefs = pm.MvNormalCov(\"coefs\", mu = np.zeros(2*(team_num + param_num)),\n",
    "                      C = np.eye(2*(team_num + param_num)))\n",
    "tau = pm.Gamma(\"tau\", alpha = 2, beta = 2)"
   ]
  },
  {
   "cell_type": "code",
   "execution_count": 35,
   "metadata": {
    "collapsed": false
   },
   "outputs": [],
   "source": [
    "# construct new cluster label matrix\n",
    "# k_means_clusters.shape\n",
    "players_labels = []\n",
    "cluster_num = 20\n",
    "for i in range(k_means_clusters.shape[0]):\n",
    "    new_labels = np.array([0] * cluster_num)\n",
    "    new_labels[k_means_clusters[i]] = 1\n",
    "    players_labels.append(new_labels)"
   ]
  },
  {
   "cell_type": "code",
   "execution_count": 53,
   "metadata": {
    "collapsed": false
   },
   "outputs": [],
   "source": [
    "players_labels_arr = np.array(players_labels)\n",
    "host_clusters = np.dot(host_lineup_arr,players_labels_arr)\n",
    "guest_clusters = np.dot(guest_lineup_arr,players_labels_arr)"
   ]
  },
  {
   "cell_type": "code",
   "execution_count": 56,
   "metadata": {
    "collapsed": false
   },
   "outputs": [],
   "source": [
    "# K-Means Mean Values\n",
    "off_rating_means = k_means.cluster_centers_[:,0]\n",
    "def_rating_means = k_means.cluster_centers_[:,1]\n"
   ]
  },
  {
   "cell_type": "code",
   "execution_count": 60,
   "metadata": {
    "collapsed": false
   },
   "outputs": [],
   "source": [
    "# Use a different log-likelihood\n",
    "@pm.observed(name = \"loglik\", observed = True)\n",
    "def loglik(coefs = coefs, tau = tau, value = score_diff, \n",
    "            off_rating = off_rating_means, def_rating = def_rating_means, \n",
    "            nplayers = cluster_num, nteams = team_num,\n",
    "            guest_matrix = guest_matrix, host_matrix = host_matrix, guest_lineup_arr = guest_clusters,\n",
    "            host_lineup_arr = host_clusters):\n",
    "\n",
    "    beta0, betas, gamma0, gammas = \\\n",
    "             split_params(coefs, nplayers, nteams)\n",
    "    \n",
    "    ngames = value.shape[0]\n",
    "    \n",
    "    guest_off_0 = np.dot(guest_matrix, beta0)\n",
    "    guest_def_0 = np.dot(guest_matrix, gamma0)\n",
    "    host_off_0 = np.dot(host_matrix, beta0)\n",
    "    host_def_0 = np.dot(host_matrix, gamma0)\n",
    "    \n",
    "    guest_off = guest_off_0 + np.dot(guest_lineup_arr, betas * off_rating)\n",
    "    guest_def = guest_def_0 + np.dot(guest_lineup_arr, gammas * def_rating)\n",
    "    host_off = host_off_0 + np.dot(host_lineup_arr, betas * off_rating)\n",
    "    host_def = host_def_0 + np.dot(host_lineup_arr, gammas * def_rating)\n",
    "    \n",
    "    mean = guest_off - host_def - (host_off - guest_def)\n",
    "    \n",
    "    loglik = pm.normal_like(value, mean, tau)\n",
    "    return(loglik)"
   ]
  },
  {
   "cell_type": "code",
   "execution_count": 61,
   "metadata": {
    "collapsed": true
   },
   "outputs": [],
   "source": [
    "parameterlist = [loglik, coefs, tau]\n",
    "response_model=pm.Model(parameterlist)"
   ]
  },
  {
   "cell_type": "code",
   "execution_count": 62,
   "metadata": {
    "collapsed": true
   },
   "outputs": [],
   "source": [
    "mcmc = pm.MCMC(response_model)"
   ]
  },
  {
   "cell_type": "code",
   "execution_count": 71,
   "metadata": {
    "collapsed": false
   },
   "outputs": [
    {
     "name": "stdout",
     "output_type": "stream",
     "text": [
      " [-----------------100%-----------------] 30000 of 30000 complete in 33.3 sec"
     ]
    }
   ],
   "source": [
    "mcmc.sample(iter=30000, burn = 100, thin = 1)"
   ]
  },
  {
   "cell_type": "code",
   "execution_count": 72,
   "metadata": {
    "collapsed": false
   },
   "outputs": [
    {
     "data": {
      "text/plain": [
       "[<matplotlib.lines.Line2D at 0x11984ec10>]"
      ]
     },
     "execution_count": 72,
     "metadata": {},
     "output_type": "execute_result"
    },
    {
     "data": {
      "image/png": "[encoded data removed]",
      "text/plain": [
       "<matplotlib.figure.Figure at 0x1175e4ed0>"
      ]
     },
     "metadata": {},
     "output_type": "display_data"
    }
   ],
   "source": [
    "plt.plot(coefs.trace()[:, 70])"
   ]
  },
  {
   "cell_type": "code",
   "execution_count": 77,
   "metadata": {
    "collapsed": false
   },
   "outputs": [
    {
     "data": {
      "image/png": "[encoded data removed]",
      "text/plain": [
       "<matplotlib.figure.Figure at 0x11a177390>"
      ]
     },
     "metadata": {},
     "output_type": "display_data"
    }
   ],
   "source": [
    "geweke_res = pm.geweke(coefs.trace()[:,70])\n",
    "pm.Matplot.geweke_plot(geweke_res,'coefs')\n",
    "\n"
   ]
  },
  {
   "cell_type": "code",
   "execution_count": null,
   "metadata": {
    "collapsed": true
   },
   "outputs": [],
   "source": []
  }
 ],
 "metadata": {
  "kernelspec": {
   "display_name": "Python 2",
   "language": "python",
   "name": "python2"
  },
  "language_info": {
   "codemirror_mode": {
    "name": "ipython",
    "version": 2
   },
   "file_extension": ".py",
   "mimetype": "text/x-python",
   "name": "python",
   "nbconvert_exporter": "python",
   "pygments_lexer": "ipython2",
   "version": "2.7.11"
  }
 },
 "nbformat": 4,
 "nbformat_minor": 0
}
